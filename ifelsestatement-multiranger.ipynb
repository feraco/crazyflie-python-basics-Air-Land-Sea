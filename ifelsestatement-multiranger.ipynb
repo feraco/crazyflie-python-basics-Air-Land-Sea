{
 "cells": [
  {
   "cell_type": "markdown",
   "metadata": {},
   "source": [
    "<small>\n",
    "Part of the InnovatED STEM and DroneBlocks Land, Air, and Sea Robotics Curriculum  \n",
    "Licensed for educational use in schools only.  \n",
    "Redistribution, commercial use, or resale is strictly prohibited.  \n",
    "\u00a9 2025 InnovatED STEM & DroneBlocks. All rights reserved.\n",
    "</small>"
   ]
  },
  {
   "cell_type": "markdown",
   "metadata": {},
   "source": [
    "# Crazyflie Obstacle Detection Notebook\n",
    "This notebook demonstrates how to control a Crazyflie drone with Multi-Ranger sensors to detect obstacles before moving.\n",
    "\n",
    "## Steps:\n",
    "1. Import necessary libraries\n",
    "2. Initialize the Crazyflie controller and Multi-Ranger sensors\n",
    "3. Take off and check for obstacles before moving forward\n",
    "4. Land safely and close the connection"
   ]
  },
  {
   "cell_type": "code",
   "execution_count": null,
   "metadata": {},
   "outputs": [],
   "source": [
    "# Step 1: Import Necessary Libraries\n",
    "import time\n",
    "from crazyflie_controller import CrazyflieController\n",
    "from cflib.utils.multiranger import Multiranger  # Import Multi-Ranger sensors"
   ]
  },
  {
   "cell_type": "code",
   "execution_count": null,
   "metadata": {},
   "outputs": [],
   "source": [
    "# Step 2: Initialize the Crazyflie Controller and Multi-Ranger\n",
    "drone = CrazyflieController()  # Create an instance of the controller\n",
    "ranger = Multiranger(drone.scf)  # Initialize Multi-Ranger sensors"
   ]
  },
  {
   "cell_type": "code",
   "execution_count": null,
   "metadata": {},
   "outputs": [],
   "source": [
    "# Step 3: Take Off and Perform Obstacle Detection\n",
    "try:\n",
    "    print(\"Taking off!\")\n",
    "    drone.mc.take_off(0.5)  # Takeoff to 0.5 meters\n",
    "    time.sleep(1)\n",
    "\n",
    "    # Check if an obstacle is ahead before moving forward\n",
    "    if ranger.front > 0.3:  # No obstacle within 30 cm\n",
    "        print(\"Path is clear! Moving forward...\")\n",
    "        drone.mc.forward(0.5)  # Move forward 0.5 meters\n",
    "    else:\n",
    "        print(\"Obstacle detected! Stopping movement.\")\n",
    "\n",
    "    print(\"Landing the drone...\")\n",
    "    drone.mc.land()  # Land safely\n",
    "    print(\"Mission complete!\")\n",
    "\n",
    "except KeyboardInterrupt:\n",
    "    print(\"Emergency stop activated!\")"
   ]
  },
  {
   "cell_type": "code",
   "execution_count": null,
   "metadata": {},
   "outputs": [],
   "source": [
    "# Step 4: Close the Drone Connection\n",
    "print(\"Closing the connection to the drone...\")\n",
    "drone.close()  # Ensure the connection is properly closed"
   ]
  }
 ],
 "metadata": {
  "kernelspec": {
   "display_name": "Python 3",
   "language": "python",
   "name": "python3"
  },
  "language_info": {
   "codemirror_mode": {
    "name": "ipython",
    "version": 3
   },
   "file_extension": ".py",
   "mimetype": "text/x-python",
   "name": "python",
   "nbconvert_exporter": "python",
   "pygments_lexer": "ipython3",
   "version": "3.8"
  }
 },
 "nbformat": 4,
 "nbformat_minor": 4
}