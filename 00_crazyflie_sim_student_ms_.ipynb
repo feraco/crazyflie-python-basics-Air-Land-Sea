{
 "cells": [
  {
   "cell_type": "markdown",
   "metadata": {},
   "source": [
    "<small>\n",
    "Part of the InnovatED STEM and DroneBlocks Land, Air, and Sea Robotics Curriculum  \n",
    "Licensed for educational use in schools only.  \n",
    "Redistribution, commercial use, or resale is strictly prohibited.  \n",
    "\u00a9 2025 InnovatED STEM & DroneBlocks. All rights reserved.\n",
    "</small>"
   ]
  },
  {
   "cell_type": "markdown",
   "id": "8d639b3d",
   "metadata": {},
   "source": [
    "#  Let's Fly the Crazyflie Drone!\n",
    "Welcome! In this notebook, you\u2019ll learn to **code a flying robot** using simple commands.\n",
    "\n",
    "Each exercise will show you what to do, and you\u2019ll just need to **fill in some numbers**. We\u2019ll guide you with helpful comments in the code! "
   ]
  },
  {
   "cell_type": "markdown",
   "id": "4db5b16b",
   "metadata": {},
   "source": [
    "##  Motion Commands and What They Do\n",
    "| Command         | What It Does                      | Parameters (What to change)             |\n",
    "|----------------|------------------------------------|-----------------------------------------|\n",
    "| `takeoff()`     | Makes the drone go up and hover   | height (how high, in meters), speed     |\n",
    "| `land()`        | Brings the drone down to land     | speed (how fast to land)                |\n",
    "| `forward()`     | Flies forward                     | distance, speed                         |\n",
    "| `backward()`    | Flies backward                    | distance, speed                         |\n",
    "| `left()`        | Moves left                        | distance, speed                         |\n",
    "| `right()`       | Moves right                       | distance, speed                         |\n",
    "| `up()`          | Goes higher                       | distance, speed                         |\n",
    "| `down()`        | Goes lower                        | distance, speed                         |\n",
    "| `rotate()`      | Turns around                      | angle (degrees), time (seconds)         |\n",
    "| `circle_left()` | Flies in a left circle            | radius, speed, angle                    |\n",
    "| `circle_right()`| Flies in a right circle           | radius, speed, angle                    |"
   ]
  },
  {
   "cell_type": "code",
   "execution_count": null,
   "id": "60d80c3b",
   "metadata": {},
   "outputs": [],
   "source": [
    "# First, let's get our drone ready!\n",
    "from crazyflie_sim import CrazyflieSimulator\n",
    "drone = CrazyflieSimulator(real=False)  # We are using the simulator for safety!"
   ]
  },
  {
   "cell_type": "markdown",
   "id": "3b6a8242",
   "metadata": {},
   "source": [
    "##  Exercise 1: Take Off\n",
    "Change the height to **0.4 meters** and the speed to **0.2**"
   ]
  },
  {
   "cell_type": "code",
   "execution_count": null,
   "id": "9dc4d23f",
   "metadata": {},
   "outputs": [],
   "source": [
    "# Let's make the drone take off!\n",
    "# Change the numbers to: height = 0.4, speed = 0.2\n",
    "drone.takeoff(0.4, 0.2)"
   ]
  },
  {
   "cell_type": "markdown",
   "id": "2d686754",
   "metadata": {},
   "source": [
    "##  Exercise 2: Fly Forward\n",
    "Now move forward **0.3 meters** at a speed of **0.2**"
   ]
  },
  {
   "cell_type": "code",
   "execution_count": null,
   "id": "47c3d9cd",
   "metadata": {},
   "outputs": [],
   "source": [
    "# Fly forward!\n",
    "# Change the numbers to: distance = 0.3, speed = 0.2\n"
   ]
  },
  {
   "cell_type": "markdown",
   "id": "ad6abaf7",
   "metadata": {},
   "source": [
    "##  Exercise 3: Move Left\n",
    "Fly left for **0.2 meters** at speed **0.2**"
   ]
  },
  {
   "cell_type": "code",
   "execution_count": null,
   "id": "2449b9a4",
   "metadata": {},
   "outputs": [],
   "source": [
    "# Go left!\n"
   ]
  },
  {
   "cell_type": "markdown",
   "id": "88d1c7c7",
   "metadata": {},
   "source": [
    "##  Exercise 4: Circle Time!\n",
    "Fly a circle to the **left**, radius **0.2 meters**, speed **0.2**, full circle **360 degrees**"
   ]
  },
  {
   "cell_type": "code",
   "execution_count": null,
   "id": "7d52372d",
   "metadata": {},
   "outputs": [],
   "source": [
    "# Fly in a circle!\n",
    "# radius = 0.2, speed = 0.2, angle = 360\n"
   ]
  },
  {
   "cell_type": "markdown",
   "id": "9c26dab8",
   "metadata": {},
   "source": [
    "##  Exercise 5: Turn Around\n",
    "Turn **90 degrees** in place in **1 second**"
   ]
  },
  {
   "cell_type": "code",
   "execution_count": null,
   "id": "17e986fd",
   "metadata": {},
   "outputs": [],
   "source": [
    "# Turn the drone\n"
   ]
  },
  {
   "cell_type": "markdown",
   "id": "d66727bb",
   "metadata": {},
   "source": [
    "##  Exercise 6: Land Safely\n",
    "Land the drone at **0.2 meters per second**"
   ]
  },
  {
   "cell_type": "code",
   "execution_count": null,
   "id": "10126c3b",
   "metadata": {},
   "outputs": [],
   "source": [
    "# Land the drone\n"
   ]
  }
 ],
 "metadata": {
  "language_info": {
   "name": "python"
  }
 },
 "nbformat": 4,
 "nbformat_minor": 5
}