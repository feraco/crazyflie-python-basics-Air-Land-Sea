{
 "cells": [
  {
   "cell_type": "markdown",
   "id": "5bc107d3",
   "metadata": {},
   "source": [
    "#  Simple Obstacle Avoidance with MultiRanger\n",
    "This notebook teaches how to combine sensor input and logic to help your drone avoid obstacles automatically using `while`, `if`, and sensor readings.\n",
    "\n",
    "Obstacle detection is simulated using the `CrazyflieSimulator` with realistic distance values."
   ]
  },
  {
   "cell_type": "code",
   "execution_count": null,
   "id": "ffa94fd3",
   "metadata": {},
   "outputs": [],
   "source": [
    "# ✅ Setup\n",
    "import time\n",
    "from crazyflie_sim import CrazyflieSimulator\n",
    "\n",
    "drone = CrazyflieSimulator(real=False)"
   ]
  },
  {
   "cell_type": "markdown",
   "id": "66ef4829",
   "metadata": {},
   "source": [
    "##  Takeoff"
   ]
  },
  {
   "cell_type": "code",
   "execution_count": null,
   "id": "bcc1dbe4",
   "metadata": {},
   "outputs": [],
   "source": [
    "drone.takeoff(1.0, 0.3)\n",
    "time.sleep(2)"
   ]
  },
  {
   "cell_type": "markdown",
   "id": "03ab91c0",
   "metadata": {},
   "source": [
    "##  Obstacle Avoidance Logic\n",
    "The idea is simple:\n",
    "- If there's something **in front** (`< 0.5m`) → stop and move **back** or **turn**\n",
    "- Otherwise → keep moving **forward**"
   ]
  },
  {
   "cell_type": "code",
   "execution_count": null,
   "id": "17785492",
   "metadata": {},
   "outputs": [],
   "source": [
    "print(drone.get_distances())  # See example sensor values"
   ]
  },
  {
   "cell_type": "code",
   "execution_count": null,
   "id": "dc0bc154",
   "metadata": {},
   "outputs": [],
   "source": [
    "# Simple forward motion with obstacle check\n",
    "for _ in range(10):\n",
    "    distances = drone.get_distances()\n",
    "    if distances['front'] < 0.5:\n",
    "        print(\"Obstacle ahead! Backing up.\")\n",
    "        drone.backward(0.2, 0.2)\n",
    "        drone.rotate(90, 1)\n",
    "    else:\n",
    "        drone.forward(0.2, 0.2)\n",
    "    time.sleep(1)"
   ]
  },
  {
   "cell_type": "markdown",
   "id": "7904369e",
   "metadata": {},
   "source": [
    "##  Exercise 1: Try using left/right sensors to dodge obstacles\n",
    "**Hint**: If there's an object in front and space on one side, turn that way instead of backing up."
   ]
  },
  {
   "cell_type": "code",
   "execution_count": null,
   "id": "66d825b9",
   "metadata": {},
   "outputs": [],
   "source": []
  },
  {
   "cell_type": "markdown",
   "id": "160df41e",
   "metadata": {},
   "source": [
    "##  Exercise 2: Loop until you detect an obstacle within 0.4m in any direction"
   ]
  },
  {
   "cell_type": "code",
   "execution_count": null,
   "id": "bc88d123",
   "metadata": {},
   "outputs": [],
   "source": []
  },
  {
   "cell_type": "markdown",
   "id": "f446ecd1",
   "metadata": {},
   "source": [
    "##  Land and Close"
   ]
  },
  {
   "cell_type": "code",
   "execution_count": null,
   "id": "1b91dac3",
   "metadata": {},
   "outputs": [],
   "source": []
  },
  {
   "cell_type": "markdown",
   "id": "c2f36e35",
   "metadata": {},
   "source": [
    "##  Exercise 3: Turn around if blocked on both front and sides\n",
    "Use logic to rotate 180° if there's no space in front, left, or right."
   ]
  },
  {
   "cell_type": "code",
   "execution_count": null,
   "id": "99803871",
   "metadata": {},
   "outputs": [],
   "source": []
  },
  {
   "cell_type": "markdown",
   "id": "ef05373d",
   "metadata": {},
   "source": [
    "##  Exercise 4: Cautiously move forward until object is closer than 0.6m\n",
    "Use a loop and stop at safe distance."
   ]
  },
  {
   "cell_type": "code",
   "execution_count": null,
   "id": "86d15190",
   "metadata": {},
   "outputs": [],
   "source": []
  },
  {
   "cell_type": "markdown",
   "id": "c3ee110b",
   "metadata": {},
   "source": [
    "##  Exercise 5: Try a mini square pattern, only if no object ahead"
   ]
  },
  {
   "cell_type": "code",
   "execution_count": null,
   "id": "f88cee53",
   "metadata": {},
   "outputs": [],
   "source": []
  }
 ],
 "metadata": {
  "language_info": {
   "name": "python"
  }
 },
 "nbformat": 4,
 "nbformat_minor": 5
}
