{
 "cells": [
  {
   "cell_type": "markdown",
   "id": "9a3194af",
   "metadata": {},
   "source": [
    "# 🚀 Crazyflie Raw Thrust Manual Control (Upside-Down Test)\n",
    "In this notebook, we'll manually send raw thrust commands to the **real Crazyflie**, bypassing the automatic stabilization.\n",
    "This is useful for science experiments like testing thrust while the drone is upside down.\n",
    "\n",
    "**⚠️ SAFETY WARNING:**\n",
    "- Place the Crazyflie on a soft, clear surface.\n",
    "- Start with low thrust (20000–30000).\n",
    "- Always supervise and avoid putting fingers near propellers.\n",
    "\n",
    "**What we will do:**\n",
    "1. Connect to the real Crazyflie.\n",
    "2. Start the motor setpoint stream (this unlocks the motors).\n",
    "3. Send raw thrust commands manually.\n",
    "4. Shut down safely.\n"
   ]
  },
  {
   "cell_type": "code",
   "execution_count": null,
   "id": "30b2ee93",
   "metadata": {},
   "outputs": [],
   "source": [
    "# ✅ Step 1: Connect to the Crazyflie (real drone mode)\n",
    "from crazyflie_sim import CrazyflieSimulator\n",
    "import time\n",
    "\n",
    "drone = CrazyflieSimulator(real=True)\n",
    "time.sleep(2)  # Give it time to connect\n"
   ]
  },
  {
   "cell_type": "code",
   "execution_count": null,
   "id": "5101c9af",
   "metadata": {},
   "outputs": [],
   "source": [
    "# ✅ Step 2: Manually unlock motors by starting a zero setpoint stream\n",
    "drone.start_setpoint_stream()\n",
    "time.sleep(1)\n"
   ]
  },
  {
   "cell_type": "code",
   "execution_count": null,
   "id": "23ebf7ae",
   "metadata": {},
   "outputs": [],
   "source": [
    "# ✅ Step 3: Apply raw thrust (while the drone is flipped upside down)\n",
    "# Start low (25000–30000). Adjust duration as needed.\n",
    "drone.set_raw_thrust(25000, 2.0)\n",
    "time.sleep(1)\n",
    "drone.set_raw_thrust(30000, 2.0)\n"
   ]
  },
  {
   "cell_type": "code",
   "execution_count": null,
   "id": "e4154f36",
   "metadata": {},
   "outputs": [],
   "source": [
    "# ✅ Step 4: Close connection safely\n",
    "drone.close()\n"
   ]
  }
 ],
 "metadata": {
  "kernelspec": {
   "display_name": "Python 3 (ipykernel)",
   "language": "python",
   "name": "python3"
  },
  "language_info": {
   "codemirror_mode": {
    "name": "ipython",
    "version": 3
   },
   "file_extension": ".py",
   "mimetype": "text/x-python",
   "name": "python",
   "nbconvert_exporter": "python",
   "pygments_lexer": "ipython3",
   "version": "3.12.7"
  }
 },
 "nbformat": 4,
 "nbformat_minor": 5
}
