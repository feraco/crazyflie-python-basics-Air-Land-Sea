{
 "cells": [
  {
   "cell_type": "markdown",
   "id": "4db7ec36",
   "metadata": {},
   "source": [
    "<small>",
    "Part of the InnovatED STEM and DroneBlocks Land, Air, and Sea Robotics Curriculum  ",
    "Licensed for educational use in schools only.  ",
    "Redistribution, commercial use, or resale is strictly prohibited.  ",
    "© 2025 InnovatED STEM & DroneBlocks. All rights reserved.",
    "</small>"
   ]
  },
  {
   "cell_type": "markdown",
   "id": "6cc50320",
   "metadata": {},
   "source": [
    "# Motor Lab",
    "**Name:** __________________     **Date:** ____________"
   ]
  },
  {
   "cell_type": "markdown",
   "id": "af8f2954",
   "metadata": {},
   "source": [
    "## Setup",
    "- Import required modules",
    "- Instantiate the CrazyflieSimulator",
    "- Unlock the motors using setpoint stream"
   ]
  },
  {
   "cell_type": "code",
   "execution_count": null,
   "id": "76597d64",
   "metadata": {},
   "outputs": [],
   "source": [
    "# Imports and Simulator Setup",
    "import time",
    "from crazyflie_sim import CrazyflieSimulator",
    "",
    "# Create simulated drone instance",
    "drone = CrazyflieSimulator(real=False)",
    "",
    "# Unlock motors",
    "drone.start_setpoint_stream()"
   ]
  },
  {
   "cell_type": "markdown",
   "id": "dca31809",
   "metadata": {},
   "source": [
    "## Experiment: Thrust Trials",
    "Define a list of thrust values and apply each command, recording results."
   ]
  },
  {
   "cell_type": "code",
   "execution_count": null,
   "id": "3694f913",
   "metadata": {},
   "outputs": [],
   "source": [
    "# Thrust trial loop",
    "thrust_values = [10000, 20000, 30000, 40000, 50000]",
    "for t in thrust_values:",
    "    print(f\"Applying thrust {t}...\")",
    "    drone.set_raw_thrust(t, duration=2.0)",
    "    time.sleep(1)"
   ]
  },
  {
   "cell_type": "markdown",
   "id": "5729be8b",
   "metadata": {},
   "source": [
    "## Example Commands",
    "Run individual thrust commands for quick tests:"
   ]
  },
  {
   "cell_type": "code",
   "execution_count": null,
   "id": "75f01da6",
   "metadata": {},
   "outputs": [],
   "source": [
    "drone.set_raw_thrust(15000, duration=1.5)  # Moderate thrust",
    "drone.set_raw_thrust(30000, duration=0.5)  # High short thrust",
    "drone.set_raw_thrust(50000, duration=1.0)  # Maximum safe thrust"
   ]
  }
 ],
 "metadata": {
  "kernelspec": {
   "display_name": "Python 3",
   "language": "python",
   "name": "python3"
  },
  "language_info": {
   "name": "python",
   "version": "3.12"
  }
 },
 "nbformat": 4,
 "nbformat_minor": 5
}
