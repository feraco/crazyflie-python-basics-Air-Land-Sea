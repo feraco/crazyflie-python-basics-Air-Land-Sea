{
 "cells": [
  {
   "cell_type": "markdown",
   "id": "24ad732e",
   "metadata": {},
   "source": [
    "<small>\n",
    "Part of the InnovatED STEM and DroneBlocks Land, Air, and Sea Robotics Curriculum  \n",
    "Licensed for educational use in schools only.  \n",
    "Redistribution, commercial use, or resale is strictly prohibited.  \n",
    "© 2025 InnovatED STEM & DroneBlocks. All rights reserved.\n",
    "</small>"
   ]
  },
  {
   "cell_type": "markdown",
   "id": "3761f0fc",
   "metadata": {},
   "source": [
    "# Motor Lab\n",
    "**Name:** __________________     **Date:** ____________"
   ]
  },
  {
   "cell_type": "markdown",
   "id": "7d2fdd75",
   "metadata": {},
   "source": [
    "## Observations\n",
    "- What did you observe when the motors ran at different thrust values?\n",
    "- How did the scale readings change?"
   ]
  },
  {
   "cell_type": "markdown",
   "id": "9d97cad9",
   "metadata": {},
   "source": [
    "## Objective\n",
    "To experimentally determine the relationship between raw thrust commands and generated force in the Crazyflie drone motors."
   ]
  },
  {
   "cell_type": "markdown",
   "id": "d8d942f0",
   "metadata": {},
   "source": [
    "## Student Task\n",
    "1. Mount the Crazyflie securely on the scale.\n",
    "2. Send raw thrust commands at specified values.\n",
    "3. Record scale readings and analyze data."
   ]
  },
  {
   "cell_type": "markdown",
   "id": "faa81bf2",
   "metadata": {},
   "source": [
    "## Background\n",
    "Raw thrust commands bypass high-level controllers and set the motor power directly. ",
    "A kitchen scale can measure the reaction force, allowing us to quantify thrust output."
   ]
  },
  {
   "cell_type": "markdown",
   "id": "d4b41eee",
   "metadata": {},
   "source": [
    "## Materials\n",
    "- Crazyflie 2.x drone (charged)\n",
    "- CFclient software (or crazyflie_sim API)\n",
    "- Bluetooth radio or Crazyradio PA dongle\n",
    "- Digital kitchen scale (0.1g resolution)\n",
    "- Mounting tape or sticky tack\n",
    "- Safety glasses\n",
    "- Lab notebook"
   ]
  },
  {
   "cell_type": "markdown",
   "id": "05ddb023",
   "metadata": {},
   "source": [
    "## Safety Precautions\n",
    "- Wear safety glasses when propellers spin.\n",
    "- Secure the drone to prevent lift-off.\n",
    "- Keep hands and loose items clear of propellers."
   ]
  },
  {
   "cell_type": "markdown",
   "id": "fb11de62",
   "metadata": {},
   "source": [
    "## Setup Instructions\n",
    "1. Tare the scale.\n",
    "2. Mount the Crazyflie on the scale using tape.\n",
    "3. Open CFclient and connect to the drone.\n",
    "4. Enable raw thrust control mode."
   ]
  },
  {
   "cell_type": "markdown",
   "id": "c445b373",
   "metadata": {},
   "source": [
    "## Procedure\n",
    "1. Record baseline (motors off).\n",
    "2. For thrust values [10000, 20000, 30000, 40000, 50000]:\n",
    "   - Send raw thrust for 5 seconds.\n",
    "   - Record the scale reading.\n",
    "   - Allow 10 seconds rest between trials.\n",
    "3. Repeat each thrust level 3 times and compute averages."
   ]
  },
  {
   "cell_type": "markdown",
   "id": "a2c47342",
   "metadata": {},
   "source": [
    "## Data Table Example\n",
    "| Thrust | Trial 1 (g) | Trial 2 (g) | Trial 3 (g) | Avg (g) | Force (N) |\n",
    "|--------|-------------|-------------|-------------|---------|-----------|\n",
    "| 10000  |             |             |             |         |           |\n",
    "| 20000  |             |             |             |         |           |\n",
    "| 30000  |             |             |             |         |           |\n",
    "| 40000  |             |             |             |         |           |\n",
    "| 50000  |             |             |             |         |           |"
   ]
  },
  {
   "cell_type": "markdown",
   "id": "9514d14c",
   "metadata": {},
   "source": [
    "## Convert grams to Newtons\n",
    "Use F = m * g, where g = 9.81 m/s² (1 g = 0.001 kg)."
   ]
  },
  {
   "cell_type": "markdown",
   "id": "b3d9d2b2",
   "metadata": {},
   "source": [
    "## Data Analysis\n",
    "Use the code cell below to enter your data, compute averages, convert to Newtons, and plot thrust vs. force."
   ]
  },
  {
   "cell_type": "code",
   "execution_count": null,
   "id": "5de801cf",
   "metadata": {},
   "outputs": [],
   "source": [
    "# Data Analysis Code\n",
    "import pandas as pd\n",
    "import matplotlib.pyplot as plt\n\n",
    "# Enter your measured data (grams)\n",
    "data = {\n",
    "    \"thrust\": [10000,20000,30000,40000,50000],\n",
    "    \"t1_g\": [],\n",
    "    \"t2_g\": [],\n",
    "    \"t3_g\": []\n",
    "}\n",
    "df = pd.DataFrame(data)\n",
    "df[\"avg_g\"] = df[[\"t1_g\",\"t2_g\",\"t3_g\"]].mean(axis=1)\n",
    "df[\"force_N\"] = df[\"avg_g\"] * 0.001 * 9.81\n",
    "from IPython.display import display\n",
    "display(df)\n",
    "plt.figure(figsize=(6,4))\n",
    "plt.plot(df[\"thrust\"], df[\"force_N\"], marker=\"o\")\n",
    "plt.xlabel(\"Thrust command\")\n",
    "plt.ylabel(\"Force (N)\")\n",
    "plt.title(\"Thrust vs Force\")\n",
    "plt.grid(True)\n",
    "plt.show()"
   ]
  },
  {
   "cell_type": "markdown",
   "id": "e93b443c",
   "metadata": {},
   "source": [
    "## Extensions (Optional)\n",
    "- Test individual motors for performance differences.\n",
    "- Fit a mathematical model to the data.\n",
    "- Use video analysis to correlate propeller speed with force."
   ]
  },
  {
   "cell_type": "code",
   "execution_count": null,
   "id": "ee8824f3",
   "metadata": {},
   "outputs": [],
   "source": [
    "# Simulation Demo\n",
    "import time\n",
    "from crazyflie_sim import CrazyflieSimulator\n\n",
    "drone = CrazyflieSimulator(real=False)\n",
    "drone.start_setpoint_stream()  # unlock motors\n",
    "drone.set_raw_thrust(20000, duration=2.0)\n",
    "for t in [10000,30000,50000]:\n",
    "    print(f\"Applying thrust {t}...\")\n",
    "    drone.set_raw_thrust(t, duration=1.0)\n",
    "    time.sleep(0.5)"
   ]
  }
 ],
 "metadata": {
  "kernelspec": {
   "display_name": "Python 3",
   "language": "python",
   "name": "python3"
  },
  "language_info": {
   "name": "python",
   "version": "3.12"
  }
 },
 "nbformat": 4,
 "nbformat_minor": 5
}
