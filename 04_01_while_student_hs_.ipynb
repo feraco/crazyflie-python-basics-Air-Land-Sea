{
 "cells": [
  {
   "cell_type": "markdown",
   "metadata": {},
   "source": [
    "<small>\n",
    "Part of the InnovatED STEM and DroneBlocks Land, Air, and Sea Robotics Curriculum  \n",
    "Licensed for educational use in schools only.  \n",
    "Redistribution, commercial use, or resale is strictly prohibited.  \n",
    "\u00a9 2025 InnovatED STEM & DroneBlocks. All rights reserved.\n",
    "</small>"
   ]
  },
  {
   "cell_type": "markdown",
   "id": "ec8139c6",
   "metadata": {},
   "source": [
    "#  While Loops with Crazyflie \u2013 Student Version\n",
    "In this notebook, you'll learn how to repeat drone actions using **while loops**.\n",
    "\n",
    "A `while` loop keeps running **as long as a condition is true**. You\u2019ll use this to repeat motion until a timer ends or a sensor detects something!"
   ]
  },
  {
   "cell_type": "markdown",
   "id": "bfbdcbdd",
   "metadata": {},
   "source": [
    "##  Motion and Sensor Command Reference Table\n",
    "| Command                  | Description                                                   | Parameters (units/type)                    |\n",
    "|--------------------------|---------------------------------------------------------------|--------------------------------------------|\n",
    "| `takeoff()`              | Drone takes off and hovers                                   | height (m/float), speed (m/s/float)        |\n",
    "| `land()`                 | Lands the drone                                              | speed (m/s/float)                          |\n",
    "| `forward()`              | Move forward                                                 | distance (m/float), speed (m/s/float)      |\n",
    "| `backward()`             | Move backward                                                | distance (m/float), speed (m/s/float)      |\n",
    "| `left()`                 | Move left                                                    | distance (m/float), speed (m/s/float)      |\n",
    "| `right()`                | Move right                                                   | distance (m/float), speed (m/s/float)      |\n",
    "| `rotate()`               | Rotate (yaw change)                                          | angle (degrees/int), duration (s/float)    |\n",
    "| `get_position()`         | Get drone's X, Y coordinates                                 | None                                       |\n",
    "| `get_height()`           | Get current height                                           | None                                       |\n",
    "| `get_yaw()`              | Get current yaw angle (rotation)                            | None                                       |\n",
    "| `get_velocity()`         | Get drone\u2019s speed                                            | None                                       |\n",
    "| `get_status()`           | Returns whether drone is flying or landed                   | None                                       |\n",
    "| `get_log()`              | Shows history of commands sent                              | None                                       |\n",
    "| `detect_obstacle()`      | Returns True if an obstacle is detected                     | None                                       |\n",
    "| `get_distances()`        | Returns all MultiRanger sensor values as a dictionary       | None                                       |\n",
    "| `get_distances()['left']`| Distance to the left object (in meters)                     | None                                       |\n",
    "| `get_distances()['front']`| Distance to the object in front (in meters)                | None                                       |"
   ]
  },
  {
   "cell_type": "markdown",
   "id": "c9197bc2",
   "metadata": {},
   "source": [
    "##  Reminder: `while` loop syntax\n",
    "```python\n",
    "while condition:\n",
    "    # repeat this code\n",
    "```"
   ]
  },
  {
   "cell_type": "code",
   "execution_count": null,
   "id": "f93d341a",
   "metadata": {},
   "outputs": [],
   "source": [
    "# \u2705 Setup the drone simulator\n",
    "from crazyflie_sim import CrazyflieSimulator\n",
    "import time\n",
    "drone = CrazyflieSimulator(real=False)"
   ]
  },
  {
   "cell_type": "markdown",
   "id": "c3e6b93f",
   "metadata": {},
   "source": [
    "##  Common Use Cases for While Loops\n",
    "- Repeat a movement for a set amount of time\n",
    "- Loop until a wall is detected\n",
    "- Fly in a pattern until a counter reaches a number\n",
    "- Continuously read sensor values"
   ]
  },
  {
   "cell_type": "markdown",
   "id": "71a3b42c",
   "metadata": {},
   "source": [
    "##  Example: Move in a circle until 3 seconds pass\n",
    "```python\n",
    "start = time.time()\n",
    "while time.time() - start < 3:\n",
    "    drone.rotate(30, 0.5)\n",
    "```"
   ]
  },
  {
   "cell_type": "markdown",
   "id": "cc055ffa",
   "metadata": {},
   "source": [
    "##  Exercise 1: Takeoff and repeat forward motion\n",
    "Take off and then fly **forward 0.2 meters** over and over again for **3 seconds**."
   ]
  },
  {
   "cell_type": "code",
   "execution_count": null,
   "id": "d18142bc",
   "metadata": {},
   "outputs": [],
   "source": [
    "# Your code here:\n"
   ]
  },
  {
   "cell_type": "markdown",
   "id": "b16f6090",
   "metadata": {},
   "source": [
    "##  Exercise 2: Use a counter\n",
    "Repeat a movement **4 times** using a counter variable like `i = 0`."
   ]
  },
  {
   "cell_type": "code",
   "execution_count": null,
   "id": "bbe42673",
   "metadata": {},
   "outputs": [],
   "source": [
    "# Your code here:\n"
   ]
  },
  {
   "cell_type": "markdown",
   "id": "f6992b8a",
   "metadata": {},
   "source": [
    "##  Exercise 3: Loop with obstacle check\n",
    "Fly forward in a loop **until** an obstacle is detected using `drone.detect_obstacle()`.\n",
    "*Hint: Use `break` to stop the loop.*"
   ]
  },
  {
   "cell_type": "code",
   "execution_count": null,
   "id": "18f7dea3",
   "metadata": {},
   "outputs": [],
   "source": [
    "# Your code here:\n"
   ]
  },
  {
   "cell_type": "markdown",
   "id": "95d0d42a",
   "metadata": {},
   "source": [
    "##  Exercise 4: Rotate left until yaw is over 90 degrees\n",
    "Use `drone.get_yaw()` to check angle, and rotate slowly until you reach 90."
   ]
  },
  {
   "cell_type": "code",
   "execution_count": null,
   "id": "80ed5a98",
   "metadata": {},
   "outputs": [],
   "source": [
    "# Your code here:\n"
   ]
  },
  {
   "cell_type": "markdown",
   "id": "c5cda4e1",
   "metadata": {},
   "source": [
    "##  Exercise 5: Create a patrol loop\n",
    "Loop through this pattern **3 times**:\n",
    "- Forward 0.2m\n",
    "- Rotate 90\u00b0\n",
    "- Forward 0.2m\n",
    "- Rotate -90\u00b0"
   ]
  },
  {
   "cell_type": "code",
   "execution_count": null,
   "id": "7ea37785",
   "metadata": {},
   "outputs": [],
   "source": [
    "# Your code here:\n"
   ]
  }
 ],
 "metadata": {},
 "nbformat": 4,
 "nbformat_minor": 5
}