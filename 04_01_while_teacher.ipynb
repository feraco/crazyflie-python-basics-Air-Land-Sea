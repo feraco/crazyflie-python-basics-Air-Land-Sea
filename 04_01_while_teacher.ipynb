{
 "cells": [
  {
   "cell_type": "markdown",
   "id": "7668ceed",
   "metadata": {},
   "source": [
    "# 🔄 Flying with `while` Loops + MultiRanger Obstacle Sensing\n",
    "This notebook shows how to use `while` loops to repeatedly check flight conditions and make decisions based on MultiRanger sensor data.\n",
    "The `CrazyflieSimulator` now simulates realistic sensor values, just like a real drone."
   ]
  },
  {
   "cell_type": "code",
   "execution_count": 1,
   "id": "286710a5",
   "metadata": {},
   "outputs": [
    {
     "name": "stderr",
     "output_type": "stream",
     "text": [
      "Error no LogEntry to handle id=1\n",
      "Error no LogEntry to handle id=1\n",
      "Error no LogEntry to handle id=1\n",
      "Error no LogEntry to handle id=1\n"
     ]
    },
    {
     "name": "stdout",
     "output_type": "stream",
     "text": [
      "🔌 Connecting to real Crazyflie...\n"
     ]
    }
   ],
   "source": [
    "# ✅ Setup\n",
    "import time\n",
    "from crazyflie_sim import CrazyflieSimulator\n",
    "\n",
    "drone = CrazyflieSimulator(real=True)"
   ]
  },
  {
   "cell_type": "code",
   "execution_count": null,
   "id": "c50ef552",
   "metadata": {},
   "outputs": [
    {
     "name": "stdout",
     "output_type": "stream",
     "text": [
      "Z-range height: 12.0 meters\n"
     ]
    },
    {
     "name": "stderr",
     "output_type": "stream",
     "text": [
      "Got link error callback [Too many packets lost] in state [2]\n"
     ]
    }
   ],
   "source": []
  },
  {
   "cell_type": "markdown",
   "id": "4b9efbe2",
   "metadata": {},
   "source": [
    "## 🚀 Takeoff First"
   ]
  },
  {
   "cell_type": "code",
   "execution_count": 3,
   "id": "54fbf02d",
   "metadata": {},
   "outputs": [
    {
     "name": "stdout",
     "output_type": "stream",
     "text": [
      "🚀 Taking off to 1.0m at 0.3m/s!\n",
      "Executing command: takeoff 1.0 0.3\n"
     ]
    }
   ],
   "source": [
    "drone.takeoff(1.0, 0.3)\n",
    "time.sleep(2)"
   ]
  },
  {
   "cell_type": "markdown",
   "id": "e12f0cf8",
   "metadata": {},
   "source": [
    "## 🔁 Example 1: Hover until height is above 0.8m"
   ]
  },
  {
   "cell_type": "code",
   "execution_count": 4,
   "id": "74f7cf4d",
   "metadata": {},
   "outputs": [
    {
     "name": "stdout",
     "output_type": "stream",
     "text": [
      "✅ Altitude reached!\n"
     ]
    }
   ],
   "source": [
    "while drone.get_height() < 0.8:\n",
    "    print(\"⏳ Waiting to reach 0.8m...\")\n",
    "    time.sleep(0.5)\n",
    "print(\"✅ Altitude reached!\")"
   ]
  },
  {
   "cell_type": "markdown",
   "id": "0022429f",
   "metadata": {},
   "source": [
    "## 🔁 Example 2: Move forward until X position > 1.0"
   ]
  },
  {
   "cell_type": "code",
   "execution_count": 6,
   "id": "b1b69e24",
   "metadata": {},
   "outputs": [
    {
     "name": "stdout",
     "output_type": "stream",
     "text": [
      "🛑 Stopping forward motion.\n"
     ]
    }
   ],
   "source": [
    "while drone.get_position()[0] < 1.0:\n",
    "    drone.forward(0.1, 0.2)\n",
    "    time.sleep(1)\n",
    "print(\"🛑 Stopping forward motion.\")"
   ]
  },
  {
   "cell_type": "markdown",
   "id": "ad71ccf9",
   "metadata": {},
   "source": [
    "## 🔁 Example 3: Rotate until yaw < 90°"
   ]
  },
  {
   "cell_type": "code",
   "execution_count": null,
   "id": "629bb6cd",
   "metadata": {},
   "outputs": [],
   "source": [
    "while drone.get_yaw() > 90:\n",
    "    drone.rotate(-10, 0.5)\n",
    "    time.sleep(0.5)\n",
    "print(\"✅ Yaw aligned!\")"
   ]
  },
  {
   "cell_type": "markdown",
   "id": "40b2f701",
   "metadata": {},
   "source": [
    "## 📡 MultiRanger Example: Move forward until obstacle < 0.5m"
   ]
  },
  {
   "cell_type": "code",
   "execution_count": null,
   "id": "29915f84",
   "metadata": {},
   "outputs": [],
   "source": [
    "while drone.get_distances()['front'] > 0.5:\n",
    "    print(\"Path clear. Moving forward...\")\n",
    "    drone.forward(0.1, 0.2)\n",
    "    time.sleep(0.5)\n",
    "print(\"🛑 Obstacle too close. Stopping.\")"
   ]
  },
  {
   "cell_type": "markdown",
   "id": "36f06658",
   "metadata": {},
   "source": [
    "## 🧪 Exercise 1: Fly upward until height is at least 1.5m"
   ]
  },
  {
   "cell_type": "code",
   "execution_count": null,
   "id": "32a4b322",
   "metadata": {},
   "outputs": [],
   "source": [
    "# while drone.get_height() < :\n",
    "#     drone.up( , )\n",
    "#     time.sleep( )"
   ]
  },
  {
   "cell_type": "markdown",
   "id": "a2bd73f8",
   "metadata": {},
   "source": [
    "## 🧪 Exercise 2: Hover until yaw < 45"
   ]
  },
  {
   "cell_type": "code",
   "execution_count": null,
   "id": "b0bad57d",
   "metadata": {},
   "outputs": [],
   "source": [
    "# while drone.get_yaw() > :\n",
    "#     drone.rotate( , )\n",
    "#     time.sleep( )"
   ]
  },
  {
   "cell_type": "markdown",
   "id": "6968b801",
   "metadata": {},
   "source": [
    "## 🧪 Exercise 3: Zig-zag left/right until X > 1.2"
   ]
  },
  {
   "cell_type": "code",
   "execution_count": null,
   "id": "b68baada",
   "metadata": {},
   "outputs": [],
   "source": [
    "# while drone.get_position()[0] < :\n",
    "#     drone.left( , )\n",
    "#     time.sleep( )\n",
    "#     drone.right( , )\n",
    "#     time.sleep( )"
   ]
  },
  {
   "cell_type": "markdown",
   "id": "9bb947d6",
   "metadata": {},
   "source": [
    "## 🧪 Exercise 4: Rotate until yaw is between 80 and 100"
   ]
  },
  {
   "cell_type": "code",
   "execution_count": null,
   "id": "55b59ebb",
   "metadata": {},
   "outputs": [],
   "source": [
    "# while not (80 <= drone.get_yaw() <= 100):\n",
    "#     drone.rotate( , )\n",
    "#     time.sleep( )"
   ]
  },
  {
   "cell_type": "markdown",
   "id": "be9ff75a",
   "metadata": {},
   "source": [
    "## 🧪 Exercise 5: Move up until 'up' sensor sees obstacle < 0.4m"
   ]
  },
  {
   "cell_type": "code",
   "execution_count": null,
   "id": "45514a77",
   "metadata": {},
   "outputs": [],
   "source": [
    "# while drone.get_distances()['up'] > :\n",
    "#     drone.up( , )\n",
    "#     time.sleep( )"
   ]
  },
  {
   "cell_type": "markdown",
   "id": "204bf665",
   "metadata": {},
   "source": [
    "## 🧪 Exercise 6: Back up until object behind is closer than 0.3m"
   ]
  },
  {
   "cell_type": "code",
   "execution_count": null,
   "id": "36935bf5",
   "metadata": {},
   "outputs": [],
   "source": [
    "# while drone.get_distances()['back'] > :\n",
    "#     drone.backward( , )\n",
    "#     time.sleep( )"
   ]
  },
  {
   "cell_type": "markdown",
   "id": "4d7524e1",
   "metadata": {},
   "source": [
    "## 🛬 Land and Close"
   ]
  },
  {
   "cell_type": "code",
   "execution_count": null,
   "id": "5e08894b",
   "metadata": {},
   "outputs": [],
   "source": [
    "drone.land(0.3)\n",
    "drone.close()"
   ]
  }
 ],
 "metadata": {
  "kernelspec": {
   "display_name": "Python 3",
   "language": "python",
   "name": "python3"
  },
  "language_info": {
   "codemirror_mode": {
    "name": "ipython",
    "version": 3
   },
   "file_extension": ".py",
   "mimetype": "text/x-python",
   "name": "python",
   "nbconvert_exporter": "python",
   "pygments_lexer": "ipython3",
   "version": "3.11.3"
  }
 },
 "nbformat": 4,
 "nbformat_minor": 5
}
