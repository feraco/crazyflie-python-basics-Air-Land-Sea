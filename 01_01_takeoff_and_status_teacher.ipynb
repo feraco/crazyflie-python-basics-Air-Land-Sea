{
 "cells": [
  {
   "cell_type": "markdown",
   "id": "3cb64907",
   "metadata": {},
   "source": [
    "# 🛸 Crazyflie Takeoff & Status Notebook\n",
    "In this notebook, you'll control takeoff height and velocity, and retrieve flight status data."
   ]
  },
  {
   "cell_type": "code",
   "execution_count": null,
   "id": "f2abf0ae",
   "metadata": {},
   "outputs": [],
   "source": [
    "# Set this to True if using the real Crazyflie hardware, or False for simulation only\n",
    "drone = CrazyflieSimulator(real=False)"
   ]
  },
  {
   "cell_type": "markdown",
   "id": "2a156e92",
   "metadata": {},
   "source": [
    "## 🚀 Basic Takeoff Example\n",
    "**Goal:** Take off to 0.6m height at 0.3m/s velocity."
   ]
  },
  {
   "cell_type": "code",
   "execution_count": null,
   "id": "4c98ef2d",
   "metadata": {},
   "outputs": [],
   "source": [
    "drone.takeoff( , )\n",
    "\n",
    "# time.sleep()\n"
   ]
  },
  {
   "cell_type": "markdown",
   "id": "ff2167b8",
   "metadata": {},
   "source": [
    "## 📊 Retrieve Flight Information\n",
    "You can get drone telemetry and state using the following methods:\n",
    "\n",
    "### 📏 Units of Measurement\n",
    "- **Height**: meters (m)\n",
    "- **Position**: (x, y) coordinates in meters\n",
    "- **Yaw**: degrees (0 to 360°)\n",
    "- **Velocity**: meters per second (m/s) in x, y, and z directions\n",
    "- **Status**: summary including airborne status and telemetry values\n",
    "- **Log**: list of executed commands with arguments\n",
    "\n",
    "### ⚠️ Maximum Recommended Velocities\n",
    "- **Vertical (z)**: ~0.5 m/s (slow for safety)\n",
    "- **Horizontal (x/y)**: ~0.3–0.5 m/s depending on indoor/outdoor\n",
    "- **Yaw rotation**: ~180–360°/s for fast turns"
   ]
  },
  {
   "cell_type": "code",
   "execution_count": null,
   "id": "d54b0fbe",
   "metadata": {},
   "outputs": [],
   "source": [
    "print(\"Height:\", drone.get_height())\n",
    "print(\"Position:\", drone.get_position())\n",
    "print(\"Yaw:\", drone.get_yaw())\n",
    "print(\"Velocity:\", drone.get_velocity())\n",
    "print(\"Status:\", drone.get_status())\n",
    "print(\"Command Log:\", drone.get_log())"
   ]
  },
  {
   "cell_type": "markdown",
   "id": "cc254f49",
   "metadata": {},
   "source": [
    "## 🧪 Try It Yourself: Change Takeoff Parameters"
   ]
  },
  {
   "cell_type": "code",
   "execution_count": null,
   "id": "15ae3d85",
   "metadata": {},
   "outputs": [],
   "source": [
    "drone.takeoff( , )\n",
    "\n",
    "# time.sleep()\n"
   ]
  },
  {
   "cell_type": "markdown",
   "id": "97c69d41",
   "metadata": {},
   "source": [
    "## ✅ Done? Close the connection to the drone."
   ]
  },
  {
   "cell_type": "markdown",
   "id": "5a18dd7d",
   "metadata": {},
   "source": [
    "## 🧪 Exercise: Get Info Before Takeoff"
   ]
  },
  {
   "cell_type": "code",
   "execution_count": null,
   "id": "9026ab23",
   "metadata": {},
   "outputs": [],
   "source": [
    "print(\"BEFORE TAKEOFF\")\n",
    "print(\"Height:\", drone.get_height())\n",
    "print(\"Position:\", drone.get_position())\n",
    "print(\"Yaw:\", drone.get_yaw())\n",
    "print(\"Velocity:\", drone.get_velocity())\n",
    "print(\"Status:\", drone.get_status())"
   ]
  },
  {
   "cell_type": "markdown",
   "id": "48ce2680",
   "metadata": {},
   "source": [
    "## 🧪 Takeoff and Mid-Flight Info"
   ]
  },
  {
   "cell_type": "code",
   "execution_count": null,
   "id": "6ce4ccb9",
   "metadata": {},
   "outputs": [],
   "source": [
    "drone.takeoff( , )\n",
    "\n",
    "# time.sleep()\n"
   ]
  },
  {
   "cell_type": "markdown",
   "id": "f07cdb41",
   "metadata": {},
   "source": [
    "## 🧪 After Landing Info"
   ]
  },
  {
   "cell_type": "code",
   "execution_count": null,
   "id": "7c34a690",
   "metadata": {},
   "outputs": [],
   "source": [
    "print(\"AFTER LANDING\")\n",
    "print(\"Height:\", drone.get_height())\n",
    "print(\"Position:\", drone.get_position())\n",
    "print(\"Yaw:\", drone.get_yaw())\n",
    "print(\"Velocity:\", drone.get_velocity())\n",
    "print(\"Status:\", drone.get_status())"
   ]
  },
  {
   "cell_type": "code",
   "execution_count": null,
   "id": "51d7a2c9",
   "metadata": {},
   "outputs": [],
   "source": [
    "drone.close()"
   ]
  }
 ],
 "metadata": {},
 "nbformat": 4,
 "nbformat_minor": 5
}
