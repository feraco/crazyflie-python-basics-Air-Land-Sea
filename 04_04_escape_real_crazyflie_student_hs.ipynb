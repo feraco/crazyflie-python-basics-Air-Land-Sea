{
 "cells": [
  {
   "cell_type": "markdown",
   "metadata": {},
   "source": [
    "<small>\n",
    "Part of the InnovatED STEM and DroneBlocks Land, Air, and Sea Robotics Curriculum  \n",
    "Licensed for educational use in schools only.  \n",
    "Redistribution, commercial use, or resale is strictly prohibited.  \n",
    "\u00a9 2025 InnovatED STEM & DroneBlocks. All rights reserved.\n",
    "</small>"
   ]
  },
  {
   "cell_type": "markdown",
   "id": "669732da",
   "metadata": {},
   "source": [
    "#  Escape the Room \u2013 Student Version\n",
    "Your challenge is to write a program that lets the Crazyflie escape from a room.\n",
    "\n",
    "Use sensor data to detect walls, avoid obstacles, and find an open exit."
   ]
  },
  {
   "cell_type": "markdown",
   "id": "664934eb",
   "metadata": {},
   "source": [
    "##  Helpful Commands Reference\n",
    "| Command                     | Description                                          | Parameters (units/type)                    |\n",
    "|-----------------------------|------------------------------------------------------|--------------------------------------------|\n",
    "| `takeoff()`                 | Take off and hover                                  | height (m/float), speed (m/s/float)        |\n",
    "| `land()`                    | Land the drone                                      | speed (m/s/float)                          |\n",
    "| `forward()`                 | Move forward                                        | distance (m/float), speed (m/s/float)      |\n",
    "| `left()` / `right()`        | Move sideways (strafe)                              | distance (m/float), speed (m/s/float)      |\n",
    "| `rotate()`                  | Rotate (yaw)                                        | angle (degrees/int), duration (s/float)    |\n",
    "| `get_distances()`           | Read all sensor values                              | None                                       |\n",
    "| `get_distances()['front']`  | Distance to object in front                         | meters/float                               |\n",
    "| `get_distances()['left']`   | Distance to object on the left                      | meters/float                               |\n",
    "| `get_distances()['right']`  | Distance to object on the right                     | meters/float                               |\n",
    "| `get_yaw()`                 | Get the yaw rotation of the drone                   | None                                       |\n",
    "| `get_status()`              | Check if drone is flying or landed                  | None                                       |"
   ]
  },
  {
   "cell_type": "code",
   "execution_count": null,
   "id": "05271830",
   "metadata": {},
   "outputs": [],
   "source": [
    "#  Setup your drone simulator\n",
    "from crazyflie_sim import CrazyflieSimulator\n",
    "import time\n",
    "drone = CrazyflieSimulator(real=False)"
   ]
  },
  {
   "cell_type": "markdown",
   "id": "a56a2750",
   "metadata": {},
   "source": [
    "## \ud83c\udfaf Objective\n",
    "Write code that takes off, navigates around walls and obstacles, and escapes from a room with an opening.\n",
    "\n",
    "- Use loops and conditionals\n",
    "- Check distances in multiple directions\n",
    "- Use print statements to debug your decisions\n",
    "- Don't crash into walls!\n",
    "\n",
    "\ud83d\udca1 Hint: Use `if` statements and `get_distances()` to decide where to go.\n",
    "\ud83d\udca1 Hint: `rotate()` can help you face a different direction if you're blocked."
   ]
  },
  {
   "cell_type": "code",
   "execution_count": null,
   "id": "c876c09e",
   "metadata": {},
   "outputs": [],
   "source": [
    "#  Your code goes here:\n"
   ]
  },
  {
   "cell_type": "markdown",
   "id": "6b7d6ac1",
   "metadata": {},
   "source": [
    "##  Exercise 1: Try escaping with fewer steps by checking for the largest open space first"
   ]
  },
  {
   "cell_type": "code",
   "execution_count": null,
   "id": "288453be",
   "metadata": {},
   "outputs": [],
   "source": []
  },
  {
   "cell_type": "markdown",
   "id": "6612c2dc",
   "metadata": {},
   "source": [
    "##  Exercise 2: Stop immediately if all sides are blocked (trap logic)"
   ]
  },
  {
   "cell_type": "code",
   "execution_count": null,
   "id": "f8b3b661",
   "metadata": {},
   "outputs": [],
   "source": []
  }
 ],
 "metadata": {
  "language_info": {
   "name": "python"
  }
 },
 "nbformat": 4,
 "nbformat_minor": 5
}