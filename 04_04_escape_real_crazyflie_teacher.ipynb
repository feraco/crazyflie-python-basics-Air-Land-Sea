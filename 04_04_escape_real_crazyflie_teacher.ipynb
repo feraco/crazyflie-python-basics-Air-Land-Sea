{
 "cells": [
  {
   "cell_type": "markdown",
   "id": "2860baf6",
   "metadata": {},
   "source": [
    "# 🚪 Escape the Room: Real Crazyflie Navigation\n",
    "In this version of the Escape the Room challenge, we’ll assume you're using a **real Crazyflie** equipped with the **MultiRanger deck**.\n",
    "Your goal: write logic to help your drone avoid walls and exit the room using sensor data only — no visual rendering."
   ]
  },
  {
   "cell_type": "markdown",
   "id": "5cb8f31a",
   "metadata": {},
   "source": [
    "## 🎯 Scenario\n",
    "- You are flying in a real room, approximately **2m x 2m**.\n",
    "- The drone starts in the center.\n",
    "- There's a door/opening on the front wall.\n",
    "- You must write a navigation loop to detect open space and escape."
   ]
  },
  {
   "cell_type": "code",
   "execution_count": null,
   "id": "77949d8d",
   "metadata": {},
   "outputs": [],
   "source": [
    "# ✅ Setup for Real Crazyflie\n",
    "import time\n",
    "from crazyflie_sim import CrazyflieSimulator\n",
    "\n",
    "# Set real=True for hardware mode\n",
    "drone = CrazyflieSimulator(real=True)"
   ]
  },
  {
   "cell_type": "markdown",
   "id": "1a3b2ee0",
   "metadata": {},
   "source": [
    "## 🚀 Step 1: Take Off"
   ]
  },
  {
   "cell_type": "code",
   "execution_count": null,
   "id": "1fc9d553",
   "metadata": {},
   "outputs": [],
   "source": [
    "drone.takeoff(1.0, 0.3)\n",
    "time.sleep(2)"
   ]
  },
  {
   "cell_type": "markdown",
   "id": "85729d4e",
   "metadata": {},
   "source": [
    "## 🧠 Step 2: Read the Sensors\n",
    "The drone will use MultiRanger to measure distance to walls:\n",
    "- `front`, `left`, `right`, `back`, `up`\n",
    "- Units are in **meters**\n",
    "- Less than 0.5 meters = obstacle close!"
   ]
  },
  {
   "cell_type": "code",
   "execution_count": null,
   "id": "ebb8c320",
   "metadata": {},
   "outputs": [],
   "source": [
    "distances = drone.get_distances()\n",
    "print(distances)  # You should see something like: {'front': 0.6, 'left': 0.4, ...}"
   ]
  },
  {
   "cell_type": "markdown",
   "id": "e32bfb60",
   "metadata": {},
   "source": [
    "## 🔁 Step 3: Escape Logic\n",
    "Keep moving forward if clear, otherwise rotate or back up."
   ]
  },
  {
   "cell_type": "code",
   "execution_count": null,
   "id": "95d13a79",
   "metadata": {},
   "outputs": [],
   "source": [
    "# Basic escape loop\n",
    "steps = 0\n",
    "while steps < 15:\n",
    "    d = drone.get_distances()\n",
    "    print(f\"Step {steps} | Sensors: {d}\")\n",
    "\n",
    "    if d['front'] > 0.5:\n",
    "        drone.forward(0.2, 0.2)\n",
    "    elif d['left'] > 0.5:\n",
    "        drone.rotate(90, 1)\n",
    "    elif d['right'] > 0.5:\n",
    "        drone.rotate(-90, 1)\n",
    "    else:\n",
    "        drone.backward(0.2, 0.2)\n",
    "\n",
    "    time.sleep(1)\n",
    "    steps += 1"
   ]
  },
  {
   "cell_type": "markdown",
   "id": "39e63802",
   "metadata": {},
   "source": [
    "## 🧪 Exercise 1: Try escaping with fewer steps by checking for the largest open space first"
   ]
  },
  {
   "cell_type": "code",
   "execution_count": null,
   "id": "181532fd",
   "metadata": {},
   "outputs": [],
   "source": [
    "# d = drone.get_distances()\n",
    "# # Implement your own logic to choose the best direction\n",
    "# # e.g., if d['right'] is most open, rotate right and go\n",
    "# ..."
   ]
  },
  {
   "cell_type": "markdown",
   "id": "273bfecc",
   "metadata": {},
   "source": [
    "## 🧪 Exercise 2: Stop immediately if all sides are blocked (trap logic)"
   ]
  },
  {
   "cell_type": "code",
   "execution_count": null,
   "id": "bd644858",
   "metadata": {},
   "outputs": [],
   "source": [
    "# d = drone.get_distances()\n",
    "# if min(d['front'], d['left'], d['right'], d['back']) < 0.3:\n",
    "#     print(\"Trapped! Emergency landing.\")\n",
    "#     drone.land()\n",
    "#     exit()"
   ]
  },
  {
   "cell_type": "markdown",
   "id": "8d14ab2e",
   "metadata": {},
   "source": [
    "## 🛬 Step 4: Land and Disconnect"
   ]
  },
  {
   "cell_type": "code",
   "execution_count": null,
   "id": "ea9e0d60",
   "metadata": {},
   "outputs": [],
   "source": [
    "drone.land(0.3)\n",
    "drone.close()"
   ]
  }
 ],
 "metadata": {},
 "nbformat": 4,
 "nbformat_minor": 5
}
