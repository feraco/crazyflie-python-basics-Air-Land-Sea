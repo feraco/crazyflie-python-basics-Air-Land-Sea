{
 "cells": [
  {
   "cell_type": "markdown",
   "id": "32480f1b",
   "metadata": {},
   "source": [
    "<small>\n",
    "Part of the InnovatED STEM and DroneBlocks Land, Air, and Sea Robotics Curriculum  \n",
    "Licensed for educational use in schools only.  \n",
    "Redistribution, commercial use, or resale is strictly prohibited.  \n",
    "© 2025 InnovatED STEM & DroneBlocks. All rights reserved.\n",
    "</small>"
   ]
  },
  {
   "cell_type": "markdown",
   "id": "7bd8839c",
   "metadata": {},
   "source": [
    "#  Circle Maneuvers – Student Version\n",
    "In this lesson, you'll learn how to make the drone fly in a circle!\n",
    "\n",
    "You’ll use special commands like `circle_left()` and `circle_right()` and change the radius, speed, and angle.\n",
    "\n",
    "Let’s get started by learning what the commands do."
   ]
  },
  {
   "cell_type": "markdown",
   "id": "e7d1a23e",
   "metadata": {},
   "source": [
    "##  Circle Command Reference Table\n",
    "| Command           | What It Does                      | Parameters (units/type)                       |\n",
    "|-------------------|-----------------------------------|-----------------------------------------------|\n",
    "| `circle_left()`   | Makes the drone fly left in a circle  | radius (m/float), speed (m/s/float), angle (degrees/int) |\n",
    "| `circle_right()`  | Makes the drone fly right in a circle | radius (m/float), speed (m/s/float), angle (degrees/int) |"
   ]
  },
  {
   "cell_type": "code",
   "execution_count": null,
   "id": "752c0f37",
   "metadata": {},
   "outputs": [
    {
     "name": "stdout",
     "output_type": "stream",
     "text": [
      "🔌 Connecting to real Crazyflie...\n"
     ]
    },
    {
     "name": "stderr",
     "output_type": "stream",
     "text": [
      "/opt/anaconda3/lib/python3.12/site-packages/libusb_package/__init__.py:51: DeprecationWarning: is_resource is deprecated. Use files() instead. Refer to https://importlib-resources.readthedocs.io/en/latest/using.html#migrating-from-legacy for migration advice.\n",
      "  if resources.is_resource(__name__, _LIBRARY_NAME):\n",
      "/opt/anaconda3/lib/python3.12/site-packages/libusb_package/__init__.py:52: DeprecationWarning: path is deprecated. Use files() instead. Refer to https://importlib-resources.readthedocs.io/en/latest/using.html#migrating-from-legacy for migration advice.\n",
      "  path_resource = resources.path(__name__, _LIBRARY_NAME)\n"
     ]
    }
   ],
   "source": [
    "# ✅ Setup the simulator\n",
    "from crazyflie_sim import CrazyflieSimulator\n",
    "import time\n",
    "drone = CrazyflieSimulator(real=True)"
   ]
  },
  {
   "cell_type": "markdown",
   "id": "c7bfd4df",
   "metadata": {},
   "source": [
    "##  Example: Fly a Full Left Circle\n",
    "This example flies a **full circle** to the **left** with a radius of 0.3 meters and a speed of 0.3 m/s."
   ]
  },
  {
   "cell_type": "code",
   "execution_count": null,
   "id": "95d5fd38",
   "metadata": {},
   "outputs": [],
   "source": [
    "drone.takeoff(0.3, 0.2)\n",
    "drone.circle_left(0.3, 0.3, 360)\n",
    "drone.land(0.3)"
   ]
  },
  {
   "cell_type": "markdown",
   "id": "7344df29",
   "metadata": {},
   "source": [
    "##  Exercise 1: Full Right Circle\n",
    "Fly a **full right circle** with:\n",
    "- Radius: 0.3 meters\n",
    "- Speed: 0.3 m/s\n",
    "- Angle: 360 degrees"
   ]
  },
  {
   "cell_type": "code",
   "execution_count": null,
   "id": "bf7a8201",
   "metadata": {},
   "outputs": [],
   "source": [
    "# Your code here:\n"
   ]
  },
  {
   "cell_type": "markdown",
   "id": "f8fc07f5",
   "metadata": {},
   "source": [
    "##  Exercise 2: Half Circle Left\n",
    "Fly a **half circle** to the **left**.\n",
    "- Radius: 0.3\n",
    "- Speed: 0.3\n",
    "- Angle: 180"
   ]
  },
  {
   "cell_type": "code",
   "execution_count": null,
   "id": "e625020b",
   "metadata": {},
   "outputs": [],
   "source": [
    "# Your code here:\n"
   ]
  },
  {
   "cell_type": "markdown",
   "id": "0f7c132b",
   "metadata": {},
   "source": [
    "##  Exercise 3: Circle Zig-Zag\n",
    "Try flying a **left circle** then a **right circle** with:\n",
    "- Radius: 0.2 meters\n",
    "- Speed: 0.3 m/s\n",
    "- Angle: 180 degrees each\n",
    "\n",
    "*Hint: Take off first and land afterward!*"
   ]
  },
  {
   "cell_type": "code",
   "execution_count": null,
   "id": "f4e57121",
   "metadata": {},
   "outputs": [],
   "source": [
    "# Your code here:\n"
   ]
  },
  {
   "cell_type": "markdown",
   "id": "b368c613",
   "metadata": {},
   "source": [
    "##  Challenge: Shrinking Spiral\n",
    "Fly 3 circles to the left, each one **smaller** than the last!\n",
    "\n",
    "Try radii: 0.3 → 0.2 → 0.1\n",
    "*Make sure to include a takeoff and a landing!*"
   ]
  },
  {
   "cell_type": "code",
   "execution_count": null,
   "id": "693d7e49",
   "metadata": {},
   "outputs": [],
   "source": [
    "# Your code here:\n"
   ]
  }
 ],
 "metadata": {
  "kernelspec": {
   "display_name": "Python 3 (ipykernel)",
   "language": "python",
   "name": "python3"
  },
  "language_info": {
   "codemirror_mode": {
    "name": "ipython",
    "version": 3
   },
   "file_extension": ".py",
   "mimetype": "text/x-python",
   "name": "python",
   "nbconvert_exporter": "python",
   "pygments_lexer": "ipython3",
   "version": "3.12.7"
  }
 },
 "nbformat": 4,
 "nbformat_minor": 5
}
