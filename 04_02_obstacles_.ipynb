{
 "cells": [
  {
   "cell_type": "markdown",
   "metadata": {},
   "source": [
    "<small>\n",
    "Part of the InnovatED STEM and DroneBlocks Land, Air, and Sea Robotics Curriculum  \n",
    "Licensed for educational use in schools only.  \n",
    "Redistribution, commercial use, or resale is strictly prohibited.  \n",
    "\u00a9 2025 InnovatED STEM & DroneBlocks. All rights reserved.\n",
    "</small>"
   ]
  },
  {
   "cell_type": "markdown",
   "id": "5bc107d3",
   "metadata": {},
   "source": [
    "# \ud83d\uded1 Simple Obstacle Avoidance with MultiRanger\n",
    "This notebook teaches how to combine sensor input and logic to help your drone avoid obstacles automatically using `while`, `if`, and sensor readings.\n",
    "\n",
    "Obstacle detection is simulated using the `CrazyflieSimulator` with realistic distance values.\n",
    "\n",
    "## \ud83d\udcd8 Command Reference Table\n",
    "| Command                  | Description                                                   | Parameters (units/type)                    |\n",
    "|--------------------------|---------------------------------------------------------------|--------------------------------------------|\n",
    "| `takeoff()`              | Drone takes off and hovers                                   | height (m/float), speed (m/s/float)        |\n",
    "| `land()`                 | Lands the drone                                              | speed (m/s/float)                          |\n",
    "| `forward()`              | Move forward                                                 | distance (m/float), speed (m/s/float)      |\n",
    "| `rotate()`               | Rotate the drone left or right                              | angle (degrees/int), time (s/float)        |\n",
    "| `get_distances()`        | Returns dictionary of sensor distances                      | None                                       |\n",
    "| `get_distances()['front']` | Distance to object in front (m/float)                     | None                                       |\n",
    "| `get_distances()['left']` | Distance to the left (m/float)                              | None                                       |\n",
    "| `get_distances()['right']` | Distance to the right (m/float)                            | None                                       |"
   ]
  },
  {
   "cell_type": "code",
   "execution_count": null,
   "id": "ffa94fd3",
   "metadata": {},
   "outputs": [],
   "source": [
    "# \u2705 Setup\n",
    "import time\n",
    "from crazyflie_sim import CrazyflieSimulator\n",
    "\n",
    "drone = CrazyflieSimulator(real=False)"
   ]
  },
  {
   "cell_type": "markdown",
   "id": "66ef4829",
   "metadata": {},
   "source": [
    "## \ud83d\ude80 Takeoff"
   ]
  },
  {
   "cell_type": "code",
   "execution_count": null,
   "id": "bcc1dbe4",
   "metadata": {},
   "outputs": [],
   "source": [
    "drone.takeoff(1.0, 0.3)\n",
    "time.sleep(2)"
   ]
  },
  {
   "cell_type": "markdown",
   "id": "03ab91c0",
   "metadata": {},
   "source": [
    "## \ud83e\udde0 Obstacle Avoidance Logic\n",
    "The idea is simple:\n",
    "- If there's something **in front** (`< 0.5m`) \u2192 stop and move **back** or **turn**\n",
    "- Otherwise \u2192 keep moving **forward**"
   ]
  },
  {
   "cell_type": "code",
   "execution_count": null,
   "id": "17785492",
   "metadata": {},
   "outputs": [],
   "source": [
    "print(drone.get_distances())  # See example sensor values"
   ]
  },
  {
   "cell_type": "code",
   "execution_count": null,
   "id": "dc0bc154",
   "metadata": {},
   "outputs": [],
   "source": [
    "# Simple forward motion with obstacle check\n",
    "for _ in range(10):\n",
    "    distances = drone.get_distances()\n",
    "    if distances['front'] < 0.5:\n",
    "        print(\"Obstacle ahead! Backing up.\")\n",
    "        drone.backward(0.2, 0.2)\n",
    "        drone.rotate(90, 1)\n",
    "    else:\n",
    "        drone.forward(0.2, 0.2)\n",
    "    time.sleep(1)"
   ]
  },
  {
   "cell_type": "markdown",
   "id": "7904369e",
   "metadata": {},
   "source": [
    "## \ud83e\uddea Exercise 1: Try using left/right sensors to dodge obstacles\n",
    "**Hint**: If there's an object in front and space on one side, turn that way instead of backing up."
   ]
  },
  {
   "cell_type": "code",
   "execution_count": null,
   "id": "66d825b9",
   "metadata": {},
   "outputs": [],
   "source": []
  },
  {
   "cell_type": "markdown",
   "id": "160df41e",
   "metadata": {},
   "source": [
    "## \ud83e\uddea Exercise 2: Loop until you detect an obstacle within 0.4m in any direction"
   ]
  },
  {
   "cell_type": "code",
   "execution_count": null,
   "id": "bc88d123",
   "metadata": {},
   "outputs": [],
   "source": []
  },
  {
   "cell_type": "markdown",
   "id": "f446ecd1",
   "metadata": {},
   "source": [
    "## \ud83d\udeec Land and Close"
   ]
  },
  {
   "cell_type": "code",
   "execution_count": null,
   "id": "1b91dac3",
   "metadata": {},
   "outputs": [],
   "source": []
  },
  {
   "cell_type": "markdown",
   "id": "c2f36e35",
   "metadata": {},
   "source": [
    "## \ud83e\uddea Exercise 3: Turn around if blocked on both front and sides\n",
    "Use logic to rotate 180\u00b0 if there's no space in front, left, or right."
   ]
  },
  {
   "cell_type": "code",
   "execution_count": null,
   "id": "99803871",
   "metadata": {},
   "outputs": [],
   "source": []
  },
  {
   "cell_type": "markdown",
   "id": "ef05373d",
   "metadata": {},
   "source": [
    "## \ud83e\uddea Exercise 4: Cautiously move forward until object is closer than 0.6m\n",
    "Use a loop and stop at safe distance."
   ]
  },
  {
   "cell_type": "code",
   "execution_count": null,
   "id": "86d15190",
   "metadata": {},
   "outputs": [],
   "source": []
  },
  {
   "cell_type": "markdown",
   "id": "c3ee110b",
   "metadata": {},
   "source": [
    "## \ud83e\uddea Exercise 5: Try a mini square pattern, only if no object ahead"
   ]
  },
  {
   "cell_type": "code",
   "execution_count": null,
   "id": "f88cee53",
   "metadata": {},
   "outputs": [],
   "source": []
  }
 ],
 "metadata": {
  "language_info": {
   "name": "python"
  }
 },
 "nbformat": 4,
 "nbformat_minor": 5
}