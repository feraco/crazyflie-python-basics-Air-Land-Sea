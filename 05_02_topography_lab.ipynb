{
 "cells": [
  {
   "cell_type": "markdown",
   "id": "d1aa92fe",
   "metadata": {},
   "source": [
    "# 🗺️ Introduction to Topography and Drones\n",
    "**Name:** ________________________         **Date:** ____________"
   ]
  },
  {
   "cell_type": "markdown",
   "id": "86577412",
   "metadata": {},
   "source": [
    "## 🌍 What is Topography?\n",
    "Topography refers to the **arrangement of natural and artificial features** of an area. It includes elevation, terrain, and man-made structures. Drones can help measure these features accurately."
   ]
  },
  {
   "cell_type": "markdown",
   "id": "25598a03",
   "metadata": {},
   "source": [
    "## 🚁 What is the Flow Deck?\n",
    "The **Flow Deck** is an add-on module for the Crazyflie drone. It includes:\n",
    "- **Optical Flow Sensor**: Measures horizontal motion\n",
    "- **Range Sensor**: Measures vertical height (altitude)\n",
    "\n",
    "**Key Variable:**\n",
    "- `range.z` – Measures the **height** of the drone above ground in meters\n",
    "- `range.front`, `range.back`, `range.left`, `range.right` – measure horizontal distances"
   ]
  },
  {
   "cell_type": "markdown",
   "id": "e81a760c",
   "metadata": {},
   "source": [
    "## 🧪 Activity: Measuring Classroom Topography\n",
    "**Objective:** Use the drone to measure height changes across a path on the classroom floor."
   ]
  },
  {
   "cell_type": "markdown",
   "id": "d3f2f615",
   "metadata": {},
   "source": [
    "### 🛠 Setup Instructions\n",
    "1. Arrange objects (books, boxes, etc.) to create different elevation levels.\n",
    "2. Connect to the drone using `cfclient`\n",
    "3. Go to the **Plotter tab** and select `range.z` to plot\n",
    "4. Fly the drone forward in 1-foot increments and record height (z-range)"
   ]
  },
  {
   "cell_type": "markdown",
   "id": "b2952d26",
   "metadata": {},
   "source": [
    "### ✅ Drone Setup (Simulated Example Below)"
   ]
  },
  {
   "cell_type": "code",
   "execution_count": null,
   "id": "e1dbd514",
   "metadata": {},
   "outputs": [],
   "source": [
    "from crazyflie_sim import CrazyflieSimulator\n",
    "import time\n",
    "\n",
    "drone = CrazyflieSimulator(real=True)  # set to True for real Crazyflie\n",
    "drone.takeoff(0.3, 0.2)\n",
    "time.sleep(2)"
   ]
  },
  {
   "cell_type": "markdown",
   "id": "4ba0ab74",
   "metadata": {},
   "source": [
    "### 📏 Reading Z-Range (Height)"
   ]
  },
  {
   "cell_type": "code",
   "execution_count": null,
   "id": "a76877c4",
   "metadata": {},
   "outputs": [],
   "source": [
    "# This function gives the height above ground\n",
    "z_height = drone.get_zrange()\n",
    "print(\"Z-range height:\", z_height, \"millimeters\")"
   ]
  },
  {
   "cell_type": "markdown",
   "id": "cc9c75c3",
   "metadata": {},
   "source": [
    "## 📋 Measurement Table\n",
    "| Horizontal Position (ft) | Range.z Measurement (meters) |\n",
    "|--------------------------|-------------------------------|\n",
    "| 0                        |                               |\n",
    "| 1                        |                               |\n",
    "| 2                        |                               |\n",
    "| 3                        |                               |\n",
    "| 4                        |                               |\n",
    "| 5                        |                               |\n",
    "| 6                        |                               |\n",
    "| 7                        |                               |\n",
    "| 8                        |                               |"
   ]
  },
  {
   "cell_type": "markdown",
   "id": "63576c4e",
   "metadata": {},
   "source": [
    "## ✏️ Topographic Profile\n",
    "Use your data to draw a topographic profile below (on paper or in a digital drawing tool)."
   ]
  },
  {
   "cell_type": "markdown",
   "id": "c77dfbc2",
   "metadata": {},
   "source": [
    "### 🔍 Observation 1\n",
    "What challenges did you face in collecting accurate elevation data using the drone, and how did you overcome them?\n",
    "\n",
    "*Your response:*"
   ]
  },
  {
   "cell_type": "markdown",
   "id": "648fdb27",
   "metadata": {},
   "source": [
    "### 🔍 Observation 2\n",
    "If the classroom were a real outdoor landscape, how would the elevation changes impact water flow or building construction?\n",
    "\n",
    "*Your response:*"
   ]
  },
  {
   "cell_type": "markdown",
   "id": "faad18e1",
   "metadata": {},
   "source": [
    "### 🔍 Observation 3\n",
    "How would your results differ if the floor surface were uneven or sloped instead of flat? What does that tell you about the sensitivity of the drone’s sensors?\n",
    "\n",
    "*Your response:*"
   ]
  },
  {
   "cell_type": "markdown",
   "id": "c9a1b648",
   "metadata": {},
   "source": [
    "### 🔍 Observation 4\n",
    "What limitations did you observe in using the Crazyflie and Flow Deck for topographic mapping? How could the system be improved?\n",
    "\n",
    "*Your response:*"
   ]
  },
  {
   "cell_type": "markdown",
   "id": "c438eea4",
   "metadata": {},
   "source": [
    "### 🔍 Observation 5\n",
    "Imagine you were mapping a forest or disaster site. What additional features or sensors would you want on your drone, and why?\n",
    "\n",
    "*Your response:*"
   ]
  },
  {
   "cell_type": "markdown",
   "id": "b1f2c29a",
   "metadata": {},
   "source": [
    "### 🔍 Observation 6\n",
    "How does this activity help you understand the relationship between elevation and topographic maps?\n",
    "\n",
    "*Your response:*"
   ]
  },
  {
   "cell_type": "markdown",
   "id": "45298961",
   "metadata": {},
   "source": [
    "### 🔍 Observation 7\n",
    "How would you modify this experiment to create a 3D topographic map of the entire classroom? What data would you need?\n",
    "\n",
    "*Your response:*"
   ]
  },
  {
   "cell_type": "markdown",
   "id": "04508801",
   "metadata": {},
   "source": [
    "### 🔍 Observation 8\n",
    "How might autonomous flight (pre-programmed paths) improve accuracy in real-world drone topography missions?\n",
    "\n",
    "*Your response:*"
   ]
  },
  {
   "cell_type": "markdown",
   "id": "79f41513",
   "metadata": {},
   "source": [
    "### 🔍 Observation 9\n",
    "Why is accurate topographical data important in fields like urban planning, agriculture, and disaster response? Give specific examples.\n",
    "\n",
    "*Your response:*"
   ]
  },
  {
   "cell_type": "code",
   "execution_count": null,
   "id": "fe990fff",
   "metadata": {},
   "outputs": [],
   "source": [
    "drone.land(0.3)\n",
    "drone.close()"
   ]
  }
 ],
 "metadata": {
  "language_info": {
   "name": "python"
  }
 },
 "nbformat": 4,
 "nbformat_minor": 5
}
