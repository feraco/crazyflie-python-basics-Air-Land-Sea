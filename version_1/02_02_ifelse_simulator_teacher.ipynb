{
 "cells": [
  {
   "cell_type": "markdown",
   "id": "6fc9fbd1",
   "metadata": {},
   "source": [
    "# 🤖 Conditional Logic with `if/else` Statements\n",
    "In this notebook, you'll learn how to make your drone behave differently based on its current state using `if`, `else`, and `elif`.\n",
    "\n",
    "We'll use sensor readings and state values like height, position, yaw, velocity, and status from the simulator."
   ]
  },
  {
   "cell_type": "code",
   "execution_count": null,
   "id": "3db90d2c",
   "metadata": {},
   "outputs": [],
   "source": [
    "# ✅ Setup and Drone Initialization\n",
    "import time\n",
    "from crazyflie_sim import CrazyflieSimulator\n",
    "\n",
    "drone = CrazyflieSimulator(real=False)"
   ]
  },
  {
   "cell_type": "markdown",
   "id": "37abf010",
   "metadata": {},
   "source": [
    "## 📏 Conditional Checks with Drone State\n",
    "You can access information from the drone using:\n",
    "- `drone.get_height()` → meters\n",
    "- `drone.get_position()` → (x, y)\n",
    "- `drone.get_yaw()` → degrees\n",
    "- `drone.get_velocity()` → (vx, vy, vz)\n",
    "- `drone.get_status()` → e.g. `'airborne'`, `'landed'`\n",
    "- `drone.get_log()` → command history list"
   ]
  },
  {
   "cell_type": "code",
   "execution_count": null,
   "id": "00b59fc5",
   "metadata": {},
   "outputs": [],
   "source": [
    "print(\"Height:\", drone.get_height())\n",
    "print(\"Position:\", drone.get_position())\n",
    "print(\"Yaw:\", drone.get_yaw())\n",
    "print(\"Velocity:\", drone.get_velocity())\n",
    "print(\"Status:\", drone.get_status())\n",
    "print(\"Command Log:\", drone.get_log())"
   ]
  },
  {
   "cell_type": "markdown",
   "id": "c0e3c637",
   "metadata": {},
   "source": [
    "## 🧠 Example 1: Check if drone is on the ground"
   ]
  },
  {
   "cell_type": "code",
   "execution_count": null,
   "id": "c31c1848",
   "metadata": {},
   "outputs": [],
   "source": [
    "if drone.get_status() == 'landed':\n",
    "    print(\"🛬 Drone is currently on the ground.\")\n",
    "else:\n",
    "    print(\"🚁 Drone is in the air!\")"
   ]
  },
  {
   "cell_type": "markdown",
   "id": "74b5df83",
   "metadata": {},
   "source": [
    "## 🧠 Example 2: Take off only if not already flying"
   ]
  },
  {
   "cell_type": "code",
   "execution_count": null,
   "id": "09ee452d",
   "metadata": {},
   "outputs": [],
   "source": [
    "if drone.get_status() == 'landed':\n",
    "    drone.takeoff(1.0, 0.3)\n",
    "    time.sleep(2)\n",
    "else:\n",
    "    print(\"Already flying.\")"
   ]
  },
  {
   "cell_type": "markdown",
   "id": "65d29646",
   "metadata": {},
   "source": [
    "## 🧠 Example 3: Turn based on yaw value"
   ]
  },
  {
   "cell_type": "code",
   "execution_count": null,
   "id": "1207bf54",
   "metadata": {},
   "outputs": [],
   "source": [
    "yaw = drone.get_yaw()\n",
    "if yaw < 180:\n",
    "    print(\"Turning right to balance orientation.\")\n",
    "    drone.rotate(90, 1)\n",
    "else:\n",
    "    print(\"Turning left to balance orientation.\")\n",
    "    drone.rotate(-90, 1)"
   ]
  },
  {
   "cell_type": "markdown",
   "id": "777d4c33",
   "metadata": {},
   "source": [
    "## 🧪 Exercise 1: Check if drone is below 1m and go up if needed"
   ]
  },
  {
   "cell_type": "code",
   "execution_count": null,
   "id": "484ecb69",
   "metadata": {},
   "outputs": [],
   "source": [
    "# if drone.get_height() < 1.0:\n",
    "#     drone.up( , )\n",
    "# else:\n",
    "#     print(\"Altitude is sufficient.\")"
   ]
  },
  {
   "cell_type": "markdown",
   "id": "4870c6d7",
   "metadata": {},
   "source": [
    "## 🧪 Exercise 2: If yaw > 180, rotate left to correct"
   ]
  },
  {
   "cell_type": "code",
   "execution_count": null,
   "id": "83e77f85",
   "metadata": {},
   "outputs": [],
   "source": [
    "# yaw = drone.get_yaw()\n",
    "# if yaw > 180:\n",
    "#     drone.rotate( , )"
   ]
  },
  {
   "cell_type": "markdown",
   "id": "7df8db98",
   "metadata": {},
   "source": [
    "## 🧪 Exercise 3: Print different messages based on velocity"
   ]
  },
  {
   "cell_type": "code",
   "execution_count": null,
   "id": "fbcc736e",
   "metadata": {},
   "outputs": [],
   "source": [
    "# vx, vy, vz = drone.get_velocity()\n",
    "# if abs(vx) > 0.2 or abs(vy) > 0.2:\n",
    "#     print(\"🌀 Drone is moving fast!\")\n",
    "# else:\n",
    "#     print(\"🚶 Drone is moving slowly.\")"
   ]
  },
  {
   "cell_type": "markdown",
   "id": "4d305dbb",
   "metadata": {},
   "source": [
    "## 🛬 Land and close the drone"
   ]
  },
  {
   "cell_type": "code",
   "execution_count": null,
   "id": "a04330f8",
   "metadata": {},
   "outputs": [],
   "source": [
    "drone.land(0.3)\n",
    "drone.close()"
   ]
  }
 ],
 "metadata": {},
 "nbformat": 4,
 "nbformat_minor": 5
}
