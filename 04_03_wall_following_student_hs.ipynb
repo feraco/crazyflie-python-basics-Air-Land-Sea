{
 "cells": [
  {
   "cell_type": "markdown",
   "id": "5c6377ab",
   "metadata": {},
   "source": [
    "# 🚶‍♂️ Wall Following – Student Version\n",
    "In this lesson, you’ll teach the drone to **follow a wall** using distance sensors.\n",
    "You’ll write a loop to keep the drone a safe distance from the wall and adjust its path as needed."
   ]
  },
  {
   "cell_type": "markdown",
   "id": "b4f12336",
   "metadata": {},
   "source": [
    "## 📘 Command Reference Table\n",
    "| Command                     | Description                                         | Parameters (units/type)                    |\n",
    "|-----------------------------|-----------------------------------------------------|--------------------------------------------|\n",
    "| `takeoff()`                 | Drone takes off and hovers                         | height (m/float), speed (m/s/float)        |\n",
    "| `land()`                    | Lands the drone                                    | speed (m/s/float)                          |\n",
    "| `forward()`                 | Move forward                                       | distance (m/float), speed (m/s/float)      |\n",
    "| `left()` / `right()`        | Move sideways (strafe)                             | distance (m/float), speed (m/s/float)      |\n",
    "| `get_distances()`           | Returns dictionary of sensor distances             | None                                       |\n",
    "| `get_distances()['left']`   | Distance to the wall on the left (m/float)         | None                                       |\n",
    "| `get_distances()['right']`  | Distance to the wall on the right (m/float)        | None                                       |"
   ]
  },
  {
   "cell_type": "code",
   "execution_count": null,
   "id": "dd5ef027",
   "metadata": {},
   "outputs": [],
   "source": [
    "# ✅ Setup the simulator\n",
    "from crazyflie_sim import CrazyflieSimulator\n",
    "import time\n",
    "drone = CrazyflieSimulator(real=False)"
   ]
  },
  {
   "cell_type": "markdown",
   "id": "4ce201e9",
   "metadata": {},
   "source": [
    "## 🧪 Step 1: Take off\n",
    "Take off to **0.3 meters** at **0.2 m/s**."
   ]
  },
  {
   "cell_type": "code",
   "execution_count": null,
   "id": "7890031c",
   "metadata": {},
   "outputs": [],
   "source": [
    "# Your code here:\n"
   ]
  },
  {
   "cell_type": "markdown",
   "id": "c36f08ba",
   "metadata": {},
   "source": [
    "## 🚶 Step 2: Read wall distance\n",
    "Print the distance to the **right wall** using `get_distances()['right']`."
   ]
  },
  {
   "cell_type": "code",
   "execution_count": null,
   "id": "b10c5d5b",
   "metadata": {},
   "outputs": [],
   "source": [
    "# Your code here:\n"
   ]
  },
  {
   "cell_type": "markdown",
   "id": "6938f3f4",
   "metadata": {},
   "source": [
    "## ➕ Step 3: Check and adjust\n",
    "Use `if` statements:\n",
    "- If distance is **greater than 0.4**, move right 0.1m\n",
    "- If distance is **less than 0.2**, move left 0.1m\n",
    "- Otherwise, move forward 0.2m"
   ]
  },
  {
   "cell_type": "code",
   "execution_count": null,
   "id": "65c5d596",
   "metadata": {},
   "outputs": [],
   "source": [
    "# Your code here:\n"
   ]
  },
  {
   "cell_type": "markdown",
   "id": "a5b18477",
   "metadata": {},
   "source": [
    "## 🔁 Step 4: Loop the wall follow\n",
    "Put your code in a loop and repeat the wall-following behavior **6 times**."
   ]
  },
  {
   "cell_type": "code",
   "execution_count": null,
   "id": "6cc1cdbc",
   "metadata": {},
   "outputs": [],
   "source": [
    "# Your code here:\n"
   ]
  },
  {
   "cell_type": "markdown",
   "id": "7ada1b37",
   "metadata": {},
   "source": [
    "## 🛬 Step 5: Land\n",
    "Land the drone at a speed of **0.3 m/s**."
   ]
  },
  {
   "cell_type": "code",
   "execution_count": null,
   "id": "33b734bd",
   "metadata": {},
   "outputs": [],
   "source": [
    "# Your code here:\n"
   ]
  }
 ],
 "metadata": {},
 "nbformat": 4,
 "nbformat_minor": 5
}
