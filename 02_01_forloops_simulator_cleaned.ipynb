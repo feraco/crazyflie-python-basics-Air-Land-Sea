{
 "cells": [
  {
   "cell_type": "markdown",
   "id": "a11c9081",
   "metadata": {},
   "source": [
    "#  Repeating Flight Commands with `for` Loops\n",
    "In this notebook, you'll learn how to use `for` loops to make your drone repeat movements or patterns more efficiently.\n",
    "\n",
    "We'll use the `CrazyflieSimulator` to visualize the drone's path in simulation mode."
   ]
  },
  {
   "cell_type": "code",
   "execution_count": null,
   "id": "d8e35a57",
   "metadata": {},
   "outputs": [],
   "source": [
    "# ✅ Imports and Setup\n",
    "import time\n",
    "from crazyflie_sim import CrazyflieSimulator\n",
    "\n",
    "# Create a simulated drone instance\n",
    "drone = CrazyflieSimulator(real=False)"
   ]
  },
  {
   "cell_type": "markdown",
   "id": "fdd1e085",
   "metadata": {},
   "source": [
    "##  Takeoff\n",
    "`drone.takeoff(height, velocity)`\n",
    "\n",
    "- `height`: target hover height in meters (ex: 1.0)\n",
    "- `velocity`: speed to rise (max ~0.5 m/s)\n"
   ]
  },
  {
   "cell_type": "code",
   "execution_count": null,
   "id": "25a52d10",
   "metadata": {},
   "outputs": [],
   "source": [
    "drone.takeoff(1.0, 0.3)\n",
    "time.sleep(2)"
   ]
  },
  {
   "cell_type": "markdown",
   "id": "8f755561",
   "metadata": {},
   "source": [
    "##  Why Use Loops?\n",
    "Instead of writing repetitive commands manually:\n",
    "```python\n",
    "drone.forward(0.2, 0.2)\n",
    "drone.forward(0.2, 0.2)\n",
    "drone.forward(0.2, 0.2)\n",
    "```\n",
    "You can use a `for` loop:\n",
    "```python\n",
    "for _ in range(3):\n",
    "    drone.forward(0.2, 0.2)\n",
    "    time.sleep(1)\n",
    "```"
   ]
  },
  {
   "cell_type": "markdown",
   "id": "c210e9fb",
   "metadata": {},
   "source": [
    "##  Example: Fly a straight path using a `for` loop"
   ]
  },
  {
   "cell_type": "code",
   "execution_count": null,
   "id": "4c9a19ac",
   "metadata": {},
   "outputs": [],
   "source": [
    "for _ in range(5):\n",
    "    drone.forward(0.2, 0.2)\n",
    "    time.sleep(1)"
   ]
  },
  {
   "cell_type": "markdown",
   "id": "7735fedd",
   "metadata": {},
   "source": [
    "##  Example: Zig-zag pattern using loops"
   ]
  },
  {
   "cell_type": "code",
   "execution_count": null,
   "id": "648280b1",
   "metadata": {},
   "outputs": [],
   "source": [
    "for i in range(3):\n",
    "    drone.left(0.2, 0.2)\n",
    "    time.sleep(1)\n",
    "    drone.right(0.2, 0.2)\n",
    "    time.sleep(1)"
   ]
  },
  {
   "cell_type": "markdown",
   "id": "09f58944",
   "metadata": {},
   "source": [
    "##  Exercise 1: Fly forward 4 times with pauses"
   ]
  },
  {
   "cell_type": "code",
   "execution_count": null,
   "id": "dcfcc4fd",
   "metadata": {},
   "outputs": [],
   "source": [
    "# for _ in range(4):\n",
    "#     drone.forward( , )\n",
    "#     time.sleep( )"
   ]
  },
  {
   "cell_type": "markdown",
   "id": "197afe45",
   "metadata": {},
   "source": [
    "##  Exercise 2: Try a square path using a loop\n",
    "Hint: Use 4 sides and turns!"
   ]
  },
  {
   "cell_type": "code",
   "execution_count": null,
   "id": "03a942fa",
   "metadata": {},
   "outputs": [],
   "source": [
    "# for _ in range(4):\n",
    "#     drone.forward( , )\n",
    "#     drone.rotate( , )\n",
    "#     time.sleep( )"
   ]
  },
  {
   "cell_type": "markdown",
   "id": "57a09ce4",
   "metadata": {},
   "source": [
    "##  Land and Close"
   ]
  },
  {
   "cell_type": "code",
   "execution_count": null,
   "id": "27724876",
   "metadata": {},
   "outputs": [],
   "source": [
    "drone.land(0.3)\n",
    "drone.close()"
   ]
  }
 ],
 "metadata": {},
 "nbformat": 4,
 "nbformat_minor": 5
}
