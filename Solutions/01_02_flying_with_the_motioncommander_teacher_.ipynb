{
 "cells": [
  {
   "cell_type": "markdown",
   "metadata": {},
   "source": [
    "<small>\n",
    "Part of the InnovatED STEM and DroneBlocks Land, Air, and Sea Robotics Curriculum  \n",
    "Licensed for educational use in schools only.  \n",
    "Redistribution, commercial use, or resale is strictly prohibited.  \n",
    "\u00a9 2025 InnovatED STEM & DroneBlocks. All rights reserved.\n",
    "</small>"
   ]
  },
  {
   "cell_type": "markdown",
   "id": "9908f8e4",
   "metadata": {},
   "source": [
    "#  Motion Commands with CrazyflieSimulator\n",
    "In this lesson, you'll explore how to fly a simulated or real drone using motion commands like forward, back, up, down, left, right, and rotate.\n",
    "Each command will be run in its own cell so you can learn their effect and parameters."
   ]
  },
  {
   "cell_type": "code",
   "execution_count": null,
   "id": "dc5fbc5d",
   "metadata": {},
   "outputs": [],
   "source": [
    "# \u2705 Imports and Setup\n",
    "import time\n",
    "from crazyflie_sim import CrazyflieSimulator\n",
    "\n",
    "# Use simulation mode unless you're connected to a real drone\n",
    "drone = CrazyflieSimulator(real=False)"
   ]
  },
  {
   "cell_type": "markdown",
   "id": "7ff2bd68",
   "metadata": {},
   "source": [
    "##  Takeoff\n",
    "**Required before any motion command.**\n",
    "\n",
    "`takeoff(height, velocity)`\n",
    "\n",
    "- `height`: target hover height (meters)\n",
    "- `velocity`: ascent speed (m/s) \u2014 keep under 0.5\n"
   ]
  },
  {
   "cell_type": "code",
   "execution_count": null,
   "id": "b6a358ad",
   "metadata": {},
   "outputs": [],
   "source": [
    "drone.takeoff(0.4, 0.3)\n",
    "time.sleep(2)"
   ]
  },
  {
   "cell_type": "markdown",
   "id": "67d25737",
   "metadata": {},
   "source": [
    "##  Up and Down\n",
    "`up(distance, speed)` and `down(distance, speed)`\n",
    "\n",
    "- Moves vertically up/down in meters\n",
    "- `speed`: velocity in m/s (keep under 0.5)\n"
   ]
  },
  {
   "cell_type": "code",
   "execution_count": null,
   "id": "a1e16a05",
   "metadata": {},
   "outputs": [],
   "source": [
    "drone.up(0.2, 0.2)\n",
    "time.sleep(1)"
   ]
  },
  {
   "cell_type": "code",
   "execution_count": null,
   "id": "b3acf856",
   "metadata": {},
   "outputs": [],
   "source": [
    "drone.down(0.2, 0.2)\n",
    "time.sleep(1)"
   ]
  },
  {
   "cell_type": "markdown",
   "id": "de030cf9",
   "metadata": {},
   "source": [
    "##  Left and  Right\n",
    "`left(distance, speed)` and `right(distance, speed)`\n",
    "\n",
    "- Moves left or right relative to the drone\n",
    "- Distance in meters (stay under 0.5)\n"
   ]
  },
  {
   "cell_type": "code",
   "execution_count": null,
   "id": "d7c37bcf",
   "metadata": {},
   "outputs": [],
   "source": [
    "drone.left(0.3, 0.2)\n",
    "time.sleep(1)"
   ]
  },
  {
   "cell_type": "code",
   "execution_count": null,
   "id": "02d2d3c8",
   "metadata": {},
   "outputs": [],
   "source": [
    "drone.right(0.3, 0.2)\n",
    "time.sleep(1)"
   ]
  },
  {
   "cell_type": "markdown",
   "id": "1eff643b",
   "metadata": {},
   "source": [
    "##  Forward and \u23ea Backward\n",
    "`forward(distance, speed)` and `backward(distance, speed)`\n",
    "\n",
    "- Moves the drone along its front/back axis\n",
    "- Speed and distance should be small for safety\n"
   ]
  },
  {
   "cell_type": "code",
   "execution_count": null,
   "id": "da1efc20",
   "metadata": {},
   "outputs": [],
   "source": [
    "drone.forward(0.3, 0.2)\n",
    "time.sleep(1)"
   ]
  },
  {
   "cell_type": "code",
   "execution_count": null,
   "id": "9a13c4d4",
   "metadata": {},
   "outputs": [],
   "source": [
    "drone.backward(0.3, 0.2)\n",
    "time.sleep(1)"
   ]
  },
  {
   "cell_type": "markdown",
   "id": "698d4079",
   "metadata": {},
   "source": [
    "##  Rotate (Yaw)\n",
    "`rotate(yaw_rate, duration)`\n",
    "\n",
    "- `yaw_rate`: degrees per second (positive = clockwise)\n",
    "- `duration`: how long to turn\n"
   ]
  },
  {
   "cell_type": "code",
   "execution_count": null,
   "id": "82725ae5",
   "metadata": {},
   "outputs": [],
   "source": [
    "drone.rotate(90, 1)"
   ]
  },
  {
   "cell_type": "markdown",
   "id": "499e7914",
   "metadata": {},
   "source": [
    "## \u23f8 The `sleep()` Command\n",
    "We use `time.sleep(seconds)` after each motion to give the drone time to complete its movement before issuing a new command.\n",
    "\n",
    "**Without `sleep()`, movements may overlap or be skipped.**"
   ]
  },
  {
   "cell_type": "markdown",
   "id": "ce1d1e3e",
   "metadata": {},
   "source": [
    "##  Exercise 1: Try a Sequence of Motions with `sleep()`"
   ]
  },
  {
   "cell_type": "code",
   "execution_count": null,
   "id": "a15a01b1",
   "metadata": {},
   "outputs": [],
   "source": [
    "# Use small distances under 0.5m\n",
    "# Add sleep between each command\n",
    "# Example: drone.forward(0.2, 0.2)\n"
   ]
  },
  {
   "cell_type": "markdown",
   "id": "9f07845c",
   "metadata": {},
   "source": [
    "##  Exercise 2: Try a Sequence of Motions without `sleep()`"
   ]
  },
  {
   "cell_type": "code",
   "execution_count": null,
   "id": "a60e2ca4",
   "metadata": {},
   "outputs": [],
   "source": [
    "# Try running motion commands quickly without sleep()\n",
    "# What happens? Does the drone complete each move?\n"
   ]
  },
  {
   "cell_type": "markdown",
   "id": "f9fa4f73",
   "metadata": {},
   "source": [
    "##  Land and Close\n",
    "Always land before finishing your session."
   ]
  },
  {
   "cell_type": "code",
   "execution_count": null,
   "id": "f88035d9",
   "metadata": {},
   "outputs": [],
   "source": [
    "drone.land(0.3)\n",
    "drone.close()"
   ]
  }
 ],
 "metadata": {},
 "nbformat": 4,
 "nbformat_minor": 5
}