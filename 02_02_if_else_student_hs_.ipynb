{
 "cells": [
  {
   "cell_type": "markdown",
   "metadata": {},
   "source": [
    "<small>\n",
    "Part of the InnovatED STEM and DroneBlocks Land, Air, and Sea Robotics Curriculum  \n",
    "Licensed for educational use in schools only.  \n",
    "Redistribution, commercial use, or resale is strictly prohibited.  \n",
    "\u00a9 2025 InnovatED STEM & DroneBlocks. All rights reserved.\n",
    "</small>"
   ]
  },
  {
   "cell_type": "markdown",
   "id": "3b7e4a4c",
   "metadata": {},
   "source": [
    "#  If/Else Logic with the Drone \u2013 Student Version\n",
    "In this lesson, you'll learn how to use **if/else statements** to make the drone **think and react**!\n",
    "\n",
    "You\u2019ll write code that checks the drone\u2019s sensors and uses conditions to decide how to move."
   ]
  },
  {
   "cell_type": "markdown",
   "id": "b34dbc23",
   "metadata": {},
   "source": [
    "##  Helpful Commands\n",
    "| Command                  | Description                                                   |\n",
    "|--------------------------|---------------------------------------------------------------|\n",
    "| `get_height()`           | Get the current height of the drone                           |\n",
    "| `get_position()`         | Get the drone\u2019s (x, y) location                                |\n",
    "| `get_yaw()`              | Get the drone\u2019s rotation (yaw angle in degrees)               |\n",
    "| `get_velocity()`         | Get the drone\u2019s current velocity                              |\n",
    "| `get_status()`           | Check if the drone is flying or landed                        |\n",
    "| `get_log()`              | View the history of all commands sent                         |\n",
    "| `detect_obstacle()`      | Returns `True` if any sensor detects something close          |\n",
    "| `get_distances()`        | Returns all sensor values as a dictionary                     |\n",
    "| `get_distances()['front']` | Gets distance to an object in front (in meters)              |\n",
    "| `get_distances()['left']`  | Gets distance to the left side (in meters)                   |\n",
    "| `get_distances()['right']` | Gets distance to the right side (in meters)                  |\n",
    "| `get_distances()['back']`  | Gets distance to the back side (in meters)                   |"
   ]
  },
  {
   "cell_type": "code",
   "execution_count": null,
   "id": "727904f7",
   "metadata": {},
   "outputs": [],
   "source": [
    "# \u2705 Setup the simulator\n",
    "from crazyflie_sim import CrazyflieSimulator\n",
    "drone = CrazyflieSimulator(real=False)"
   ]
  },
  {
   "cell_type": "markdown",
   "id": "0b53fcad",
   "metadata": {},
   "source": [
    "##  Example: React if there's an obstacle\n",
    "This example checks if an obstacle is in front of the drone. If so, it moves back."
   ]
  },
  {
   "cell_type": "code",
   "execution_count": null,
   "id": "4a80b261",
   "metadata": {},
   "outputs": [],
   "source": [
    "if drone.detect_obstacle():\n",
    "    print(\"Obstacle ahead! Moving back.\")\n",
    "    drone.backward(0.2, 0.2)"
   ]
  },
  {
   "cell_type": "markdown",
   "id": "dd06a537",
   "metadata": {},
   "source": [
    "##  Exercise 1: Take off and check height\n",
    "Take off and then **use `if` to check if the height is over 0.2 meters**.\n",
    "If it is, print `High enough!`"
   ]
  },
  {
   "cell_type": "code",
   "execution_count": null,
   "id": "0ba498b0",
   "metadata": {},
   "outputs": [],
   "source": [
    "# Your code here:\n"
   ]
  },
  {
   "cell_type": "markdown",
   "id": "520a79cb",
   "metadata": {},
   "source": [
    "##  Exercise 2: Check left distance\n",
    "Use `get_distances()` to check the **left side**.\n",
    "If it is more than 0.5 meters, move left 0.2 meters."
   ]
  },
  {
   "cell_type": "code",
   "execution_count": null,
   "id": "c4d9cbab",
   "metadata": {},
   "outputs": [],
   "source": [
    "# Your code here:\n"
   ]
  },
  {
   "cell_type": "markdown",
   "id": "fdc1702e",
   "metadata": {},
   "source": [
    "##  Exercise 3: Move to open space\n",
    "Check both the left and right distances.\n",
    "- If left is greater, move left.\n",
    "- If right is greater, move right."
   ]
  },
  {
   "cell_type": "code",
   "execution_count": null,
   "id": "197eae64",
   "metadata": {},
   "outputs": [],
   "source": [
    "# Your code here:\n"
   ]
  },
  {
   "cell_type": "markdown",
   "id": "5918184d",
   "metadata": {},
   "source": [
    "##  Exercise 4: Use `else`\n",
    "Try using `else` to make the drone do something **if the condition is false**.\n",
    "Example: If front is blocked, turn. Else, move forward."
   ]
  },
  {
   "cell_type": "code",
   "execution_count": null,
   "id": "1ee66cb6",
   "metadata": {},
   "outputs": [],
   "source": [
    "# Your code here:\n"
   ]
  },
  {
   "cell_type": "markdown",
   "id": "fd4cd856",
   "metadata": {},
   "source": [
    "##  Challenge: Escape logic\n",
    "Write if/else code to help the drone:\n",
    "- Check if it\u2019s too close on all sides\n",
    "- If so, print `I'm trapped!`\n",
    "- Else, move in any safe direction."
   ]
  },
  {
   "cell_type": "code",
   "execution_count": null,
   "id": "4610fd67",
   "metadata": {},
   "outputs": [],
   "source": [
    "# Your code here:\n"
   ]
  }
 ],
 "metadata": {},
 "nbformat": 4,
 "nbformat_minor": 5
}