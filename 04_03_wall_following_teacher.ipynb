{
 "cells": [
  {
   "cell_type": "markdown",
   "id": "d102abf5",
   "metadata": {},
   "source": [
    "# 🧱 Wall Following with MultiRanger\n",
    "This notebook will teach you how to write a basic wall-following program using the Crazyflie drone and MultiRanger sensor data.\n",
    "\n",
    "Wall following is a foundational technique in autonomous navigation. We'll focus on staying near a wall (like the right wall) while avoiding collisions."
   ]
  },
  {
   "cell_type": "code",
   "execution_count": null,
   "id": "b94be58a",
   "metadata": {},
   "outputs": [],
   "source": [
    "# ✅ Setup\n",
    "import time\n",
    "from crazyflie_sim import CrazyflieSimulator\n",
    "\n",
    "drone = CrazyflieSimulator(real=False)"
   ]
  },
  {
   "cell_type": "markdown",
   "id": "080bc2b1",
   "metadata": {},
   "source": [
    "## 🚀 Takeoff"
   ]
  },
  {
   "cell_type": "code",
   "execution_count": null,
   "id": "c76ea250",
   "metadata": {},
   "outputs": [],
   "source": [
    "drone.takeoff(1.0, 0.3)\n",
    "time.sleep(2)"
   ]
  },
  {
   "cell_type": "markdown",
   "id": "47918d86",
   "metadata": {},
   "source": [
    "## 🧠 Wall Following Logic (Right Wall Example)\n",
    "**Goal:** Maintain distance of ~0.5m from the right wall\n",
    "\n",
    "- If too far from the right wall → rotate right slightly\n",
    "- If too close → rotate left slightly\n",
    "- Always move forward slightly to continue path"
   ]
  },
  {
   "cell_type": "code",
   "execution_count": null,
   "id": "077f713e",
   "metadata": {},
   "outputs": [],
   "source": [
    "# Run wall-following loop for 10 steps\n",
    "for _ in range(10):\n",
    "    distances = drone.get_distances()\n",
    "    right_dist = distances['right']\n",
    "\n",
    "    if right_dist > 0.6:\n",
    "        print(\"Too far from wall – adjusting right\")\n",
    "        drone.rotate(-10, 0.5)\n",
    "    elif right_dist < 0.4:\n",
    "        print(\"Too close to wall – adjusting left\")\n",
    "        drone.rotate(10, 0.5)\n",
    "    else:\n",
    "        print(\"Maintaining distance\")\n",
    "\n",
    "    drone.forward(0.1, 0.2)\n",
    "    time.sleep(1)"
   ]
  },
  {
   "cell_type": "markdown",
   "id": "fe6d3944",
   "metadata": {},
   "source": [
    "## 🧪 Exercise 1: Switch to left-wall following"
   ]
  },
  {
   "cell_type": "code",
   "execution_count": null,
   "id": "a34539e8",
   "metadata": {},
   "outputs": [],
   "source": [
    "# for _ in range(10):\n",
    "#     distances = drone.get_distances()\n",
    "#     left_dist = distances['left']\n",
    "#     if left_dist > 0.6:\n",
    "#         drone.rotate( , )  # turn left\n",
    "#     elif left_dist < 0.4:\n",
    "#         drone.rotate( , )  # turn right\n",
    "#     drone.forward( , )\n",
    "#     time.sleep( )"
   ]
  },
  {
   "cell_type": "markdown",
   "id": "62361013",
   "metadata": {},
   "source": [
    "## 🧪 Exercise 2: Stop if there's a wall ahead closer than 0.5m"
   ]
  },
  {
   "cell_type": "code",
   "execution_count": null,
   "id": "1a86cb3e",
   "metadata": {},
   "outputs": [],
   "source": [
    "# for _ in range(20):\n",
    "#     d = drone.get_distances()\n",
    "#     if d['front'] < 0.5:\n",
    "#         print(\"Wall ahead! Stopping.\")\n",
    "#         break\n",
    "#     # Adjust to right wall as needed...\n",
    "#     drone.forward( , )\n",
    "#     time.sleep( )"
   ]
  },
  {
   "cell_type": "markdown",
   "id": "a471c2ff",
   "metadata": {},
   "source": [
    "## 🛬 Land and Close"
   ]
  },
  {
   "cell_type": "code",
   "execution_count": null,
   "id": "995d6e34",
   "metadata": {},
   "outputs": [],
   "source": [
    "drone.land(0.3)\n",
    "drone.close()"
   ]
  }
 ],
 "metadata": {},
 "nbformat": 4,
 "nbformat_minor": 5
}
