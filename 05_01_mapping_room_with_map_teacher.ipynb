{
 "cells": [
  {
   "cell_type": "markdown",
   "id": "b5e188a2",
   "metadata": {},
   "source": [
    "# 🗺️ Mapping a Room with Crazyflie\n",
    "In this lesson, you'll learn how to use the Crazyflie and its MultiRanger sensors to create a basic 2D map of the environment.\n",
    "We'll collect sensor data while the drone moves, and store it in a data structure for visualization later."
   ]
  },
  {
   "cell_type": "code",
   "execution_count": null,
   "id": "744c2001",
   "metadata": {},
   "outputs": [],
   "source": [
    "# ✅ Setup for Real Crazyflie\n",
    "import time\n",
    "import pandas as pd\n",
    "from crazyflie_sim import CrazyflieSimulator\n",
    "\n",
    "drone = CrazyflieSimulator(real=True)"
   ]
  },
  {
   "cell_type": "markdown",
   "id": "62b7e498",
   "metadata": {},
   "source": [
    "## 🚀 Step 1: Take Off"
   ]
  },
  {
   "cell_type": "code",
   "execution_count": null,
   "id": "f37d5251",
   "metadata": {},
   "outputs": [],
   "source": [
    "drone.takeoff(1.0, 0.3)\n",
    "time.sleep(2)"
   ]
  },
  {
   "cell_type": "markdown",
   "id": "ced5c3da",
   "metadata": {},
   "source": [
    "## 📡 Step 2: Initialize Mapping Variables\n",
    "We'll log the drone's position and sensor values over time into a list."
   ]
  },
  {
   "cell_type": "code",
   "execution_count": null,
   "id": "3045007f",
   "metadata": {},
   "outputs": [],
   "source": [
    "# List to store mapping data\n",
    "room_map = []"
   ]
  },
  {
   "cell_type": "markdown",
   "id": "0fe87d0e",
   "metadata": {},
   "source": [
    "## 🔁 Step 3: Move the Drone and Log Sensor Data\n",
    "We'll move in a simple pattern (e.g., forward & rotate), collecting sensor values at each step."
   ]
  },
  {
   "cell_type": "code",
   "execution_count": null,
   "id": "d9ca26b0",
   "metadata": {},
   "outputs": [],
   "source": [
    "# Perform a mapping pass\n",
    "for _ in range(10):\n",
    "    data = drone.get_distances()\n",
    "    position = drone.get_position()\n",
    "    yaw = drone.get_yaw()\n",
    "\n",
    "    room_map.append({\n",
    "        'x': position[0],\n",
    "        'y': position[1],\n",
    "        'yaw': yaw,\n",
    "        **data\n",
    "    })\n",
    "\n",
    "    drone.forward(0.2, 0.2)\n",
    "    time.sleep(1)\n",
    "    drone.rotate(30, 0.5)\n",
    "    time.sleep(1)"
   ]
  },
  {
   "cell_type": "markdown",
   "id": "989e6a3b",
   "metadata": {},
   "source": [
    "## 📊 Step 4: View the Collected Data"
   ]
  },
  {
   "cell_type": "code",
   "execution_count": null,
   "id": "004b9bd4",
   "metadata": {},
   "outputs": [],
   "source": [
    "df = pd.DataFrame(room_map)\n",
    "df.head()"
   ]
  },
  {
   "cell_type": "markdown",
   "id": "6288c427",
   "metadata": {},
   "source": [
    "## 🧪 Exercise 1: Modify the flight path to better cover the room"
   ]
  },
  {
   "cell_type": "code",
   "execution_count": null,
   "id": "a4cf1a31",
   "metadata": {},
   "outputs": [],
   "source": [
    "# Try zig-zag or spiral paths to map more area\n",
    "# Use combinations of forward/left/right/rotate\n",
    "# Append position + sensor data to room_map again"
   ]
  },
  {
   "cell_type": "markdown",
   "id": "7fb3520c",
   "metadata": {},
   "source": [
    "## 🧪 Exercise 2: Add a condition to stop mapping if an object is < 0.3m in front"
   ]
  },
  {
   "cell_type": "code",
   "execution_count": null,
   "id": "f1b1fd7c",
   "metadata": {},
   "outputs": [],
   "source": [
    "# if drone.get_distances()['front'] < 0.3:\n",
    "#     print(\"Wall too close! Stopping map.\")\n",
    "#     break"
   ]
  },
  {
   "cell_type": "markdown",
   "id": "71230d02",
   "metadata": {},
   "source": [
    "## 🛬 Step 5: Land and Close"
   ]
  },
  {
   "cell_type": "code",
   "execution_count": null,
   "id": "cf6811b6",
   "metadata": {},
   "outputs": [],
   "source": [
    "drone.land(0.3)\n",
    "drone.close()"
   ]
  },
  {
   "cell_type": "markdown",
   "id": "7456c0ef",
   "metadata": {},
   "source": [
    "## 🗺️ Step 6: Visualize the Room Map\n",
    "We’ll use the drone’s position, yaw, and front/left/right/back distances to draw rays (lines) to represent wall detections around the room."
   ]
  },
  {
   "cell_type": "code",
   "execution_count": null,
   "id": "4568090f",
   "metadata": {},
   "outputs": [],
   "source": [
    "import math\n",
    "import matplotlib.pyplot as plt\n",
    "\n",
    "fig, ax = plt.subplots(figsize=(6, 6))\n",
    "ax.set_title(\"Mapped Room View (Top Down)\")\n",
    "ax.set_xlabel(\"X (m)\")\n",
    "ax.set_ylabel(\"Y (m)\")\n",
    "\n",
    "# Draw each sensor ray\n",
    "for point in room_map:\n",
    "    x, y, yaw = point['x'], point['y'], math.radians(point['yaw'])\n",
    "\n",
    "    for direction, angle_offset in [('front', 0), ('left', math.pi/2), ('right', -math.pi/2), ('back', math.pi)]:\n",
    "        dist = point[direction]\n",
    "        if isinstance(dist, (float, int)) and dist < 2.0:\n",
    "            angle = yaw + angle_offset\n",
    "            end_x = x + dist * math.cos(angle)\n",
    "            end_y = y + dist * math.sin(angle)\n",
    "            ax.plot([x, end_x], [y, end_y], color='red', alpha=0.3)\n",
    "\n",
    "# Draw drone path\n",
    "xs = [p['x'] for p in room_map]\n",
    "ys = [p['y'] for p in room_map]\n",
    "ax.plot(xs, ys, 'bo-', label='Drone Path')\n",
    "ax.legend()\n",
    "ax.grid(True)\n",
    "ax.axis('equal')\n",
    "plt.show()"
   ]
  }
 ],
 "metadata": {},
 "nbformat": 4,
 "nbformat_minor": 5
}
