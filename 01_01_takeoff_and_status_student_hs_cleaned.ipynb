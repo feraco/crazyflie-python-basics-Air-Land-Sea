{
 "cells": [
  {
   "cell_type": "markdown",
   "id": "af7b3248",
   "metadata": {},
   "source": [
    "#  Takeoff and Drone Status – Student Version\n",
    "In this notebook, you will learn how to take off with the drone and retrieve important information like position, height, yaw, and more.\n",
    "We'll walk you through each step, and you'll fill in the code yourself!"
   ]
  },
  {
   "cell_type": "markdown",
   "id": "ae84ba0e",
   "metadata": {},
   "source": [
    "##  Crazyflie Command Reference Table\n",
    "| Command             | Description                                | Parameters (units/type)             |\n",
    "|---------------------|--------------------------------------------|-------------------------------------|\n",
    "| `takeoff()`         | Drone takes off and hovers                 | height (m/float), speed (m/s/float) |\n",
    "| `land()`            | Drone lands gently                         | speed (m/s/float)                   |\n",
    "| `get_position()`    | Get X and Y position                       | None                                |\n",
    "| `get_height()`      | Get current height                         | None                                |\n",
    "| `get_yaw()`         | Get rotation angle (yaw)                   | None                                |\n",
    "| `get_velocity()`    | Get current velocity                       | None                                |\n",
    "| `get_status()`      | Shows if drone is flying or on the ground | None                                |\n",
    "| `get_log()`         | Shows history of commands sent            | None                                |"
   ]
  },
  {
   "cell_type": "code",
   "execution_count": null,
   "id": "fe983ee2",
   "metadata": {},
   "outputs": [],
   "source": [
    "# ✅ Setup the simulator\n",
    "from crazyflie_sim import CrazyflieSimulator\n",
    "drone = CrazyflieSimulator(real=False)"
   ]
  },
  {
   "cell_type": "markdown",
   "id": "c1dd0ae4",
   "metadata": {},
   "source": [
    "##  Example: Takeoff and Get Height\n",
    "This example shows how to take off and print the drone's height."
   ]
  },
  {
   "cell_type": "code",
   "execution_count": null,
   "id": "90db73d0",
   "metadata": {},
   "outputs": [],
   "source": [
    "drone.takeoff(0.3, 0.2)\n",
    "print(\"Height:\", drone.get_height())"
   ]
  },
  {
   "cell_type": "markdown",
   "id": "164420b8",
   "metadata": {},
   "source": [
    "##  Exercise 1: Takeoff and print height\n",
    "Take off to **0.4 meters** at **0.2 m/s**, then print the height."
   ]
  },
  {
   "cell_type": "code",
   "execution_count": null,
   "id": "8fc5169a",
   "metadata": {},
   "outputs": [],
   "source": [
    "# Your code here:\n"
   ]
  },
  {
   "cell_type": "markdown",
   "id": "49293247",
   "metadata": {},
   "source": [
    "##  Exercise 2: Get drone position\n",
    "After takeoff, use a command to print the drone's **position**."
   ]
  },
  {
   "cell_type": "code",
   "execution_count": null,
   "id": "446a6682",
   "metadata": {},
   "outputs": [],
   "source": [
    "# Your code here:\n"
   ]
  },
  {
   "cell_type": "markdown",
   "id": "1790d4cd",
   "metadata": {},
   "source": [
    "##  Exercise 3: Get yaw angle\n",
    "Use the command to print the **yaw angle** (rotation) of the drone."
   ]
  },
  {
   "cell_type": "code",
   "execution_count": null,
   "id": "2f792f69",
   "metadata": {},
   "outputs": [],
   "source": [
    "# Your code here:\n"
   ]
  },
  {
   "cell_type": "markdown",
   "id": "eb9c28af",
   "metadata": {},
   "source": [
    "##  Exercise 4: Check drone velocity\n",
    "Use the command to print the **current velocity** of the drone."
   ]
  },
  {
   "cell_type": "code",
   "execution_count": null,
   "id": "dfe8d68b",
   "metadata": {},
   "outputs": [],
   "source": [
    "# Your code here:\n"
   ]
  },
  {
   "cell_type": "markdown",
   "id": "90a4310d",
   "metadata": {},
   "source": [
    "##  Exercise 5: Drone status\n",
    "Check if the drone is in the air or landed."
   ]
  },
  {
   "cell_type": "code",
   "execution_count": null,
   "id": "c9fc8360",
   "metadata": {},
   "outputs": [],
   "source": [
    "# Your code here:\n"
   ]
  },
  {
   "cell_type": "markdown",
   "id": "97bb28c7",
   "metadata": {},
   "source": [
    "##  Exercise 6: View command log\n",
    "Print the history of all commands the drone has received."
   ]
  },
  {
   "cell_type": "code",
   "execution_count": null,
   "id": "fc56e5a5",
   "metadata": {},
   "outputs": [],
   "source": [
    "# Your code here:\n"
   ]
  },
  {
   "cell_type": "markdown",
   "id": "0db16529",
   "metadata": {},
   "source": [
    "##  Exercise 7: Land\n",
    "Land the drone safely at **0.3 m/s**."
   ]
  },
  {
   "cell_type": "code",
   "execution_count": null,
   "id": "d53b0eeb",
   "metadata": {},
   "outputs": [],
   "source": [
    "# Your code here:\n"
   ]
  }
 ],
 "metadata": {},
 "nbformat": 4,
 "nbformat_minor": 5
}
