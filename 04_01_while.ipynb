{
 "cells": [
  {
   "cell_type": "markdown",
   "id": "91149ffe",
   "metadata": {},
   "source": [
    "\n",
    "# 🚁 Crazyflie Drone Programming with Multi-Ranger Sensors\n",
    "\n",
    "### Introduction\n",
    "\n",
    "In this notebook, we will explore how to control a **Crazyflie drone** using Python. \n",
    "We will also use the **Multi-Ranger sensor** to detect obstacles and stop the drone automatically.\n",
    "\n",
    "### Learning Objectives:\n",
    "- Understand how to **initialize and control** a Crazyflie drone.\n",
    "- Use **Multi-Ranger sensors** to detect obstacles.\n",
    "- Write an **autonomous movement** program.\n",
    "\n",
    "Let's get started! 🚀\n"
   ]
  },
  {
   "cell_type": "markdown",
   "id": "cab9884c",
   "metadata": {},
   "source": [
    "\n",
    "## 📦 Step 1: Install & Import Necessary Libraries\n",
    "\n",
    "We will use:\n",
    "- **crazyflie_controller** – To control the Crazyflie.\n",
    "- **cflib.swarms.multiranger** – For obstacle detection.\n",
    "- **time** – To manage delays.\n",
    "\n",
    "Run the following cell to **import the necessary libraries**.\n"
   ]
  },
  {
   "cell_type": "code",
   "execution_count": null,
   "id": "fb775fd5",
   "metadata": {},
   "outputs": [],
   "source": [
    "\n",
    "import time\n",
    "from crazyflie_controller import CrazyflieController\n",
    "from cflib.swarms.multiranger import Multiranger  # Import Multi-Ranger for obstacle detection\n",
    "\n",
    "print(\"Libraries imported successfully!\")\n"
   ]
  },
  {
   "cell_type": "markdown",
   "id": "1f67ae87",
   "metadata": {},
   "source": [
    "\n",
    "## 🛫 Step 2: Initialize the Drone\n",
    "\n",
    "We need to **initialize the Crazyflie drone** before sending any commands.\n",
    "\n",
    "Run the following cell to **connect to the drone**.\n"
   ]
  },
  {
   "cell_type": "code",
   "execution_count": null,
   "id": "bdc0729c",
   "metadata": {},
   "outputs": [],
   "source": [
    "\n",
    "# Initialize Crazyflie controller\n",
    "drone = CrazyflieController()\n",
    "ranger = Multiranger(drone.scf)  # Initialize Multi-Ranger sensors\n",
    "\n",
    "print(\"Drone initialized successfully!\")\n"
   ]
  },
  {
   "cell_type": "markdown",
   "id": "993b262c",
   "metadata": {},
   "source": [
    "\n",
    "## 🔼 Step 3: Basic Drone Movements\n",
    "\n",
    "Crazyflie can move in multiple directions using the following commands:\n",
    "\n",
    "- `drone.mc.take_off(height)` – Take off to a given height.\n",
    "- `drone.mc.forward(speed)` – Move forward at a set speed.\n",
    "- `drone.mc.stop()` – Stop movement.\n",
    "- `drone.mc.land()` – Land safely.\n",
    "\n",
    "### 🚀 Exercise:\n",
    "Try modifying the height and speed of the takeoff in the next cell.\n"
   ]
  },
  {
   "cell_type": "code",
   "execution_count": null,
   "id": "acda96c8",
   "metadata": {},
   "outputs": [],
   "source": [
    "\n",
    "# Takeoff Example\n",
    "print(\"Taking off!\")\n",
    "drone.mc.take_off(0.5)  # Change the height if needed\n",
    "time.sleep(1)\n"
   ]
  },
  {
   "cell_type": "markdown",
   "id": "0f578a65",
   "metadata": {},
   "source": [
    "\n",
    "## 🚧 Step 4: Obstacle Detection with Multi-Ranger\n",
    "\n",
    "The **Multi-Ranger** can detect obstacles in different directions:\n",
    "- `ranger.front` – Front distance.\n",
    "- `ranger.back` – Back distance.\n",
    "- `ranger.left` – Left distance.\n",
    "- `ranger.right` – Right distance.\n",
    "\n",
    "### 🚀 Exercise:\n",
    "Try printing the sensor values to see what distances are detected.\n"
   ]
  },
  {
   "cell_type": "code",
   "execution_count": null,
   "id": "30daf72c",
   "metadata": {},
   "outputs": [],
   "source": [
    "\n",
    "# Print Multi-Ranger Sensor Readings\n",
    "print(\"Front Sensor Distance:\", ranger.front)\n",
    "print(\"Back Sensor Distance:\", ranger.back)\n",
    "print(\"Left Sensor Distance:\", ranger.left)\n",
    "print(\"Right Sensor Distance:\", ranger.right)\n"
   ]
  },
  {
   "cell_type": "markdown",
   "id": "10cc426f",
   "metadata": {},
   "source": [
    "\n",
    "## 🎯 Step 5: Executing the Drone Mission\n",
    "\n",
    "The drone will:\n",
    "1. **Take off** to 0.5 meters.\n",
    "2. **Move forward** until an obstacle is detected within 30 cm.\n",
    "3. **Stop & Land** when an obstacle is detected.\n",
    "\n",
    "Run the next cell to see it in action! 🚀\n"
   ]
  },
  {
   "cell_type": "code",
   "execution_count": null,
   "id": "f8ec0d3e",
   "metadata": {},
   "outputs": [],
   "source": [
    "\n",
    "try:\n",
    "    print(\"Taking off!\")\n",
    "    drone.mc.take_off(0.5)  # Takeoff to 0.5 meters\n",
    "    time.sleep(1)\n",
    "\n",
    "    # Move forward until an obstacle is detected within 30 cm\n",
    "    while ranger.front > 0.3:\n",
    "        print(\"Moving forward...\")\n",
    "        drone.mc.forward(0.1)  # Move forward in small increments\n",
    "        time.sleep(0.2)\n",
    "\n",
    "    print(\"Obstacle detected! Stopping movement.\")\n",
    "    drone.mc.stop()\n",
    "    \n",
    "    drone.mc.land()  # Land safely\n",
    "    print(\"Mission complete!\")\n",
    "\n",
    "except KeyboardInterrupt:\n",
    "    print(\"Emergency stop activated!\")\n",
    "\n",
    "drone.close()\n"
   ]
  },
  {
   "cell_type": "markdown",
   "id": "561dd3bf",
   "metadata": {},
   "source": [
    "\n",
    "## 🏆 Final Challenge: Modify the Drone Behavior\n",
    "\n",
    "### 🚀 Task:\n",
    "Modify the program to:\n",
    "1. Move **left** when an obstacle is detected **instead of stopping**.\n",
    "2. Keep moving forward if no obstacles are found.\n",
    "\n",
    "Use `drone.mc.left(speed)` to move left.\n",
    "\n",
    "Write your modified code in the next cell. Good luck! 🏆\n"
   ]
  },
  {
   "cell_type": "code",
   "execution_count": null,
   "id": "bf39a2c9",
   "metadata": {},
   "outputs": [],
   "source": [
    "\n",
    "# ✍️ Write your modified drone behavior code here\n"
   ]
  }
 ],
 "metadata": {},
 "nbformat": 4,
 "nbformat_minor": 5
}