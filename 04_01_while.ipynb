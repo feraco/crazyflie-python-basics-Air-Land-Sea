{
 "cells": [
  {
   "cell_type": "markdown",
   "id": "75a230dc",
   "metadata": {},
   "source": [
    "\n",
    "# 🚀 Crazyflie Drone Control with Multiranger Sensor\n",
    "\n",
    "This Jupyter Notebook will guide you through controlling a **Crazyflie drone** using Python.  \n",
    "It includes **Multiranger obstacle detection**, allowing the drone to navigate safely.\n",
    "\n",
    "### **📝 Learning Goals**\n",
    "- Understand how to control a **Crazyflie drone** using Python.\n",
    "- Learn how to use **Multiranger sensors** to detect obstacles.\n",
    "- Implement basic flight maneuvers and obstacle avoidance.\n",
    "\n",
    "### **🔧 Setup Instructions**\n",
    "Make sure you have installed `cflib` before running the notebook:\n",
    "```bash\n",
    "pip install cflib\n",
    "```\n",
    "Now, let's start by initializing the drone! 🛸\n"
   ]
  },
  {
   "cell_type": "code",
   "execution_count": null,
   "id": "550dc16f",
   "metadata": {},
   "outputs": [],
   "source": [
    "\n",
    "import time\n",
    "import logging\n",
    "import cflib.crtp\n",
    "from cflib.utils import uri_helper\n",
    "from CrazyflieController_Updated import CrazyflieController  # Import the updated CrazyflieController\n"
   ]
  },
  {
   "cell_type": "markdown",
   "id": "174e2d46",
   "metadata": {},
   "source": [
    "\n",
    "## **1️⃣ Initialize the Crazyflie Drone and Multiranger Sensor**\n",
    "\n",
    "Before we can control the drone, we need to initialize the **CrazyflieController**, which includes setting up the **Multiranger** sensor.\n"
   ]
  },
  {
   "cell_type": "code",
   "execution_count": null,
   "id": "69e3d110",
   "metadata": {},
   "outputs": [],
   "source": [
    "\n",
    "# Initialize Crazyflie controller\n",
    "drone = CrazyflieController()\n",
    "\n",
    "# Start logging sensor data\n",
    "print(\"✅ Drone and Multiranger initialized!\")\n"
   ]
  },
  {
   "cell_type": "markdown",
   "id": "a2dc43d4",
   "metadata": {},
   "source": [
    "\n",
    "## **2️⃣ Debugging: Check Multiranger Sensor Readings**\n",
    "\n",
    "Before we move the drone, let's print **sensor values** to ensure they are being received correctly.\n"
   ]
  },
  {
   "cell_type": "code",
   "execution_count": null,
   "id": "a5c260ee",
   "metadata": {},
   "outputs": [],
   "source": [
    "\n",
    "# Print sensor readings for 10 iterations\n",
    "for _ in range(10):\n",
    "    distances = drone.get_distances()\n",
    "    print(f\"Front: {distances['front']}, Back: {distances['back']}, Left: {distances['left']}, Right: {distances['right']}, Up: {distances['up']}\")\n",
    "    time.sleep(0.5)\n",
    "    \n",
    "print(\"✅ Sensor readings received!\")\n"
   ]
  },
  {
   "cell_type": "markdown",
   "id": "4e981c01",
   "metadata": {},
   "source": [
    "\n",
    "## **3️⃣ Flight Logic: Move Forward Until an Obstacle is Detected**\n",
    "\n",
    "The drone will **move forward** until an **obstacle** is detected within **30 cm**, then stop.\n"
   ]
  },
  {
   "cell_type": "code",
   "execution_count": null,
   "id": "675e52ec",
   "metadata": {},
   "outputs": [],
   "source": [
    "\n",
    "try:\n",
    "    print(\"🚀 Taking off!\")\n",
    "    drone.take_off(0.5)  # Takeoff to 0.5 meters\n",
    "\n",
    "    # Move forward until an obstacle is detected within 30 cm\n",
    "    while drone.get_distances()['front'] is None or drone.get_distances()['front'] > 0.3:\n",
    "        print(\"Moving forward...\")\n",
    "        drone.mc.forward(0.1)  # Move forward in small increments\n",
    "        time.sleep(0.2)\n",
    "\n",
    "    print(\"🛑 Obstacle detected! Stopping movement.\")\n",
    "    drone.mc.stop()\n",
    "\n",
    "    drone.land()  # Land safely\n",
    "    print(\"✅ Mission complete!\")\n",
    "\n",
    "except KeyboardInterrupt:\n",
    "    print(\"⛔ Emergency stop activated!\")\n",
    "\n",
    "# Stop logging and close the connection\n",
    "drone.close()\n"
   ]
  },
  {
   "cell_type": "markdown",
   "id": "fd22fd6f",
   "metadata": {},
   "source": [
    "\n",
    "## **💡 Student Exercise: Modify the Flight Path**\n",
    "\n",
    "Now that you have a working script, try modifying the flight path:\n",
    "1. Instead of stopping, make the drone **turn left** and continue moving.\n",
    "2. Increase the **takeoff height** to **1 meter**.\n",
    "3. Modify the script to make the drone **fly in a square pattern**.\n"
   ]
  }
 ],
 "metadata": {
  "kernelspec": {
   "display_name": "Python 3",
   "language": "python",
   "name": "python3"
  }
 },
 "nbformat": 4,
 "nbformat_minor": 5
}
