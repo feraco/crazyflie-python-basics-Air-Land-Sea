{
 "cells": [
  {
   "cell_type": "markdown",
   "metadata": {},
   "source": [
    "<small>\n",
    "Part of the InnovatED STEM and DroneBlocks Land, Air, and Sea Robotics Curriculum  \n",
    "Licensed for educational use in schools only.  \n",
    "Redistribution, commercial use, or resale is strictly prohibited.  \n",
    "\u00a9 2025 InnovatED STEM & DroneBlocks. All rights reserved.\n",
    "</small>"
   ]
  },
  {
   "cell_type": "markdown",
   "metadata": {},
   "source": [
    "#  Crazyflie Demo in Jupyter Notebook\n",
    "This notebook allows you to test the **Crazyflie Simulator** and run real drone flight sequences.\n",
    "## Instructions:\n",
    "1. **Set `USE_REAL_CRAZYFLIE = False`** to run the **simulator only** (no real flight).\n",
    "2. **Set `USE_REAL_CRAZYFLIE = True`** to fly a **real Crazyflie drone**.\n",
    "3. Run each cell step by step for **better control** over execution.\n"
   ]
  },
  {
   "cell_type": "code",
   "execution_count": null,
   "metadata": {
    "collapsed": false
   },
   "outputs": [],
   "source": [
    "# Import necessary modules\n",
    "import time\n",
    "from crazyflie_sim import CrazyflieSimulator  # Ensure this file is in the same directory or accessible\n"
   ]
  },
  {
   "cell_type": "code",
   "execution_count": null,
   "metadata": {
    "collapsed": false
   },
   "outputs": [],
   "source": [
    "# \ud83d\udd27 Set mode: False for simulation, True for real Crazyflie\n",
    "USE_REAL_CRAZYFLIE = False  # Change to True to fly the real drone\n",
    "\n",
    "# Initialize Crazyflie Simulator (or real Crazyflie)\n",
    "drone = CrazyflieSimulator(real=USE_REAL_CRAZYFLIE)\n",
    "print(\"\\n\ud83d\ude80 Crazyflie Demo Initialized\")"
   ]
  },
  {
   "cell_type": "code",
   "execution_count": null,
   "metadata": {},
   "outputs": [],
   "source": [
    "# \u2708 Takeoff\n",
    "drone.takeoff()\n",
    "time.sleep(2)  # Wait for takeoff"
   ]
  },
  {
   "cell_type": "code",
   "execution_count": null,
   "metadata": {},
   "outputs": [],
   "source": [
    "# \ud83d\udd3c Move Forward\n",
    "drone.forward(1.0)  # Move forward 1 meter\n",
    "time.sleep(2)"
   ]
  },
  {
   "cell_type": "code",
   "execution_count": null,
   "metadata": {},
   "outputs": [],
   "source": [
    "# \u27a1 Move Right\n",
    "drone.right(0.5)  # Move right 0.5 meters\n",
    "time.sleep(2)"
   ]
  },
  {
   "cell_type": "code",
   "execution_count": null,
   "metadata": {},
   "outputs": [],
   "source": [
    "# \ud83d\udd3c Ascend\n",
    "drone.up(0.3)  # Move up 0.3 meters\n",
    "time.sleep(2)"
   ]
  },
  {
   "cell_type": "code",
   "execution_count": null,
   "metadata": {},
   "outputs": [],
   "source": [
    "# \u21bb Rotate 90 Degrees\n",
    "drone.rotate(90, 1.0)  # Rotate 90 degrees\n",
    "time.sleep(2)"
   ]
  },
  {
   "cell_type": "code",
   "execution_count": null,
   "metadata": {},
   "outputs": [],
   "source": [
    "# \ud83d\udd3d Move Backward\n",
    "drone.backward(1.0)  # Move backward 1 meter\n",
    "time.sleep(2)"
   ]
  },
  {
   "cell_type": "code",
   "execution_count": null,
   "metadata": {},
   "outputs": [],
   "source": [
    "# \u2b05 Move Left\n",
    "drone.left(0.5)  # Move left 0.5 meters\n",
    "time.sleep(2)"
   ]
  },
  {
   "cell_type": "code",
   "execution_count": null,
   "metadata": {},
   "outputs": [],
   "source": [
    "# \ud83d\udd3d Descend\n",
    "drone.down(0.3)  # Move down 0.3 meters\n",
    "time.sleep(2)"
   ]
  },
  {
   "cell_type": "code",
   "execution_count": null,
   "metadata": {},
   "outputs": [],
   "source": [
    "# \ud83d\udeec Land\n",
    "drone.land()\n",
    "print(\"\\n\u2705 Crazyflie Demo Complete!\")"
   ]
  }
 ],
 "metadata": {
  "kernelspec": {
   "display_name": "Python 3",
   "language": "python",
   "name": "python3"
  },
  "language_info": {
   "codemirror_mode": {
    "name": "ipython",
    "version": 3
   },
   "file_extension": ".py",
   "mimetype": "text/x-python",
   "name": "python",
   "nbconvert_exporter": "python",
   "pygments_lexer": "ipython3",
   "version": "3.8"
  }
 },
 "nbformat": 4,
 "nbformat_minor": 4
}