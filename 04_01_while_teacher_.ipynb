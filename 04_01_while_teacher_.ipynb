{
 "cells": [
  {
   "cell_type": "markdown",
   "metadata": {},
   "source": [
    "<small>\n",
    "Part of the InnovatED STEM and DroneBlocks Land, Air, and Sea Robotics Curriculum  \n",
    "Licensed for educational use in schools only.  \n",
    "Redistribution, commercial use, or resale is strictly prohibited.  \n",
    "\u00a9 2025 InnovatED STEM & DroneBlocks. All rights reserved.\n",
    "</small>"
   ]
  },
  {
   "cell_type": "markdown",
   "id": "7668ceed",
   "metadata": {},
   "source": [
    "#  Flying with `while` Loops + MultiRanger Obstacle Sensing\n",
    "This notebook shows how to use `while` loops to repeatedly check flight conditions and make decisions based on MultiRanger sensor data.\n",
    "The `CrazyflieSimulator` now simulates realistic sensor values, just like a real drone."
   ]
  },
  {
   "cell_type": "code",
   "execution_count": null,
   "id": "286710a5",
   "metadata": {},
   "outputs": [],
   "source": [
    "# \u2705 Setup\n",
    "import time\n",
    "from crazyflie_sim import CrazyflieSimulator\n",
    "\n",
    "drone = CrazyflieSimulator(real=False)"
   ]
  },
  {
   "cell_type": "markdown",
   "id": "4b9efbe2",
   "metadata": {},
   "source": [
    "##  Takeoff First"
   ]
  },
  {
   "cell_type": "code",
   "execution_count": null,
   "id": "54fbf02d",
   "metadata": {},
   "outputs": [],
   "source": [
    "drone.takeoff(1.0, 0.3)\n",
    "time.sleep(2)"
   ]
  },
  {
   "cell_type": "markdown",
   "id": "e12f0cf8",
   "metadata": {},
   "source": [
    "##  Example 1: Hover until height is above 0.8m"
   ]
  },
  {
   "cell_type": "code",
   "execution_count": null,
   "id": "74f7cf4d",
   "metadata": {},
   "outputs": [],
   "source": [
    "while drone.get_height() < 0.8:\n",
    "    print(\"\u23f3 Waiting to reach 0.8m...\")\n",
    "    time.sleep(0.5)\n",
    "print(\"\u2705 Altitude reached!\")"
   ]
  },
  {
   "cell_type": "markdown",
   "id": "0022429f",
   "metadata": {},
   "source": [
    "##  Example 2: Move forward until X position > 1.0"
   ]
  },
  {
   "cell_type": "code",
   "execution_count": null,
   "id": "b1b69e24",
   "metadata": {},
   "outputs": [],
   "source": [
    "while drone.get_position()[0] < 1.0:\n",
    "    drone.forward(0.1, 0.2)\n",
    "    time.sleep(1)\n",
    "print(\"\ud83d\uded1 Stopping forward motion.\")"
   ]
  },
  {
   "cell_type": "markdown",
   "id": "ad71ccf9",
   "metadata": {},
   "source": [
    "##  Example 3: Rotate until yaw < 90\u00b0"
   ]
  },
  {
   "cell_type": "code",
   "execution_count": null,
   "id": "629bb6cd",
   "metadata": {},
   "outputs": [],
   "source": [
    "while drone.get_yaw() > 90:\n",
    "    drone.rotate(-10, 0.5)\n",
    "    time.sleep(0.5)\n",
    "print(\"\u2705 Yaw aligned!\")"
   ]
  },
  {
   "cell_type": "markdown",
   "id": "40b2f701",
   "metadata": {},
   "source": [
    "##  MultiRanger Example: Move forward until obstacle < 0.5m"
   ]
  },
  {
   "cell_type": "code",
   "execution_count": null,
   "id": "29915f84",
   "metadata": {},
   "outputs": [],
   "source": [
    "while drone.get_distances()['front'] > 0.5:\n",
    "    print(\"Path clear. Moving forward...\")\n",
    "    drone.forward(0.1, 0.2)\n",
    "    time.sleep(0.5)\n",
    "print(\"\ud83d\uded1 Obstacle too close. Stopping.\")"
   ]
  },
  {
   "cell_type": "markdown",
   "id": "36f06658",
   "metadata": {},
   "source": [
    "##  Exercise 1: Fly upward until height is at least 1.5m"
   ]
  },
  {
   "cell_type": "code",
   "execution_count": null,
   "id": "32a4b322",
   "metadata": {},
   "outputs": [],
   "source": [
    "# while drone.get_height() < :\n",
    "#     drone.up( , )\n",
    "#     time.sleep( )"
   ]
  },
  {
   "cell_type": "markdown",
   "id": "a2bd73f8",
   "metadata": {},
   "source": [
    "##  Exercise 2: Hover until yaw < 45"
   ]
  },
  {
   "cell_type": "code",
   "execution_count": null,
   "id": "b0bad57d",
   "metadata": {},
   "outputs": [],
   "source": [
    "# while drone.get_yaw() > :\n",
    "#     drone.rotate( , )\n",
    "#     time.sleep( )"
   ]
  },
  {
   "cell_type": "markdown",
   "id": "6968b801",
   "metadata": {},
   "source": [
    "##  Exercise 3: Zig-zag left/right until X > 1.2"
   ]
  },
  {
   "cell_type": "code",
   "execution_count": null,
   "id": "b68baada",
   "metadata": {},
   "outputs": [],
   "source": [
    "# while drone.get_position()[0] < :\n",
    "#     drone.left( , )\n",
    "#     time.sleep( )\n",
    "#     drone.right( , )\n",
    "#     time.sleep( )"
   ]
  },
  {
   "cell_type": "markdown",
   "id": "9bb947d6",
   "metadata": {},
   "source": [
    "##  Exercise 4: Rotate until yaw is between 80 and 100"
   ]
  },
  {
   "cell_type": "code",
   "execution_count": null,
   "id": "55b59ebb",
   "metadata": {},
   "outputs": [],
   "source": [
    "# while not (80 <= drone.get_yaw() <= 100):\n",
    "#     drone.rotate( , )\n",
    "#     time.sleep( )"
   ]
  },
  {
   "cell_type": "markdown",
   "id": "be9ff75a",
   "metadata": {},
   "source": [
    "##  Exercise 5: Move up until 'up' sensor sees obstacle < 0.4m"
   ]
  },
  {
   "cell_type": "code",
   "execution_count": null,
   "id": "45514a77",
   "metadata": {},
   "outputs": [],
   "source": [
    "# while drone.get_distances()['up'] > :\n",
    "#     drone.up( , )\n",
    "#     time.sleep( )"
   ]
  },
  {
   "cell_type": "markdown",
   "id": "204bf665",
   "metadata": {},
   "source": [
    "##  Exercise 6: Back up until object behind is closer than 0.3m"
   ]
  },
  {
   "cell_type": "code",
   "execution_count": null,
   "id": "36935bf5",
   "metadata": {},
   "outputs": [],
   "source": [
    "# while drone.get_distances()['back'] > :\n",
    "#     drone.backward( , )\n",
    "#     time.sleep( )"
   ]
  },
  {
   "cell_type": "markdown",
   "id": "4d7524e1",
   "metadata": {},
   "source": [
    "##  Land and Close"
   ]
  },
  {
   "cell_type": "code",
   "execution_count": null,
   "id": "5e08894b",
   "metadata": {},
   "outputs": [],
   "source": [
    "drone.land(0.3)\n",
    "drone.close()"
   ]
  }
 ],
 "metadata": {},
 "nbformat": 4,
 "nbformat_minor": 5
}