{
 "cells": [
  {
   "cell_type": "markdown",
   "metadata": {},
   "source": [
    "<small>\n",
    "Part of the InnovatED STEM and DroneBlocks Land, Air, and Sea Robotics Curriculum  \n",
    "Licensed for educational use in schools only.  \n",
    "Redistribution, commercial use, or resale is strictly prohibited.  \n",
    "\u00a9 2025 InnovatED STEM & DroneBlocks. All rights reserved.\n",
    "</small>"
   ]
  },
  {
   "cell_type": "markdown",
   "id": "96dd55c5",
   "metadata": {},
   "source": [
    "#  Circle Maneuvers with CrazyflieSimulator\n",
    "In this notebook, you'll learn how to fly your simulated or real Crazyflie in circular paths using `circle_left()` and `circle_right()`."
   ]
  },
  {
   "cell_type": "code",
   "execution_count": 1,
   "id": "1fe001f7",
   "metadata": {},
   "outputs": [],
   "source": [
    "# \u2705 Imports and Setup\n",
    "import time\n",
    "from crazyflie_sim import CrazyflieSimulator\n",
    "\n",
    "# Use simulation mode unless you're connected to a real drone\n",
    "drone = CrazyflieSimulator(real=False)"
   ]
  },
  {
   "cell_type": "markdown",
   "id": "ee10d017",
   "metadata": {},
   "source": [
    "##  Takeoff\n",
    "Always take off before running any motion command.\n",
    "\n",
    "`takeoff(height, velocity)`\n",
    "- `height` in meters\n",
    "- `velocity` in meters/second"
   ]
  },
  {
   "cell_type": "code",
   "execution_count": null,
   "id": "37ffcb1c",
   "metadata": {},
   "outputs": [
    {
     "name": "stdout",
     "output_type": "stream",
     "text": [
      "\ud83d\ude80 Taking off to 2.0m at 0.4m/s!\n",
      "Executing command: takeoff 2.0 0.4\n"
     ]
    },
    {
     "data": {
      "application/vnd.plotly.v1+json": {
       "config": {
        "plotlyServerURL": "https://plot.ly"
       },
       "data": [
        {
         "line": {
          "color": "blue",
          "width": 4
         },
         "marker": {
          "size": 4
         },
         "mode": "lines+markers",
         "name": "Drone Path",
         "type": "scatter3d",
         "x": {
          "bdata": "AA==",
          "dtype": "i1"
         },
         "y": {
          "bdata": "AA==",
          "dtype": "i1"
         },
         "z": [
          2
         ]
        },
        {
         "marker": {
          "color": "red",
          "size": 10,
          "symbol": "diamond"
         },
         "mode": "markers",
         "name": "Current Position",
         "type": "scatter3d",
         "x": [
          0
         ],
         "y": [
          0
         ],
         "z": [
          2
         ]
        }
       ],
       "layout": {
        "height": 500,
        "legend": {
         "x": 0,
         "y": 1
        },
        "margin": {
         "b": 0,
         "l": 0,
         "r": 0,
         "t": 30
        },
        "scene": {
         "aspectmode": "data",
         "camera": {
          "eye": {
           "x": 1.5,
           "y": 1.5,
           "z": 0.6
          }
         },
         "xaxis": {
          "title": {
           "text": "X (meters)"
          }
         },
         "yaxis": {
          "title": {
           "text": "Y (meters)"
          }
         },
         "zaxis": {
          "title": {
           "text": "Altitude (meters)"
          }
         }
        },
        "template": {
         "data": {
          "bar": [
           {
            "error_x": {
             "color": "#2a3f5f"
            },
            "error_y": {
             "color": "#2a3f5f"
            },
            "marker": {
             "line": {
              "color": "#E5ECF6",
              "width": 0.5
             },
             "pattern": {
              "fillmode": "overlay",
              "size": 10,
              "solidity": 0.2
             }
            },
            "type": "bar"
           }
          ],
          "barpolar": [
           {
            "marker": {
             "line": {
              "color": "#E5ECF6",
              "width": 0.5
             },
             "pattern": {
              "fillmode": "overlay",
              "size": 10,
              "solidity": 0.2
             }
            },
            "type": "barpolar"
           }
          ],
          "carpet": [
           {
            "aaxis": {
             "endlinecolor": "#2a3f5f",
             "gridcolor": "white",
             "linecolor": "white",
             "minorgridcolor": "white",
             "startlinecolor": "#2a3f5f"
            },
            "baxis": {
             "endlinecolor": "#2a3f5f",
             "gridcolor": "white",
             "linecolor": "white",
             "minorgridcolor": "white",
             "startlinecolor": "#2a3f5f"
            },
            "type": "carpet"
           }
          ],
          "choropleth": [
           {
            "colorbar": {
             "outlinewidth": 0,
             "ticks": ""
            },
            "type": "choropleth"
           }
          ],
          "contour": [
           {
            "colorbar": {
             "outlinewidth": 0,
             "ticks": ""
            },
            "colorscale": [
             [
              0,
              "#0d0887"
             ],
             [
              0.1111111111111111,
              "#46039f"
             ],
             [
              0.2222222222222222,
              "#7201a8"
             ],
             [
              0.3333333333333333,
              "#9c179e"
             ],
             [
              0.4444444444444444,
              "#bd3786"
             ],
             [
              0.5555555555555556,
              "#d8576b"
             ],
             [
              0.6666666666666666,
              "#ed7953"
             ],
             [
              0.7777777777777778,
              "#fb9f3a"
             ],
             [
              0.8888888888888888,
              "#fdca26"
             ],
             [
              1,
              "#f0f921"
             ]
            ],
            "type": "contour"
           }
          ],
          "contourcarpet": [
           {
            "colorbar": {
             "outlinewidth": 0,
             "ticks": ""
            },
            "type": "contourcarpet"
           }
          ],
          "heatmap": [
           {
            "colorbar": {
             "outlinewidth": 0,
             "ticks": ""
            },
            "colorscale": [
             [
              0,
              "#0d0887"
             ],
             [
              0.1111111111111111,
              "#46039f"
             ],
             [
              0.2222222222222222,
              "#7201a8"
             ],
             [
              0.3333333333333333,
              "#9c179e"
             ],
             [
              0.4444444444444444,
              "#bd3786"
             ],
             [
              0.5555555555555556,
              "#d8576b"
             ],
             [
              0.6666666666666666,
              "#ed7953"
             ],
             [
              0.7777777777777778,
              "#fb9f3a"
             ],
             [
              0.8888888888888888,
              "#fdca26"
             ],
             [
              1,
              "#f0f921"
             ]
            ],
            "type": "heatmap"
           }
          ],
          "histogram": [
           {
            "marker": {
             "pattern": {
              "fillmode": "overlay",
              "size": 10,
              "solidity": 0.2
             }
            },
            "type": "histogram"
           }
          ],
          "histogram2d": [
           {
            "colorbar": {
             "outlinewidth": 0,
             "ticks": ""
            },
            "colorscale": [
             [
              0,
              "#0d0887"
             ],
             [
              0.1111111111111111,
              "#46039f"
             ],
             [
              0.2222222222222222,
              "#7201a8"
             ],
             [
              0.3333333333333333,
              "#9c179e"
             ],
             [
              0.4444444444444444,
              "#bd3786"
             ],
             [
              0.5555555555555556,
              "#d8576b"
             ],
             [
              0.6666666666666666,
              "#ed7953"
             ],
             [
              0.7777777777777778,
              "#fb9f3a"
             ],
             [
              0.8888888888888888,
              "#fdca26"
             ],
             [
              1,
              "#f0f921"
             ]
            ],
            "type": "histogram2d"
           }
          ],
          "histogram2dcontour": [
           {
            "colorbar": {
             "outlinewidth": 0,
             "ticks": ""
            },
            "colorscale": [
             [
              0,
              "#0d0887"
             ],
             [
              0.1111111111111111,
              "#46039f"
             ],
             [
              0.2222222222222222,
              "#7201a8"
             ],
             [
              0.3333333333333333,
              "#9c179e"
             ],
             [
              0.4444444444444444,
              "#bd3786"
             ],
             [
              0.5555555555555556,
              "#d8576b"
             ],
             [
              0.6666666666666666,
              "#ed7953"
             ],
             [
              0.7777777777777778,
              "#fb9f3a"
             ],
             [
              0.8888888888888888,
              "#fdca26"
             ],
             [
              1,
              "#f0f921"
             ]
            ],
            "type": "histogram2dcontour"
           }
          ],
          "mesh3d": [
           {
            "colorbar": {
             "outlinewidth": 0,
             "ticks": ""
            },
            "type": "mesh3d"
           }
          ],
          "parcoords": [
           {
            "line": {
             "colorbar": {
              "outlinewidth": 0,
              "ticks": ""
             }
            },
            "type": "parcoords"
           }
          ],
          "pie": [
           {
            "automargin": true,
            "type": "pie"
           }
          ],
          "scatter": [
           {
            "fillpattern": {
             "fillmode": "overlay",
             "size": 10,
             "solidity": 0.2
            },
            "type": "scatter"
           }
          ],
          "scatter3d": [
           {
            "line": {
             "colorbar": {
              "outlinewidth": 0,
              "ticks": ""
             }
            },
            "marker": {
             "colorbar": {
              "outlinewidth": 0,
              "ticks": ""
             }
            },
            "type": "scatter3d"
           }
          ],
          "scattercarpet": [
           {
            "marker": {
             "colorbar": {
              "outlinewidth": 0,
              "ticks": ""
             }
            },
            "type": "scattercarpet"
           }
          ],
          "scattergeo": [
           {
            "marker": {
             "colorbar": {
              "outlinewidth": 0,
              "ticks": ""
             }
            },
            "type": "scattergeo"
           }
          ],
          "scattergl": [
           {
            "marker": {
             "colorbar": {
              "outlinewidth": 0,
              "ticks": ""
             }
            },
            "type": "scattergl"
           }
          ],
          "scattermap": [
           {
            "marker": {
             "colorbar": {
              "outlinewidth": 0,
              "ticks": ""
             }
            },
            "type": "scattermap"
           }
          ],
          "scattermapbox": [
           {
            "marker": {
             "colorbar": {
              "outlinewidth": 0,
              "ticks": ""
             }
            },
            "type": "scattermapbox"
           }
          ],
          "scatterpolar": [
           {
            "marker": {
             "colorbar": {
              "outlinewidth": 0,
              "ticks": ""
             }
            },
            "type": "scatterpolar"
           }
          ],
          "scatterpolargl": [
           {
            "marker": {
             "colorbar": {
              "outlinewidth": 0,
              "ticks": ""
             }
            },
            "type": "scatterpolargl"
           }
          ],
          "scatterternary": [
           {
            "marker": {
             "colorbar": {
              "outlinewidth": 0,
              "ticks": ""
             }
            },
            "type": "scatterternary"
           }
          ],
          "surface": [
           {
            "colorbar": {
             "outlinewidth": 0,
             "ticks": ""
            },
            "colorscale": [
             [
              0,
              "#0d0887"
             ],
             [
              0.1111111111111111,
              "#46039f"
             ],
             [
              0.2222222222222222,
              "#7201a8"
             ],
             [
              0.3333333333333333,
              "#9c179e"
             ],
             [
              0.4444444444444444,
              "#bd3786"
             ],
             [
              0.5555555555555556,
              "#d8576b"
             ],
             [
              0.6666666666666666,
              "#ed7953"
             ],
             [
              0.7777777777777778,
              "#fb9f3a"
             ],
             [
              0.8888888888888888,
              "#fdca26"
             ],
             [
              1,
              "#f0f921"
             ]
            ],
            "type": "surface"
           }
          ],
          "table": [
           {
            "cells": {
             "fill": {
              "color": "#EBF0F8"
             },
             "line": {
              "color": "white"
             }
            },
            "header": {
             "fill": {
              "color": "#C8D4E3"
             },
             "line": {
              "color": "white"
             }
            },
            "type": "table"
           }
          ]
         },
         "layout": {
          "annotationdefaults": {
           "arrowcolor": "#2a3f5f",
           "arrowhead": 0,
           "arrowwidth": 1
          },
          "autotypenumbers": "strict",
          "coloraxis": {
           "colorbar": {
            "outlinewidth": 0,
            "ticks": ""
           }
          },
          "colorscale": {
           "diverging": [
            [
             0,
             "#8e0152"
            ],
            [
             0.1,
             "#c51b7d"
            ],
            [
             0.2,
             "#de77ae"
            ],
            [
             0.3,
             "#f1b6da"
            ],
            [
             0.4,
             "#fde0ef"
            ],
            [
             0.5,
             "#f7f7f7"
            ],
            [
             0.6,
             "#e6f5d0"
            ],
            [
             0.7,
             "#b8e186"
            ],
            [
             0.8,
             "#7fbc41"
            ],
            [
             0.9,
             "#4d9221"
            ],
            [
             1,
             "#276419"
            ]
           ],
           "sequential": [
            [
             0,
             "#0d0887"
            ],
            [
             0.1111111111111111,
             "#46039f"
            ],
            [
             0.2222222222222222,
             "#7201a8"
            ],
            [
             0.3333333333333333,
             "#9c179e"
            ],
            [
             0.4444444444444444,
             "#bd3786"
            ],
            [
             0.5555555555555556,
             "#d8576b"
            ],
            [
             0.6666666666666666,
             "#ed7953"
            ],
            [
             0.7777777777777778,
             "#fb9f3a"
            ],
            [
             0.8888888888888888,
             "#fdca26"
            ],
            [
             1,
             "#f0f921"
            ]
           ],
           "sequentialminus": [
            [
             0,
             "#0d0887"
            ],
            [
             0.1111111111111111,
             "#46039f"
            ],
            [
             0.2222222222222222,
             "#7201a8"
            ],
            [
             0.3333333333333333,
             "#9c179e"
            ],
            [
             0.4444444444444444,
             "#bd3786"
            ],
            [
             0.5555555555555556,
             "#d8576b"
            ],
            [
             0.6666666666666666,
             "#ed7953"
            ],
            [
             0.7777777777777778,
             "#fb9f3a"
            ],
            [
             0.8888888888888888,
             "#fdca26"
            ],
            [
             1,
             "#f0f921"
            ]
           ]
          },
          "colorway": [
           "#636efa",
           "#EF553B",
           "#00cc96",
           "#ab63fa",
           "#FFA15A",
           "#19d3f3",
           "#FF6692",
           "#B6E880",
           "#FF97FF",
           "#FECB52"
          ],
          "font": {
           "color": "#2a3f5f"
          },
          "geo": {
           "bgcolor": "white",
           "lakecolor": "white",
           "landcolor": "#E5ECF6",
           "showlakes": true,
           "showland": true,
           "subunitcolor": "white"
          },
          "hoverlabel": {
           "align": "left"
          },
          "hovermode": "closest",
          "mapbox": {
           "style": "light"
          },
          "paper_bgcolor": "white",
          "plot_bgcolor": "#E5ECF6",
          "polar": {
           "angularaxis": {
            "gridcolor": "white",
            "linecolor": "white",
            "ticks": ""
           },
           "bgcolor": "#E5ECF6",
           "radialaxis": {
            "gridcolor": "white",
            "linecolor": "white",
            "ticks": ""
           }
          },
          "scene": {
           "xaxis": {
            "backgroundcolor": "#E5ECF6",
            "gridcolor": "white",
            "gridwidth": 2,
            "linecolor": "white",
            "showbackground": true,
            "ticks": "",
            "zerolinecolor": "white"
           },
           "yaxis": {
            "backgroundcolor": "#E5ECF6",
            "gridcolor": "white",
            "gridwidth": 2,
            "linecolor": "white",
            "showbackground": true,
            "ticks": "",
            "zerolinecolor": "white"
           },
           "zaxis": {
            "backgroundcolor": "#E5ECF6",
            "gridcolor": "white",
            "gridwidth": 2,
            "linecolor": "white",
            "showbackground": true,
            "ticks": "",
            "zerolinecolor": "white"
           }
          },
          "shapedefaults": {
           "line": {
            "color": "#2a3f5f"
           }
          },
          "ternary": {
           "aaxis": {
            "gridcolor": "white",
            "linecolor": "white",
            "ticks": ""
           },
           "baxis": {
            "gridcolor": "white",
            "linecolor": "white",
            "ticks": ""
           },
           "bgcolor": "#E5ECF6",
           "caxis": {
            "gridcolor": "white",
            "linecolor": "white",
            "ticks": ""
           }
          },
          "title": {
           "x": 0.05
          },
          "xaxis": {
           "automargin": true,
           "gridcolor": "white",
           "linecolor": "white",
           "ticks": "",
           "title": {
            "standoff": 15
           },
           "zerolinecolor": "white",
           "zerolinewidth": 2
          },
          "yaxis": {
           "automargin": true,
           "gridcolor": "white",
           "linecolor": "white",
           "ticks": "",
           "title": {
            "standoff": 15
           },
           "zerolinecolor": "white",
           "zerolinewidth": 2
          }
         }
        },
        "title": {
         "text": "Interactive 3D Drone Flight Path"
        },
        "width": 600
       }
      }
     },
     "metadata": {},
     "output_type": "display_data"
    },
    {
     "name": "stdout",
     "output_type": "stream",
     "text": [
      "\u2b55 Executing circle left (optimized)...\n"
     ]
    },
    {
     "data": {
      "application/vnd.plotly.v1+json": {
       "config": {
        "plotlyServerURL": "https://plot.ly"
       },
       "data": [
        {
         "line": {
          "color": "blue",
          "width": 4
         },
         "marker": {
          "size": 4
         },
         "mode": "lines+markers",
         "name": "Drone Path",
         "type": "scatter3d",
         "x": {
          "bdata": "AAAAAAAAAAAAAAAAAAAAAAChFy6Dfng/ULD2GgRAmD+gFwtFFdSqP3TFVR39Src/JfhZIAOnwT9QHalAR3zIPxiZYBSO388/BGKzs7jC0z9f9auY8Y/XPzSiMhqlMNs/ds4e+sx/3j922JGc0a3gPyIWjWN90+E/fW7NozSl4j8l+PQFmxrjP4Mjnl0CL+M/Z5/PbZrh4j9ODT82eTXiP0ZMqHR7MeE/QElQN/2/3z+8O8MT7pzcP8ygHXLNGdk/nerZvHNa1T9d7sb/H4XRPxfT8iLjgcs/PiZFl7FoxD8WJT/1Og68PypNkuuNPLE/ENx1Ro6VoT/gYP0WrHiIPw==",
          "dtype": "f8"
         },
         "y": {
          "bdata": "AAAAAAAAAAAAAAAAAAAAAOH8Fvf+g64/5khnsUbovT85G5NPqa7FP4/+f7bli8s/KG4Fif8n0D92M3aUKOXRP85TKbmu69I/ECggqxox0z+Qc3Hnp7LSP12fSvNgddE/PDUA0tcLzz8dlYTAEvDJP63T862Vy8M/sxPXkCK6uT86M6iDEK2lPx4bWLy67pG/WPXLeiSgs78qscMoJ/7Av/OztczOfse/0iQI16sPzb+BPuMf+LvQv8NL9oNQRdK/1lo4pTAU07+ZizopWSDTv7go7flNadK/TkkJOFv20L+GBjyClazNv9kmtYKaPci/E1PvqjnXwb+zKQdAiHW1vw==",
          "dtype": "f8"
         },
         "z": [
          2,
          2,
          2,
          2,
          2,
          2,
          2,
          2,
          2,
          2,
          2,
          2,
          2,
          2,
          2,
          2,
          2,
          2,
          2,
          2,
          2,
          2,
          2,
          2,
          2,
          2,
          2,
          2,
          2,
          2,
          2,
          2
         ]
        },
        {
         "marker": {
          "color": "red",
          "size": 10,
          "symbol": "diamond"
         },
         "mode": "markers",
         "name": "Current Position",
         "type": "scatter3d",
         "x": [
          0.011948914004890232
         ],
         "y": [
          -0.08382464945967776
         ],
         "z": [
          2
         ]
        }
       ],
       "layout": {
        "height": 500,
        "legend": {
         "x": 0,
         "y": 1
        },
        "margin": {
         "b": 0,
         "l": 0,
         "r": 0,
         "t": 30
        },
        "scene": {
         "aspectmode": "data",
         "camera": {
          "eye": {
           "x": 1.5,
           "y": 1.5,
           "z": 0.6
          }
         },
         "xaxis": {
          "title": {
           "text": "X (meters)"
          }
         },
         "yaxis": {
          "title": {
           "text": "Y (meters)"
          }
         },
         "zaxis": {
          "title": {
           "text": "Altitude (meters)"
          }
         }
        },
        "template": {
         "data": {
          "bar": [
           {
            "error_x": {
             "color": "#2a3f5f"
            },
            "error_y": {
             "color": "#2a3f5f"
            },
            "marker": {
             "line": {
              "color": "#E5ECF6",
              "width": 0.5
             },
             "pattern": {
              "fillmode": "overlay",
              "size": 10,
              "solidity": 0.2
             }
            },
            "type": "bar"
           }
          ],
          "barpolar": [
           {
            "marker": {
             "line": {
              "color": "#E5ECF6",
              "width": 0.5
             },
             "pattern": {
              "fillmode": "overlay",
              "size": 10,
              "solidity": 0.2
             }
            },
            "type": "barpolar"
           }
          ],
          "carpet": [
           {
            "aaxis": {
             "endlinecolor": "#2a3f5f",
             "gridcolor": "white",
             "linecolor": "white",
             "minorgridcolor": "white",
             "startlinecolor": "#2a3f5f"
            },
            "baxis": {
             "endlinecolor": "#2a3f5f",
             "gridcolor": "white",
             "linecolor": "white",
             "minorgridcolor": "white",
             "startlinecolor": "#2a3f5f"
            },
            "type": "carpet"
           }
          ],
          "choropleth": [
           {
            "colorbar": {
             "outlinewidth": 0,
             "ticks": ""
            },
            "type": "choropleth"
           }
          ],
          "contour": [
           {
            "colorbar": {
             "outlinewidth": 0,
             "ticks": ""
            },
            "colorscale": [
             [
              0,
              "#0d0887"
             ],
             [
              0.1111111111111111,
              "#46039f"
             ],
             [
              0.2222222222222222,
              "#7201a8"
             ],
             [
              0.3333333333333333,
              "#9c179e"
             ],
             [
              0.4444444444444444,
              "#bd3786"
             ],
             [
              0.5555555555555556,
              "#d8576b"
             ],
             [
              0.6666666666666666,
              "#ed7953"
             ],
             [
              0.7777777777777778,
              "#fb9f3a"
             ],
             [
              0.8888888888888888,
              "#fdca26"
             ],
             [
              1,
              "#f0f921"
             ]
            ],
            "type": "contour"
           }
          ],
          "contourcarpet": [
           {
            "colorbar": {
             "outlinewidth": 0,
             "ticks": ""
            },
            "type": "contourcarpet"
           }
          ],
          "heatmap": [
           {
            "colorbar": {
             "outlinewidth": 0,
             "ticks": ""
            },
            "colorscale": [
             [
              0,
              "#0d0887"
             ],
             [
              0.1111111111111111,
              "#46039f"
             ],
             [
              0.2222222222222222,
              "#7201a8"
             ],
             [
              0.3333333333333333,
              "#9c179e"
             ],
             [
              0.4444444444444444,
              "#bd3786"
             ],
             [
              0.5555555555555556,
              "#d8576b"
             ],
             [
              0.6666666666666666,
              "#ed7953"
             ],
             [
              0.7777777777777778,
              "#fb9f3a"
             ],
             [
              0.8888888888888888,
              "#fdca26"
             ],
             [
              1,
              "#f0f921"
             ]
            ],
            "type": "heatmap"
           }
          ],
          "histogram": [
           {
            "marker": {
             "pattern": {
              "fillmode": "overlay",
              "size": 10,
              "solidity": 0.2
             }
            },
            "type": "histogram"
           }
          ],
          "histogram2d": [
           {
            "colorbar": {
             "outlinewidth": 0,
             "ticks": ""
            },
            "colorscale": [
             [
              0,
              "#0d0887"
             ],
             [
              0.1111111111111111,
              "#46039f"
             ],
             [
              0.2222222222222222,
              "#7201a8"
             ],
             [
              0.3333333333333333,
              "#9c179e"
             ],
             [
              0.4444444444444444,
              "#bd3786"
             ],
             [
              0.5555555555555556,
              "#d8576b"
             ],
             [
              0.6666666666666666,
              "#ed7953"
             ],
             [
              0.7777777777777778,
              "#fb9f3a"
             ],
             [
              0.8888888888888888,
              "#fdca26"
             ],
             [
              1,
              "#f0f921"
             ]
            ],
            "type": "histogram2d"
           }
          ],
          "histogram2dcontour": [
           {
            "colorbar": {
             "outlinewidth": 0,
             "ticks": ""
            },
            "colorscale": [
             [
              0,
              "#0d0887"
             ],
             [
              0.1111111111111111,
              "#46039f"
             ],
             [
              0.2222222222222222,
              "#7201a8"
             ],
             [
              0.3333333333333333,
              "#9c179e"
             ],
             [
              0.4444444444444444,
              "#bd3786"
             ],
             [
              0.5555555555555556,
              "#d8576b"
             ],
             [
              0.6666666666666666,
              "#ed7953"
             ],
             [
              0.7777777777777778,
              "#fb9f3a"
             ],
             [
              0.8888888888888888,
              "#fdca26"
             ],
             [
              1,
              "#f0f921"
             ]
            ],
            "type": "histogram2dcontour"
           }
          ],
          "mesh3d": [
           {
            "colorbar": {
             "outlinewidth": 0,
             "ticks": ""
            },
            "type": "mesh3d"
           }
          ],
          "parcoords": [
           {
            "line": {
             "colorbar": {
              "outlinewidth": 0,
              "ticks": ""
             }
            },
            "type": "parcoords"
           }
          ],
          "pie": [
           {
            "automargin": true,
            "type": "pie"
           }
          ],
          "scatter": [
           {
            "fillpattern": {
             "fillmode": "overlay",
             "size": 10,
             "solidity": 0.2
            },
            "type": "scatter"
           }
          ],
          "scatter3d": [
           {
            "line": {
             "colorbar": {
              "outlinewidth": 0,
              "ticks": ""
             }
            },
            "marker": {
             "colorbar": {
              "outlinewidth": 0,
              "ticks": ""
             }
            },
            "type": "scatter3d"
           }
          ],
          "scattercarpet": [
           {
            "marker": {
             "colorbar": {
              "outlinewidth": 0,
              "ticks": ""
             }
            },
            "type": "scattercarpet"
           }
          ],
          "scattergeo": [
           {
            "marker": {
             "colorbar": {
              "outlinewidth": 0,
              "ticks": ""
             }
            },
            "type": "scattergeo"
           }
          ],
          "scattergl": [
           {
            "marker": {
             "colorbar": {
              "outlinewidth": 0,
              "ticks": ""
             }
            },
            "type": "scattergl"
           }
          ],
          "scattermap": [
           {
            "marker": {
             "colorbar": {
              "outlinewidth": 0,
              "ticks": ""
             }
            },
            "type": "scattermap"
           }
          ],
          "scattermapbox": [
           {
            "marker": {
             "colorbar": {
              "outlinewidth": 0,
              "ticks": ""
             }
            },
            "type": "scattermapbox"
           }
          ],
          "scatterpolar": [
           {
            "marker": {
             "colorbar": {
              "outlinewidth": 0,
              "ticks": ""
             }
            },
            "type": "scatterpolar"
           }
          ],
          "scatterpolargl": [
           {
            "marker": {
             "colorbar": {
              "outlinewidth": 0,
              "ticks": ""
             }
            },
            "type": "scatterpolargl"
           }
          ],
          "scatterternary": [
           {
            "marker": {
             "colorbar": {
              "outlinewidth": 0,
              "ticks": ""
             }
            },
            "type": "scatterternary"
           }
          ],
          "surface": [
           {
            "colorbar": {
             "outlinewidth": 0,
             "ticks": ""
            },
            "colorscale": [
             [
              0,
              "#0d0887"
             ],
             [
              0.1111111111111111,
              "#46039f"
             ],
             [
              0.2222222222222222,
              "#7201a8"
             ],
             [
              0.3333333333333333,
              "#9c179e"
             ],
             [
              0.4444444444444444,
              "#bd3786"
             ],
             [
              0.5555555555555556,
              "#d8576b"
             ],
             [
              0.6666666666666666,
              "#ed7953"
             ],
             [
              0.7777777777777778,
              "#fb9f3a"
             ],
             [
              0.8888888888888888,
              "#fdca26"
             ],
             [
              1,
              "#f0f921"
             ]
            ],
            "type": "surface"
           }
          ],
          "table": [
           {
            "cells": {
             "fill": {
              "color": "#EBF0F8"
             },
             "line": {
              "color": "white"
             }
            },
            "header": {
             "fill": {
              "color": "#C8D4E3"
             },
             "line": {
              "color": "white"
             }
            },
            "type": "table"
           }
          ]
         },
         "layout": {
          "annotationdefaults": {
           "arrowcolor": "#2a3f5f",
           "arrowhead": 0,
           "arrowwidth": 1
          },
          "autotypenumbers": "strict",
          "coloraxis": {
           "colorbar": {
            "outlinewidth": 0,
            "ticks": ""
           }
          },
          "colorscale": {
           "diverging": [
            [
             0,
             "#8e0152"
            ],
            [
             0.1,
             "#c51b7d"
            ],
            [
             0.2,
             "#de77ae"
            ],
            [
             0.3,
             "#f1b6da"
            ],
            [
             0.4,
             "#fde0ef"
            ],
            [
             0.5,
             "#f7f7f7"
            ],
            [
             0.6,
             "#e6f5d0"
            ],
            [
             0.7,
             "#b8e186"
            ],
            [
             0.8,
             "#7fbc41"
            ],
            [
             0.9,
             "#4d9221"
            ],
            [
             1,
             "#276419"
            ]
           ],
           "sequential": [
            [
             0,
             "#0d0887"
            ],
            [
             0.1111111111111111,
             "#46039f"
            ],
            [
             0.2222222222222222,
             "#7201a8"
            ],
            [
             0.3333333333333333,
             "#9c179e"
            ],
            [
             0.4444444444444444,
             "#bd3786"
            ],
            [
             0.5555555555555556,
             "#d8576b"
            ],
            [
             0.6666666666666666,
             "#ed7953"
            ],
            [
             0.7777777777777778,
             "#fb9f3a"
            ],
            [
             0.8888888888888888,
             "#fdca26"
            ],
            [
             1,
             "#f0f921"
            ]
           ],
           "sequentialminus": [
            [
             0,
             "#0d0887"
            ],
            [
             0.1111111111111111,
             "#46039f"
            ],
            [
             0.2222222222222222,
             "#7201a8"
            ],
            [
             0.3333333333333333,
             "#9c179e"
            ],
            [
             0.4444444444444444,
             "#bd3786"
            ],
            [
             0.5555555555555556,
             "#d8576b"
            ],
            [
             0.6666666666666666,
             "#ed7953"
            ],
            [
             0.7777777777777778,
             "#fb9f3a"
            ],
            [
             0.8888888888888888,
             "#fdca26"
            ],
            [
             1,
             "#f0f921"
            ]
           ]
          },
          "colorway": [
           "#636efa",
           "#EF553B",
           "#00cc96",
           "#ab63fa",
           "#FFA15A",
           "#19d3f3",
           "#FF6692",
           "#B6E880",
           "#FF97FF",
           "#FECB52"
          ],
          "font": {
           "color": "#2a3f5f"
          },
          "geo": {
           "bgcolor": "white",
           "lakecolor": "white",
           "landcolor": "#E5ECF6",
           "showlakes": true,
           "showland": true,
           "subunitcolor": "white"
          },
          "hoverlabel": {
           "align": "left"
          },
          "hovermode": "closest",
          "mapbox": {
           "style": "light"
          },
          "paper_bgcolor": "white",
          "plot_bgcolor": "#E5ECF6",
          "polar": {
           "angularaxis": {
            "gridcolor": "white",
            "linecolor": "white",
            "ticks": ""
           },
           "bgcolor": "#E5ECF6",
           "radialaxis": {
            "gridcolor": "white",
            "linecolor": "white",
            "ticks": ""
           }
          },
          "scene": {
           "xaxis": {
            "backgroundcolor": "#E5ECF6",
            "gridcolor": "white",
            "gridwidth": 2,
            "linecolor": "white",
            "showbackground": true,
            "ticks": "",
            "zerolinecolor": "white"
           },
           "yaxis": {
            "backgroundcolor": "#E5ECF6",
            "gridcolor": "white",
            "gridwidth": 2,
            "linecolor": "white",
            "showbackground": true,
            "ticks": "",
            "zerolinecolor": "white"
           },
           "zaxis": {
            "backgroundcolor": "#E5ECF6",
            "gridcolor": "white",
            "gridwidth": 2,
            "linecolor": "white",
            "showbackground": true,
            "ticks": "",
            "zerolinecolor": "white"
           }
          },
          "shapedefaults": {
           "line": {
            "color": "#2a3f5f"
           }
          },
          "ternary": {
           "aaxis": {
            "gridcolor": "white",
            "linecolor": "white",
            "ticks": ""
           },
           "baxis": {
            "gridcolor": "white",
            "linecolor": "white",
            "ticks": ""
           },
           "bgcolor": "#E5ECF6",
           "caxis": {
            "gridcolor": "white",
            "linecolor": "white",
            "ticks": ""
           }
          },
          "title": {
           "x": 0.05
          },
          "xaxis": {
           "automargin": true,
           "gridcolor": "white",
           "linecolor": "white",
           "ticks": "",
           "title": {
            "standoff": 15
           },
           "zerolinecolor": "white",
           "zerolinewidth": 2
          },
          "yaxis": {
           "automargin": true,
           "gridcolor": "white",
           "linecolor": "white",
           "ticks": "",
           "title": {
            "standoff": 15
           },
           "zerolinecolor": "white",
           "zerolinewidth": 2
          }
         }
        },
        "title": {
         "text": "Interactive 3D Drone Flight Path"
        },
        "width": 600
       }
      }
     },
     "metadata": {},
     "output_type": "display_data"
    },
    {
     "name": "stdout",
     "output_type": "stream",
     "text": [
      "Moving: vx=0, vy=0, vz=-0.2, yaw=0\n",
      "Executing command: move 0 0 -0.2 0 1.0\n"
     ]
    },
    {
     "data": {
      "application/vnd.plotly.v1+json": {
       "config": {
        "plotlyServerURL": "https://plot.ly"
       },
       "data": [
        {
         "line": {
          "color": "blue",
          "width": 4
         },
         "marker": {
          "size": 4
         },
         "mode": "lines+markers",
         "name": "Drone Path",
         "type": "scatter3d",
         "x": {
          "bdata": "AAAAAAAAAAAAAAAAAAAAAAChFy6Dfng/ULD2GgRAmD+gFwtFFdSqP3TFVR39Src/JfhZIAOnwT9QHalAR3zIPxiZYBSO388/BGKzs7jC0z9f9auY8Y/XPzSiMhqlMNs/ds4e+sx/3j922JGc0a3gPyIWjWN90+E/fW7NozSl4j8l+PQFmxrjP4Mjnl0CL+M/Z5/PbZrh4j9ODT82eTXiP0ZMqHR7MeE/QElQN/2/3z+8O8MT7pzcP8ygHXLNGdk/nerZvHNa1T9d7sb/H4XRPxfT8iLjgcs/PiZFl7FoxD8WJT/1Og68PypNkuuNPLE/ENx1Ro6VoT/gYP0WrHiIP+Bg/RaseIg/",
          "dtype": "f8"
         },
         "y": {
          "bdata": "AAAAAAAAAAAAAAAAAAAAAOH8Fvf+g64/5khnsUbovT85G5NPqa7FP4/+f7bli8s/KG4Fif8n0D92M3aUKOXRP85TKbmu69I/ECggqxox0z+Qc3Hnp7LSP12fSvNgddE/PDUA0tcLzz8dlYTAEvDJP63T862Vy8M/sxPXkCK6uT86M6iDEK2lPx4bWLy67pG/WPXLeiSgs78qscMoJ/7Av/OztczOfse/0iQI16sPzb+BPuMf+LvQv8NL9oNQRdK/1lo4pTAU07+ZizopWSDTv7go7flNadK/TkkJOFv20L+GBjyClazNv9kmtYKaPci/E1PvqjnXwb+zKQdAiHW1v7MpB0CIdbW/",
          "dtype": "f8"
         },
         "z": [
          2,
          2,
          2,
          2,
          2,
          2,
          2,
          2,
          2,
          2,
          2,
          2,
          2,
          2,
          2,
          2,
          2,
          2,
          2,
          2,
          2,
          2,
          2,
          2,
          2,
          2,
          2,
          2,
          2,
          2,
          2,
          2,
          1.8
         ]
        },
        {
         "marker": {
          "color": "red",
          "size": 10,
          "symbol": "diamond"
         },
         "mode": "markers",
         "name": "Current Position",
         "type": "scatter3d",
         "x": [
          0.011948914004890232
         ],
         "y": [
          -0.08382464945967776
         ],
         "z": [
          1.8
         ]
        }
       ],
       "layout": {
        "height": 500,
        "legend": {
         "x": 0,
         "y": 1
        },
        "margin": {
         "b": 0,
         "l": 0,
         "r": 0,
         "t": 30
        },
        "scene": {
         "aspectmode": "data",
         "camera": {
          "eye": {
           "x": 1.5,
           "y": 1.5,
           "z": 0.6
          }
         },
         "xaxis": {
          "title": {
           "text": "X (meters)"
          }
         },
         "yaxis": {
          "title": {
           "text": "Y (meters)"
          }
         },
         "zaxis": {
          "title": {
           "text": "Altitude (meters)"
          }
         }
        },
        "template": {
         "data": {
          "bar": [
           {
            "error_x": {
             "color": "#2a3f5f"
            },
            "error_y": {
             "color": "#2a3f5f"
            },
            "marker": {
             "line": {
              "color": "#E5ECF6",
              "width": 0.5
             },
             "pattern": {
              "fillmode": "overlay",
              "size": 10,
              "solidity": 0.2
             }
            },
            "type": "bar"
           }
          ],
          "barpolar": [
           {
            "marker": {
             "line": {
              "color": "#E5ECF6",
              "width": 0.5
             },
             "pattern": {
              "fillmode": "overlay",
              "size": 10,
              "solidity": 0.2
             }
            },
            "type": "barpolar"
           }
          ],
          "carpet": [
           {
            "aaxis": {
             "endlinecolor": "#2a3f5f",
             "gridcolor": "white",
             "linecolor": "white",
             "minorgridcolor": "white",
             "startlinecolor": "#2a3f5f"
            },
            "baxis": {
             "endlinecolor": "#2a3f5f",
             "gridcolor": "white",
             "linecolor": "white",
             "minorgridcolor": "white",
             "startlinecolor": "#2a3f5f"
            },
            "type": "carpet"
           }
          ],
          "choropleth": [
           {
            "colorbar": {
             "outlinewidth": 0,
             "ticks": ""
            },
            "type": "choropleth"
           }
          ],
          "contour": [
           {
            "colorbar": {
             "outlinewidth": 0,
             "ticks": ""
            },
            "colorscale": [
             [
              0,
              "#0d0887"
             ],
             [
              0.1111111111111111,
              "#46039f"
             ],
             [
              0.2222222222222222,
              "#7201a8"
             ],
             [
              0.3333333333333333,
              "#9c179e"
             ],
             [
              0.4444444444444444,
              "#bd3786"
             ],
             [
              0.5555555555555556,
              "#d8576b"
             ],
             [
              0.6666666666666666,
              "#ed7953"
             ],
             [
              0.7777777777777778,
              "#fb9f3a"
             ],
             [
              0.8888888888888888,
              "#fdca26"
             ],
             [
              1,
              "#f0f921"
             ]
            ],
            "type": "contour"
           }
          ],
          "contourcarpet": [
           {
            "colorbar": {
             "outlinewidth": 0,
             "ticks": ""
            },
            "type": "contourcarpet"
           }
          ],
          "heatmap": [
           {
            "colorbar": {
             "outlinewidth": 0,
             "ticks": ""
            },
            "colorscale": [
             [
              0,
              "#0d0887"
             ],
             [
              0.1111111111111111,
              "#46039f"
             ],
             [
              0.2222222222222222,
              "#7201a8"
             ],
             [
              0.3333333333333333,
              "#9c179e"
             ],
             [
              0.4444444444444444,
              "#bd3786"
             ],
             [
              0.5555555555555556,
              "#d8576b"
             ],
             [
              0.6666666666666666,
              "#ed7953"
             ],
             [
              0.7777777777777778,
              "#fb9f3a"
             ],
             [
              0.8888888888888888,
              "#fdca26"
             ],
             [
              1,
              "#f0f921"
             ]
            ],
            "type": "heatmap"
           }
          ],
          "histogram": [
           {
            "marker": {
             "pattern": {
              "fillmode": "overlay",
              "size": 10,
              "solidity": 0.2
             }
            },
            "type": "histogram"
           }
          ],
          "histogram2d": [
           {
            "colorbar": {
             "outlinewidth": 0,
             "ticks": ""
            },
            "colorscale": [
             [
              0,
              "#0d0887"
             ],
             [
              0.1111111111111111,
              "#46039f"
             ],
             [
              0.2222222222222222,
              "#7201a8"
             ],
             [
              0.3333333333333333,
              "#9c179e"
             ],
             [
              0.4444444444444444,
              "#bd3786"
             ],
             [
              0.5555555555555556,
              "#d8576b"
             ],
             [
              0.6666666666666666,
              "#ed7953"
             ],
             [
              0.7777777777777778,
              "#fb9f3a"
             ],
             [
              0.8888888888888888,
              "#fdca26"
             ],
             [
              1,
              "#f0f921"
             ]
            ],
            "type": "histogram2d"
           }
          ],
          "histogram2dcontour": [
           {
            "colorbar": {
             "outlinewidth": 0,
             "ticks": ""
            },
            "colorscale": [
             [
              0,
              "#0d0887"
             ],
             [
              0.1111111111111111,
              "#46039f"
             ],
             [
              0.2222222222222222,
              "#7201a8"
             ],
             [
              0.3333333333333333,
              "#9c179e"
             ],
             [
              0.4444444444444444,
              "#bd3786"
             ],
             [
              0.5555555555555556,
              "#d8576b"
             ],
             [
              0.6666666666666666,
              "#ed7953"
             ],
             [
              0.7777777777777778,
              "#fb9f3a"
             ],
             [
              0.8888888888888888,
              "#fdca26"
             ],
             [
              1,
              "#f0f921"
             ]
            ],
            "type": "histogram2dcontour"
           }
          ],
          "mesh3d": [
           {
            "colorbar": {
             "outlinewidth": 0,
             "ticks": ""
            },
            "type": "mesh3d"
           }
          ],
          "parcoords": [
           {
            "line": {
             "colorbar": {
              "outlinewidth": 0,
              "ticks": ""
             }
            },
            "type": "parcoords"
           }
          ],
          "pie": [
           {
            "automargin": true,
            "type": "pie"
           }
          ],
          "scatter": [
           {
            "fillpattern": {
             "fillmode": "overlay",
             "size": 10,
             "solidity": 0.2
            },
            "type": "scatter"
           }
          ],
          "scatter3d": [
           {
            "line": {
             "colorbar": {
              "outlinewidth": 0,
              "ticks": ""
             }
            },
            "marker": {
             "colorbar": {
              "outlinewidth": 0,
              "ticks": ""
             }
            },
            "type": "scatter3d"
           }
          ],
          "scattercarpet": [
           {
            "marker": {
             "colorbar": {
              "outlinewidth": 0,
              "ticks": ""
             }
            },
            "type": "scattercarpet"
           }
          ],
          "scattergeo": [
           {
            "marker": {
             "colorbar": {
              "outlinewidth": 0,
              "ticks": ""
             }
            },
            "type": "scattergeo"
           }
          ],
          "scattergl": [
           {
            "marker": {
             "colorbar": {
              "outlinewidth": 0,
              "ticks": ""
             }
            },
            "type": "scattergl"
           }
          ],
          "scattermap": [
           {
            "marker": {
             "colorbar": {
              "outlinewidth": 0,
              "ticks": ""
             }
            },
            "type": "scattermap"
           }
          ],
          "scattermapbox": [
           {
            "marker": {
             "colorbar": {
              "outlinewidth": 0,
              "ticks": ""
             }
            },
            "type": "scattermapbox"
           }
          ],
          "scatterpolar": [
           {
            "marker": {
             "colorbar": {
              "outlinewidth": 0,
              "ticks": ""
             }
            },
            "type": "scatterpolar"
           }
          ],
          "scatterpolargl": [
           {
            "marker": {
             "colorbar": {
              "outlinewidth": 0,
              "ticks": ""
             }
            },
            "type": "scatterpolargl"
           }
          ],
          "scatterternary": [
           {
            "marker": {
             "colorbar": {
              "outlinewidth": 0,
              "ticks": ""
             }
            },
            "type": "scatterternary"
           }
          ],
          "surface": [
           {
            "colorbar": {
             "outlinewidth": 0,
             "ticks": ""
            },
            "colorscale": [
             [
              0,
              "#0d0887"
             ],
             [
              0.1111111111111111,
              "#46039f"
             ],
             [
              0.2222222222222222,
              "#7201a8"
             ],
             [
              0.3333333333333333,
              "#9c179e"
             ],
             [
              0.4444444444444444,
              "#bd3786"
             ],
             [
              0.5555555555555556,
              "#d8576b"
             ],
             [
              0.6666666666666666,
              "#ed7953"
             ],
             [
              0.7777777777777778,
              "#fb9f3a"
             ],
             [
              0.8888888888888888,
              "#fdca26"
             ],
             [
              1,
              "#f0f921"
             ]
            ],
            "type": "surface"
           }
          ],
          "table": [
           {
            "cells": {
             "fill": {
              "color": "#EBF0F8"
             },
             "line": {
              "color": "white"
             }
            },
            "header": {
             "fill": {
              "color": "#C8D4E3"
             },
             "line": {
              "color": "white"
             }
            },
            "type": "table"
           }
          ]
         },
         "layout": {
          "annotationdefaults": {
           "arrowcolor": "#2a3f5f",
           "arrowhead": 0,
           "arrowwidth": 1
          },
          "autotypenumbers": "strict",
          "coloraxis": {
           "colorbar": {
            "outlinewidth": 0,
            "ticks": ""
           }
          },
          "colorscale": {
           "diverging": [
            [
             0,
             "#8e0152"
            ],
            [
             0.1,
             "#c51b7d"
            ],
            [
             0.2,
             "#de77ae"
            ],
            [
             0.3,
             "#f1b6da"
            ],
            [
             0.4,
             "#fde0ef"
            ],
            [
             0.5,
             "#f7f7f7"
            ],
            [
             0.6,
             "#e6f5d0"
            ],
            [
             0.7,
             "#b8e186"
            ],
            [
             0.8,
             "#7fbc41"
            ],
            [
             0.9,
             "#4d9221"
            ],
            [
             1,
             "#276419"
            ]
           ],
           "sequential": [
            [
             0,
             "#0d0887"
            ],
            [
             0.1111111111111111,
             "#46039f"
            ],
            [
             0.2222222222222222,
             "#7201a8"
            ],
            [
             0.3333333333333333,
             "#9c179e"
            ],
            [
             0.4444444444444444,
             "#bd3786"
            ],
            [
             0.5555555555555556,
             "#d8576b"
            ],
            [
             0.6666666666666666,
             "#ed7953"
            ],
            [
             0.7777777777777778,
             "#fb9f3a"
            ],
            [
             0.8888888888888888,
             "#fdca26"
            ],
            [
             1,
             "#f0f921"
            ]
           ],
           "sequentialminus": [
            [
             0,
             "#0d0887"
            ],
            [
             0.1111111111111111,
             "#46039f"
            ],
            [
             0.2222222222222222,
             "#7201a8"
            ],
            [
             0.3333333333333333,
             "#9c179e"
            ],
            [
             0.4444444444444444,
             "#bd3786"
            ],
            [
             0.5555555555555556,
             "#d8576b"
            ],
            [
             0.6666666666666666,
             "#ed7953"
            ],
            [
             0.7777777777777778,
             "#fb9f3a"
            ],
            [
             0.8888888888888888,
             "#fdca26"
            ],
            [
             1,
             "#f0f921"
            ]
           ]
          },
          "colorway": [
           "#636efa",
           "#EF553B",
           "#00cc96",
           "#ab63fa",
           "#FFA15A",
           "#19d3f3",
           "#FF6692",
           "#B6E880",
           "#FF97FF",
           "#FECB52"
          ],
          "font": {
           "color": "#2a3f5f"
          },
          "geo": {
           "bgcolor": "white",
           "lakecolor": "white",
           "landcolor": "#E5ECF6",
           "showlakes": true,
           "showland": true,
           "subunitcolor": "white"
          },
          "hoverlabel": {
           "align": "left"
          },
          "hovermode": "closest",
          "mapbox": {
           "style": "light"
          },
          "paper_bgcolor": "white",
          "plot_bgcolor": "#E5ECF6",
          "polar": {
           "angularaxis": {
            "gridcolor": "white",
            "linecolor": "white",
            "ticks": ""
           },
           "bgcolor": "#E5ECF6",
           "radialaxis": {
            "gridcolor": "white",
            "linecolor": "white",
            "ticks": ""
           }
          },
          "scene": {
           "xaxis": {
            "backgroundcolor": "#E5ECF6",
            "gridcolor": "white",
            "gridwidth": 2,
            "linecolor": "white",
            "showbackground": true,
            "ticks": "",
            "zerolinecolor": "white"
           },
           "yaxis": {
            "backgroundcolor": "#E5ECF6",
            "gridcolor": "white",
            "gridwidth": 2,
            "linecolor": "white",
            "showbackground": true,
            "ticks": "",
            "zerolinecolor": "white"
           },
           "zaxis": {
            "backgroundcolor": "#E5ECF6",
            "gridcolor": "white",
            "gridwidth": 2,
            "linecolor": "white",
            "showbackground": true,
            "ticks": "",
            "zerolinecolor": "white"
           }
          },
          "shapedefaults": {
           "line": {
            "color": "#2a3f5f"
           }
          },
          "ternary": {
           "aaxis": {
            "gridcolor": "white",
            "linecolor": "white",
            "ticks": ""
           },
           "baxis": {
            "gridcolor": "white",
            "linecolor": "white",
            "ticks": ""
           },
           "bgcolor": "#E5ECF6",
           "caxis": {
            "gridcolor": "white",
            "linecolor": "white",
            "ticks": ""
           }
          },
          "title": {
           "x": 0.05
          },
          "xaxis": {
           "automargin": true,
           "gridcolor": "white",
           "linecolor": "white",
           "ticks": "",
           "title": {
            "standoff": 15
           },
           "zerolinecolor": "white",
           "zerolinewidth": 2
          },
          "yaxis": {
           "automargin": true,
           "gridcolor": "white",
           "linecolor": "white",
           "ticks": "",
           "title": {
            "standoff": 15
           },
           "zerolinecolor": "white",
           "zerolinewidth": 2
          }
         }
        },
        "title": {
         "text": "Interactive 3D Drone Flight Path"
        },
        "width": 600
       }
      }
     },
     "metadata": {},
     "output_type": "display_data"
    },
    {
     "name": "stdout",
     "output_type": "stream",
     "text": [
      "\u2b55 Executing circle left (optimized)...\n"
     ]
    },
    {
     "data": {
      "application/vnd.plotly.v1+json": {
       "config": {
        "plotlyServerURL": "https://plot.ly"
       },
       "data": [
        {
         "line": {
          "color": "blue",
          "width": 4
         },
         "marker": {
          "size": 4
         },
         "mode": "lines+markers",
         "name": "Drone Path",
         "type": "scatter3d",
         "x": {
          "bdata": "AAAAAAAAAAAAAAAAAAAAAAChFy6Dfng/ULD2GgRAmD+gFwtFFdSqP3TFVR39Src/JfhZIAOnwT9QHalAR3zIPxiZYBSO388/BGKzs7jC0z9f9auY8Y/XPzSiMhqlMNs/ds4e+sx/3j922JGc0a3gPyIWjWN90+E/fW7NozSl4j8l+PQFmxrjP4Mjnl0CL+M/Z5/PbZrh4j9ODT82eTXiP0ZMqHR7MeE/QElQN/2/3z+8O8MT7pzcP8ygHXLNGdk/nerZvHNa1T9d7sb/H4XRPxfT8iLjgcs/PiZFl7FoxD8WJT/1Og68PypNkuuNPLE/ENx1Ro6VoT/gYP0WrHiIP+Bg/RaseIg/4GD9Fqx4iD+wmATX9luSP2CwOhMtPqI/7DdlJSB5sD+QcTWgElq6PzPOyeGNLsM/XvMYAtIDyj+TN+hqjLPQPwtNaxR+htQ/ZuBj+bZT2D88jep6avTbP3251lqSQ98/+c3tTLQP4T+lC+kTYDXiPwBkKVQXB+M/qO1Qtn184z8GGfoN5ZDjP+qUKx59Q+M/0QKb5luX4j/JQQQlXpPhPyQaBEzhQeA/wiZ7dLNg3T/Ti9XSkt3ZP6TVkR05HtY/ZNl+YOVI0j8lqWLkbQnNP0z8tFg88MU/MtEeeFAdvz9G+XFuo0u0P0g0NUy5s6c/4GD9Fqx4mD8=",
          "dtype": "f8"
         },
         "y": {
          "bdata": "AAAAAAAAAAAAAAAAAAAAAOH8Fvf+g64/5khnsUbovT85G5NPqa7FP4/+f7bli8s/KG4Fif8n0D92M3aUKOXRP85TKbmu69I/ECggqxox0z+Qc3Hnp7LSP12fSvNgddE/PDUA0tcLzz8dlYTAEvDJP63T862Vy8M/sxPXkCK6uT86M6iDEK2lPx4bWLy67pG/WPXLeiSgs78qscMoJ/7Av/OztczOfse/0iQI16sPzb+BPuMf+LvQv8NL9oNQRdK/1lo4pTAU07+ZizopWSDTv7go7flNadK/TkkJOFv20L+GBjyClazNv9kmtYKaPci/E1PvqjnXwb+zKQdAiHW1v7MpB0CIdbW/sykHQIh1tb8Kre4RI86Yv2Y+wOJ85aA/vwwfX8rntT+2aXyWIdHAP3ZHB/I6lcU/EtLoCI0PyT/CEk9SmRzLP0a7PDZxp8s/RlLfrouqyj/gqZHG/S/IP2Kg/LETUcQ/hwACQZ1qvj+nfeAboyGyPwCoP0NpEpE/LCBm/P89pb96MB3vNvG5v4aPaV3WisS/BEbHSOu4y79mpFx2yRzRv9bchfs35dO/7gjlL1oZ1r8wFviTsqLXv0MlOrWScdi/BlY8Obt92L8l8+4JsMbXv7sTC0i9U9a/sM0f0awz1L/ZXVxRL3zRv+zn8sr9kcy/sykHQIh1xb8=",
          "dtype": "f8"
         },
         "z": [
          2,
          2,
          2,
          2,
          2,
          2,
          2,
          2,
          2,
          2,
          2,
          2,
          2,
          2,
          2,
          2,
          2,
          2,
          2,
          2,
          2,
          2,
          2,
          2,
          2,
          2,
          2,
          2,
          2,
          2,
          2,
          2,
          1.8,
          1.8,
          1.8,
          1.8,
          1.8,
          1.8,
          1.8,
          1.8,
          1.8,
          1.8,
          1.8,
          1.8,
          1.8,
          1.8,
          1.8,
          1.8,
          1.8,
          1.8,
          1.8,
          1.8,
          1.8,
          1.8,
          1.8,
          1.8,
          1.8,
          1.8,
          1.8,
          1.8,
          1.8,
          1.8,
          1.8,
          1.8
         ]
        },
        {
         "marker": {
          "color": "red",
          "size": 10,
          "symbol": "diamond"
         },
         "mode": "markers",
         "name": "Current Position",
         "type": "scatter3d",
         "x": [
          0.023897828009780464
         ],
         "y": [
          -0.1676492989193555
         ],
         "z": [
          1.8
         ]
        }
       ],
       "layout": {
        "height": 500,
        "legend": {
         "x": 0,
         "y": 1
        },
        "margin": {
         "b": 0,
         "l": 0,
         "r": 0,
         "t": 30
        },
        "scene": {
         "aspectmode": "data",
         "camera": {
          "eye": {
           "x": 1.5,
           "y": 1.5,
           "z": 0.6
          }
         },
         "xaxis": {
          "title": {
           "text": "X (meters)"
          }
         },
         "yaxis": {
          "title": {
           "text": "Y (meters)"
          }
         },
         "zaxis": {
          "title": {
           "text": "Altitude (meters)"
          }
         }
        },
        "template": {
         "data": {
          "bar": [
           {
            "error_x": {
             "color": "#2a3f5f"
            },
            "error_y": {
             "color": "#2a3f5f"
            },
            "marker": {
             "line": {
              "color": "#E5ECF6",
              "width": 0.5
             },
             "pattern": {
              "fillmode": "overlay",
              "size": 10,
              "solidity": 0.2
             }
            },
            "type": "bar"
           }
          ],
          "barpolar": [
           {
            "marker": {
             "line": {
              "color": "#E5ECF6",
              "width": 0.5
             },
             "pattern": {
              "fillmode": "overlay",
              "size": 10,
              "solidity": 0.2
             }
            },
            "type": "barpolar"
           }
          ],
          "carpet": [
           {
            "aaxis": {
             "endlinecolor": "#2a3f5f",
             "gridcolor": "white",
             "linecolor": "white",
             "minorgridcolor": "white",
             "startlinecolor": "#2a3f5f"
            },
            "baxis": {
             "endlinecolor": "#2a3f5f",
             "gridcolor": "white",
             "linecolor": "white",
             "minorgridcolor": "white",
             "startlinecolor": "#2a3f5f"
            },
            "type": "carpet"
           }
          ],
          "choropleth": [
           {
            "colorbar": {
             "outlinewidth": 0,
             "ticks": ""
            },
            "type": "choropleth"
           }
          ],
          "contour": [
           {
            "colorbar": {
             "outlinewidth": 0,
             "ticks": ""
            },
            "colorscale": [
             [
              0,
              "#0d0887"
             ],
             [
              0.1111111111111111,
              "#46039f"
             ],
             [
              0.2222222222222222,
              "#7201a8"
             ],
             [
              0.3333333333333333,
              "#9c179e"
             ],
             [
              0.4444444444444444,
              "#bd3786"
             ],
             [
              0.5555555555555556,
              "#d8576b"
             ],
             [
              0.6666666666666666,
              "#ed7953"
             ],
             [
              0.7777777777777778,
              "#fb9f3a"
             ],
             [
              0.8888888888888888,
              "#fdca26"
             ],
             [
              1,
              "#f0f921"
             ]
            ],
            "type": "contour"
           }
          ],
          "contourcarpet": [
           {
            "colorbar": {
             "outlinewidth": 0,
             "ticks": ""
            },
            "type": "contourcarpet"
           }
          ],
          "heatmap": [
           {
            "colorbar": {
             "outlinewidth": 0,
             "ticks": ""
            },
            "colorscale": [
             [
              0,
              "#0d0887"
             ],
             [
              0.1111111111111111,
              "#46039f"
             ],
             [
              0.2222222222222222,
              "#7201a8"
             ],
             [
              0.3333333333333333,
              "#9c179e"
             ],
             [
              0.4444444444444444,
              "#bd3786"
             ],
             [
              0.5555555555555556,
              "#d8576b"
             ],
             [
              0.6666666666666666,
              "#ed7953"
             ],
             [
              0.7777777777777778,
              "#fb9f3a"
             ],
             [
              0.8888888888888888,
              "#fdca26"
             ],
             [
              1,
              "#f0f921"
             ]
            ],
            "type": "heatmap"
           }
          ],
          "histogram": [
           {
            "marker": {
             "pattern": {
              "fillmode": "overlay",
              "size": 10,
              "solidity": 0.2
             }
            },
            "type": "histogram"
           }
          ],
          "histogram2d": [
           {
            "colorbar": {
             "outlinewidth": 0,
             "ticks": ""
            },
            "colorscale": [
             [
              0,
              "#0d0887"
             ],
             [
              0.1111111111111111,
              "#46039f"
             ],
             [
              0.2222222222222222,
              "#7201a8"
             ],
             [
              0.3333333333333333,
              "#9c179e"
             ],
             [
              0.4444444444444444,
              "#bd3786"
             ],
             [
              0.5555555555555556,
              "#d8576b"
             ],
             [
              0.6666666666666666,
              "#ed7953"
             ],
             [
              0.7777777777777778,
              "#fb9f3a"
             ],
             [
              0.8888888888888888,
              "#fdca26"
             ],
             [
              1,
              "#f0f921"
             ]
            ],
            "type": "histogram2d"
           }
          ],
          "histogram2dcontour": [
           {
            "colorbar": {
             "outlinewidth": 0,
             "ticks": ""
            },
            "colorscale": [
             [
              0,
              "#0d0887"
             ],
             [
              0.1111111111111111,
              "#46039f"
             ],
             [
              0.2222222222222222,
              "#7201a8"
             ],
             [
              0.3333333333333333,
              "#9c179e"
             ],
             [
              0.4444444444444444,
              "#bd3786"
             ],
             [
              0.5555555555555556,
              "#d8576b"
             ],
             [
              0.6666666666666666,
              "#ed7953"
             ],
             [
              0.7777777777777778,
              "#fb9f3a"
             ],
             [
              0.8888888888888888,
              "#fdca26"
             ],
             [
              1,
              "#f0f921"
             ]
            ],
            "type": "histogram2dcontour"
           }
          ],
          "mesh3d": [
           {
            "colorbar": {
             "outlinewidth": 0,
             "ticks": ""
            },
            "type": "mesh3d"
           }
          ],
          "parcoords": [
           {
            "line": {
             "colorbar": {
              "outlinewidth": 0,
              "ticks": ""
             }
            },
            "type": "parcoords"
           }
          ],
          "pie": [
           {
            "automargin": true,
            "type": "pie"
           }
          ],
          "scatter": [
           {
            "fillpattern": {
             "fillmode": "overlay",
             "size": 10,
             "solidity": 0.2
            },
            "type": "scatter"
           }
          ],
          "scatter3d": [
           {
            "line": {
             "colorbar": {
              "outlinewidth": 0,
              "ticks": ""
             }
            },
            "marker": {
             "colorbar": {
              "outlinewidth": 0,
              "ticks": ""
             }
            },
            "type": "scatter3d"
           }
          ],
          "scattercarpet": [
           {
            "marker": {
             "colorbar": {
              "outlinewidth": 0,
              "ticks": ""
             }
            },
            "type": "scattercarpet"
           }
          ],
          "scattergeo": [
           {
            "marker": {
             "colorbar": {
              "outlinewidth": 0,
              "ticks": ""
             }
            },
            "type": "scattergeo"
           }
          ],
          "scattergl": [
           {
            "marker": {
             "colorbar": {
              "outlinewidth": 0,
              "ticks": ""
             }
            },
            "type": "scattergl"
           }
          ],
          "scattermap": [
           {
            "marker": {
             "colorbar": {
              "outlinewidth": 0,
              "ticks": ""
             }
            },
            "type": "scattermap"
           }
          ],
          "scattermapbox": [
           {
            "marker": {
             "colorbar": {
              "outlinewidth": 0,
              "ticks": ""
             }
            },
            "type": "scattermapbox"
           }
          ],
          "scatterpolar": [
           {
            "marker": {
             "colorbar": {
              "outlinewidth": 0,
              "ticks": ""
             }
            },
            "type": "scatterpolar"
           }
          ],
          "scatterpolargl": [
           {
            "marker": {
             "colorbar": {
              "outlinewidth": 0,
              "ticks": ""
             }
            },
            "type": "scatterpolargl"
           }
          ],
          "scatterternary": [
           {
            "marker": {
             "colorbar": {
              "outlinewidth": 0,
              "ticks": ""
             }
            },
            "type": "scatterternary"
           }
          ],
          "surface": [
           {
            "colorbar": {
             "outlinewidth": 0,
             "ticks": ""
            },
            "colorscale": [
             [
              0,
              "#0d0887"
             ],
             [
              0.1111111111111111,
              "#46039f"
             ],
             [
              0.2222222222222222,
              "#7201a8"
             ],
             [
              0.3333333333333333,
              "#9c179e"
             ],
             [
              0.4444444444444444,
              "#bd3786"
             ],
             [
              0.5555555555555556,
              "#d8576b"
             ],
             [
              0.6666666666666666,
              "#ed7953"
             ],
             [
              0.7777777777777778,
              "#fb9f3a"
             ],
             [
              0.8888888888888888,
              "#fdca26"
             ],
             [
              1,
              "#f0f921"
             ]
            ],
            "type": "surface"
           }
          ],
          "table": [
           {
            "cells": {
             "fill": {
              "color": "#EBF0F8"
             },
             "line": {
              "color": "white"
             }
            },
            "header": {
             "fill": {
              "color": "#C8D4E3"
             },
             "line": {
              "color": "white"
             }
            },
            "type": "table"
           }
          ]
         },
         "layout": {
          "annotationdefaults": {
           "arrowcolor": "#2a3f5f",
           "arrowhead": 0,
           "arrowwidth": 1
          },
          "autotypenumbers": "strict",
          "coloraxis": {
           "colorbar": {
            "outlinewidth": 0,
            "ticks": ""
           }
          },
          "colorscale": {
           "diverging": [
            [
             0,
             "#8e0152"
            ],
            [
             0.1,
             "#c51b7d"
            ],
            [
             0.2,
             "#de77ae"
            ],
            [
             0.3,
             "#f1b6da"
            ],
            [
             0.4,
             "#fde0ef"
            ],
            [
             0.5,
             "#f7f7f7"
            ],
            [
             0.6,
             "#e6f5d0"
            ],
            [
             0.7,
             "#b8e186"
            ],
            [
             0.8,
             "#7fbc41"
            ],
            [
             0.9,
             "#4d9221"
            ],
            [
             1,
             "#276419"
            ]
           ],
           "sequential": [
            [
             0,
             "#0d0887"
            ],
            [
             0.1111111111111111,
             "#46039f"
            ],
            [
             0.2222222222222222,
             "#7201a8"
            ],
            [
             0.3333333333333333,
             "#9c179e"
            ],
            [
             0.4444444444444444,
             "#bd3786"
            ],
            [
             0.5555555555555556,
             "#d8576b"
            ],
            [
             0.6666666666666666,
             "#ed7953"
            ],
            [
             0.7777777777777778,
             "#fb9f3a"
            ],
            [
             0.8888888888888888,
             "#fdca26"
            ],
            [
             1,
             "#f0f921"
            ]
           ],
           "sequentialminus": [
            [
             0,
             "#0d0887"
            ],
            [
             0.1111111111111111,
             "#46039f"
            ],
            [
             0.2222222222222222,
             "#7201a8"
            ],
            [
             0.3333333333333333,
             "#9c179e"
            ],
            [
             0.4444444444444444,
             "#bd3786"
            ],
            [
             0.5555555555555556,
             "#d8576b"
            ],
            [
             0.6666666666666666,
             "#ed7953"
            ],
            [
             0.7777777777777778,
             "#fb9f3a"
            ],
            [
             0.8888888888888888,
             "#fdca26"
            ],
            [
             1,
             "#f0f921"
            ]
           ]
          },
          "colorway": [
           "#636efa",
           "#EF553B",
           "#00cc96",
           "#ab63fa",
           "#FFA15A",
           "#19d3f3",
           "#FF6692",
           "#B6E880",
           "#FF97FF",
           "#FECB52"
          ],
          "font": {
           "color": "#2a3f5f"
          },
          "geo": {
           "bgcolor": "white",
           "lakecolor": "white",
           "landcolor": "#E5ECF6",
           "showlakes": true,
           "showland": true,
           "subunitcolor": "white"
          },
          "hoverlabel": {
           "align": "left"
          },
          "hovermode": "closest",
          "mapbox": {
           "style": "light"
          },
          "paper_bgcolor": "white",
          "plot_bgcolor": "#E5ECF6",
          "polar": {
           "angularaxis": {
            "gridcolor": "white",
            "linecolor": "white",
            "ticks": ""
           },
           "bgcolor": "#E5ECF6",
           "radialaxis": {
            "gridcolor": "white",
            "linecolor": "white",
            "ticks": ""
           }
          },
          "scene": {
           "xaxis": {
            "backgroundcolor": "#E5ECF6",
            "gridcolor": "white",
            "gridwidth": 2,
            "linecolor": "white",
            "showbackground": true,
            "ticks": "",
            "zerolinecolor": "white"
           },
           "yaxis": {
            "backgroundcolor": "#E5ECF6",
            "gridcolor": "white",
            "gridwidth": 2,
            "linecolor": "white",
            "showbackground": true,
            "ticks": "",
            "zerolinecolor": "white"
           },
           "zaxis": {
            "backgroundcolor": "#E5ECF6",
            "gridcolor": "white",
            "gridwidth": 2,
            "linecolor": "white",
            "showbackground": true,
            "ticks": "",
            "zerolinecolor": "white"
           }
          },
          "shapedefaults": {
           "line": {
            "color": "#2a3f5f"
           }
          },
          "ternary": {
           "aaxis": {
            "gridcolor": "white",
            "linecolor": "white",
            "ticks": ""
           },
           "baxis": {
            "gridcolor": "white",
            "linecolor": "white",
            "ticks": ""
           },
           "bgcolor": "#E5ECF6",
           "caxis": {
            "gridcolor": "white",
            "linecolor": "white",
            "ticks": ""
           }
          },
          "title": {
           "x": 0.05
          },
          "xaxis": {
           "automargin": true,
           "gridcolor": "white",
           "linecolor": "white",
           "ticks": "",
           "title": {
            "standoff": 15
           },
           "zerolinecolor": "white",
           "zerolinewidth": 2
          },
          "yaxis": {
           "automargin": true,
           "gridcolor": "white",
           "linecolor": "white",
           "ticks": "",
           "title": {
            "standoff": 15
           },
           "zerolinecolor": "white",
           "zerolinewidth": 2
          }
         }
        },
        "title": {
         "text": "Interactive 3D Drone Flight Path"
        },
        "width": 600
       }
      }
     },
     "metadata": {},
     "output_type": "display_data"
    },
    {
     "name": "stdout",
     "output_type": "stream",
     "text": [
      "Moving: vx=0, vy=0, vz=-0.2, yaw=0\n",
      "Executing command: move 0 0 -0.2 0 1.0\n"
     ]
    },
    {
     "data": {
      "application/vnd.plotly.v1+json": {
       "config": {
        "plotlyServerURL": "https://plot.ly"
       },
       "data": [
        {
         "line": {
          "color": "blue",
          "width": 4
         },
         "marker": {
          "size": 4
         },
         "mode": "lines+markers",
         "name": "Drone Path",
         "type": "scatter3d",
         "x": {
          "bdata": "AAAAAAAAAAAAAAAAAAAAAAChFy6Dfng/ULD2GgRAmD+gFwtFFdSqP3TFVR39Src/JfhZIAOnwT9QHalAR3zIPxiZYBSO388/BGKzs7jC0z9f9auY8Y/XPzSiMhqlMNs/ds4e+sx/3j922JGc0a3gPyIWjWN90+E/fW7NozSl4j8l+PQFmxrjP4Mjnl0CL+M/Z5/PbZrh4j9ODT82eTXiP0ZMqHR7MeE/QElQN/2/3z+8O8MT7pzcP8ygHXLNGdk/nerZvHNa1T9d7sb/H4XRPxfT8iLjgcs/PiZFl7FoxD8WJT/1Og68PypNkuuNPLE/ENx1Ro6VoT/gYP0WrHiIP+Bg/RaseIg/4GD9Fqx4iD+wmATX9luSP2CwOhMtPqI/7DdlJSB5sD+QcTWgElq6PzPOyeGNLsM/XvMYAtIDyj+TN+hqjLPQPwtNaxR+htQ/ZuBj+bZT2D88jep6avTbP3251lqSQ98/+c3tTLQP4T+lC+kTYDXiPwBkKVQXB+M/qO1Qtn184z8GGfoN5ZDjP+qUKx59Q+M/0QKb5luX4j/JQQQlXpPhPyQaBEzhQeA/wiZ7dLNg3T/Ti9XSkt3ZP6TVkR05HtY/ZNl+YOVI0j8lqWLkbQnNP0z8tFg88MU/MtEeeFAdvz9G+XFuo0u0P0g0NUy5s6c/4GD9Fqx4mD/gYP0WrHiYPw==",
          "dtype": "f8"
         },
         "y": {
          "bdata": "AAAAAAAAAAAAAAAAAAAAAOH8Fvf+g64/5khnsUbovT85G5NPqa7FP4/+f7bli8s/KG4Fif8n0D92M3aUKOXRP85TKbmu69I/ECggqxox0z+Qc3Hnp7LSP12fSvNgddE/PDUA0tcLzz8dlYTAEvDJP63T862Vy8M/sxPXkCK6uT86M6iDEK2lPx4bWLy67pG/WPXLeiSgs78qscMoJ/7Av/OztczOfse/0iQI16sPzb+BPuMf+LvQv8NL9oNQRdK/1lo4pTAU07+ZizopWSDTv7go7flNadK/TkkJOFv20L+GBjyClazNv9kmtYKaPci/E1PvqjnXwb+zKQdAiHW1v7MpB0CIdbW/sykHQIh1tb8Kre4RI86Yv2Y+wOJ85aA/vwwfX8rntT+2aXyWIdHAP3ZHB/I6lcU/EtLoCI0PyT/CEk9SmRzLP0a7PDZxp8s/RlLfrouqyj/gqZHG/S/IP2Kg/LETUcQ/hwACQZ1qvj+nfeAboyGyPwCoP0NpEpE/LCBm/P89pb96MB3vNvG5v4aPaV3WisS/BEbHSOu4y79mpFx2yRzRv9bchfs35dO/7gjlL1oZ1r8wFviTsqLXv0MlOrWScdi/BlY8Obt92L8l8+4JsMbXv7sTC0i9U9a/sM0f0awz1L/ZXVxRL3zRv+zn8sr9kcy/sykHQIh1xb+zKQdAiHXFvw==",
          "dtype": "f8"
         },
         "z": [
          2,
          2,
          2,
          2,
          2,
          2,
          2,
          2,
          2,
          2,
          2,
          2,
          2,
          2,
          2,
          2,
          2,
          2,
          2,
          2,
          2,
          2,
          2,
          2,
          2,
          2,
          2,
          2,
          2,
          2,
          2,
          2,
          1.8,
          1.8,
          1.8,
          1.8,
          1.8,
          1.8,
          1.8,
          1.8,
          1.8,
          1.8,
          1.8,
          1.8,
          1.8,
          1.8,
          1.8,
          1.8,
          1.8,
          1.8,
          1.8,
          1.8,
          1.8,
          1.8,
          1.8,
          1.8,
          1.8,
          1.8,
          1.8,
          1.8,
          1.8,
          1.8,
          1.8,
          1.8,
          1.6
         ]
        },
        {
         "marker": {
          "color": "red",
          "size": 10,
          "symbol": "diamond"
         },
         "mode": "markers",
         "name": "Current Position",
         "type": "scatter3d",
         "x": [
          0.023897828009780464
         ],
         "y": [
          -0.1676492989193555
         ],
         "z": [
          1.6
         ]
        }
       ],
       "layout": {
        "height": 500,
        "legend": {
         "x": 0,
         "y": 1
        },
        "margin": {
         "b": 0,
         "l": 0,
         "r": 0,
         "t": 30
        },
        "scene": {
         "aspectmode": "data",
         "camera": {
          "eye": {
           "x": 1.5,
           "y": 1.5,
           "z": 0.6
          }
         },
         "xaxis": {
          "title": {
           "text": "X (meters)"
          }
         },
         "yaxis": {
          "title": {
           "text": "Y (meters)"
          }
         },
         "zaxis": {
          "title": {
           "text": "Altitude (meters)"
          }
         }
        },
        "template": {
         "data": {
          "bar": [
           {
            "error_x": {
             "color": "#2a3f5f"
            },
            "error_y": {
             "color": "#2a3f5f"
            },
            "marker": {
             "line": {
              "color": "#E5ECF6",
              "width": 0.5
             },
             "pattern": {
              "fillmode": "overlay",
              "size": 10,
              "solidity": 0.2
             }
            },
            "type": "bar"
           }
          ],
          "barpolar": [
           {
            "marker": {
             "line": {
              "color": "#E5ECF6",
              "width": 0.5
             },
             "pattern": {
              "fillmode": "overlay",
              "size": 10,
              "solidity": 0.2
             }
            },
            "type": "barpolar"
           }
          ],
          "carpet": [
           {
            "aaxis": {
             "endlinecolor": "#2a3f5f",
             "gridcolor": "white",
             "linecolor": "white",
             "minorgridcolor": "white",
             "startlinecolor": "#2a3f5f"
            },
            "baxis": {
             "endlinecolor": "#2a3f5f",
             "gridcolor": "white",
             "linecolor": "white",
             "minorgridcolor": "white",
             "startlinecolor": "#2a3f5f"
            },
            "type": "carpet"
           }
          ],
          "choropleth": [
           {
            "colorbar": {
             "outlinewidth": 0,
             "ticks": ""
            },
            "type": "choropleth"
           }
          ],
          "contour": [
           {
            "colorbar": {
             "outlinewidth": 0,
             "ticks": ""
            },
            "colorscale": [
             [
              0,
              "#0d0887"
             ],
             [
              0.1111111111111111,
              "#46039f"
             ],
             [
              0.2222222222222222,
              "#7201a8"
             ],
             [
              0.3333333333333333,
              "#9c179e"
             ],
             [
              0.4444444444444444,
              "#bd3786"
             ],
             [
              0.5555555555555556,
              "#d8576b"
             ],
             [
              0.6666666666666666,
              "#ed7953"
             ],
             [
              0.7777777777777778,
              "#fb9f3a"
             ],
             [
              0.8888888888888888,
              "#fdca26"
             ],
             [
              1,
              "#f0f921"
             ]
            ],
            "type": "contour"
           }
          ],
          "contourcarpet": [
           {
            "colorbar": {
             "outlinewidth": 0,
             "ticks": ""
            },
            "type": "contourcarpet"
           }
          ],
          "heatmap": [
           {
            "colorbar": {
             "outlinewidth": 0,
             "ticks": ""
            },
            "colorscale": [
             [
              0,
              "#0d0887"
             ],
             [
              0.1111111111111111,
              "#46039f"
             ],
             [
              0.2222222222222222,
              "#7201a8"
             ],
             [
              0.3333333333333333,
              "#9c179e"
             ],
             [
              0.4444444444444444,
              "#bd3786"
             ],
             [
              0.5555555555555556,
              "#d8576b"
             ],
             [
              0.6666666666666666,
              "#ed7953"
             ],
             [
              0.7777777777777778,
              "#fb9f3a"
             ],
             [
              0.8888888888888888,
              "#fdca26"
             ],
             [
              1,
              "#f0f921"
             ]
            ],
            "type": "heatmap"
           }
          ],
          "histogram": [
           {
            "marker": {
             "pattern": {
              "fillmode": "overlay",
              "size": 10,
              "solidity": 0.2
             }
            },
            "type": "histogram"
           }
          ],
          "histogram2d": [
           {
            "colorbar": {
             "outlinewidth": 0,
             "ticks": ""
            },
            "colorscale": [
             [
              0,
              "#0d0887"
             ],
             [
              0.1111111111111111,
              "#46039f"
             ],
             [
              0.2222222222222222,
              "#7201a8"
             ],
             [
              0.3333333333333333,
              "#9c179e"
             ],
             [
              0.4444444444444444,
              "#bd3786"
             ],
             [
              0.5555555555555556,
              "#d8576b"
             ],
             [
              0.6666666666666666,
              "#ed7953"
             ],
             [
              0.7777777777777778,
              "#fb9f3a"
             ],
             [
              0.8888888888888888,
              "#fdca26"
             ],
             [
              1,
              "#f0f921"
             ]
            ],
            "type": "histogram2d"
           }
          ],
          "histogram2dcontour": [
           {
            "colorbar": {
             "outlinewidth": 0,
             "ticks": ""
            },
            "colorscale": [
             [
              0,
              "#0d0887"
             ],
             [
              0.1111111111111111,
              "#46039f"
             ],
             [
              0.2222222222222222,
              "#7201a8"
             ],
             [
              0.3333333333333333,
              "#9c179e"
             ],
             [
              0.4444444444444444,
              "#bd3786"
             ],
             [
              0.5555555555555556,
              "#d8576b"
             ],
             [
              0.6666666666666666,
              "#ed7953"
             ],
             [
              0.7777777777777778,
              "#fb9f3a"
             ],
             [
              0.8888888888888888,
              "#fdca26"
             ],
             [
              1,
              "#f0f921"
             ]
            ],
            "type": "histogram2dcontour"
           }
          ],
          "mesh3d": [
           {
            "colorbar": {
             "outlinewidth": 0,
             "ticks": ""
            },
            "type": "mesh3d"
           }
          ],
          "parcoords": [
           {
            "line": {
             "colorbar": {
              "outlinewidth": 0,
              "ticks": ""
             }
            },
            "type": "parcoords"
           }
          ],
          "pie": [
           {
            "automargin": true,
            "type": "pie"
           }
          ],
          "scatter": [
           {
            "fillpattern": {
             "fillmode": "overlay",
             "size": 10,
             "solidity": 0.2
            },
            "type": "scatter"
           }
          ],
          "scatter3d": [
           {
            "line": {
             "colorbar": {
              "outlinewidth": 0,
              "ticks": ""
             }
            },
            "marker": {
             "colorbar": {
              "outlinewidth": 0,
              "ticks": ""
             }
            },
            "type": "scatter3d"
           }
          ],
          "scattercarpet": [
           {
            "marker": {
             "colorbar": {
              "outlinewidth": 0,
              "ticks": ""
             }
            },
            "type": "scattercarpet"
           }
          ],
          "scattergeo": [
           {
            "marker": {
             "colorbar": {
              "outlinewidth": 0,
              "ticks": ""
             }
            },
            "type": "scattergeo"
           }
          ],
          "scattergl": [
           {
            "marker": {
             "colorbar": {
              "outlinewidth": 0,
              "ticks": ""
             }
            },
            "type": "scattergl"
           }
          ],
          "scattermap": [
           {
            "marker": {
             "colorbar": {
              "outlinewidth": 0,
              "ticks": ""
             }
            },
            "type": "scattermap"
           }
          ],
          "scattermapbox": [
           {
            "marker": {
             "colorbar": {
              "outlinewidth": 0,
              "ticks": ""
             }
            },
            "type": "scattermapbox"
           }
          ],
          "scatterpolar": [
           {
            "marker": {
             "colorbar": {
              "outlinewidth": 0,
              "ticks": ""
             }
            },
            "type": "scatterpolar"
           }
          ],
          "scatterpolargl": [
           {
            "marker": {
             "colorbar": {
              "outlinewidth": 0,
              "ticks": ""
             }
            },
            "type": "scatterpolargl"
           }
          ],
          "scatterternary": [
           {
            "marker": {
             "colorbar": {
              "outlinewidth": 0,
              "ticks": ""
             }
            },
            "type": "scatterternary"
           }
          ],
          "surface": [
           {
            "colorbar": {
             "outlinewidth": 0,
             "ticks": ""
            },
            "colorscale": [
             [
              0,
              "#0d0887"
             ],
             [
              0.1111111111111111,
              "#46039f"
             ],
             [
              0.2222222222222222,
              "#7201a8"
             ],
             [
              0.3333333333333333,
              "#9c179e"
             ],
             [
              0.4444444444444444,
              "#bd3786"
             ],
             [
              0.5555555555555556,
              "#d8576b"
             ],
             [
              0.6666666666666666,
              "#ed7953"
             ],
             [
              0.7777777777777778,
              "#fb9f3a"
             ],
             [
              0.8888888888888888,
              "#fdca26"
             ],
             [
              1,
              "#f0f921"
             ]
            ],
            "type": "surface"
           }
          ],
          "table": [
           {
            "cells": {
             "fill": {
              "color": "#EBF0F8"
             },
             "line": {
              "color": "white"
             }
            },
            "header": {
             "fill": {
              "color": "#C8D4E3"
             },
             "line": {
              "color": "white"
             }
            },
            "type": "table"
           }
          ]
         },
         "layout": {
          "annotationdefaults": {
           "arrowcolor": "#2a3f5f",
           "arrowhead": 0,
           "arrowwidth": 1
          },
          "autotypenumbers": "strict",
          "coloraxis": {
           "colorbar": {
            "outlinewidth": 0,
            "ticks": ""
           }
          },
          "colorscale": {
           "diverging": [
            [
             0,
             "#8e0152"
            ],
            [
             0.1,
             "#c51b7d"
            ],
            [
             0.2,
             "#de77ae"
            ],
            [
             0.3,
             "#f1b6da"
            ],
            [
             0.4,
             "#fde0ef"
            ],
            [
             0.5,
             "#f7f7f7"
            ],
            [
             0.6,
             "#e6f5d0"
            ],
            [
             0.7,
             "#b8e186"
            ],
            [
             0.8,
             "#7fbc41"
            ],
            [
             0.9,
             "#4d9221"
            ],
            [
             1,
             "#276419"
            ]
           ],
           "sequential": [
            [
             0,
             "#0d0887"
            ],
            [
             0.1111111111111111,
             "#46039f"
            ],
            [
             0.2222222222222222,
             "#7201a8"
            ],
            [
             0.3333333333333333,
             "#9c179e"
            ],
            [
             0.4444444444444444,
             "#bd3786"
            ],
            [
             0.5555555555555556,
             "#d8576b"
            ],
            [
             0.6666666666666666,
             "#ed7953"
            ],
            [
             0.7777777777777778,
             "#fb9f3a"
            ],
            [
             0.8888888888888888,
             "#fdca26"
            ],
            [
             1,
             "#f0f921"
            ]
           ],
           "sequentialminus": [
            [
             0,
             "#0d0887"
            ],
            [
             0.1111111111111111,
             "#46039f"
            ],
            [
             0.2222222222222222,
             "#7201a8"
            ],
            [
             0.3333333333333333,
             "#9c179e"
            ],
            [
             0.4444444444444444,
             "#bd3786"
            ],
            [
             0.5555555555555556,
             "#d8576b"
            ],
            [
             0.6666666666666666,
             "#ed7953"
            ],
            [
             0.7777777777777778,
             "#fb9f3a"
            ],
            [
             0.8888888888888888,
             "#fdca26"
            ],
            [
             1,
             "#f0f921"
            ]
           ]
          },
          "colorway": [
           "#636efa",
           "#EF553B",
           "#00cc96",
           "#ab63fa",
           "#FFA15A",
           "#19d3f3",
           "#FF6692",
           "#B6E880",
           "#FF97FF",
           "#FECB52"
          ],
          "font": {
           "color": "#2a3f5f"
          },
          "geo": {
           "bgcolor": "white",
           "lakecolor": "white",
           "landcolor": "#E5ECF6",
           "showlakes": true,
           "showland": true,
           "subunitcolor": "white"
          },
          "hoverlabel": {
           "align": "left"
          },
          "hovermode": "closest",
          "mapbox": {
           "style": "light"
          },
          "paper_bgcolor": "white",
          "plot_bgcolor": "#E5ECF6",
          "polar": {
           "angularaxis": {
            "gridcolor": "white",
            "linecolor": "white",
            "ticks": ""
           },
           "bgcolor": "#E5ECF6",
           "radialaxis": {
            "gridcolor": "white",
            "linecolor": "white",
            "ticks": ""
           }
          },
          "scene": {
           "xaxis": {
            "backgroundcolor": "#E5ECF6",
            "gridcolor": "white",
            "gridwidth": 2,
            "linecolor": "white",
            "showbackground": true,
            "ticks": "",
            "zerolinecolor": "white"
           },
           "yaxis": {
            "backgroundcolor": "#E5ECF6",
            "gridcolor": "white",
            "gridwidth": 2,
            "linecolor": "white",
            "showbackground": true,
            "ticks": "",
            "zerolinecolor": "white"
           },
           "zaxis": {
            "backgroundcolor": "#E5ECF6",
            "gridcolor": "white",
            "gridwidth": 2,
            "linecolor": "white",
            "showbackground": true,
            "ticks": "",
            "zerolinecolor": "white"
           }
          },
          "shapedefaults": {
           "line": {
            "color": "#2a3f5f"
           }
          },
          "ternary": {
           "aaxis": {
            "gridcolor": "white",
            "linecolor": "white",
            "ticks": ""
           },
           "baxis": {
            "gridcolor": "white",
            "linecolor": "white",
            "ticks": ""
           },
           "bgcolor": "#E5ECF6",
           "caxis": {
            "gridcolor": "white",
            "linecolor": "white",
            "ticks": ""
           }
          },
          "title": {
           "x": 0.05
          },
          "xaxis": {
           "automargin": true,
           "gridcolor": "white",
           "linecolor": "white",
           "ticks": "",
           "title": {
            "standoff": 15
           },
           "zerolinecolor": "white",
           "zerolinewidth": 2
          },
          "yaxis": {
           "automargin": true,
           "gridcolor": "white",
           "linecolor": "white",
           "ticks": "",
           "title": {
            "standoff": 15
           },
           "zerolinecolor": "white",
           "zerolinewidth": 2
          }
         }
        },
        "title": {
         "text": "Interactive 3D Drone Flight Path"
        },
        "width": 600
       }
      }
     },
     "metadata": {},
     "output_type": "display_data"
    },
    {
     "name": "stdout",
     "output_type": "stream",
     "text": [
      "\u2b55 Executing circle left (optimized)...\n"
     ]
    },
    {
     "data": {
      "application/vnd.plotly.v1+json": {
       "config": {
        "plotlyServerURL": "https://plot.ly"
       },
       "data": [
        {
         "line": {
          "color": "blue",
          "width": 4
         },
         "marker": {
          "size": 4
         },
         "mode": "lines+markers",
         "name": "Drone Path",
         "type": "scatter3d",
         "x": {
          "bdata": "AAAAAAAAAAAAAAAAAAAAAAChFy6Dfng/ULD2GgRAmD+gFwtFFdSqP3TFVR39Src/JfhZIAOnwT9QHalAR3zIPxiZYBSO388/BGKzs7jC0z9f9auY8Y/XPzSiMhqlMNs/ds4e+sx/3j922JGc0a3gPyIWjWN90+E/fW7NozSl4j8l+PQFmxrjP4Mjnl0CL+M/Z5/PbZrh4j9ODT82eTXiP0ZMqHR7MeE/QElQN/2/3z+8O8MT7pzcP8ygHXLNGdk/nerZvHNa1T9d7sb/H4XRPxfT8iLjgcs/PiZFl7FoxD8WJT/1Og68PypNkuuNPLE/ENx1Ro6VoT/gYP0WrHiIP+Bg/RaseIg/4GD9Fqx4iD+wmATX9luSP2CwOhMtPqI/7DdlJSB5sD+QcTWgElq6PzPOyeGNLsM/XvMYAtIDyj+TN+hqjLPQPwtNaxR+htQ/ZuBj+bZT2D88jep6avTbP3251lqSQ98/+c3tTLQP4T+lC+kTYDXiPwBkKVQXB+M/qO1Qtn184z8GGfoN5ZDjP+qUKx59Q+M/0QKb5luX4j/JQQQlXpPhPyQaBEzhQeA/wiZ7dLNg3T/Ti9XSkt3ZP6TVkR05HtY/ZNl+YOVI0j8lqWLkbQnNP0z8tFg88MU/MtEeeFAdvz9G+XFuo0u0P0g0NUy5s6c/4GD9Fqx4mD/gYP0WrHiYP+Bg/RaseJg/IEmD4kyYnj+YCPoYWFyoPwjkRKg1iLM/rB0VIyhpvT9BpDmjGLbEP2zJiMNci8s/miKgy1F30T8SOCN1Q0rVP23LG1p8F9k/Qnii2y+43D9CUsfdqwPgP3zDSf2WceE/KAFFxEKX4j+EWYUE+mjjPyzjrGZg3uM/ig5Wvsfy4z9uiofOX6XjP1T49pY++eI/TDdg1UD14T+nD2D8w6PgP8oRM9V4JN4/2naNM1ih2j+rwEl+/uHWP2vENsGqDNM/M3/SpfiQzj9a0iQax3fHP6c+f/0yFsE/YqVR8bhatz+AjPRR5NGtP6gIPhGBWqI/",
          "dtype": "f8"
         },
         "y": {
          "bdata": "AAAAAAAAAAAAAAAAAAAAAOH8Fvf+g64/5khnsUbovT85G5NPqa7FP4/+f7bli8s/KG4Fif8n0D92M3aUKOXRP85TKbmu69I/ECggqxox0z+Qc3Hnp7LSP12fSvNgddE/PDUA0tcLzz8dlYTAEvDJP63T862Vy8M/sxPXkCK6uT86M6iDEK2lPx4bWLy67pG/WPXLeiSgs78qscMoJ/7Av/OztczOfse/0iQI16sPzb+BPuMf+LvQv8NL9oNQRdK/1lo4pTAU07+ZizopWSDTv7go7flNadK/TkkJOFv20L+GBjyClazNv9kmtYKaPci/E1PvqjnXwb+zKQdAiHW1v7MpB0CIdbW/sykHQIh1tb8Kre4RI86Yv2Y+wOJ85aA/vwwfX8rntT+2aXyWIdHAP3ZHB/I6lcU/EtLoCI0PyT/CEk9SmRzLP0a7PDZxp8s/RlLfrouqyj/gqZHG/S/IP2Kg/LETUcQ/hwACQZ1qvj+nfeAboyGyPwCoP0NpEpE/LCBm/P89pb96MB3vNvG5v4aPaV3WisS/BEbHSOu4y79mpFx2yRzRv9bchfs35dO/7gjlL1oZ1r8wFviTsqLXv0MlOrWScdi/BlY8Obt92L8l8+4JsMbXv7sTC0i9U9a/sM0f0awz1L/ZXVxRL3zRv+zn8sr9kcy/sykHQIh1xb+zKQdAiHXFv7MpB0CIdcW/9tSCBBGpu78AFU6dkwWqvwDD+MWHkFw/cFPj2XVZqD86ZQek7bS1P3J6ytGRqbw/6X1LMtVhwD9tJjkWrezAP9p6tx2P378/DiocTXPquj8SF/IjnyyzP6it9QEq6qE/YGA1ISmfir+zPzfv7TCxv+QcHR9ECsC/Fy2Sl1+zx79fJG19mkXPv25tZbTXOdO/025ehit61r9Cp4cLmkLZv1rT5j+8dtu/nOD5oxQA3b+w7zvF9M7dv3IgPkkd292/kr3wGRIk3b8o3gxYH7HbvxyYIeEOkdm/RiheYZHZ1r9jPnv1YKbTv0ZfBTAmGNC/",
          "dtype": "f8"
         },
         "z": [
          2,
          2,
          2,
          2,
          2,
          2,
          2,
          2,
          2,
          2,
          2,
          2,
          2,
          2,
          2,
          2,
          2,
          2,
          2,
          2,
          2,
          2,
          2,
          2,
          2,
          2,
          2,
          2,
          2,
          2,
          2,
          2,
          1.8,
          1.8,
          1.8,
          1.8,
          1.8,
          1.8,
          1.8,
          1.8,
          1.8,
          1.8,
          1.8,
          1.8,
          1.8,
          1.8,
          1.8,
          1.8,
          1.8,
          1.8,
          1.8,
          1.8,
          1.8,
          1.8,
          1.8,
          1.8,
          1.8,
          1.8,
          1.8,
          1.8,
          1.8,
          1.8,
          1.8,
          1.8,
          1.6,
          1.6,
          1.6,
          1.6,
          1.6,
          1.6,
          1.6,
          1.6,
          1.6,
          1.6,
          1.6,
          1.6,
          1.6,
          1.6,
          1.6,
          1.6,
          1.6,
          1.6,
          1.6,
          1.6,
          1.6,
          1.6,
          1.6,
          1.6,
          1.6,
          1.6,
          1.6,
          1.6,
          1.6,
          1.6,
          1.6,
          1.6
         ]
        },
        {
         "marker": {
          "color": "red",
          "size": 10,
          "symbol": "diamond"
         },
         "mode": "markers",
         "name": "Current Position",
         "type": "scatter3d",
         "x": [
          0.035846742014670696
         ],
         "y": [
          -0.25147394837903325
         ],
         "z": [
          1.6
         ]
        }
       ],
       "layout": {
        "height": 500,
        "legend": {
         "x": 0,
         "y": 1
        },
        "margin": {
         "b": 0,
         "l": 0,
         "r": 0,
         "t": 30
        },
        "scene": {
         "aspectmode": "data",
         "camera": {
          "eye": {
           "x": 1.5,
           "y": 1.5,
           "z": 0.6
          }
         },
         "xaxis": {
          "title": {
           "text": "X (meters)"
          }
         },
         "yaxis": {
          "title": {
           "text": "Y (meters)"
          }
         },
         "zaxis": {
          "title": {
           "text": "Altitude (meters)"
          }
         }
        },
        "template": {
         "data": {
          "bar": [
           {
            "error_x": {
             "color": "#2a3f5f"
            },
            "error_y": {
             "color": "#2a3f5f"
            },
            "marker": {
             "line": {
              "color": "#E5ECF6",
              "width": 0.5
             },
             "pattern": {
              "fillmode": "overlay",
              "size": 10,
              "solidity": 0.2
             }
            },
            "type": "bar"
           }
          ],
          "barpolar": [
           {
            "marker": {
             "line": {
              "color": "#E5ECF6",
              "width": 0.5
             },
             "pattern": {
              "fillmode": "overlay",
              "size": 10,
              "solidity": 0.2
             }
            },
            "type": "barpolar"
           }
          ],
          "carpet": [
           {
            "aaxis": {
             "endlinecolor": "#2a3f5f",
             "gridcolor": "white",
             "linecolor": "white",
             "minorgridcolor": "white",
             "startlinecolor": "#2a3f5f"
            },
            "baxis": {
             "endlinecolor": "#2a3f5f",
             "gridcolor": "white",
             "linecolor": "white",
             "minorgridcolor": "white",
             "startlinecolor": "#2a3f5f"
            },
            "type": "carpet"
           }
          ],
          "choropleth": [
           {
            "colorbar": {
             "outlinewidth": 0,
             "ticks": ""
            },
            "type": "choropleth"
           }
          ],
          "contour": [
           {
            "colorbar": {
             "outlinewidth": 0,
             "ticks": ""
            },
            "colorscale": [
             [
              0,
              "#0d0887"
             ],
             [
              0.1111111111111111,
              "#46039f"
             ],
             [
              0.2222222222222222,
              "#7201a8"
             ],
             [
              0.3333333333333333,
              "#9c179e"
             ],
             [
              0.4444444444444444,
              "#bd3786"
             ],
             [
              0.5555555555555556,
              "#d8576b"
             ],
             [
              0.6666666666666666,
              "#ed7953"
             ],
             [
              0.7777777777777778,
              "#fb9f3a"
             ],
             [
              0.8888888888888888,
              "#fdca26"
             ],
             [
              1,
              "#f0f921"
             ]
            ],
            "type": "contour"
           }
          ],
          "contourcarpet": [
           {
            "colorbar": {
             "outlinewidth": 0,
             "ticks": ""
            },
            "type": "contourcarpet"
           }
          ],
          "heatmap": [
           {
            "colorbar": {
             "outlinewidth": 0,
             "ticks": ""
            },
            "colorscale": [
             [
              0,
              "#0d0887"
             ],
             [
              0.1111111111111111,
              "#46039f"
             ],
             [
              0.2222222222222222,
              "#7201a8"
             ],
             [
              0.3333333333333333,
              "#9c179e"
             ],
             [
              0.4444444444444444,
              "#bd3786"
             ],
             [
              0.5555555555555556,
              "#d8576b"
             ],
             [
              0.6666666666666666,
              "#ed7953"
             ],
             [
              0.7777777777777778,
              "#fb9f3a"
             ],
             [
              0.8888888888888888,
              "#fdca26"
             ],
             [
              1,
              "#f0f921"
             ]
            ],
            "type": "heatmap"
           }
          ],
          "histogram": [
           {
            "marker": {
             "pattern": {
              "fillmode": "overlay",
              "size": 10,
              "solidity": 0.2
             }
            },
            "type": "histogram"
           }
          ],
          "histogram2d": [
           {
            "colorbar": {
             "outlinewidth": 0,
             "ticks": ""
            },
            "colorscale": [
             [
              0,
              "#0d0887"
             ],
             [
              0.1111111111111111,
              "#46039f"
             ],
             [
              0.2222222222222222,
              "#7201a8"
             ],
             [
              0.3333333333333333,
              "#9c179e"
             ],
             [
              0.4444444444444444,
              "#bd3786"
             ],
             [
              0.5555555555555556,
              "#d8576b"
             ],
             [
              0.6666666666666666,
              "#ed7953"
             ],
             [
              0.7777777777777778,
              "#fb9f3a"
             ],
             [
              0.8888888888888888,
              "#fdca26"
             ],
             [
              1,
              "#f0f921"
             ]
            ],
            "type": "histogram2d"
           }
          ],
          "histogram2dcontour": [
           {
            "colorbar": {
             "outlinewidth": 0,
             "ticks": ""
            },
            "colorscale": [
             [
              0,
              "#0d0887"
             ],
             [
              0.1111111111111111,
              "#46039f"
             ],
             [
              0.2222222222222222,
              "#7201a8"
             ],
             [
              0.3333333333333333,
              "#9c179e"
             ],
             [
              0.4444444444444444,
              "#bd3786"
             ],
             [
              0.5555555555555556,
              "#d8576b"
             ],
             [
              0.6666666666666666,
              "#ed7953"
             ],
             [
              0.7777777777777778,
              "#fb9f3a"
             ],
             [
              0.8888888888888888,
              "#fdca26"
             ],
             [
              1,
              "#f0f921"
             ]
            ],
            "type": "histogram2dcontour"
           }
          ],
          "mesh3d": [
           {
            "colorbar": {
             "outlinewidth": 0,
             "ticks": ""
            },
            "type": "mesh3d"
           }
          ],
          "parcoords": [
           {
            "line": {
             "colorbar": {
              "outlinewidth": 0,
              "ticks": ""
             }
            },
            "type": "parcoords"
           }
          ],
          "pie": [
           {
            "automargin": true,
            "type": "pie"
           }
          ],
          "scatter": [
           {
            "fillpattern": {
             "fillmode": "overlay",
             "size": 10,
             "solidity": 0.2
            },
            "type": "scatter"
           }
          ],
          "scatter3d": [
           {
            "line": {
             "colorbar": {
              "outlinewidth": 0,
              "ticks": ""
             }
            },
            "marker": {
             "colorbar": {
              "outlinewidth": 0,
              "ticks": ""
             }
            },
            "type": "scatter3d"
           }
          ],
          "scattercarpet": [
           {
            "marker": {
             "colorbar": {
              "outlinewidth": 0,
              "ticks": ""
             }
            },
            "type": "scattercarpet"
           }
          ],
          "scattergeo": [
           {
            "marker": {
             "colorbar": {
              "outlinewidth": 0,
              "ticks": ""
             }
            },
            "type": "scattergeo"
           }
          ],
          "scattergl": [
           {
            "marker": {
             "colorbar": {
              "outlinewidth": 0,
              "ticks": ""
             }
            },
            "type": "scattergl"
           }
          ],
          "scattermap": [
           {
            "marker": {
             "colorbar": {
              "outlinewidth": 0,
              "ticks": ""
             }
            },
            "type": "scattermap"
           }
          ],
          "scattermapbox": [
           {
            "marker": {
             "colorbar": {
              "outlinewidth": 0,
              "ticks": ""
             }
            },
            "type": "scattermapbox"
           }
          ],
          "scatterpolar": [
           {
            "marker": {
             "colorbar": {
              "outlinewidth": 0,
              "ticks": ""
             }
            },
            "type": "scatterpolar"
           }
          ],
          "scatterpolargl": [
           {
            "marker": {
             "colorbar": {
              "outlinewidth": 0,
              "ticks": ""
             }
            },
            "type": "scatterpolargl"
           }
          ],
          "scatterternary": [
           {
            "marker": {
             "colorbar": {
              "outlinewidth": 0,
              "ticks": ""
             }
            },
            "type": "scatterternary"
           }
          ],
          "surface": [
           {
            "colorbar": {
             "outlinewidth": 0,
             "ticks": ""
            },
            "colorscale": [
             [
              0,
              "#0d0887"
             ],
             [
              0.1111111111111111,
              "#46039f"
             ],
             [
              0.2222222222222222,
              "#7201a8"
             ],
             [
              0.3333333333333333,
              "#9c179e"
             ],
             [
              0.4444444444444444,
              "#bd3786"
             ],
             [
              0.5555555555555556,
              "#d8576b"
             ],
             [
              0.6666666666666666,
              "#ed7953"
             ],
             [
              0.7777777777777778,
              "#fb9f3a"
             ],
             [
              0.8888888888888888,
              "#fdca26"
             ],
             [
              1,
              "#f0f921"
             ]
            ],
            "type": "surface"
           }
          ],
          "table": [
           {
            "cells": {
             "fill": {
              "color": "#EBF0F8"
             },
             "line": {
              "color": "white"
             }
            },
            "header": {
             "fill": {
              "color": "#C8D4E3"
             },
             "line": {
              "color": "white"
             }
            },
            "type": "table"
           }
          ]
         },
         "layout": {
          "annotationdefaults": {
           "arrowcolor": "#2a3f5f",
           "arrowhead": 0,
           "arrowwidth": 1
          },
          "autotypenumbers": "strict",
          "coloraxis": {
           "colorbar": {
            "outlinewidth": 0,
            "ticks": ""
           }
          },
          "colorscale": {
           "diverging": [
            [
             0,
             "#8e0152"
            ],
            [
             0.1,
             "#c51b7d"
            ],
            [
             0.2,
             "#de77ae"
            ],
            [
             0.3,
             "#f1b6da"
            ],
            [
             0.4,
             "#fde0ef"
            ],
            [
             0.5,
             "#f7f7f7"
            ],
            [
             0.6,
             "#e6f5d0"
            ],
            [
             0.7,
             "#b8e186"
            ],
            [
             0.8,
             "#7fbc41"
            ],
            [
             0.9,
             "#4d9221"
            ],
            [
             1,
             "#276419"
            ]
           ],
           "sequential": [
            [
             0,
             "#0d0887"
            ],
            [
             0.1111111111111111,
             "#46039f"
            ],
            [
             0.2222222222222222,
             "#7201a8"
            ],
            [
             0.3333333333333333,
             "#9c179e"
            ],
            [
             0.4444444444444444,
             "#bd3786"
            ],
            [
             0.5555555555555556,
             "#d8576b"
            ],
            [
             0.6666666666666666,
             "#ed7953"
            ],
            [
             0.7777777777777778,
             "#fb9f3a"
            ],
            [
             0.8888888888888888,
             "#fdca26"
            ],
            [
             1,
             "#f0f921"
            ]
           ],
           "sequentialminus": [
            [
             0,
             "#0d0887"
            ],
            [
             0.1111111111111111,
             "#46039f"
            ],
            [
             0.2222222222222222,
             "#7201a8"
            ],
            [
             0.3333333333333333,
             "#9c179e"
            ],
            [
             0.4444444444444444,
             "#bd3786"
            ],
            [
             0.5555555555555556,
             "#d8576b"
            ],
            [
             0.6666666666666666,
             "#ed7953"
            ],
            [
             0.7777777777777778,
             "#fb9f3a"
            ],
            [
             0.8888888888888888,
             "#fdca26"
            ],
            [
             1,
             "#f0f921"
            ]
           ]
          },
          "colorway": [
           "#636efa",
           "#EF553B",
           "#00cc96",
           "#ab63fa",
           "#FFA15A",
           "#19d3f3",
           "#FF6692",
           "#B6E880",
           "#FF97FF",
           "#FECB52"
          ],
          "font": {
           "color": "#2a3f5f"
          },
          "geo": {
           "bgcolor": "white",
           "lakecolor": "white",
           "landcolor": "#E5ECF6",
           "showlakes": true,
           "showland": true,
           "subunitcolor": "white"
          },
          "hoverlabel": {
           "align": "left"
          },
          "hovermode": "closest",
          "mapbox": {
           "style": "light"
          },
          "paper_bgcolor": "white",
          "plot_bgcolor": "#E5ECF6",
          "polar": {
           "angularaxis": {
            "gridcolor": "white",
            "linecolor": "white",
            "ticks": ""
           },
           "bgcolor": "#E5ECF6",
           "radialaxis": {
            "gridcolor": "white",
            "linecolor": "white",
            "ticks": ""
           }
          },
          "scene": {
           "xaxis": {
            "backgroundcolor": "#E5ECF6",
            "gridcolor": "white",
            "gridwidth": 2,
            "linecolor": "white",
            "showbackground": true,
            "ticks": "",
            "zerolinecolor": "white"
           },
           "yaxis": {
            "backgroundcolor": "#E5ECF6",
            "gridcolor": "white",
            "gridwidth": 2,
            "linecolor": "white",
            "showbackground": true,
            "ticks": "",
            "zerolinecolor": "white"
           },
           "zaxis": {
            "backgroundcolor": "#E5ECF6",
            "gridcolor": "white",
            "gridwidth": 2,
            "linecolor": "white",
            "showbackground": true,
            "ticks": "",
            "zerolinecolor": "white"
           }
          },
          "shapedefaults": {
           "line": {
            "color": "#2a3f5f"
           }
          },
          "ternary": {
           "aaxis": {
            "gridcolor": "white",
            "linecolor": "white",
            "ticks": ""
           },
           "baxis": {
            "gridcolor": "white",
            "linecolor": "white",
            "ticks": ""
           },
           "bgcolor": "#E5ECF6",
           "caxis": {
            "gridcolor": "white",
            "linecolor": "white",
            "ticks": ""
           }
          },
          "title": {
           "x": 0.05
          },
          "xaxis": {
           "automargin": true,
           "gridcolor": "white",
           "linecolor": "white",
           "ticks": "",
           "title": {
            "standoff": 15
           },
           "zerolinecolor": "white",
           "zerolinewidth": 2
          },
          "yaxis": {
           "automargin": true,
           "gridcolor": "white",
           "linecolor": "white",
           "ticks": "",
           "title": {
            "standoff": 15
           },
           "zerolinecolor": "white",
           "zerolinewidth": 2
          }
         }
        },
        "title": {
         "text": "Interactive 3D Drone Flight Path"
        },
        "width": 600
       }
      }
     },
     "metadata": {},
     "output_type": "display_data"
    },
    {
     "name": "stdout",
     "output_type": "stream",
     "text": [
      "Moving: vx=0, vy=0, vz=-0.2, yaw=0\n",
      "Executing command: move 0 0 -0.2 0 1.0\n"
     ]
    },
    {
     "data": {
      "application/vnd.plotly.v1+json": {
       "config": {
        "plotlyServerURL": "https://plot.ly"
       },
       "data": [
        {
         "line": {
          "color": "blue",
          "width": 4
         },
         "marker": {
          "size": 4
         },
         "mode": "lines+markers",
         "name": "Drone Path",
         "type": "scatter3d",
         "x": {
          "bdata": "AAAAAAAAAAAAAAAAAAAAAAChFy6Dfng/ULD2GgRAmD+gFwtFFdSqP3TFVR39Src/JfhZIAOnwT9QHalAR3zIPxiZYBSO388/BGKzs7jC0z9f9auY8Y/XPzSiMhqlMNs/ds4e+sx/3j922JGc0a3gPyIWjWN90+E/fW7NozSl4j8l+PQFmxrjP4Mjnl0CL+M/Z5/PbZrh4j9ODT82eTXiP0ZMqHR7MeE/QElQN/2/3z+8O8MT7pzcP8ygHXLNGdk/nerZvHNa1T9d7sb/H4XRPxfT8iLjgcs/PiZFl7FoxD8WJT/1Og68PypNkuuNPLE/ENx1Ro6VoT/gYP0WrHiIP+Bg/RaseIg/4GD9Fqx4iD+wmATX9luSP2CwOhMtPqI/7DdlJSB5sD+QcTWgElq6PzPOyeGNLsM/XvMYAtIDyj+TN+hqjLPQPwtNaxR+htQ/ZuBj+bZT2D88jep6avTbP3251lqSQ98/+c3tTLQP4T+lC+kTYDXiPwBkKVQXB+M/qO1Qtn184z8GGfoN5ZDjP+qUKx59Q+M/0QKb5luX4j/JQQQlXpPhPyQaBEzhQeA/wiZ7dLNg3T/Ti9XSkt3ZP6TVkR05HtY/ZNl+YOVI0j8lqWLkbQnNP0z8tFg88MU/MtEeeFAdvz9G+XFuo0u0P0g0NUy5s6c/4GD9Fqx4mD/gYP0WrHiYP+Bg/RaseJg/IEmD4kyYnj+YCPoYWFyoPwjkRKg1iLM/rB0VIyhpvT9BpDmjGLbEP2zJiMNci8s/miKgy1F30T8SOCN1Q0rVP23LG1p8F9k/Qnii2y+43D9CUsfdqwPgP3zDSf2WceE/KAFFxEKX4j+EWYUE+mjjPyzjrGZg3uM/ig5Wvsfy4z9uiofOX6XjP1T49pY++eI/TDdg1UD14T+nD2D8w6PgP8oRM9V4JN4/2naNM1ih2j+rwEl+/uHWP2vENsGqDNM/M3/SpfiQzj9a0iQax3fHP6c+f/0yFsE/YqVR8bhatz+AjPRR5NGtP6gIPhGBWqI/qAg+EYFaoj8=",
          "dtype": "f8"
         },
         "y": {
          "bdata": "AAAAAAAAAAAAAAAAAAAAAOH8Fvf+g64/5khnsUbovT85G5NPqa7FP4/+f7bli8s/KG4Fif8n0D92M3aUKOXRP85TKbmu69I/ECggqxox0z+Qc3Hnp7LSP12fSvNgddE/PDUA0tcLzz8dlYTAEvDJP63T862Vy8M/sxPXkCK6uT86M6iDEK2lPx4bWLy67pG/WPXLeiSgs78qscMoJ/7Av/OztczOfse/0iQI16sPzb+BPuMf+LvQv8NL9oNQRdK/1lo4pTAU07+ZizopWSDTv7go7flNadK/TkkJOFv20L+GBjyClazNv9kmtYKaPci/E1PvqjnXwb+zKQdAiHW1v7MpB0CIdbW/sykHQIh1tb8Kre4RI86Yv2Y+wOJ85aA/vwwfX8rntT+2aXyWIdHAP3ZHB/I6lcU/EtLoCI0PyT/CEk9SmRzLP0a7PDZxp8s/RlLfrouqyj/gqZHG/S/IP2Kg/LETUcQ/hwACQZ1qvj+nfeAboyGyPwCoP0NpEpE/LCBm/P89pb96MB3vNvG5v4aPaV3WisS/BEbHSOu4y79mpFx2yRzRv9bchfs35dO/7gjlL1oZ1r8wFviTsqLXv0MlOrWScdi/BlY8Obt92L8l8+4JsMbXv7sTC0i9U9a/sM0f0awz1L/ZXVxRL3zRv+zn8sr9kcy/sykHQIh1xb+zKQdAiHXFv7MpB0CIdcW/9tSCBBGpu78AFU6dkwWqvwDD+MWHkFw/cFPj2XVZqD86ZQek7bS1P3J6ytGRqbw/6X1LMtVhwD9tJjkWrezAP9p6tx2P378/DiocTXPquj8SF/IjnyyzP6it9QEq6qE/YGA1ISmfir+zPzfv7TCxv+QcHR9ECsC/Fy2Sl1+zx79fJG19mkXPv25tZbTXOdO/025ehit61r9Cp4cLmkLZv1rT5j+8dtu/nOD5oxQA3b+w7zvF9M7dv3IgPkkd292/kr3wGRIk3b8o3gxYH7HbvxyYIeEOkdm/RiheYZHZ1r9jPnv1YKbTv0ZfBTAmGNC/Rl8FMCYY0L8=",
          "dtype": "f8"
         },
         "z": [
          2,
          2,
          2,
          2,
          2,
          2,
          2,
          2,
          2,
          2,
          2,
          2,
          2,
          2,
          2,
          2,
          2,
          2,
          2,
          2,
          2,
          2,
          2,
          2,
          2,
          2,
          2,
          2,
          2,
          2,
          2,
          2,
          1.8,
          1.8,
          1.8,
          1.8,
          1.8,
          1.8,
          1.8,
          1.8,
          1.8,
          1.8,
          1.8,
          1.8,
          1.8,
          1.8,
          1.8,
          1.8,
          1.8,
          1.8,
          1.8,
          1.8,
          1.8,
          1.8,
          1.8,
          1.8,
          1.8,
          1.8,
          1.8,
          1.8,
          1.8,
          1.8,
          1.8,
          1.8,
          1.6,
          1.6,
          1.6,
          1.6,
          1.6,
          1.6,
          1.6,
          1.6,
          1.6,
          1.6,
          1.6,
          1.6,
          1.6,
          1.6,
          1.6,
          1.6,
          1.6,
          1.6,
          1.6,
          1.6,
          1.6,
          1.6,
          1.6,
          1.6,
          1.6,
          1.6,
          1.6,
          1.6,
          1.6,
          1.6,
          1.6,
          1.6,
          1.4000000000000001
         ]
        },
        {
         "marker": {
          "color": "red",
          "size": 10,
          "symbol": "diamond"
         },
         "mode": "markers",
         "name": "Current Position",
         "type": "scatter3d",
         "x": [
          0.035846742014670696
         ],
         "y": [
          -0.25147394837903325
         ],
         "z": [
          1.4000000000000001
         ]
        }
       ],
       "layout": {
        "height": 500,
        "legend": {
         "x": 0,
         "y": 1
        },
        "margin": {
         "b": 0,
         "l": 0,
         "r": 0,
         "t": 30
        },
        "scene": {
         "aspectmode": "data",
         "camera": {
          "eye": {
           "x": 1.5,
           "y": 1.5,
           "z": 0.6
          }
         },
         "xaxis": {
          "title": {
           "text": "X (meters)"
          }
         },
         "yaxis": {
          "title": {
           "text": "Y (meters)"
          }
         },
         "zaxis": {
          "title": {
           "text": "Altitude (meters)"
          }
         }
        },
        "template": {
         "data": {
          "bar": [
           {
            "error_x": {
             "color": "#2a3f5f"
            },
            "error_y": {
             "color": "#2a3f5f"
            },
            "marker": {
             "line": {
              "color": "#E5ECF6",
              "width": 0.5
             },
             "pattern": {
              "fillmode": "overlay",
              "size": 10,
              "solidity": 0.2
             }
            },
            "type": "bar"
           }
          ],
          "barpolar": [
           {
            "marker": {
             "line": {
              "color": "#E5ECF6",
              "width": 0.5
             },
             "pattern": {
              "fillmode": "overlay",
              "size": 10,
              "solidity": 0.2
             }
            },
            "type": "barpolar"
           }
          ],
          "carpet": [
           {
            "aaxis": {
             "endlinecolor": "#2a3f5f",
             "gridcolor": "white",
             "linecolor": "white",
             "minorgridcolor": "white",
             "startlinecolor": "#2a3f5f"
            },
            "baxis": {
             "endlinecolor": "#2a3f5f",
             "gridcolor": "white",
             "linecolor": "white",
             "minorgridcolor": "white",
             "startlinecolor": "#2a3f5f"
            },
            "type": "carpet"
           }
          ],
          "choropleth": [
           {
            "colorbar": {
             "outlinewidth": 0,
             "ticks": ""
            },
            "type": "choropleth"
           }
          ],
          "contour": [
           {
            "colorbar": {
             "outlinewidth": 0,
             "ticks": ""
            },
            "colorscale": [
             [
              0,
              "#0d0887"
             ],
             [
              0.1111111111111111,
              "#46039f"
             ],
             [
              0.2222222222222222,
              "#7201a8"
             ],
             [
              0.3333333333333333,
              "#9c179e"
             ],
             [
              0.4444444444444444,
              "#bd3786"
             ],
             [
              0.5555555555555556,
              "#d8576b"
             ],
             [
              0.6666666666666666,
              "#ed7953"
             ],
             [
              0.7777777777777778,
              "#fb9f3a"
             ],
             [
              0.8888888888888888,
              "#fdca26"
             ],
             [
              1,
              "#f0f921"
             ]
            ],
            "type": "contour"
           }
          ],
          "contourcarpet": [
           {
            "colorbar": {
             "outlinewidth": 0,
             "ticks": ""
            },
            "type": "contourcarpet"
           }
          ],
          "heatmap": [
           {
            "colorbar": {
             "outlinewidth": 0,
             "ticks": ""
            },
            "colorscale": [
             [
              0,
              "#0d0887"
             ],
             [
              0.1111111111111111,
              "#46039f"
             ],
             [
              0.2222222222222222,
              "#7201a8"
             ],
             [
              0.3333333333333333,
              "#9c179e"
             ],
             [
              0.4444444444444444,
              "#bd3786"
             ],
             [
              0.5555555555555556,
              "#d8576b"
             ],
             [
              0.6666666666666666,
              "#ed7953"
             ],
             [
              0.7777777777777778,
              "#fb9f3a"
             ],
             [
              0.8888888888888888,
              "#fdca26"
             ],
             [
              1,
              "#f0f921"
             ]
            ],
            "type": "heatmap"
           }
          ],
          "histogram": [
           {
            "marker": {
             "pattern": {
              "fillmode": "overlay",
              "size": 10,
              "solidity": 0.2
             }
            },
            "type": "histogram"
           }
          ],
          "histogram2d": [
           {
            "colorbar": {
             "outlinewidth": 0,
             "ticks": ""
            },
            "colorscale": [
             [
              0,
              "#0d0887"
             ],
             [
              0.1111111111111111,
              "#46039f"
             ],
             [
              0.2222222222222222,
              "#7201a8"
             ],
             [
              0.3333333333333333,
              "#9c179e"
             ],
             [
              0.4444444444444444,
              "#bd3786"
             ],
             [
              0.5555555555555556,
              "#d8576b"
             ],
             [
              0.6666666666666666,
              "#ed7953"
             ],
             [
              0.7777777777777778,
              "#fb9f3a"
             ],
             [
              0.8888888888888888,
              "#fdca26"
             ],
             [
              1,
              "#f0f921"
             ]
            ],
            "type": "histogram2d"
           }
          ],
          "histogram2dcontour": [
           {
            "colorbar": {
             "outlinewidth": 0,
             "ticks": ""
            },
            "colorscale": [
             [
              0,
              "#0d0887"
             ],
             [
              0.1111111111111111,
              "#46039f"
             ],
             [
              0.2222222222222222,
              "#7201a8"
             ],
             [
              0.3333333333333333,
              "#9c179e"
             ],
             [
              0.4444444444444444,
              "#bd3786"
             ],
             [
              0.5555555555555556,
              "#d8576b"
             ],
             [
              0.6666666666666666,
              "#ed7953"
             ],
             [
              0.7777777777777778,
              "#fb9f3a"
             ],
             [
              0.8888888888888888,
              "#fdca26"
             ],
             [
              1,
              "#f0f921"
             ]
            ],
            "type": "histogram2dcontour"
           }
          ],
          "mesh3d": [
           {
            "colorbar": {
             "outlinewidth": 0,
             "ticks": ""
            },
            "type": "mesh3d"
           }
          ],
          "parcoords": [
           {
            "line": {
             "colorbar": {
              "outlinewidth": 0,
              "ticks": ""
             }
            },
            "type": "parcoords"
           }
          ],
          "pie": [
           {
            "automargin": true,
            "type": "pie"
           }
          ],
          "scatter": [
           {
            "fillpattern": {
             "fillmode": "overlay",
             "size": 10,
             "solidity": 0.2
            },
            "type": "scatter"
           }
          ],
          "scatter3d": [
           {
            "line": {
             "colorbar": {
              "outlinewidth": 0,
              "ticks": ""
             }
            },
            "marker": {
             "colorbar": {
              "outlinewidth": 0,
              "ticks": ""
             }
            },
            "type": "scatter3d"
           }
          ],
          "scattercarpet": [
           {
            "marker": {
             "colorbar": {
              "outlinewidth": 0,
              "ticks": ""
             }
            },
            "type": "scattercarpet"
           }
          ],
          "scattergeo": [
           {
            "marker": {
             "colorbar": {
              "outlinewidth": 0,
              "ticks": ""
             }
            },
            "type": "scattergeo"
           }
          ],
          "scattergl": [
           {
            "marker": {
             "colorbar": {
              "outlinewidth": 0,
              "ticks": ""
             }
            },
            "type": "scattergl"
           }
          ],
          "scattermap": [
           {
            "marker": {
             "colorbar": {
              "outlinewidth": 0,
              "ticks": ""
             }
            },
            "type": "scattermap"
           }
          ],
          "scattermapbox": [
           {
            "marker": {
             "colorbar": {
              "outlinewidth": 0,
              "ticks": ""
             }
            },
            "type": "scattermapbox"
           }
          ],
          "scatterpolar": [
           {
            "marker": {
             "colorbar": {
              "outlinewidth": 0,
              "ticks": ""
             }
            },
            "type": "scatterpolar"
           }
          ],
          "scatterpolargl": [
           {
            "marker": {
             "colorbar": {
              "outlinewidth": 0,
              "ticks": ""
             }
            },
            "type": "scatterpolargl"
           }
          ],
          "scatterternary": [
           {
            "marker": {
             "colorbar": {
              "outlinewidth": 0,
              "ticks": ""
             }
            },
            "type": "scatterternary"
           }
          ],
          "surface": [
           {
            "colorbar": {
             "outlinewidth": 0,
             "ticks": ""
            },
            "colorscale": [
             [
              0,
              "#0d0887"
             ],
             [
              0.1111111111111111,
              "#46039f"
             ],
             [
              0.2222222222222222,
              "#7201a8"
             ],
             [
              0.3333333333333333,
              "#9c179e"
             ],
             [
              0.4444444444444444,
              "#bd3786"
             ],
             [
              0.5555555555555556,
              "#d8576b"
             ],
             [
              0.6666666666666666,
              "#ed7953"
             ],
             [
              0.7777777777777778,
              "#fb9f3a"
             ],
             [
              0.8888888888888888,
              "#fdca26"
             ],
             [
              1,
              "#f0f921"
             ]
            ],
            "type": "surface"
           }
          ],
          "table": [
           {
            "cells": {
             "fill": {
              "color": "#EBF0F8"
             },
             "line": {
              "color": "white"
             }
            },
            "header": {
             "fill": {
              "color": "#C8D4E3"
             },
             "line": {
              "color": "white"
             }
            },
            "type": "table"
           }
          ]
         },
         "layout": {
          "annotationdefaults": {
           "arrowcolor": "#2a3f5f",
           "arrowhead": 0,
           "arrowwidth": 1
          },
          "autotypenumbers": "strict",
          "coloraxis": {
           "colorbar": {
            "outlinewidth": 0,
            "ticks": ""
           }
          },
          "colorscale": {
           "diverging": [
            [
             0,
             "#8e0152"
            ],
            [
             0.1,
             "#c51b7d"
            ],
            [
             0.2,
             "#de77ae"
            ],
            [
             0.3,
             "#f1b6da"
            ],
            [
             0.4,
             "#fde0ef"
            ],
            [
             0.5,
             "#f7f7f7"
            ],
            [
             0.6,
             "#e6f5d0"
            ],
            [
             0.7,
             "#b8e186"
            ],
            [
             0.8,
             "#7fbc41"
            ],
            [
             0.9,
             "#4d9221"
            ],
            [
             1,
             "#276419"
            ]
           ],
           "sequential": [
            [
             0,
             "#0d0887"
            ],
            [
             0.1111111111111111,
             "#46039f"
            ],
            [
             0.2222222222222222,
             "#7201a8"
            ],
            [
             0.3333333333333333,
             "#9c179e"
            ],
            [
             0.4444444444444444,
             "#bd3786"
            ],
            [
             0.5555555555555556,
             "#d8576b"
            ],
            [
             0.6666666666666666,
             "#ed7953"
            ],
            [
             0.7777777777777778,
             "#fb9f3a"
            ],
            [
             0.8888888888888888,
             "#fdca26"
            ],
            [
             1,
             "#f0f921"
            ]
           ],
           "sequentialminus": [
            [
             0,
             "#0d0887"
            ],
            [
             0.1111111111111111,
             "#46039f"
            ],
            [
             0.2222222222222222,
             "#7201a8"
            ],
            [
             0.3333333333333333,
             "#9c179e"
            ],
            [
             0.4444444444444444,
             "#bd3786"
            ],
            [
             0.5555555555555556,
             "#d8576b"
            ],
            [
             0.6666666666666666,
             "#ed7953"
            ],
            [
             0.7777777777777778,
             "#fb9f3a"
            ],
            [
             0.8888888888888888,
             "#fdca26"
            ],
            [
             1,
             "#f0f921"
            ]
           ]
          },
          "colorway": [
           "#636efa",
           "#EF553B",
           "#00cc96",
           "#ab63fa",
           "#FFA15A",
           "#19d3f3",
           "#FF6692",
           "#B6E880",
           "#FF97FF",
           "#FECB52"
          ],
          "font": {
           "color": "#2a3f5f"
          },
          "geo": {
           "bgcolor": "white",
           "lakecolor": "white",
           "landcolor": "#E5ECF6",
           "showlakes": true,
           "showland": true,
           "subunitcolor": "white"
          },
          "hoverlabel": {
           "align": "left"
          },
          "hovermode": "closest",
          "mapbox": {
           "style": "light"
          },
          "paper_bgcolor": "white",
          "plot_bgcolor": "#E5ECF6",
          "polar": {
           "angularaxis": {
            "gridcolor": "white",
            "linecolor": "white",
            "ticks": ""
           },
           "bgcolor": "#E5ECF6",
           "radialaxis": {
            "gridcolor": "white",
            "linecolor": "white",
            "ticks": ""
           }
          },
          "scene": {
           "xaxis": {
            "backgroundcolor": "#E5ECF6",
            "gridcolor": "white",
            "gridwidth": 2,
            "linecolor": "white",
            "showbackground": true,
            "ticks": "",
            "zerolinecolor": "white"
           },
           "yaxis": {
            "backgroundcolor": "#E5ECF6",
            "gridcolor": "white",
            "gridwidth": 2,
            "linecolor": "white",
            "showbackground": true,
            "ticks": "",
            "zerolinecolor": "white"
           },
           "zaxis": {
            "backgroundcolor": "#E5ECF6",
            "gridcolor": "white",
            "gridwidth": 2,
            "linecolor": "white",
            "showbackground": true,
            "ticks": "",
            "zerolinecolor": "white"
           }
          },
          "shapedefaults": {
           "line": {
            "color": "#2a3f5f"
           }
          },
          "ternary": {
           "aaxis": {
            "gridcolor": "white",
            "linecolor": "white",
            "ticks": ""
           },
           "baxis": {
            "gridcolor": "white",
            "linecolor": "white",
            "ticks": ""
           },
           "bgcolor": "#E5ECF6",
           "caxis": {
            "gridcolor": "white",
            "linecolor": "white",
            "ticks": ""
           }
          },
          "title": {
           "x": 0.05
          },
          "xaxis": {
           "automargin": true,
           "gridcolor": "white",
           "linecolor": "white",
           "ticks": "",
           "title": {
            "standoff": 15
           },
           "zerolinecolor": "white",
           "zerolinewidth": 2
          },
          "yaxis": {
           "automargin": true,
           "gridcolor": "white",
           "linecolor": "white",
           "ticks": "",
           "title": {
            "standoff": 15
           },
           "zerolinecolor": "white",
           "zerolinewidth": 2
          }
         }
        },
        "title": {
         "text": "Interactive 3D Drone Flight Path"
        },
        "width": 600
       }
      }
     },
     "metadata": {},
     "output_type": "display_data"
    },
    {
     "ename": "AttributeError",
     "evalue": "'CrazyflieSimulator' object has no attribute 'circle_left_'",
     "output_type": "error",
     "traceback": [
      "\u001b[0;31m---------------------------------------------------------------------------\u001b[0m",
      "\u001b[0;31mAttributeError\u001b[0m                            Traceback (most recent call last)",
      "Cell \u001b[0;32mIn[2], line 20\u001b[0m\n\u001b[1;32m     18\u001b[0m \u001b[38;5;66;03m# Level 4 \u2013 1.4m\u001b[39;00m\n\u001b[1;32m     19\u001b[0m drone\u001b[38;5;241m.\u001b[39mdown(\u001b[38;5;241m0.2\u001b[39m, \u001b[38;5;241m0.2\u001b[39m)\n\u001b[0;32m---> 20\u001b[0m \u001b[43mdrone\u001b[49m\u001b[38;5;241;43m.\u001b[39;49m\u001b[43mcircle_left_\u001b[49m\n",
      "\u001b[0;31mAttributeError\u001b[0m: 'CrazyflieSimulator' object has no attribute 'circle_left_'"
     ]
    }
   ],
   "source": [
    "drone.takeoff(2.0, 0.4)\n",
    "\n"
   ]
  },
  {
   "cell_type": "markdown",
   "id": "41a83669",
   "metadata": {},
   "source": [
    "##  circle_left(radius, velocity, angle_degrees)\n",
    "Makes the drone fly counterclockwise in a circle or arc.\n",
    "\n",
    "**Parameters:**\n",
    "- `radius`: circle radius in meters (ex: 0.3)\n",
    "- `velocity`: speed in meters/sec (ex: 0.3)\n",
    "- `angle_degrees`: portion of the circle to complete (default 360 for full)\n",
    "\n",
    "**Keep radius < 0.5m indoors** for safety and accuracy."
   ]
  },
  {
   "cell_type": "code",
   "execution_count": 3,
   "id": "d0ef9fc7",
   "metadata": {},
   "outputs": [
    {
     "name": "stdout",
     "output_type": "stream",
     "text": [
      "\u2b55 Executing circle right (optimized)...\n"
     ]
    },
    {
     "data": {
      "application/vnd.plotly.v1+json": {
       "config": {
        "plotlyServerURL": "https://plot.ly"
       },
       "data": [
        {
         "line": {
          "color": "blue",
          "width": 4
         },
         "marker": {
          "size": 4
         },
         "mode": "lines+markers",
         "name": "Drone Path",
         "type": "scatter3d",
         "x": {
          "bdata": "AAAAAAAAAAAAAAAAAAAAAAChFy6Dfni/ULD2GgRAmL+gFwtFFdSqv3TFVR39Sre/JfhZIAOnwb9QHalAR3zIvxiZYBSO38+/BGKzs7jC079f9auY8Y/XvzSiMhqlMNu/ds4e+sx/3r922JGc0a3gvyIWjWN90+G/fW7NozSl4r8l+PQFmxrjv4Mjnl0CL+O/Z5/PbZrh4r9ODT82eTXiv0ZMqHR7MeG/QElQN/2/37+8O8MT7pzcv8ygHXLNGdm/nerZvHNa1b9d7sb/H4XRvxfT8iLjgcu/PiZFl7FoxL8WJT/1Og68vypNkuuNPLG/ENx1Ro6Vob/gYP0WrHiIvw==",
          "dtype": "f8"
         },
         "y": {
          "bdata": "AAAAAAAAAAAAAAAAAAAAAOH8Fvf+g64/5khnsUbovT85G5NPqa7FP4/+f7bli8s/KG4Fif8n0D92M3aUKOXRP85TKbmu69I/ECggqxox0z+Qc3Hnp7LSP12fSvNgddE/PDUA0tcLzz8dlYTAEvDJP63T862Vy8M/sxPXkCK6uT86M6iDEK2lPx4bWLy67pG/WPXLeiSgs78qscMoJ/7Av/OztczOfse/0iQI16sPzb+BPuMf+LvQv8NL9oNQRdK/1lo4pTAU07+ZizopWSDTv7go7flNadK/TkkJOFv20L+GBjyClazNv9kmtYKaPci/E1PvqjnXwb+zKQdAiHW1vw==",
          "dtype": "f8"
         },
         "z": [
          0.4,
          0.4,
          0.4,
          0.4,
          0.4,
          0.4,
          0.4,
          0.4,
          0.4,
          0.4,
          0.4,
          0.4,
          0.4,
          0.4,
          0.4,
          0.4,
          0.4,
          0.4,
          0.4,
          0.4,
          0.4,
          0.4,
          0.4,
          0.4,
          0.4,
          0.4,
          0.4,
          0.4,
          0.4,
          0.4,
          0.4,
          0.4
         ]
        },
        {
         "marker": {
          "color": "red",
          "size": 10,
          "symbol": "diamond"
         },
         "mode": "markers",
         "name": "Current Position",
         "type": "scatter3d",
         "x": [
          -0.011948914004890232
         ],
         "y": [
          -0.08382464945967776
         ],
         "z": [
          0.4
         ]
        }
       ],
       "layout": {
        "height": 500,
        "legend": {
         "x": 0,
         "y": 1
        },
        "margin": {
         "b": 0,
         "l": 0,
         "r": 0,
         "t": 30
        },
        "scene": {
         "aspectmode": "data",
         "camera": {
          "eye": {
           "x": 1.5,
           "y": 1.5,
           "z": 0.6
          }
         },
         "xaxis": {
          "title": {
           "text": "X (meters)"
          }
         },
         "yaxis": {
          "title": {
           "text": "Y (meters)"
          }
         },
         "zaxis": {
          "title": {
           "text": "Altitude (meters)"
          }
         }
        },
        "template": {
         "data": {
          "bar": [
           {
            "error_x": {
             "color": "#2a3f5f"
            },
            "error_y": {
             "color": "#2a3f5f"
            },
            "marker": {
             "line": {
              "color": "#E5ECF6",
              "width": 0.5
             },
             "pattern": {
              "fillmode": "overlay",
              "size": 10,
              "solidity": 0.2
             }
            },
            "type": "bar"
           }
          ],
          "barpolar": [
           {
            "marker": {
             "line": {
              "color": "#E5ECF6",
              "width": 0.5
             },
             "pattern": {
              "fillmode": "overlay",
              "size": 10,
              "solidity": 0.2
             }
            },
            "type": "barpolar"
           }
          ],
          "carpet": [
           {
            "aaxis": {
             "endlinecolor": "#2a3f5f",
             "gridcolor": "white",
             "linecolor": "white",
             "minorgridcolor": "white",
             "startlinecolor": "#2a3f5f"
            },
            "baxis": {
             "endlinecolor": "#2a3f5f",
             "gridcolor": "white",
             "linecolor": "white",
             "minorgridcolor": "white",
             "startlinecolor": "#2a3f5f"
            },
            "type": "carpet"
           }
          ],
          "choropleth": [
           {
            "colorbar": {
             "outlinewidth": 0,
             "ticks": ""
            },
            "type": "choropleth"
           }
          ],
          "contour": [
           {
            "colorbar": {
             "outlinewidth": 0,
             "ticks": ""
            },
            "colorscale": [
             [
              0,
              "#0d0887"
             ],
             [
              0.1111111111111111,
              "#46039f"
             ],
             [
              0.2222222222222222,
              "#7201a8"
             ],
             [
              0.3333333333333333,
              "#9c179e"
             ],
             [
              0.4444444444444444,
              "#bd3786"
             ],
             [
              0.5555555555555556,
              "#d8576b"
             ],
             [
              0.6666666666666666,
              "#ed7953"
             ],
             [
              0.7777777777777778,
              "#fb9f3a"
             ],
             [
              0.8888888888888888,
              "#fdca26"
             ],
             [
              1,
              "#f0f921"
             ]
            ],
            "type": "contour"
           }
          ],
          "contourcarpet": [
           {
            "colorbar": {
             "outlinewidth": 0,
             "ticks": ""
            },
            "type": "contourcarpet"
           }
          ],
          "heatmap": [
           {
            "colorbar": {
             "outlinewidth": 0,
             "ticks": ""
            },
            "colorscale": [
             [
              0,
              "#0d0887"
             ],
             [
              0.1111111111111111,
              "#46039f"
             ],
             [
              0.2222222222222222,
              "#7201a8"
             ],
             [
              0.3333333333333333,
              "#9c179e"
             ],
             [
              0.4444444444444444,
              "#bd3786"
             ],
             [
              0.5555555555555556,
              "#d8576b"
             ],
             [
              0.6666666666666666,
              "#ed7953"
             ],
             [
              0.7777777777777778,
              "#fb9f3a"
             ],
             [
              0.8888888888888888,
              "#fdca26"
             ],
             [
              1,
              "#f0f921"
             ]
            ],
            "type": "heatmap"
           }
          ],
          "histogram": [
           {
            "marker": {
             "pattern": {
              "fillmode": "overlay",
              "size": 10,
              "solidity": 0.2
             }
            },
            "type": "histogram"
           }
          ],
          "histogram2d": [
           {
            "colorbar": {
             "outlinewidth": 0,
             "ticks": ""
            },
            "colorscale": [
             [
              0,
              "#0d0887"
             ],
             [
              0.1111111111111111,
              "#46039f"
             ],
             [
              0.2222222222222222,
              "#7201a8"
             ],
             [
              0.3333333333333333,
              "#9c179e"
             ],
             [
              0.4444444444444444,
              "#bd3786"
             ],
             [
              0.5555555555555556,
              "#d8576b"
             ],
             [
              0.6666666666666666,
              "#ed7953"
             ],
             [
              0.7777777777777778,
              "#fb9f3a"
             ],
             [
              0.8888888888888888,
              "#fdca26"
             ],
             [
              1,
              "#f0f921"
             ]
            ],
            "type": "histogram2d"
           }
          ],
          "histogram2dcontour": [
           {
            "colorbar": {
             "outlinewidth": 0,
             "ticks": ""
            },
            "colorscale": [
             [
              0,
              "#0d0887"
             ],
             [
              0.1111111111111111,
              "#46039f"
             ],
             [
              0.2222222222222222,
              "#7201a8"
             ],
             [
              0.3333333333333333,
              "#9c179e"
             ],
             [
              0.4444444444444444,
              "#bd3786"
             ],
             [
              0.5555555555555556,
              "#d8576b"
             ],
             [
              0.6666666666666666,
              "#ed7953"
             ],
             [
              0.7777777777777778,
              "#fb9f3a"
             ],
             [
              0.8888888888888888,
              "#fdca26"
             ],
             [
              1,
              "#f0f921"
             ]
            ],
            "type": "histogram2dcontour"
           }
          ],
          "mesh3d": [
           {
            "colorbar": {
             "outlinewidth": 0,
             "ticks": ""
            },
            "type": "mesh3d"
           }
          ],
          "parcoords": [
           {
            "line": {
             "colorbar": {
              "outlinewidth": 0,
              "ticks": ""
             }
            },
            "type": "parcoords"
           }
          ],
          "pie": [
           {
            "automargin": true,
            "type": "pie"
           }
          ],
          "scatter": [
           {
            "fillpattern": {
             "fillmode": "overlay",
             "size": 10,
             "solidity": 0.2
            },
            "type": "scatter"
           }
          ],
          "scatter3d": [
           {
            "line": {
             "colorbar": {
              "outlinewidth": 0,
              "ticks": ""
             }
            },
            "marker": {
             "colorbar": {
              "outlinewidth": 0,
              "ticks": ""
             }
            },
            "type": "scatter3d"
           }
          ],
          "scattercarpet": [
           {
            "marker": {
             "colorbar": {
              "outlinewidth": 0,
              "ticks": ""
             }
            },
            "type": "scattercarpet"
           }
          ],
          "scattergeo": [
           {
            "marker": {
             "colorbar": {
              "outlinewidth": 0,
              "ticks": ""
             }
            },
            "type": "scattergeo"
           }
          ],
          "scattergl": [
           {
            "marker": {
             "colorbar": {
              "outlinewidth": 0,
              "ticks": ""
             }
            },
            "type": "scattergl"
           }
          ],
          "scattermap": [
           {
            "marker": {
             "colorbar": {
              "outlinewidth": 0,
              "ticks": ""
             }
            },
            "type": "scattermap"
           }
          ],
          "scattermapbox": [
           {
            "marker": {
             "colorbar": {
              "outlinewidth": 0,
              "ticks": ""
             }
            },
            "type": "scattermapbox"
           }
          ],
          "scatterpolar": [
           {
            "marker": {
             "colorbar": {
              "outlinewidth": 0,
              "ticks": ""
             }
            },
            "type": "scatterpolar"
           }
          ],
          "scatterpolargl": [
           {
            "marker": {
             "colorbar": {
              "outlinewidth": 0,
              "ticks": ""
             }
            },
            "type": "scatterpolargl"
           }
          ],
          "scatterternary": [
           {
            "marker": {
             "colorbar": {
              "outlinewidth": 0,
              "ticks": ""
             }
            },
            "type": "scatterternary"
           }
          ],
          "surface": [
           {
            "colorbar": {
             "outlinewidth": 0,
             "ticks": ""
            },
            "colorscale": [
             [
              0,
              "#0d0887"
             ],
             [
              0.1111111111111111,
              "#46039f"
             ],
             [
              0.2222222222222222,
              "#7201a8"
             ],
             [
              0.3333333333333333,
              "#9c179e"
             ],
             [
              0.4444444444444444,
              "#bd3786"
             ],
             [
              0.5555555555555556,
              "#d8576b"
             ],
             [
              0.6666666666666666,
              "#ed7953"
             ],
             [
              0.7777777777777778,
              "#fb9f3a"
             ],
             [
              0.8888888888888888,
              "#fdca26"
             ],
             [
              1,
              "#f0f921"
             ]
            ],
            "type": "surface"
           }
          ],
          "table": [
           {
            "cells": {
             "fill": {
              "color": "#EBF0F8"
             },
             "line": {
              "color": "white"
             }
            },
            "header": {
             "fill": {
              "color": "#C8D4E3"
             },
             "line": {
              "color": "white"
             }
            },
            "type": "table"
           }
          ]
         },
         "layout": {
          "annotationdefaults": {
           "arrowcolor": "#2a3f5f",
           "arrowhead": 0,
           "arrowwidth": 1
          },
          "autotypenumbers": "strict",
          "coloraxis": {
           "colorbar": {
            "outlinewidth": 0,
            "ticks": ""
           }
          },
          "colorscale": {
           "diverging": [
            [
             0,
             "#8e0152"
            ],
            [
             0.1,
             "#c51b7d"
            ],
            [
             0.2,
             "#de77ae"
            ],
            [
             0.3,
             "#f1b6da"
            ],
            [
             0.4,
             "#fde0ef"
            ],
            [
             0.5,
             "#f7f7f7"
            ],
            [
             0.6,
             "#e6f5d0"
            ],
            [
             0.7,
             "#b8e186"
            ],
            [
             0.8,
             "#7fbc41"
            ],
            [
             0.9,
             "#4d9221"
            ],
            [
             1,
             "#276419"
            ]
           ],
           "sequential": [
            [
             0,
             "#0d0887"
            ],
            [
             0.1111111111111111,
             "#46039f"
            ],
            [
             0.2222222222222222,
             "#7201a8"
            ],
            [
             0.3333333333333333,
             "#9c179e"
            ],
            [
             0.4444444444444444,
             "#bd3786"
            ],
            [
             0.5555555555555556,
             "#d8576b"
            ],
            [
             0.6666666666666666,
             "#ed7953"
            ],
            [
             0.7777777777777778,
             "#fb9f3a"
            ],
            [
             0.8888888888888888,
             "#fdca26"
            ],
            [
             1,
             "#f0f921"
            ]
           ],
           "sequentialminus": [
            [
             0,
             "#0d0887"
            ],
            [
             0.1111111111111111,
             "#46039f"
            ],
            [
             0.2222222222222222,
             "#7201a8"
            ],
            [
             0.3333333333333333,
             "#9c179e"
            ],
            [
             0.4444444444444444,
             "#bd3786"
            ],
            [
             0.5555555555555556,
             "#d8576b"
            ],
            [
             0.6666666666666666,
             "#ed7953"
            ],
            [
             0.7777777777777778,
             "#fb9f3a"
            ],
            [
             0.8888888888888888,
             "#fdca26"
            ],
            [
             1,
             "#f0f921"
            ]
           ]
          },
          "colorway": [
           "#636efa",
           "#EF553B",
           "#00cc96",
           "#ab63fa",
           "#FFA15A",
           "#19d3f3",
           "#FF6692",
           "#B6E880",
           "#FF97FF",
           "#FECB52"
          ],
          "font": {
           "color": "#2a3f5f"
          },
          "geo": {
           "bgcolor": "white",
           "lakecolor": "white",
           "landcolor": "#E5ECF6",
           "showlakes": true,
           "showland": true,
           "subunitcolor": "white"
          },
          "hoverlabel": {
           "align": "left"
          },
          "hovermode": "closest",
          "mapbox": {
           "style": "light"
          },
          "paper_bgcolor": "white",
          "plot_bgcolor": "#E5ECF6",
          "polar": {
           "angularaxis": {
            "gridcolor": "white",
            "linecolor": "white",
            "ticks": ""
           },
           "bgcolor": "#E5ECF6",
           "radialaxis": {
            "gridcolor": "white",
            "linecolor": "white",
            "ticks": ""
           }
          },
          "scene": {
           "xaxis": {
            "backgroundcolor": "#E5ECF6",
            "gridcolor": "white",
            "gridwidth": 2,
            "linecolor": "white",
            "showbackground": true,
            "ticks": "",
            "zerolinecolor": "white"
           },
           "yaxis": {
            "backgroundcolor": "#E5ECF6",
            "gridcolor": "white",
            "gridwidth": 2,
            "linecolor": "white",
            "showbackground": true,
            "ticks": "",
            "zerolinecolor": "white"
           },
           "zaxis": {
            "backgroundcolor": "#E5ECF6",
            "gridcolor": "white",
            "gridwidth": 2,
            "linecolor": "white",
            "showbackground": true,
            "ticks": "",
            "zerolinecolor": "white"
           }
          },
          "shapedefaults": {
           "line": {
            "color": "#2a3f5f"
           }
          },
          "ternary": {
           "aaxis": {
            "gridcolor": "white",
            "linecolor": "white",
            "ticks": ""
           },
           "baxis": {
            "gridcolor": "white",
            "linecolor": "white",
            "ticks": ""
           },
           "bgcolor": "#E5ECF6",
           "caxis": {
            "gridcolor": "white",
            "linecolor": "white",
            "ticks": ""
           }
          },
          "title": {
           "x": 0.05
          },
          "xaxis": {
           "automargin": true,
           "gridcolor": "white",
           "linecolor": "white",
           "ticks": "",
           "title": {
            "standoff": 15
           },
           "zerolinecolor": "white",
           "zerolinewidth": 2
          },
          "yaxis": {
           "automargin": true,
           "gridcolor": "white",
           "linecolor": "white",
           "ticks": "",
           "title": {
            "standoff": 15
           },
           "zerolinecolor": "white",
           "zerolinewidth": 2
          }
         }
        },
        "title": {
         "text": "Interactive 3D Drone Flight Path"
        },
        "width": 600
       }
      }
     },
     "metadata": {},
     "output_type": "display_data"
    }
   ],
   "source": [
    "drone.circle_right(0.3, 0.3, 360)"
   ]
  },
  {
   "cell_type": "markdown",
   "id": "bf6d6977",
   "metadata": {},
   "source": [
    "##  circle_right(radius, velocity, angle_degrees)\n",
    "Same as `circle_left`, but goes clockwise.\n",
    "\n",
    "**Try a half-circle or quarter circle by adjusting `angle_degrees`.**"
   ]
  },
  {
   "cell_type": "code",
   "execution_count": null,
   "id": "b62e6ba7",
   "metadata": {},
   "outputs": [
    {
     "name": "stdout",
     "output_type": "stream",
     "text": [
      "\u2b55 Executing circle right (optimized)...\n"
     ]
    },
    {
     "data": {
      "application/vnd.plotly.v1+json": {
       "config": {
        "plotlyServerURL": "https://plot.ly"
       },
       "data": [
        {
         "line": {
          "color": "blue",
          "width": 4
         },
         "marker": {
          "size": 4
         },
         "mode": "lines+markers",
         "name": "Drone Path",
         "type": "scatter3d",
         "x": {
          "bdata": "AAAAAAAAAAAAAAAAAAAAAAChFy6Dfni/ULD2GgRAmL+gFwtFFdSqv3TFVR39Sre/JfhZIAOnwb9QHalAR3zIvxiZYBSO38+/BGKzs7jC079f9auY8Y/XvzSiMhqlMNu/ds4e+sx/3r922JGc0a3gvyIWjWN90+G/fW7NozSl4r8l+PQFmxrjv4Mjnl0CL+O/Z5/PbZrh4r9ODT82eTXiv0ZMqHR7MeG/QElQN/2/37+8O8MT7pzcv8ygHXLNGdm/nerZvHNa1b9d7sb/H4XRvxfT8iLjgcu/PiZFl7FoxL8WJT/1Og68vypNkuuNPLG/ENx1Ro6Vob/gYP0WrHiIv+Bg/RaseIi/sJgE1/Zbkr9gsDoTLT6iv+w3ZSUgebC/kHE1oBJaur8zzsnhjS7Dv17zGALSA8q/kzfoaoyz0L8LTWsUfobUv2bgY/m2U9i/PI3qemr02799udZakkPfv/nN7Uy0D+G/pQvpE2A14r8AZClUFwfjvw==",
          "dtype": "f8"
         },
         "y": {
          "bdata": "AAAAAAAAAAAAAAAAAAAAAOH8Fvf+g64/5khnsUbovT85G5NPqa7FP4/+f7bli8s/KG4Fif8n0D92M3aUKOXRP85TKbmu69I/ECggqxox0z+Qc3Hnp7LSP12fSvNgddE/PDUA0tcLzz8dlYTAEvDJP63T862Vy8M/sxPXkCK6uT86M6iDEK2lPx4bWLy67pG/WPXLeiSgs78qscMoJ/7Av/OztczOfse/0iQI16sPzb+BPuMf+LvQv8NL9oNQRdK/1lo4pTAU07+ZizopWSDTv7go7flNadK/TkkJOFv20L+GBjyClazNv9kmtYKaPci/E1PvqjnXwb+zKQdAiHW1v7MpB0CIdbW/Cq3uESPOmL9mPsDifOWgP78MH1/K57U/tml8liHRwD92RwfyOpXFPxLS6AiND8k/whJPUpkcyz9Guzw2cafLP0ZS366Lqso/4KmRxv0vyD9ioPyxE1HEP4cAAkGdar4/p33gG6Mhsj8AqD9DaRKRPw==",
          "dtype": "f8"
         },
         "z": [
          0.4,
          0.4,
          0.4,
          0.4,
          0.4,
          0.4,
          0.4,
          0.4,
          0.4,
          0.4,
          0.4,
          0.4,
          0.4,
          0.4,
          0.4,
          0.4,
          0.4,
          0.4,
          0.4,
          0.4,
          0.4,
          0.4,
          0.4,
          0.4,
          0.4,
          0.4,
          0.4,
          0.4,
          0.4,
          0.4,
          0.4,
          0.4,
          0.4,
          0.4,
          0.4,
          0.4,
          0.4,
          0.4,
          0.4,
          0.4,
          0.4,
          0.4,
          0.4,
          0.4,
          0.4,
          0.4,
          0.4
         ]
        },
        {
         "marker": {
          "color": "red",
          "size": 10,
          "symbol": "diamond"
         },
         "mode": "markers",
         "name": "Current Position",
         "type": "scatter3d",
         "x": [
          -0.5946156162054876
         ],
         "y": [
          0.01667179558709364
         ],
         "z": [
          0.4
         ]
        }
       ],
       "layout": {
        "height": 500,
        "legend": {
         "x": 0,
         "y": 1
        },
        "margin": {
         "b": 0,
         "l": 0,
         "r": 0,
         "t": 30
        },
        "scene": {
         "aspectmode": "data",
         "camera": {
          "eye": {
           "x": 1.5,
           "y": 1.5,
           "z": 0.6
          }
         },
         "xaxis": {
          "title": {
           "text": "X (meters)"
          }
         },
         "yaxis": {
          "title": {
           "text": "Y (meters)"
          }
         },
         "zaxis": {
          "title": {
           "text": "Altitude (meters)"
          }
         }
        },
        "template": {
         "data": {
          "bar": [
           {
            "error_x": {
             "color": "#2a3f5f"
            },
            "error_y": {
             "color": "#2a3f5f"
            },
            "marker": {
             "line": {
              "color": "#E5ECF6",
              "width": 0.5
             },
             "pattern": {
              "fillmode": "overlay",
              "size": 10,
              "solidity": 0.2
             }
            },
            "type": "bar"
           }
          ],
          "barpolar": [
           {
            "marker": {
             "line": {
              "color": "#E5ECF6",
              "width": 0.5
             },
             "pattern": {
              "fillmode": "overlay",
              "size": 10,
              "solidity": 0.2
             }
            },
            "type": "barpolar"
           }
          ],
          "carpet": [
           {
            "aaxis": {
             "endlinecolor": "#2a3f5f",
             "gridcolor": "white",
             "linecolor": "white",
             "minorgridcolor": "white",
             "startlinecolor": "#2a3f5f"
            },
            "baxis": {
             "endlinecolor": "#2a3f5f",
             "gridcolor": "white",
             "linecolor": "white",
             "minorgridcolor": "white",
             "startlinecolor": "#2a3f5f"
            },
            "type": "carpet"
           }
          ],
          "choropleth": [
           {
            "colorbar": {
             "outlinewidth": 0,
             "ticks": ""
            },
            "type": "choropleth"
           }
          ],
          "contour": [
           {
            "colorbar": {
             "outlinewidth": 0,
             "ticks": ""
            },
            "colorscale": [
             [
              0,
              "#0d0887"
             ],
             [
              0.1111111111111111,
              "#46039f"
             ],
             [
              0.2222222222222222,
              "#7201a8"
             ],
             [
              0.3333333333333333,
              "#9c179e"
             ],
             [
              0.4444444444444444,
              "#bd3786"
             ],
             [
              0.5555555555555556,
              "#d8576b"
             ],
             [
              0.6666666666666666,
              "#ed7953"
             ],
             [
              0.7777777777777778,
              "#fb9f3a"
             ],
             [
              0.8888888888888888,
              "#fdca26"
             ],
             [
              1,
              "#f0f921"
             ]
            ],
            "type": "contour"
           }
          ],
          "contourcarpet": [
           {
            "colorbar": {
             "outlinewidth": 0,
             "ticks": ""
            },
            "type": "contourcarpet"
           }
          ],
          "heatmap": [
           {
            "colorbar": {
             "outlinewidth": 0,
             "ticks": ""
            },
            "colorscale": [
             [
              0,
              "#0d0887"
             ],
             [
              0.1111111111111111,
              "#46039f"
             ],
             [
              0.2222222222222222,
              "#7201a8"
             ],
             [
              0.3333333333333333,
              "#9c179e"
             ],
             [
              0.4444444444444444,
              "#bd3786"
             ],
             [
              0.5555555555555556,
              "#d8576b"
             ],
             [
              0.6666666666666666,
              "#ed7953"
             ],
             [
              0.7777777777777778,
              "#fb9f3a"
             ],
             [
              0.8888888888888888,
              "#fdca26"
             ],
             [
              1,
              "#f0f921"
             ]
            ],
            "type": "heatmap"
           }
          ],
          "histogram": [
           {
            "marker": {
             "pattern": {
              "fillmode": "overlay",
              "size": 10,
              "solidity": 0.2
             }
            },
            "type": "histogram"
           }
          ],
          "histogram2d": [
           {
            "colorbar": {
             "outlinewidth": 0,
             "ticks": ""
            },
            "colorscale": [
             [
              0,
              "#0d0887"
             ],
             [
              0.1111111111111111,
              "#46039f"
             ],
             [
              0.2222222222222222,
              "#7201a8"
             ],
             [
              0.3333333333333333,
              "#9c179e"
             ],
             [
              0.4444444444444444,
              "#bd3786"
             ],
             [
              0.5555555555555556,
              "#d8576b"
             ],
             [
              0.6666666666666666,
              "#ed7953"
             ],
             [
              0.7777777777777778,
              "#fb9f3a"
             ],
             [
              0.8888888888888888,
              "#fdca26"
             ],
             [
              1,
              "#f0f921"
             ]
            ],
            "type": "histogram2d"
           }
          ],
          "histogram2dcontour": [
           {
            "colorbar": {
             "outlinewidth": 0,
             "ticks": ""
            },
            "colorscale": [
             [
              0,
              "#0d0887"
             ],
             [
              0.1111111111111111,
              "#46039f"
             ],
             [
              0.2222222222222222,
              "#7201a8"
             ],
             [
              0.3333333333333333,
              "#9c179e"
             ],
             [
              0.4444444444444444,
              "#bd3786"
             ],
             [
              0.5555555555555556,
              "#d8576b"
             ],
             [
              0.6666666666666666,
              "#ed7953"
             ],
             [
              0.7777777777777778,
              "#fb9f3a"
             ],
             [
              0.8888888888888888,
              "#fdca26"
             ],
             [
              1,
              "#f0f921"
             ]
            ],
            "type": "histogram2dcontour"
           }
          ],
          "mesh3d": [
           {
            "colorbar": {
             "outlinewidth": 0,
             "ticks": ""
            },
            "type": "mesh3d"
           }
          ],
          "parcoords": [
           {
            "line": {
             "colorbar": {
              "outlinewidth": 0,
              "ticks": ""
             }
            },
            "type": "parcoords"
           }
          ],
          "pie": [
           {
            "automargin": true,
            "type": "pie"
           }
          ],
          "scatter": [
           {
            "fillpattern": {
             "fillmode": "overlay",
             "size": 10,
             "solidity": 0.2
            },
            "type": "scatter"
           }
          ],
          "scatter3d": [
           {
            "line": {
             "colorbar": {
              "outlinewidth": 0,
              "ticks": ""
             }
            },
            "marker": {
             "colorbar": {
              "outlinewidth": 0,
              "ticks": ""
             }
            },
            "type": "scatter3d"
           }
          ],
          "scattercarpet": [
           {
            "marker": {
             "colorbar": {
              "outlinewidth": 0,
              "ticks": ""
             }
            },
            "type": "scattercarpet"
           }
          ],
          "scattergeo": [
           {
            "marker": {
             "colorbar": {
              "outlinewidth": 0,
              "ticks": ""
             }
            },
            "type": "scattergeo"
           }
          ],
          "scattergl": [
           {
            "marker": {
             "colorbar": {
              "outlinewidth": 0,
              "ticks": ""
             }
            },
            "type": "scattergl"
           }
          ],
          "scattermap": [
           {
            "marker": {
             "colorbar": {
              "outlinewidth": 0,
              "ticks": ""
             }
            },
            "type": "scattermap"
           }
          ],
          "scattermapbox": [
           {
            "marker": {
             "colorbar": {
              "outlinewidth": 0,
              "ticks": ""
             }
            },
            "type": "scattermapbox"
           }
          ],
          "scatterpolar": [
           {
            "marker": {
             "colorbar": {
              "outlinewidth": 0,
              "ticks": ""
             }
            },
            "type": "scatterpolar"
           }
          ],
          "scatterpolargl": [
           {
            "marker": {
             "colorbar": {
              "outlinewidth": 0,
              "ticks": ""
             }
            },
            "type": "scatterpolargl"
           }
          ],
          "scatterternary": [
           {
            "marker": {
             "colorbar": {
              "outlinewidth": 0,
              "ticks": ""
             }
            },
            "type": "scatterternary"
           }
          ],
          "surface": [
           {
            "colorbar": {
             "outlinewidth": 0,
             "ticks": ""
            },
            "colorscale": [
             [
              0,
              "#0d0887"
             ],
             [
              0.1111111111111111,
              "#46039f"
             ],
             [
              0.2222222222222222,
              "#7201a8"
             ],
             [
              0.3333333333333333,
              "#9c179e"
             ],
             [
              0.4444444444444444,
              "#bd3786"
             ],
             [
              0.5555555555555556,
              "#d8576b"
             ],
             [
              0.6666666666666666,
              "#ed7953"
             ],
             [
              0.7777777777777778,
              "#fb9f3a"
             ],
             [
              0.8888888888888888,
              "#fdca26"
             ],
             [
              1,
              "#f0f921"
             ]
            ],
            "type": "surface"
           }
          ],
          "table": [
           {
            "cells": {
             "fill": {
              "color": "#EBF0F8"
             },
             "line": {
              "color": "white"
             }
            },
            "header": {
             "fill": {
              "color": "#C8D4E3"
             },
             "line": {
              "color": "white"
             }
            },
            "type": "table"
           }
          ]
         },
         "layout": {
          "annotationdefaults": {
           "arrowcolor": "#2a3f5f",
           "arrowhead": 0,
           "arrowwidth": 1
          },
          "autotypenumbers": "strict",
          "coloraxis": {
           "colorbar": {
            "outlinewidth": 0,
            "ticks": ""
           }
          },
          "colorscale": {
           "diverging": [
            [
             0,
             "#8e0152"
            ],
            [
             0.1,
             "#c51b7d"
            ],
            [
             0.2,
             "#de77ae"
            ],
            [
             0.3,
             "#f1b6da"
            ],
            [
             0.4,
             "#fde0ef"
            ],
            [
             0.5,
             "#f7f7f7"
            ],
            [
             0.6,
             "#e6f5d0"
            ],
            [
             0.7,
             "#b8e186"
            ],
            [
             0.8,
             "#7fbc41"
            ],
            [
             0.9,
             "#4d9221"
            ],
            [
             1,
             "#276419"
            ]
           ],
           "sequential": [
            [
             0,
             "#0d0887"
            ],
            [
             0.1111111111111111,
             "#46039f"
            ],
            [
             0.2222222222222222,
             "#7201a8"
            ],
            [
             0.3333333333333333,
             "#9c179e"
            ],
            [
             0.4444444444444444,
             "#bd3786"
            ],
            [
             0.5555555555555556,
             "#d8576b"
            ],
            [
             0.6666666666666666,
             "#ed7953"
            ],
            [
             0.7777777777777778,
             "#fb9f3a"
            ],
            [
             0.8888888888888888,
             "#fdca26"
            ],
            [
             1,
             "#f0f921"
            ]
           ],
           "sequentialminus": [
            [
             0,
             "#0d0887"
            ],
            [
             0.1111111111111111,
             "#46039f"
            ],
            [
             0.2222222222222222,
             "#7201a8"
            ],
            [
             0.3333333333333333,
             "#9c179e"
            ],
            [
             0.4444444444444444,
             "#bd3786"
            ],
            [
             0.5555555555555556,
             "#d8576b"
            ],
            [
             0.6666666666666666,
             "#ed7953"
            ],
            [
             0.7777777777777778,
             "#fb9f3a"
            ],
            [
             0.8888888888888888,
             "#fdca26"
            ],
            [
             1,
             "#f0f921"
            ]
           ]
          },
          "colorway": [
           "#636efa",
           "#EF553B",
           "#00cc96",
           "#ab63fa",
           "#FFA15A",
           "#19d3f3",
           "#FF6692",
           "#B6E880",
           "#FF97FF",
           "#FECB52"
          ],
          "font": {
           "color": "#2a3f5f"
          },
          "geo": {
           "bgcolor": "white",
           "lakecolor": "white",
           "landcolor": "#E5ECF6",
           "showlakes": true,
           "showland": true,
           "subunitcolor": "white"
          },
          "hoverlabel": {
           "align": "left"
          },
          "hovermode": "closest",
          "mapbox": {
           "style": "light"
          },
          "paper_bgcolor": "white",
          "plot_bgcolor": "#E5ECF6",
          "polar": {
           "angularaxis": {
            "gridcolor": "white",
            "linecolor": "white",
            "ticks": ""
           },
           "bgcolor": "#E5ECF6",
           "radialaxis": {
            "gridcolor": "white",
            "linecolor": "white",
            "ticks": ""
           }
          },
          "scene": {
           "xaxis": {
            "backgroundcolor": "#E5ECF6",
            "gridcolor": "white",
            "gridwidth": 2,
            "linecolor": "white",
            "showbackground": true,
            "ticks": "",
            "zerolinecolor": "white"
           },
           "yaxis": {
            "backgroundcolor": "#E5ECF6",
            "gridcolor": "white",
            "gridwidth": 2,
            "linecolor": "white",
            "showbackground": true,
            "ticks": "",
            "zerolinecolor": "white"
           },
           "zaxis": {
            "backgroundcolor": "#E5ECF6",
            "gridcolor": "white",
            "gridwidth": 2,
            "linecolor": "white",
            "showbackground": true,
            "ticks": "",
            "zerolinecolor": "white"
           }
          },
          "shapedefaults": {
           "line": {
            "color": "#2a3f5f"
           }
          },
          "ternary": {
           "aaxis": {
            "gridcolor": "white",
            "linecolor": "white",
            "ticks": ""
           },
           "baxis": {
            "gridcolor": "white",
            "linecolor": "white",
            "ticks": ""
           },
           "bgcolor": "#E5ECF6",
           "caxis": {
            "gridcolor": "white",
            "linecolor": "white",
            "ticks": ""
           }
          },
          "title": {
           "x": 0.05
          },
          "xaxis": {
           "automargin": true,
           "gridcolor": "white",
           "linecolor": "white",
           "ticks": "",
           "title": {
            "standoff": 15
           },
           "zerolinecolor": "white",
           "zerolinewidth": 2
          },
          "yaxis": {
           "automargin": true,
           "gridcolor": "white",
           "linecolor": "white",
           "ticks": "",
           "title": {
            "standoff": 15
           },
           "zerolinecolor": "white",
           "zerolinewidth": 2
          }
         }
        },
        "title": {
         "text": "Interactive 3D Drone Flight Path"
        },
        "width": 600
       }
      }
     },
     "metadata": {},
     "output_type": "display_data"
    }
   ],
   "source": [
    "drone.circle_left(0.3, 0.3, 180)"
   ]
  },
  {
   "cell_type": "markdown",
   "id": "5adbb1e0",
   "metadata": {},
   "source": [
    "## \u23f8 Using `time.sleep()` After Circle\n",
    "Circle commands already include a sleep inside their implementation, based on the circle duration.\n",
    "But you can still pause after to let the drone stabilize."
   ]
  },
  {
   "cell_type": "code",
   "execution_count": null,
   "id": "6d2eecce",
   "metadata": {},
   "outputs": [],
   "source": [
    "time.sleep(2)"
   ]
  },
  {
   "cell_type": "markdown",
   "id": "50ecb305",
   "metadata": {},
   "source": [
    "##  Exercise 1: Try a small half-circle to the left\n",
    "**Goal:** Make the drone fly a 180\u00b0 arc with a radius of 0.2m and velocity of 0.2 m/s."
   ]
  },
  {
   "cell_type": "code",
   "execution_count": null,
   "id": "694b2b59",
   "metadata": {},
   "outputs": [],
   "source": [
    "# drone.circle_left( , , )"
   ]
  },
  {
   "cell_type": "markdown",
   "id": "d6ef9766",
   "metadata": {},
   "source": [
    "##  Exercise 2: Try a full circle to the right\n",
    "**Goal:** Make the drone fly a complete 360\u00b0 turn clockwise."
   ]
  },
  {
   "cell_type": "code",
   "execution_count": null,
   "id": "30cde713",
   "metadata": {},
   "outputs": [],
   "source": [
    "# drone.circle_right( , , )"
   ]
  },
  {
   "cell_type": "markdown",
   "id": "acaf0bc7",
   "metadata": {},
   "source": [
    "##  Exercise 3: Try a quarter-circle left, then right\n",
    "**Hint:** Use 90\u00b0 turns and a radius under 0.4m."
   ]
  },
  {
   "cell_type": "code",
   "execution_count": null,
   "id": "d9deaf20",
   "metadata": {},
   "outputs": [],
   "source": [
    "# drone.circle_left( , , )\n",
    "# drone.circle_right( , , )"
   ]
  },
  {
   "cell_type": "markdown",
   "id": "e3f1f35e",
   "metadata": {},
   "source": []
  },
  {
   "cell_type": "markdown",
   "id": "a04053ba",
   "metadata": {
    "vscode": {
     "languageId": "markdown"
    }
   },
   "source": [
    "##  Exercise 4: Create a Funnel Flight Pattern\n",
    "**Goal:** Use a combination of `circle_left` and `circle_right` commands with varying radii to create a funnel-shaped flight pattern.\n",
    "\n",
    "**Hint:** Gradually decrease or increase the radius for each circle to form the funnel shape."
   ]
  },
  {
   "cell_type": "code",
   "execution_count": 3,
   "id": "f9103d2b",
   "metadata": {
    "vscode": {
     "languageId": "markdown"
    }
   },
   "outputs": [
    {
     "name": "stdout",
     "output_type": "stream",
     "text": [
      "Already in the air!\n",
      "\u2b55 Executing circle left (optimized)...\n"
     ]
    },
    {
     "data": {
      "application/vnd.plotly.v1+json": {
       "config": {
        "plotlyServerURL": "https://plot.ly"
       },
       "data": [
        {
         "line": {
          "color": "blue",
          "width": 4
         },
         "marker": {
          "size": 4
         },
         "mode": "lines+markers",
         "name": "Drone Path",
         "type": "scatter3d",
         "x": {
          "bdata": "AAAAAAAAAAAAAAAAAAAAAAChFy6Dfng/ULD2GgRAmD+gFwtFFdSqP3TFVR39Src/JfhZIAOnwT9QHalAR3zIPxiZYBSO388/BGKzs7jC0z9f9auY8Y/XPzSiMhqlMNs/ds4e+sx/3j922JGc0a3gPyIWjWN90+E/fW7NozSl4j8l+PQFmxrjP4Mjnl0CL+M/Z5/PbZrh4j9ODT82eTXiP0ZMqHR7MeE/QElQN/2/3z+8O8MT7pzcP8ygHXLNGdk/nerZvHNa1T9d7sb/H4XRPxfT8iLjgcs/PiZFl7FoxD8WJT/1Og68PypNkuuNPLE/ENx1Ro6VoT/gYP0WrHiIP+Bg/RaseIg/4GD9Fqx4iD+wmATX9luSP2CwOhMtPqI/7DdlJSB5sD+QcTWgElq6PzPOyeGNLsM/XvMYAtIDyj+TN+hqjLPQPwtNaxR+htQ/ZuBj+bZT2D88jep6avTbP3251lqSQ98/+c3tTLQP4T+lC+kTYDXiPwBkKVQXB+M/qO1Qtn184z8GGfoN5ZDjP+qUKx59Q+M/0QKb5luX4j/JQQQlXpPhPyQaBEzhQeA/wiZ7dLNg3T/Ti9XSkt3ZP6TVkR05HtY/ZNl+YOVI0j8lqWLkbQnNP0z8tFg88MU/MtEeeFAdvz9G+XFuo0u0P0g0NUy5s6c/4GD9Fqx4mD/gYP0WrHiYP+Bg/RaseJg/IEmD4kyYnj+YCPoYWFyoPwjkRKg1iLM/rB0VIyhpvT9BpDmjGLbEP2zJiMNci8s/miKgy1F30T8SOCN1Q0rVP23LG1p8F9k/Qnii2y+43D9CUsfdqwPgP3zDSf2WceE/KAFFxEKX4j+EWYUE+mjjPyzjrGZg3uM/ig5Wvsfy4z9uiofOX6XjP1T49pY++eI/TDdg1UD14T+nD2D8w6PgP8oRM9V4JN4/2naNM1ih2j+rwEl+/uHWP2vENsGqDNM/M3/SpfiQzj9a0iQax3fHP6c+f/0yFsE/YqVR8bhatz+AjPRR5NGtP6gIPhGBWqI/qAg+EYFaoj+oCD4RgVqiP8j8AHdRaqU/0GC5HoN6rj8kkCQrS5e2P+Rk+tIePMA/T3qpZKM9xj96n/iE5xLNP6ENWCwXO9I/GSPb1QgO1j90ttO6QdvZP0pjWjz1e90/xkcjjo5l4D8AuaWtedPhP6z2oHQl+eI/CE/htNzK4z+w2AgXQ0DkPw4Esm6qVOQ/8n/jfkIH5D/Y7VJHIVvjP9AsvIUjV+I/KwW8rKYF4T/Q/Oo1PujeP+FhRZQdZds/sqsB38Ol1z9yr+4hcNDTP6AqobNBDNA/aKiU21H/yD+1FO++vZ3CP35RMXTOabo/XPLZqwf4sT/gYP0WrHioPw==",
          "dtype": "f8"
         },
         "y": {
          "bdata": "AAAAAAAAAAAAAAAAAAAAAOH8Fvf+g64/5khnsUbovT85G5NPqa7FP4/+f7bli8s/KG4Fif8n0D92M3aUKOXRP85TKbmu69I/ECggqxox0z+Qc3Hnp7LSP12fSvNgddE/PDUA0tcLzz8dlYTAEvDJP63T862Vy8M/sxPXkCK6uT86M6iDEK2lPx4bWLy67pG/WPXLeiSgs78qscMoJ/7Av/OztczOfse/0iQI16sPzb+BPuMf+LvQv8NL9oNQRdK/1lo4pTAU07+ZizopWSDTv7go7flNadK/TkkJOFv20L+GBjyClazNv9kmtYKaPci/E1PvqjnXwb+zKQdAiHW1v7MpB0CIdbW/sykHQIh1tb8Kre4RI86Yv2Y+wOJ85aA/vwwfX8rntT+2aXyWIdHAP3ZHB/I6lcU/EtLoCI0PyT/CEk9SmRzLP0a7PDZxp8s/RlLfrouqyj/gqZHG/S/IP2Kg/LETUcQ/hwACQZ1qvj+nfeAboyGyPwCoP0NpEpE/LCBm/P89pb96MB3vNvG5v4aPaV3WisS/BEbHSOu4y79mpFx2yRzRv9bchfs35dO/7gjlL1oZ1r8wFviTsqLXv0MlOrWScdi/BlY8Obt92L8l8+4JsMbXv7sTC0i9U9a/sM0f0awz1L/ZXVxRL3zRv+zn8sr9kcy/sykHQIh1xb+zKQdAiHXFv7MpB0CIdcW/9tSCBBGpu78AFU6dkwWqvwDD+MWHkFw/cFPj2XVZqD86ZQek7bS1P3J6ytGRqbw/6X1LMtVhwD9tJjkWrezAP9p6tx2P378/DiocTXPquj8SF/IjnyyzP6it9QEq6qE/YGA1ISmfir+zPzfv7TCxv+QcHR9ECsC/Fy2Sl1+zx79fJG19mkXPv25tZbTXOdO/025ehit61r9Cp4cLmkLZv1rT5j+8dtu/nOD5oxQA3b+w7zvF9M7dv3IgPkkd292/kr3wGRIk3b8o3gxYH7HbvxyYIeEOkdm/RiheYZHZ1r9jPnv1YKbTv0ZfBTAmGNC/Rl8FMCYY0L9GXwUwJhjQv1T/RKJMj8i/GRpXByk8wb+mRu8gRgO1v/T/KqaakaK/AMQdALKyTz8AQw1HJtCcP0CkH0lEnKY/UEbW2KPHqD9QomC7DdSkP3ABVDSs05U/AJWo4EhHgr+8pRh+5gCpv77VLWRtybi/sjSfFztTw7++sSA/CMXKv/jgytsRN9G/nFy4Ti8A1b/bN2fEOZfYv0A5YJaN19u/r3GJG/yf3r/kTvQnD2rgv4TV/Vm7LuG/Dt2eaiuW4b9w9Z+sP5zhv/9D+RS6QOG/SlQHtECH4L+JYiPxcO7ev7LyX3HzNty/0Ah9BcMD2b+zKQdAiHXVvw==",
          "dtype": "f8"
         },
         "z": [
          2,
          2,
          2,
          2,
          2,
          2,
          2,
          2,
          2,
          2,
          2,
          2,
          2,
          2,
          2,
          2,
          2,
          2,
          2,
          2,
          2,
          2,
          2,
          2,
          2,
          2,
          2,
          2,
          2,
          2,
          2,
          2,
          1.8,
          1.8,
          1.8,
          1.8,
          1.8,
          1.8,
          1.8,
          1.8,
          1.8,
          1.8,
          1.8,
          1.8,
          1.8,
          1.8,
          1.8,
          1.8,
          1.8,
          1.8,
          1.8,
          1.8,
          1.8,
          1.8,
          1.8,
          1.8,
          1.8,
          1.8,
          1.8,
          1.8,
          1.8,
          1.8,
          1.8,
          1.8,
          1.6,
          1.6,
          1.6,
          1.6,
          1.6,
          1.6,
          1.6,
          1.6,
          1.6,
          1.6,
          1.6,
          1.6,
          1.6,
          1.6,
          1.6,
          1.6,
          1.6,
          1.6,
          1.6,
          1.6,
          1.6,
          1.6,
          1.6,
          1.6,
          1.6,
          1.6,
          1.6,
          1.6,
          1.6,
          1.6,
          1.6,
          1.6,
          1.4000000000000001,
          1.4000000000000001,
          1.4000000000000001,
          1.4000000000000001,
          1.4000000000000001,
          1.4000000000000001,
          1.4000000000000001,
          1.4000000000000001,
          1.4000000000000001,
          1.4000000000000001,
          1.4000000000000001,
          1.4000000000000001,
          1.4000000000000001,
          1.4000000000000001,
          1.4000000000000001,
          1.4000000000000001,
          1.4000000000000001,
          1.4000000000000001,
          1.4000000000000001,
          1.4000000000000001,
          1.4000000000000001,
          1.4000000000000001,
          1.4000000000000001,
          1.4000000000000001,
          1.4000000000000001,
          1.4000000000000001,
          1.4000000000000001,
          1.4000000000000001,
          1.4000000000000001,
          1.4000000000000001,
          1.4000000000000001,
          1.4000000000000001
         ]
        },
        {
         "marker": {
          "color": "red",
          "size": 10,
          "symbol": "diamond"
         },
         "mode": "markers",
         "name": "Current Position",
         "type": "scatter3d",
         "x": [
          0.04779565601956093
         ],
         "y": [
          -0.335298597838711
         ],
         "z": [
          1.4000000000000001
         ]
        }
       ],
       "layout": {
        "height": 500,
        "legend": {
         "x": 0,
         "y": 1
        },
        "margin": {
         "b": 0,
         "l": 0,
         "r": 0,
         "t": 30
        },
        "scene": {
         "aspectmode": "data",
         "camera": {
          "eye": {
           "x": 1.5,
           "y": 1.5,
           "z": 0.6
          }
         },
         "xaxis": {
          "title": {
           "text": "X (meters)"
          }
         },
         "yaxis": {
          "title": {
           "text": "Y (meters)"
          }
         },
         "zaxis": {
          "title": {
           "text": "Altitude (meters)"
          }
         }
        },
        "template": {
         "data": {
          "bar": [
           {
            "error_x": {
             "color": "#2a3f5f"
            },
            "error_y": {
             "color": "#2a3f5f"
            },
            "marker": {
             "line": {
              "color": "#E5ECF6",
              "width": 0.5
             },
             "pattern": {
              "fillmode": "overlay",
              "size": 10,
              "solidity": 0.2
             }
            },
            "type": "bar"
           }
          ],
          "barpolar": [
           {
            "marker": {
             "line": {
              "color": "#E5ECF6",
              "width": 0.5
             },
             "pattern": {
              "fillmode": "overlay",
              "size": 10,
              "solidity": 0.2
             }
            },
            "type": "barpolar"
           }
          ],
          "carpet": [
           {
            "aaxis": {
             "endlinecolor": "#2a3f5f",
             "gridcolor": "white",
             "linecolor": "white",
             "minorgridcolor": "white",
             "startlinecolor": "#2a3f5f"
            },
            "baxis": {
             "endlinecolor": "#2a3f5f",
             "gridcolor": "white",
             "linecolor": "white",
             "minorgridcolor": "white",
             "startlinecolor": "#2a3f5f"
            },
            "type": "carpet"
           }
          ],
          "choropleth": [
           {
            "colorbar": {
             "outlinewidth": 0,
             "ticks": ""
            },
            "type": "choropleth"
           }
          ],
          "contour": [
           {
            "colorbar": {
             "outlinewidth": 0,
             "ticks": ""
            },
            "colorscale": [
             [
              0,
              "#0d0887"
             ],
             [
              0.1111111111111111,
              "#46039f"
             ],
             [
              0.2222222222222222,
              "#7201a8"
             ],
             [
              0.3333333333333333,
              "#9c179e"
             ],
             [
              0.4444444444444444,
              "#bd3786"
             ],
             [
              0.5555555555555556,
              "#d8576b"
             ],
             [
              0.6666666666666666,
              "#ed7953"
             ],
             [
              0.7777777777777778,
              "#fb9f3a"
             ],
             [
              0.8888888888888888,
              "#fdca26"
             ],
             [
              1,
              "#f0f921"
             ]
            ],
            "type": "contour"
           }
          ],
          "contourcarpet": [
           {
            "colorbar": {
             "outlinewidth": 0,
             "ticks": ""
            },
            "type": "contourcarpet"
           }
          ],
          "heatmap": [
           {
            "colorbar": {
             "outlinewidth": 0,
             "ticks": ""
            },
            "colorscale": [
             [
              0,
              "#0d0887"
             ],
             [
              0.1111111111111111,
              "#46039f"
             ],
             [
              0.2222222222222222,
              "#7201a8"
             ],
             [
              0.3333333333333333,
              "#9c179e"
             ],
             [
              0.4444444444444444,
              "#bd3786"
             ],
             [
              0.5555555555555556,
              "#d8576b"
             ],
             [
              0.6666666666666666,
              "#ed7953"
             ],
             [
              0.7777777777777778,
              "#fb9f3a"
             ],
             [
              0.8888888888888888,
              "#fdca26"
             ],
             [
              1,
              "#f0f921"
             ]
            ],
            "type": "heatmap"
           }
          ],
          "histogram": [
           {
            "marker": {
             "pattern": {
              "fillmode": "overlay",
              "size": 10,
              "solidity": 0.2
             }
            },
            "type": "histogram"
           }
          ],
          "histogram2d": [
           {
            "colorbar": {
             "outlinewidth": 0,
             "ticks": ""
            },
            "colorscale": [
             [
              0,
              "#0d0887"
             ],
             [
              0.1111111111111111,
              "#46039f"
             ],
             [
              0.2222222222222222,
              "#7201a8"
             ],
             [
              0.3333333333333333,
              "#9c179e"
             ],
             [
              0.4444444444444444,
              "#bd3786"
             ],
             [
              0.5555555555555556,
              "#d8576b"
             ],
             [
              0.6666666666666666,
              "#ed7953"
             ],
             [
              0.7777777777777778,
              "#fb9f3a"
             ],
             [
              0.8888888888888888,
              "#fdca26"
             ],
             [
              1,
              "#f0f921"
             ]
            ],
            "type": "histogram2d"
           }
          ],
          "histogram2dcontour": [
           {
            "colorbar": {
             "outlinewidth": 0,
             "ticks": ""
            },
            "colorscale": [
             [
              0,
              "#0d0887"
             ],
             [
              0.1111111111111111,
              "#46039f"
             ],
             [
              0.2222222222222222,
              "#7201a8"
             ],
             [
              0.3333333333333333,
              "#9c179e"
             ],
             [
              0.4444444444444444,
              "#bd3786"
             ],
             [
              0.5555555555555556,
              "#d8576b"
             ],
             [
              0.6666666666666666,
              "#ed7953"
             ],
             [
              0.7777777777777778,
              "#fb9f3a"
             ],
             [
              0.8888888888888888,
              "#fdca26"
             ],
             [
              1,
              "#f0f921"
             ]
            ],
            "type": "histogram2dcontour"
           }
          ],
          "mesh3d": [
           {
            "colorbar": {
             "outlinewidth": 0,
             "ticks": ""
            },
            "type": "mesh3d"
           }
          ],
          "parcoords": [
           {
            "line": {
             "colorbar": {
              "outlinewidth": 0,
              "ticks": ""
             }
            },
            "type": "parcoords"
           }
          ],
          "pie": [
           {
            "automargin": true,
            "type": "pie"
           }
          ],
          "scatter": [
           {
            "fillpattern": {
             "fillmode": "overlay",
             "size": 10,
             "solidity": 0.2
            },
            "type": "scatter"
           }
          ],
          "scatter3d": [
           {
            "line": {
             "colorbar": {
              "outlinewidth": 0,
              "ticks": ""
             }
            },
            "marker": {
             "colorbar": {
              "outlinewidth": 0,
              "ticks": ""
             }
            },
            "type": "scatter3d"
           }
          ],
          "scattercarpet": [
           {
            "marker": {
             "colorbar": {
              "outlinewidth": 0,
              "ticks": ""
             }
            },
            "type": "scattercarpet"
           }
          ],
          "scattergeo": [
           {
            "marker": {
             "colorbar": {
              "outlinewidth": 0,
              "ticks": ""
             }
            },
            "type": "scattergeo"
           }
          ],
          "scattergl": [
           {
            "marker": {
             "colorbar": {
              "outlinewidth": 0,
              "ticks": ""
             }
            },
            "type": "scattergl"
           }
          ],
          "scattermap": [
           {
            "marker": {
             "colorbar": {
              "outlinewidth": 0,
              "ticks": ""
             }
            },
            "type": "scattermap"
           }
          ],
          "scattermapbox": [
           {
            "marker": {
             "colorbar": {
              "outlinewidth": 0,
              "ticks": ""
             }
            },
            "type": "scattermapbox"
           }
          ],
          "scatterpolar": [
           {
            "marker": {
             "colorbar": {
              "outlinewidth": 0,
              "ticks": ""
             }
            },
            "type": "scatterpolar"
           }
          ],
          "scatterpolargl": [
           {
            "marker": {
             "colorbar": {
              "outlinewidth": 0,
              "ticks": ""
             }
            },
            "type": "scatterpolargl"
           }
          ],
          "scatterternary": [
           {
            "marker": {
             "colorbar": {
              "outlinewidth": 0,
              "ticks": ""
             }
            },
            "type": "scatterternary"
           }
          ],
          "surface": [
           {
            "colorbar": {
             "outlinewidth": 0,
             "ticks": ""
            },
            "colorscale": [
             [
              0,
              "#0d0887"
             ],
             [
              0.1111111111111111,
              "#46039f"
             ],
             [
              0.2222222222222222,
              "#7201a8"
             ],
             [
              0.3333333333333333,
              "#9c179e"
             ],
             [
              0.4444444444444444,
              "#bd3786"
             ],
             [
              0.5555555555555556,
              "#d8576b"
             ],
             [
              0.6666666666666666,
              "#ed7953"
             ],
             [
              0.7777777777777778,
              "#fb9f3a"
             ],
             [
              0.8888888888888888,
              "#fdca26"
             ],
             [
              1,
              "#f0f921"
             ]
            ],
            "type": "surface"
           }
          ],
          "table": [
           {
            "cells": {
             "fill": {
              "color": "#EBF0F8"
             },
             "line": {
              "color": "white"
             }
            },
            "header": {
             "fill": {
              "color": "#C8D4E3"
             },
             "line": {
              "color": "white"
             }
            },
            "type": "table"
           }
          ]
         },
         "layout": {
          "annotationdefaults": {
           "arrowcolor": "#2a3f5f",
           "arrowhead": 0,
           "arrowwidth": 1
          },
          "autotypenumbers": "strict",
          "coloraxis": {
           "colorbar": {
            "outlinewidth": 0,
            "ticks": ""
           }
          },
          "colorscale": {
           "diverging": [
            [
             0,
             "#8e0152"
            ],
            [
             0.1,
             "#c51b7d"
            ],
            [
             0.2,
             "#de77ae"
            ],
            [
             0.3,
             "#f1b6da"
            ],
            [
             0.4,
             "#fde0ef"
            ],
            [
             0.5,
             "#f7f7f7"
            ],
            [
             0.6,
             "#e6f5d0"
            ],
            [
             0.7,
             "#b8e186"
            ],
            [
             0.8,
             "#7fbc41"
            ],
            [
             0.9,
             "#4d9221"
            ],
            [
             1,
             "#276419"
            ]
           ],
           "sequential": [
            [
             0,
             "#0d0887"
            ],
            [
             0.1111111111111111,
             "#46039f"
            ],
            [
             0.2222222222222222,
             "#7201a8"
            ],
            [
             0.3333333333333333,
             "#9c179e"
            ],
            [
             0.4444444444444444,
             "#bd3786"
            ],
            [
             0.5555555555555556,
             "#d8576b"
            ],
            [
             0.6666666666666666,
             "#ed7953"
            ],
            [
             0.7777777777777778,
             "#fb9f3a"
            ],
            [
             0.8888888888888888,
             "#fdca26"
            ],
            [
             1,
             "#f0f921"
            ]
           ],
           "sequentialminus": [
            [
             0,
             "#0d0887"
            ],
            [
             0.1111111111111111,
             "#46039f"
            ],
            [
             0.2222222222222222,
             "#7201a8"
            ],
            [
             0.3333333333333333,
             "#9c179e"
            ],
            [
             0.4444444444444444,
             "#bd3786"
            ],
            [
             0.5555555555555556,
             "#d8576b"
            ],
            [
             0.6666666666666666,
             "#ed7953"
            ],
            [
             0.7777777777777778,
             "#fb9f3a"
            ],
            [
             0.8888888888888888,
             "#fdca26"
            ],
            [
             1,
             "#f0f921"
            ]
           ]
          },
          "colorway": [
           "#636efa",
           "#EF553B",
           "#00cc96",
           "#ab63fa",
           "#FFA15A",
           "#19d3f3",
           "#FF6692",
           "#B6E880",
           "#FF97FF",
           "#FECB52"
          ],
          "font": {
           "color": "#2a3f5f"
          },
          "geo": {
           "bgcolor": "white",
           "lakecolor": "white",
           "landcolor": "#E5ECF6",
           "showlakes": true,
           "showland": true,
           "subunitcolor": "white"
          },
          "hoverlabel": {
           "align": "left"
          },
          "hovermode": "closest",
          "mapbox": {
           "style": "light"
          },
          "paper_bgcolor": "white",
          "plot_bgcolor": "#E5ECF6",
          "polar": {
           "angularaxis": {
            "gridcolor": "white",
            "linecolor": "white",
            "ticks": ""
           },
           "bgcolor": "#E5ECF6",
           "radialaxis": {
            "gridcolor": "white",
            "linecolor": "white",
            "ticks": ""
           }
          },
          "scene": {
           "xaxis": {
            "backgroundcolor": "#E5ECF6",
            "gridcolor": "white",
            "gridwidth": 2,
            "linecolor": "white",
            "showbackground": true,
            "ticks": "",
            "zerolinecolor": "white"
           },
           "yaxis": {
            "backgroundcolor": "#E5ECF6",
            "gridcolor": "white",
            "gridwidth": 2,
            "linecolor": "white",
            "showbackground": true,
            "ticks": "",
            "zerolinecolor": "white"
           },
           "zaxis": {
            "backgroundcolor": "#E5ECF6",
            "gridcolor": "white",
            "gridwidth": 2,
            "linecolor": "white",
            "showbackground": true,
            "ticks": "",
            "zerolinecolor": "white"
           }
          },
          "shapedefaults": {
           "line": {
            "color": "#2a3f5f"
           }
          },
          "ternary": {
           "aaxis": {
            "gridcolor": "white",
            "linecolor": "white",
            "ticks": ""
           },
           "baxis": {
            "gridcolor": "white",
            "linecolor": "white",
            "ticks": ""
           },
           "bgcolor": "#E5ECF6",
           "caxis": {
            "gridcolor": "white",
            "linecolor": "white",
            "ticks": ""
           }
          },
          "title": {
           "x": 0.05
          },
          "xaxis": {
           "automargin": true,
           "gridcolor": "white",
           "linecolor": "white",
           "ticks": "",
           "title": {
            "standoff": 15
           },
           "zerolinecolor": "white",
           "zerolinewidth": 2
          },
          "yaxis": {
           "automargin": true,
           "gridcolor": "white",
           "linecolor": "white",
           "ticks": "",
           "title": {
            "standoff": 15
           },
           "zerolinecolor": "white",
           "zerolinewidth": 2
          }
         }
        },
        "title": {
         "text": "Interactive 3D Drone Flight Path"
        },
        "width": 600
       }
      }
     },
     "metadata": {},
     "output_type": "display_data"
    },
    {
     "name": "stdout",
     "output_type": "stream",
     "text": [
      "Moving: vx=0, vy=0, vz=-0.2, yaw=0\n",
      "Executing command: move 0 0 -0.2 0 1.0\n"
     ]
    },
    {
     "data": {
      "application/vnd.plotly.v1+json": {
       "config": {
        "plotlyServerURL": "https://plot.ly"
       },
       "data": [
        {
         "line": {
          "color": "blue",
          "width": 4
         },
         "marker": {
          "size": 4
         },
         "mode": "lines+markers",
         "name": "Drone Path",
         "type": "scatter3d",
         "x": {
          "bdata": "AAAAAAAAAAAAAAAAAAAAAAChFy6Dfng/ULD2GgRAmD+gFwtFFdSqP3TFVR39Src/JfhZIAOnwT9QHalAR3zIPxiZYBSO388/BGKzs7jC0z9f9auY8Y/XPzSiMhqlMNs/ds4e+sx/3j922JGc0a3gPyIWjWN90+E/fW7NozSl4j8l+PQFmxrjP4Mjnl0CL+M/Z5/PbZrh4j9ODT82eTXiP0ZMqHR7MeE/QElQN/2/3z+8O8MT7pzcP8ygHXLNGdk/nerZvHNa1T9d7sb/H4XRPxfT8iLjgcs/PiZFl7FoxD8WJT/1Og68PypNkuuNPLE/ENx1Ro6VoT/gYP0WrHiIP+Bg/RaseIg/4GD9Fqx4iD+wmATX9luSP2CwOhMtPqI/7DdlJSB5sD+QcTWgElq6PzPOyeGNLsM/XvMYAtIDyj+TN+hqjLPQPwtNaxR+htQ/ZuBj+bZT2D88jep6avTbP3251lqSQ98/+c3tTLQP4T+lC+kTYDXiPwBkKVQXB+M/qO1Qtn184z8GGfoN5ZDjP+qUKx59Q+M/0QKb5luX4j/JQQQlXpPhPyQaBEzhQeA/wiZ7dLNg3T/Ti9XSkt3ZP6TVkR05HtY/ZNl+YOVI0j8lqWLkbQnNP0z8tFg88MU/MtEeeFAdvz9G+XFuo0u0P0g0NUy5s6c/4GD9Fqx4mD/gYP0WrHiYP+Bg/RaseJg/IEmD4kyYnj+YCPoYWFyoPwjkRKg1iLM/rB0VIyhpvT9BpDmjGLbEP2zJiMNci8s/miKgy1F30T8SOCN1Q0rVP23LG1p8F9k/Qnii2y+43D9CUsfdqwPgP3zDSf2WceE/KAFFxEKX4j+EWYUE+mjjPyzjrGZg3uM/ig5Wvsfy4z9uiofOX6XjP1T49pY++eI/TDdg1UD14T+nD2D8w6PgP8oRM9V4JN4/2naNM1ih2j+rwEl+/uHWP2vENsGqDNM/M3/SpfiQzj9a0iQax3fHP6c+f/0yFsE/YqVR8bhatz+AjPRR5NGtP6gIPhGBWqI/qAg+EYFaoj+oCD4RgVqiP8j8AHdRaqU/0GC5HoN6rj8kkCQrS5e2P+Rk+tIePMA/T3qpZKM9xj96n/iE5xLNP6ENWCwXO9I/GSPb1QgO1j90ttO6QdvZP0pjWjz1e90/xkcjjo5l4D8AuaWtedPhP6z2oHQl+eI/CE/htNzK4z+w2AgXQ0DkPw4Esm6qVOQ/8n/jfkIH5D/Y7VJHIVvjP9AsvIUjV+I/KwW8rKYF4T/Q/Oo1PujeP+FhRZQdZds/sqsB38Ol1z9yr+4hcNDTP6AqobNBDNA/aKiU21H/yD+1FO++vZ3CP35RMXTOabo/XPLZqwf4sT/gYP0WrHioP+Bg/RaseKg/",
          "dtype": "f8"
         },
         "y": {
          "bdata": "AAAAAAAAAAAAAAAAAAAAAOH8Fvf+g64/5khnsUbovT85G5NPqa7FP4/+f7bli8s/KG4Fif8n0D92M3aUKOXRP85TKbmu69I/ECggqxox0z+Qc3Hnp7LSP12fSvNgddE/PDUA0tcLzz8dlYTAEvDJP63T862Vy8M/sxPXkCK6uT86M6iDEK2lPx4bWLy67pG/WPXLeiSgs78qscMoJ/7Av/OztczOfse/0iQI16sPzb+BPuMf+LvQv8NL9oNQRdK/1lo4pTAU07+ZizopWSDTv7go7flNadK/TkkJOFv20L+GBjyClazNv9kmtYKaPci/E1PvqjnXwb+zKQdAiHW1v7MpB0CIdbW/sykHQIh1tb8Kre4RI86Yv2Y+wOJ85aA/vwwfX8rntT+2aXyWIdHAP3ZHB/I6lcU/EtLoCI0PyT/CEk9SmRzLP0a7PDZxp8s/RlLfrouqyj/gqZHG/S/IP2Kg/LETUcQ/hwACQZ1qvj+nfeAboyGyPwCoP0NpEpE/LCBm/P89pb96MB3vNvG5v4aPaV3WisS/BEbHSOu4y79mpFx2yRzRv9bchfs35dO/7gjlL1oZ1r8wFviTsqLXv0MlOrWScdi/BlY8Obt92L8l8+4JsMbXv7sTC0i9U9a/sM0f0awz1L/ZXVxRL3zRv+zn8sr9kcy/sykHQIh1xb+zKQdAiHXFv7MpB0CIdcW/9tSCBBGpu78AFU6dkwWqvwDD+MWHkFw/cFPj2XVZqD86ZQek7bS1P3J6ytGRqbw/6X1LMtVhwD9tJjkWrezAP9p6tx2P378/DiocTXPquj8SF/IjnyyzP6it9QEq6qE/YGA1ISmfir+zPzfv7TCxv+QcHR9ECsC/Fy2Sl1+zx79fJG19mkXPv25tZbTXOdO/025ehit61r9Cp4cLmkLZv1rT5j+8dtu/nOD5oxQA3b+w7zvF9M7dv3IgPkkd292/kr3wGRIk3b8o3gxYH7HbvxyYIeEOkdm/RiheYZHZ1r9jPnv1YKbTv0ZfBTAmGNC/Rl8FMCYY0L9GXwUwJhjQv1T/RKJMj8i/GRpXByk8wb+mRu8gRgO1v/T/KqaakaK/AMQdALKyTz8AQw1HJtCcP0CkH0lEnKY/UEbW2KPHqD9QomC7DdSkP3ABVDSs05U/AJWo4EhHgr+8pRh+5gCpv77VLWRtybi/sjSfFztTw7++sSA/CMXKv/jgytsRN9G/nFy4Ti8A1b/bN2fEOZfYv0A5YJaN19u/r3GJG/yf3r/kTvQnD2rgv4TV/Vm7LuG/Dt2eaiuW4b9w9Z+sP5zhv/9D+RS6QOG/SlQHtECH4L+JYiPxcO7ev7LyX3HzNty/0Ah9BcMD2b+zKQdAiHXVv7MpB0CIddW/",
          "dtype": "f8"
         },
         "z": [
          2,
          2,
          2,
          2,
          2,
          2,
          2,
          2,
          2,
          2,
          2,
          2,
          2,
          2,
          2,
          2,
          2,
          2,
          2,
          2,
          2,
          2,
          2,
          2,
          2,
          2,
          2,
          2,
          2,
          2,
          2,
          2,
          1.8,
          1.8,
          1.8,
          1.8,
          1.8,
          1.8,
          1.8,
          1.8,
          1.8,
          1.8,
          1.8,
          1.8,
          1.8,
          1.8,
          1.8,
          1.8,
          1.8,
          1.8,
          1.8,
          1.8,
          1.8,
          1.8,
          1.8,
          1.8,
          1.8,
          1.8,
          1.8,
          1.8,
          1.8,
          1.8,
          1.8,
          1.8,
          1.6,
          1.6,
          1.6,
          1.6,
          1.6,
          1.6,
          1.6,
          1.6,
          1.6,
          1.6,
          1.6,
          1.6,
          1.6,
          1.6,
          1.6,
          1.6,
          1.6,
          1.6,
          1.6,
          1.6,
          1.6,
          1.6,
          1.6,
          1.6,
          1.6,
          1.6,
          1.6,
          1.6,
          1.6,
          1.6,
          1.6,
          1.6,
          1.4000000000000001,
          1.4000000000000001,
          1.4000000000000001,
          1.4000000000000001,
          1.4000000000000001,
          1.4000000000000001,
          1.4000000000000001,
          1.4000000000000001,
          1.4000000000000001,
          1.4000000000000001,
          1.4000000000000001,
          1.4000000000000001,
          1.4000000000000001,
          1.4000000000000001,
          1.4000000000000001,
          1.4000000000000001,
          1.4000000000000001,
          1.4000000000000001,
          1.4000000000000001,
          1.4000000000000001,
          1.4000000000000001,
          1.4000000000000001,
          1.4000000000000001,
          1.4000000000000001,
          1.4000000000000001,
          1.4000000000000001,
          1.4000000000000001,
          1.4000000000000001,
          1.4000000000000001,
          1.4000000000000001,
          1.4000000000000001,
          1.4000000000000001,
          1.2000000000000002
         ]
        },
        {
         "marker": {
          "color": "red",
          "size": 10,
          "symbol": "diamond"
         },
         "mode": "markers",
         "name": "Current Position",
         "type": "scatter3d",
         "x": [
          0.04779565601956093
         ],
         "y": [
          -0.335298597838711
         ],
         "z": [
          1.2000000000000002
         ]
        }
       ],
       "layout": {
        "height": 500,
        "legend": {
         "x": 0,
         "y": 1
        },
        "margin": {
         "b": 0,
         "l": 0,
         "r": 0,
         "t": 30
        },
        "scene": {
         "aspectmode": "data",
         "camera": {
          "eye": {
           "x": 1.5,
           "y": 1.5,
           "z": 0.6
          }
         },
         "xaxis": {
          "title": {
           "text": "X (meters)"
          }
         },
         "yaxis": {
          "title": {
           "text": "Y (meters)"
          }
         },
         "zaxis": {
          "title": {
           "text": "Altitude (meters)"
          }
         }
        },
        "template": {
         "data": {
          "bar": [
           {
            "error_x": {
             "color": "#2a3f5f"
            },
            "error_y": {
             "color": "#2a3f5f"
            },
            "marker": {
             "line": {
              "color": "#E5ECF6",
              "width": 0.5
             },
             "pattern": {
              "fillmode": "overlay",
              "size": 10,
              "solidity": 0.2
             }
            },
            "type": "bar"
           }
          ],
          "barpolar": [
           {
            "marker": {
             "line": {
              "color": "#E5ECF6",
              "width": 0.5
             },
             "pattern": {
              "fillmode": "overlay",
              "size": 10,
              "solidity": 0.2
             }
            },
            "type": "barpolar"
           }
          ],
          "carpet": [
           {
            "aaxis": {
             "endlinecolor": "#2a3f5f",
             "gridcolor": "white",
             "linecolor": "white",
             "minorgridcolor": "white",
             "startlinecolor": "#2a3f5f"
            },
            "baxis": {
             "endlinecolor": "#2a3f5f",
             "gridcolor": "white",
             "linecolor": "white",
             "minorgridcolor": "white",
             "startlinecolor": "#2a3f5f"
            },
            "type": "carpet"
           }
          ],
          "choropleth": [
           {
            "colorbar": {
             "outlinewidth": 0,
             "ticks": ""
            },
            "type": "choropleth"
           }
          ],
          "contour": [
           {
            "colorbar": {
             "outlinewidth": 0,
             "ticks": ""
            },
            "colorscale": [
             [
              0,
              "#0d0887"
             ],
             [
              0.1111111111111111,
              "#46039f"
             ],
             [
              0.2222222222222222,
              "#7201a8"
             ],
             [
              0.3333333333333333,
              "#9c179e"
             ],
             [
              0.4444444444444444,
              "#bd3786"
             ],
             [
              0.5555555555555556,
              "#d8576b"
             ],
             [
              0.6666666666666666,
              "#ed7953"
             ],
             [
              0.7777777777777778,
              "#fb9f3a"
             ],
             [
              0.8888888888888888,
              "#fdca26"
             ],
             [
              1,
              "#f0f921"
             ]
            ],
            "type": "contour"
           }
          ],
          "contourcarpet": [
           {
            "colorbar": {
             "outlinewidth": 0,
             "ticks": ""
            },
            "type": "contourcarpet"
           }
          ],
          "heatmap": [
           {
            "colorbar": {
             "outlinewidth": 0,
             "ticks": ""
            },
            "colorscale": [
             [
              0,
              "#0d0887"
             ],
             [
              0.1111111111111111,
              "#46039f"
             ],
             [
              0.2222222222222222,
              "#7201a8"
             ],
             [
              0.3333333333333333,
              "#9c179e"
             ],
             [
              0.4444444444444444,
              "#bd3786"
             ],
             [
              0.5555555555555556,
              "#d8576b"
             ],
             [
              0.6666666666666666,
              "#ed7953"
             ],
             [
              0.7777777777777778,
              "#fb9f3a"
             ],
             [
              0.8888888888888888,
              "#fdca26"
             ],
             [
              1,
              "#f0f921"
             ]
            ],
            "type": "heatmap"
           }
          ],
          "histogram": [
           {
            "marker": {
             "pattern": {
              "fillmode": "overlay",
              "size": 10,
              "solidity": 0.2
             }
            },
            "type": "histogram"
           }
          ],
          "histogram2d": [
           {
            "colorbar": {
             "outlinewidth": 0,
             "ticks": ""
            },
            "colorscale": [
             [
              0,
              "#0d0887"
             ],
             [
              0.1111111111111111,
              "#46039f"
             ],
             [
              0.2222222222222222,
              "#7201a8"
             ],
             [
              0.3333333333333333,
              "#9c179e"
             ],
             [
              0.4444444444444444,
              "#bd3786"
             ],
             [
              0.5555555555555556,
              "#d8576b"
             ],
             [
              0.6666666666666666,
              "#ed7953"
             ],
             [
              0.7777777777777778,
              "#fb9f3a"
             ],
             [
              0.8888888888888888,
              "#fdca26"
             ],
             [
              1,
              "#f0f921"
             ]
            ],
            "type": "histogram2d"
           }
          ],
          "histogram2dcontour": [
           {
            "colorbar": {
             "outlinewidth": 0,
             "ticks": ""
            },
            "colorscale": [
             [
              0,
              "#0d0887"
             ],
             [
              0.1111111111111111,
              "#46039f"
             ],
             [
              0.2222222222222222,
              "#7201a8"
             ],
             [
              0.3333333333333333,
              "#9c179e"
             ],
             [
              0.4444444444444444,
              "#bd3786"
             ],
             [
              0.5555555555555556,
              "#d8576b"
             ],
             [
              0.6666666666666666,
              "#ed7953"
             ],
             [
              0.7777777777777778,
              "#fb9f3a"
             ],
             [
              0.8888888888888888,
              "#fdca26"
             ],
             [
              1,
              "#f0f921"
             ]
            ],
            "type": "histogram2dcontour"
           }
          ],
          "mesh3d": [
           {
            "colorbar": {
             "outlinewidth": 0,
             "ticks": ""
            },
            "type": "mesh3d"
           }
          ],
          "parcoords": [
           {
            "line": {
             "colorbar": {
              "outlinewidth": 0,
              "ticks": ""
             }
            },
            "type": "parcoords"
           }
          ],
          "pie": [
           {
            "automargin": true,
            "type": "pie"
           }
          ],
          "scatter": [
           {
            "fillpattern": {
             "fillmode": "overlay",
             "size": 10,
             "solidity": 0.2
            },
            "type": "scatter"
           }
          ],
          "scatter3d": [
           {
            "line": {
             "colorbar": {
              "outlinewidth": 0,
              "ticks": ""
             }
            },
            "marker": {
             "colorbar": {
              "outlinewidth": 0,
              "ticks": ""
             }
            },
            "type": "scatter3d"
           }
          ],
          "scattercarpet": [
           {
            "marker": {
             "colorbar": {
              "outlinewidth": 0,
              "ticks": ""
             }
            },
            "type": "scattercarpet"
           }
          ],
          "scattergeo": [
           {
            "marker": {
             "colorbar": {
              "outlinewidth": 0,
              "ticks": ""
             }
            },
            "type": "scattergeo"
           }
          ],
          "scattergl": [
           {
            "marker": {
             "colorbar": {
              "outlinewidth": 0,
              "ticks": ""
             }
            },
            "type": "scattergl"
           }
          ],
          "scattermap": [
           {
            "marker": {
             "colorbar": {
              "outlinewidth": 0,
              "ticks": ""
             }
            },
            "type": "scattermap"
           }
          ],
          "scattermapbox": [
           {
            "marker": {
             "colorbar": {
              "outlinewidth": 0,
              "ticks": ""
             }
            },
            "type": "scattermapbox"
           }
          ],
          "scatterpolar": [
           {
            "marker": {
             "colorbar": {
              "outlinewidth": 0,
              "ticks": ""
             }
            },
            "type": "scatterpolar"
           }
          ],
          "scatterpolargl": [
           {
            "marker": {
             "colorbar": {
              "outlinewidth": 0,
              "ticks": ""
             }
            },
            "type": "scatterpolargl"
           }
          ],
          "scatterternary": [
           {
            "marker": {
             "colorbar": {
              "outlinewidth": 0,
              "ticks": ""
             }
            },
            "type": "scatterternary"
           }
          ],
          "surface": [
           {
            "colorbar": {
             "outlinewidth": 0,
             "ticks": ""
            },
            "colorscale": [
             [
              0,
              "#0d0887"
             ],
             [
              0.1111111111111111,
              "#46039f"
             ],
             [
              0.2222222222222222,
              "#7201a8"
             ],
             [
              0.3333333333333333,
              "#9c179e"
             ],
             [
              0.4444444444444444,
              "#bd3786"
             ],
             [
              0.5555555555555556,
              "#d8576b"
             ],
             [
              0.6666666666666666,
              "#ed7953"
             ],
             [
              0.7777777777777778,
              "#fb9f3a"
             ],
             [
              0.8888888888888888,
              "#fdca26"
             ],
             [
              1,
              "#f0f921"
             ]
            ],
            "type": "surface"
           }
          ],
          "table": [
           {
            "cells": {
             "fill": {
              "color": "#EBF0F8"
             },
             "line": {
              "color": "white"
             }
            },
            "header": {
             "fill": {
              "color": "#C8D4E3"
             },
             "line": {
              "color": "white"
             }
            },
            "type": "table"
           }
          ]
         },
         "layout": {
          "annotationdefaults": {
           "arrowcolor": "#2a3f5f",
           "arrowhead": 0,
           "arrowwidth": 1
          },
          "autotypenumbers": "strict",
          "coloraxis": {
           "colorbar": {
            "outlinewidth": 0,
            "ticks": ""
           }
          },
          "colorscale": {
           "diverging": [
            [
             0,
             "#8e0152"
            ],
            [
             0.1,
             "#c51b7d"
            ],
            [
             0.2,
             "#de77ae"
            ],
            [
             0.3,
             "#f1b6da"
            ],
            [
             0.4,
             "#fde0ef"
            ],
            [
             0.5,
             "#f7f7f7"
            ],
            [
             0.6,
             "#e6f5d0"
            ],
            [
             0.7,
             "#b8e186"
            ],
            [
             0.8,
             "#7fbc41"
            ],
            [
             0.9,
             "#4d9221"
            ],
            [
             1,
             "#276419"
            ]
           ],
           "sequential": [
            [
             0,
             "#0d0887"
            ],
            [
             0.1111111111111111,
             "#46039f"
            ],
            [
             0.2222222222222222,
             "#7201a8"
            ],
            [
             0.3333333333333333,
             "#9c179e"
            ],
            [
             0.4444444444444444,
             "#bd3786"
            ],
            [
             0.5555555555555556,
             "#d8576b"
            ],
            [
             0.6666666666666666,
             "#ed7953"
            ],
            [
             0.7777777777777778,
             "#fb9f3a"
            ],
            [
             0.8888888888888888,
             "#fdca26"
            ],
            [
             1,
             "#f0f921"
            ]
           ],
           "sequentialminus": [
            [
             0,
             "#0d0887"
            ],
            [
             0.1111111111111111,
             "#46039f"
            ],
            [
             0.2222222222222222,
             "#7201a8"
            ],
            [
             0.3333333333333333,
             "#9c179e"
            ],
            [
             0.4444444444444444,
             "#bd3786"
            ],
            [
             0.5555555555555556,
             "#d8576b"
            ],
            [
             0.6666666666666666,
             "#ed7953"
            ],
            [
             0.7777777777777778,
             "#fb9f3a"
            ],
            [
             0.8888888888888888,
             "#fdca26"
            ],
            [
             1,
             "#f0f921"
            ]
           ]
          },
          "colorway": [
           "#636efa",
           "#EF553B",
           "#00cc96",
           "#ab63fa",
           "#FFA15A",
           "#19d3f3",
           "#FF6692",
           "#B6E880",
           "#FF97FF",
           "#FECB52"
          ],
          "font": {
           "color": "#2a3f5f"
          },
          "geo": {
           "bgcolor": "white",
           "lakecolor": "white",
           "landcolor": "#E5ECF6",
           "showlakes": true,
           "showland": true,
           "subunitcolor": "white"
          },
          "hoverlabel": {
           "align": "left"
          },
          "hovermode": "closest",
          "mapbox": {
           "style": "light"
          },
          "paper_bgcolor": "white",
          "plot_bgcolor": "#E5ECF6",
          "polar": {
           "angularaxis": {
            "gridcolor": "white",
            "linecolor": "white",
            "ticks": ""
           },
           "bgcolor": "#E5ECF6",
           "radialaxis": {
            "gridcolor": "white",
            "linecolor": "white",
            "ticks": ""
           }
          },
          "scene": {
           "xaxis": {
            "backgroundcolor": "#E5ECF6",
            "gridcolor": "white",
            "gridwidth": 2,
            "linecolor": "white",
            "showbackground": true,
            "ticks": "",
            "zerolinecolor": "white"
           },
           "yaxis": {
            "backgroundcolor": "#E5ECF6",
            "gridcolor": "white",
            "gridwidth": 2,
            "linecolor": "white",
            "showbackground": true,
            "ticks": "",
            "zerolinecolor": "white"
           },
           "zaxis": {
            "backgroundcolor": "#E5ECF6",
            "gridcolor": "white",
            "gridwidth": 2,
            "linecolor": "white",
            "showbackground": true,
            "ticks": "",
            "zerolinecolor": "white"
           }
          },
          "shapedefaults": {
           "line": {
            "color": "#2a3f5f"
           }
          },
          "ternary": {
           "aaxis": {
            "gridcolor": "white",
            "linecolor": "white",
            "ticks": ""
           },
           "baxis": {
            "gridcolor": "white",
            "linecolor": "white",
            "ticks": ""
           },
           "bgcolor": "#E5ECF6",
           "caxis": {
            "gridcolor": "white",
            "linecolor": "white",
            "ticks": ""
           }
          },
          "title": {
           "x": 0.05
          },
          "xaxis": {
           "automargin": true,
           "gridcolor": "white",
           "linecolor": "white",
           "ticks": "",
           "title": {
            "standoff": 15
           },
           "zerolinecolor": "white",
           "zerolinewidth": 2
          },
          "yaxis": {
           "automargin": true,
           "gridcolor": "white",
           "linecolor": "white",
           "ticks": "",
           "title": {
            "standoff": 15
           },
           "zerolinecolor": "white",
           "zerolinewidth": 2
          }
         }
        },
        "title": {
         "text": "Interactive 3D Drone Flight Path"
        },
        "width": 600
       }
      }
     },
     "metadata": {},
     "output_type": "display_data"
    },
    {
     "name": "stdout",
     "output_type": "stream",
     "text": [
      "\u2b55 Executing circle left (optimized)...\n"
     ]
    },
    {
     "data": {
      "application/vnd.plotly.v1+json": {
       "config": {
        "plotlyServerURL": "https://plot.ly"
       },
       "data": [
        {
         "line": {
          "color": "blue",
          "width": 4
         },
         "marker": {
          "size": 4
         },
         "mode": "lines+markers",
         "name": "Drone Path",
         "type": "scatter3d",
         "x": {
          "bdata": "AAAAAAAAAAAAAAAAAAAAAAChFy6Dfng/ULD2GgRAmD+gFwtFFdSqP3TFVR39Src/JfhZIAOnwT9QHalAR3zIPxiZYBSO388/BGKzs7jC0z9f9auY8Y/XPzSiMhqlMNs/ds4e+sx/3j922JGc0a3gPyIWjWN90+E/fW7NozSl4j8l+PQFmxrjP4Mjnl0CL+M/Z5/PbZrh4j9ODT82eTXiP0ZMqHR7MeE/QElQN/2/3z+8O8MT7pzcP8ygHXLNGdk/nerZvHNa1T9d7sb/H4XRPxfT8iLjgcs/PiZFl7FoxD8WJT/1Og68PypNkuuNPLE/ENx1Ro6VoT/gYP0WrHiIP+Bg/RaseIg/4GD9Fqx4iD+wmATX9luSP2CwOhMtPqI/7DdlJSB5sD+QcTWgElq6PzPOyeGNLsM/XvMYAtIDyj+TN+hqjLPQPwtNaxR+htQ/ZuBj+bZT2D88jep6avTbP3251lqSQ98/+c3tTLQP4T+lC+kTYDXiPwBkKVQXB+M/qO1Qtn184z8GGfoN5ZDjP+qUKx59Q+M/0QKb5luX4j/JQQQlXpPhPyQaBEzhQeA/wiZ7dLNg3T/Ti9XSkt3ZP6TVkR05HtY/ZNl+YOVI0j8lqWLkbQnNP0z8tFg88MU/MtEeeFAdvz9G+XFuo0u0P0g0NUy5s6c/4GD9Fqx4mD/gYP0WrHiYP+Bg/RaseJg/IEmD4kyYnj+YCPoYWFyoPwjkRKg1iLM/rB0VIyhpvT9BpDmjGLbEP2zJiMNci8s/miKgy1F30T8SOCN1Q0rVP23LG1p8F9k/Qnii2y+43D9CUsfdqwPgP3zDSf2WceE/KAFFxEKX4j+EWYUE+mjjPyzjrGZg3uM/ig5Wvsfy4z9uiofOX6XjP1T49pY++eI/TDdg1UD14T+nD2D8w6PgP8oRM9V4JN4/2naNM1ih2j+rwEl+/uHWP2vENsGqDNM/M3/SpfiQzj9a0iQax3fHP6c+f/0yFsE/YqVR8bhatz+AjPRR5NGtP6gIPhGBWqI/qAg+EYFaoj+oCD4RgVqiP8j8AHdRaqU/0GC5HoN6rj8kkCQrS5e2P+Rk+tIePMA/T3qpZKM9xj96n/iE5xLNP6ENWCwXO9I/GSPb1QgO1j90ttO6QdvZP0pjWjz1e90/xkcjjo5l4D8AuaWtedPhP6z2oHQl+eI/CE/htNzK4z+w2AgXQ0DkPw4Esm6qVOQ/8n/jfkIH5D/Y7VJHIVvjP9AsvIUjV+I/KwW8rKYF4T/Q/Oo1PujeP+FhRZQdZds/sqsB38Ol1z9yr+4hcNDTP6AqobNBDNA/aKiU21H/yD+1FO++vZ3CP35RMXTOabo/XPLZqwf4sT/gYP0WrHioP+Bg/RaseKg/4GD9Fqx4qD8AVcB8fIirP4RcPBJXTLI/QDwErmCmuT/yOmqUqcPBP11QGSYuxcc/iHVoRnKazj+o+A+N3P7SPyAOkzbO0dY/e6GLGwef2j9QThKduj/eP0k9fz5xx+A/hK4BXlw14j8w7PwkCFvjP4tEPWW/LOQ/M85kxyWi5D+R+Q0fjbbkP3V1Py8laeQ/XOOu9wO94z9UIhg2BrniP676F12JZ+E/2OeilgOs3z/oTP304ijcP7mWuT+Jadg/eZqmgjWU1D+oFVkUB9DQP3Z+BJ3chso/w+pegEglxD+a/RD343i9P3ieuS4dB7U/GLm8HNeWrj8=",
          "dtype": "f8"
         },
         "y": {
          "bdata": "AAAAAAAAAAAAAAAAAAAAAOH8Fvf+g64/5khnsUbovT85G5NPqa7FP4/+f7bli8s/KG4Fif8n0D92M3aUKOXRP85TKbmu69I/ECggqxox0z+Qc3Hnp7LSP12fSvNgddE/PDUA0tcLzz8dlYTAEvDJP63T862Vy8M/sxPXkCK6uT86M6iDEK2lPx4bWLy67pG/WPXLeiSgs78qscMoJ/7Av/OztczOfse/0iQI16sPzb+BPuMf+LvQv8NL9oNQRdK/1lo4pTAU07+ZizopWSDTv7go7flNadK/TkkJOFv20L+GBjyClazNv9kmtYKaPci/E1PvqjnXwb+zKQdAiHW1v7MpB0CIdbW/sykHQIh1tb8Kre4RI86Yv2Y+wOJ85aA/vwwfX8rntT+2aXyWIdHAP3ZHB/I6lcU/EtLoCI0PyT/CEk9SmRzLP0a7PDZxp8s/RlLfrouqyj/gqZHG/S/IP2Kg/LETUcQ/hwACQZ1qvj+nfeAboyGyPwCoP0NpEpE/LCBm/P89pb96MB3vNvG5v4aPaV3WisS/BEbHSOu4y79mpFx2yRzRv9bchfs35dO/7gjlL1oZ1r8wFviTsqLXv0MlOrWScdi/BlY8Obt92L8l8+4JsMbXv7sTC0i9U9a/sM0f0awz1L/ZXVxRL3zRv+zn8sr9kcy/sykHQIh1xb+zKQdAiHXFv7MpB0CIdcW/9tSCBBGpu78AFU6dkwWqvwDD+MWHkFw/cFPj2XVZqD86ZQek7bS1P3J6ytGRqbw/6X1LMtVhwD9tJjkWrezAP9p6tx2P378/DiocTXPquj8SF/IjnyyzP6it9QEq6qE/YGA1ISmfir+zPzfv7TCxv+QcHR9ECsC/Fy2Sl1+zx79fJG19mkXPv25tZbTXOdO/025ehit61r9Cp4cLmkLZv1rT5j+8dtu/nOD5oxQA3b+w7zvF9M7dv3IgPkkd292/kr3wGRIk3b8o3gxYH7HbvxyYIeEOkdm/RiheYZHZ1r9jPnv1YKbTv0ZfBTAmGNC/Rl8FMCYY0L9GXwUwJhjQv1T/RKJMj8i/GRpXByk8wb+mRu8gRgO1v/T/KqaakaK/AMQdALKyTz8AQw1HJtCcP0CkH0lEnKY/UEbW2KPHqD9QomC7DdSkP3ABVDSs05U/AJWo4EhHgr+8pRh+5gCpv77VLWRtybi/sjSfFztTw7++sSA/CMXKv/jgytsRN9G/nFy4Ti8A1b/bN2fEOZfYv0A5YJaN19u/r3GJG/yf3r/kTvQnD2rgv4TV/Vm7LuG/Dt2eaiuW4b9w9Z+sP5zhv/9D+RS6QOG/SlQHtECH4L+JYiPxcO7ev7LyX3HzNty/0Ah9BcMD2b+zKQdAiHXVv7MpB0CIddW/sykHQIh11b8XSiRhCKXRv/OuWift9su/LTh7MGc8xb+uqRyTVb6+vyzuBtwiNrW/6LGHXP2CrL8or+42zE6kvxgNOKdsI6K/GLGtxAIXpr9YKfIynQCwv1Q8HFxxvre/Sb6Jv/36wL+5fxrSeh/Hv4zJojf/Dc6/TCOSL+a/0r9lq8zrc5TWvwknul6RXdq/SAJp1Jv03b/WATHTd5rgvw6exRWv/uG/GjT1L8AY47+7uv5hbN3jv0TCn3LcROS/ptqgtPBK5L82Kfoca+/jv4A5CLzxNeO/e5aSgOkl4r+Q3rDAKsrgvzzTfhUlYd6/IPQIUOrS2r8=",
          "dtype": "f8"
         },
         "z": [
          2,
          2,
          2,
          2,
          2,
          2,
          2,
          2,
          2,
          2,
          2,
          2,
          2,
          2,
          2,
          2,
          2,
          2,
          2,
          2,
          2,
          2,
          2,
          2,
          2,
          2,
          2,
          2,
          2,
          2,
          2,
          2,
          1.8,
          1.8,
          1.8,
          1.8,
          1.8,
          1.8,
          1.8,
          1.8,
          1.8,
          1.8,
          1.8,
          1.8,
          1.8,
          1.8,
          1.8,
          1.8,
          1.8,
          1.8,
          1.8,
          1.8,
          1.8,
          1.8,
          1.8,
          1.8,
          1.8,
          1.8,
          1.8,
          1.8,
          1.8,
          1.8,
          1.8,
          1.8,
          1.6,
          1.6,
          1.6,
          1.6,
          1.6,
          1.6,
          1.6,
          1.6,
          1.6,
          1.6,
          1.6,
          1.6,
          1.6,
          1.6,
          1.6,
          1.6,
          1.6,
          1.6,
          1.6,
          1.6,
          1.6,
          1.6,
          1.6,
          1.6,
          1.6,
          1.6,
          1.6,
          1.6,
          1.6,
          1.6,
          1.6,
          1.6,
          1.4000000000000001,
          1.4000000000000001,
          1.4000000000000001,
          1.4000000000000001,
          1.4000000000000001,
          1.4000000000000001,
          1.4000000000000001,
          1.4000000000000001,
          1.4000000000000001,
          1.4000000000000001,
          1.4000000000000001,
          1.4000000000000001,
          1.4000000000000001,
          1.4000000000000001,
          1.4000000000000001,
          1.4000000000000001,
          1.4000000000000001,
          1.4000000000000001,
          1.4000000000000001,
          1.4000000000000001,
          1.4000000000000001,
          1.4000000000000001,
          1.4000000000000001,
          1.4000000000000001,
          1.4000000000000001,
          1.4000000000000001,
          1.4000000000000001,
          1.4000000000000001,
          1.4000000000000001,
          1.4000000000000001,
          1.4000000000000001,
          1.4000000000000001,
          1.2000000000000002,
          1.2000000000000002,
          1.2000000000000002,
          1.2000000000000002,
          1.2000000000000002,
          1.2000000000000002,
          1.2000000000000002,
          1.2000000000000002,
          1.2000000000000002,
          1.2000000000000002,
          1.2000000000000002,
          1.2000000000000002,
          1.2000000000000002,
          1.2000000000000002,
          1.2000000000000002,
          1.2000000000000002,
          1.2000000000000002,
          1.2000000000000002,
          1.2000000000000002,
          1.2000000000000002,
          1.2000000000000002,
          1.2000000000000002,
          1.2000000000000002,
          1.2000000000000002,
          1.2000000000000002,
          1.2000000000000002,
          1.2000000000000002,
          1.2000000000000002,
          1.2000000000000002,
          1.2000000000000002,
          1.2000000000000002,
          1.2000000000000002
         ]
        },
        {
         "marker": {
          "color": "red",
          "size": 10,
          "symbol": "diamond"
         },
         "mode": "markers",
         "name": "Current Position",
         "type": "scatter3d",
         "x": [
          0.05974457002445116
         ],
         "y": [
          -0.4191232472983888
         ],
         "z": [
          1.2000000000000002
         ]
        }
       ],
       "layout": {
        "height": 500,
        "legend": {
         "x": 0,
         "y": 1
        },
        "margin": {
         "b": 0,
         "l": 0,
         "r": 0,
         "t": 30
        },
        "scene": {
         "aspectmode": "data",
         "camera": {
          "eye": {
           "x": 1.5,
           "y": 1.5,
           "z": 0.6
          }
         },
         "xaxis": {
          "title": {
           "text": "X (meters)"
          }
         },
         "yaxis": {
          "title": {
           "text": "Y (meters)"
          }
         },
         "zaxis": {
          "title": {
           "text": "Altitude (meters)"
          }
         }
        },
        "template": {
         "data": {
          "bar": [
           {
            "error_x": {
             "color": "#2a3f5f"
            },
            "error_y": {
             "color": "#2a3f5f"
            },
            "marker": {
             "line": {
              "color": "#E5ECF6",
              "width": 0.5
             },
             "pattern": {
              "fillmode": "overlay",
              "size": 10,
              "solidity": 0.2
             }
            },
            "type": "bar"
           }
          ],
          "barpolar": [
           {
            "marker": {
             "line": {
              "color": "#E5ECF6",
              "width": 0.5
             },
             "pattern": {
              "fillmode": "overlay",
              "size": 10,
              "solidity": 0.2
             }
            },
            "type": "barpolar"
           }
          ],
          "carpet": [
           {
            "aaxis": {
             "endlinecolor": "#2a3f5f",
             "gridcolor": "white",
             "linecolor": "white",
             "minorgridcolor": "white",
             "startlinecolor": "#2a3f5f"
            },
            "baxis": {
             "endlinecolor": "#2a3f5f",
             "gridcolor": "white",
             "linecolor": "white",
             "minorgridcolor": "white",
             "startlinecolor": "#2a3f5f"
            },
            "type": "carpet"
           }
          ],
          "choropleth": [
           {
            "colorbar": {
             "outlinewidth": 0,
             "ticks": ""
            },
            "type": "choropleth"
           }
          ],
          "contour": [
           {
            "colorbar": {
             "outlinewidth": 0,
             "ticks": ""
            },
            "colorscale": [
             [
              0,
              "#0d0887"
             ],
             [
              0.1111111111111111,
              "#46039f"
             ],
             [
              0.2222222222222222,
              "#7201a8"
             ],
             [
              0.3333333333333333,
              "#9c179e"
             ],
             [
              0.4444444444444444,
              "#bd3786"
             ],
             [
              0.5555555555555556,
              "#d8576b"
             ],
             [
              0.6666666666666666,
              "#ed7953"
             ],
             [
              0.7777777777777778,
              "#fb9f3a"
             ],
             [
              0.8888888888888888,
              "#fdca26"
             ],
             [
              1,
              "#f0f921"
             ]
            ],
            "type": "contour"
           }
          ],
          "contourcarpet": [
           {
            "colorbar": {
             "outlinewidth": 0,
             "ticks": ""
            },
            "type": "contourcarpet"
           }
          ],
          "heatmap": [
           {
            "colorbar": {
             "outlinewidth": 0,
             "ticks": ""
            },
            "colorscale": [
             [
              0,
              "#0d0887"
             ],
             [
              0.1111111111111111,
              "#46039f"
             ],
             [
              0.2222222222222222,
              "#7201a8"
             ],
             [
              0.3333333333333333,
              "#9c179e"
             ],
             [
              0.4444444444444444,
              "#bd3786"
             ],
             [
              0.5555555555555556,
              "#d8576b"
             ],
             [
              0.6666666666666666,
              "#ed7953"
             ],
             [
              0.7777777777777778,
              "#fb9f3a"
             ],
             [
              0.8888888888888888,
              "#fdca26"
             ],
             [
              1,
              "#f0f921"
             ]
            ],
            "type": "heatmap"
           }
          ],
          "histogram": [
           {
            "marker": {
             "pattern": {
              "fillmode": "overlay",
              "size": 10,
              "solidity": 0.2
             }
            },
            "type": "histogram"
           }
          ],
          "histogram2d": [
           {
            "colorbar": {
             "outlinewidth": 0,
             "ticks": ""
            },
            "colorscale": [
             [
              0,
              "#0d0887"
             ],
             [
              0.1111111111111111,
              "#46039f"
             ],
             [
              0.2222222222222222,
              "#7201a8"
             ],
             [
              0.3333333333333333,
              "#9c179e"
             ],
             [
              0.4444444444444444,
              "#bd3786"
             ],
             [
              0.5555555555555556,
              "#d8576b"
             ],
             [
              0.6666666666666666,
              "#ed7953"
             ],
             [
              0.7777777777777778,
              "#fb9f3a"
             ],
             [
              0.8888888888888888,
              "#fdca26"
             ],
             [
              1,
              "#f0f921"
             ]
            ],
            "type": "histogram2d"
           }
          ],
          "histogram2dcontour": [
           {
            "colorbar": {
             "outlinewidth": 0,
             "ticks": ""
            },
            "colorscale": [
             [
              0,
              "#0d0887"
             ],
             [
              0.1111111111111111,
              "#46039f"
             ],
             [
              0.2222222222222222,
              "#7201a8"
             ],
             [
              0.3333333333333333,
              "#9c179e"
             ],
             [
              0.4444444444444444,
              "#bd3786"
             ],
             [
              0.5555555555555556,
              "#d8576b"
             ],
             [
              0.6666666666666666,
              "#ed7953"
             ],
             [
              0.7777777777777778,
              "#fb9f3a"
             ],
             [
              0.8888888888888888,
              "#fdca26"
             ],
             [
              1,
              "#f0f921"
             ]
            ],
            "type": "histogram2dcontour"
           }
          ],
          "mesh3d": [
           {
            "colorbar": {
             "outlinewidth": 0,
             "ticks": ""
            },
            "type": "mesh3d"
           }
          ],
          "parcoords": [
           {
            "line": {
             "colorbar": {
              "outlinewidth": 0,
              "ticks": ""
             }
            },
            "type": "parcoords"
           }
          ],
          "pie": [
           {
            "automargin": true,
            "type": "pie"
           }
          ],
          "scatter": [
           {
            "fillpattern": {
             "fillmode": "overlay",
             "size": 10,
             "solidity": 0.2
            },
            "type": "scatter"
           }
          ],
          "scatter3d": [
           {
            "line": {
             "colorbar": {
              "outlinewidth": 0,
              "ticks": ""
             }
            },
            "marker": {
             "colorbar": {
              "outlinewidth": 0,
              "ticks": ""
             }
            },
            "type": "scatter3d"
           }
          ],
          "scattercarpet": [
           {
            "marker": {
             "colorbar": {
              "outlinewidth": 0,
              "ticks": ""
             }
            },
            "type": "scattercarpet"
           }
          ],
          "scattergeo": [
           {
            "marker": {
             "colorbar": {
              "outlinewidth": 0,
              "ticks": ""
             }
            },
            "type": "scattergeo"
           }
          ],
          "scattergl": [
           {
            "marker": {
             "colorbar": {
              "outlinewidth": 0,
              "ticks": ""
             }
            },
            "type": "scattergl"
           }
          ],
          "scattermap": [
           {
            "marker": {
             "colorbar": {
              "outlinewidth": 0,
              "ticks": ""
             }
            },
            "type": "scattermap"
           }
          ],
          "scattermapbox": [
           {
            "marker": {
             "colorbar": {
              "outlinewidth": 0,
              "ticks": ""
             }
            },
            "type": "scattermapbox"
           }
          ],
          "scatterpolar": [
           {
            "marker": {
             "colorbar": {
              "outlinewidth": 0,
              "ticks": ""
             }
            },
            "type": "scatterpolar"
           }
          ],
          "scatterpolargl": [
           {
            "marker": {
             "colorbar": {
              "outlinewidth": 0,
              "ticks": ""
             }
            },
            "type": "scatterpolargl"
           }
          ],
          "scatterternary": [
           {
            "marker": {
             "colorbar": {
              "outlinewidth": 0,
              "ticks": ""
             }
            },
            "type": "scatterternary"
           }
          ],
          "surface": [
           {
            "colorbar": {
             "outlinewidth": 0,
             "ticks": ""
            },
            "colorscale": [
             [
              0,
              "#0d0887"
             ],
             [
              0.1111111111111111,
              "#46039f"
             ],
             [
              0.2222222222222222,
              "#7201a8"
             ],
             [
              0.3333333333333333,
              "#9c179e"
             ],
             [
              0.4444444444444444,
              "#bd3786"
             ],
             [
              0.5555555555555556,
              "#d8576b"
             ],
             [
              0.6666666666666666,
              "#ed7953"
             ],
             [
              0.7777777777777778,
              "#fb9f3a"
             ],
             [
              0.8888888888888888,
              "#fdca26"
             ],
             [
              1,
              "#f0f921"
             ]
            ],
            "type": "surface"
           }
          ],
          "table": [
           {
            "cells": {
             "fill": {
              "color": "#EBF0F8"
             },
             "line": {
              "color": "white"
             }
            },
            "header": {
             "fill": {
              "color": "#C8D4E3"
             },
             "line": {
              "color": "white"
             }
            },
            "type": "table"
           }
          ]
         },
         "layout": {
          "annotationdefaults": {
           "arrowcolor": "#2a3f5f",
           "arrowhead": 0,
           "arrowwidth": 1
          },
          "autotypenumbers": "strict",
          "coloraxis": {
           "colorbar": {
            "outlinewidth": 0,
            "ticks": ""
           }
          },
          "colorscale": {
           "diverging": [
            [
             0,
             "#8e0152"
            ],
            [
             0.1,
             "#c51b7d"
            ],
            [
             0.2,
             "#de77ae"
            ],
            [
             0.3,
             "#f1b6da"
            ],
            [
             0.4,
             "#fde0ef"
            ],
            [
             0.5,
             "#f7f7f7"
            ],
            [
             0.6,
             "#e6f5d0"
            ],
            [
             0.7,
             "#b8e186"
            ],
            [
             0.8,
             "#7fbc41"
            ],
            [
             0.9,
             "#4d9221"
            ],
            [
             1,
             "#276419"
            ]
           ],
           "sequential": [
            [
             0,
             "#0d0887"
            ],
            [
             0.1111111111111111,
             "#46039f"
            ],
            [
             0.2222222222222222,
             "#7201a8"
            ],
            [
             0.3333333333333333,
             "#9c179e"
            ],
            [
             0.4444444444444444,
             "#bd3786"
            ],
            [
             0.5555555555555556,
             "#d8576b"
            ],
            [
             0.6666666666666666,
             "#ed7953"
            ],
            [
             0.7777777777777778,
             "#fb9f3a"
            ],
            [
             0.8888888888888888,
             "#fdca26"
            ],
            [
             1,
             "#f0f921"
            ]
           ],
           "sequentialminus": [
            [
             0,
             "#0d0887"
            ],
            [
             0.1111111111111111,
             "#46039f"
            ],
            [
             0.2222222222222222,
             "#7201a8"
            ],
            [
             0.3333333333333333,
             "#9c179e"
            ],
            [
             0.4444444444444444,
             "#bd3786"
            ],
            [
             0.5555555555555556,
             "#d8576b"
            ],
            [
             0.6666666666666666,
             "#ed7953"
            ],
            [
             0.7777777777777778,
             "#fb9f3a"
            ],
            [
             0.8888888888888888,
             "#fdca26"
            ],
            [
             1,
             "#f0f921"
            ]
           ]
          },
          "colorway": [
           "#636efa",
           "#EF553B",
           "#00cc96",
           "#ab63fa",
           "#FFA15A",
           "#19d3f3",
           "#FF6692",
           "#B6E880",
           "#FF97FF",
           "#FECB52"
          ],
          "font": {
           "color": "#2a3f5f"
          },
          "geo": {
           "bgcolor": "white",
           "lakecolor": "white",
           "landcolor": "#E5ECF6",
           "showlakes": true,
           "showland": true,
           "subunitcolor": "white"
          },
          "hoverlabel": {
           "align": "left"
          },
          "hovermode": "closest",
          "mapbox": {
           "style": "light"
          },
          "paper_bgcolor": "white",
          "plot_bgcolor": "#E5ECF6",
          "polar": {
           "angularaxis": {
            "gridcolor": "white",
            "linecolor": "white",
            "ticks": ""
           },
           "bgcolor": "#E5ECF6",
           "radialaxis": {
            "gridcolor": "white",
            "linecolor": "white",
            "ticks": ""
           }
          },
          "scene": {
           "xaxis": {
            "backgroundcolor": "#E5ECF6",
            "gridcolor": "white",
            "gridwidth": 2,
            "linecolor": "white",
            "showbackground": true,
            "ticks": "",
            "zerolinecolor": "white"
           },
           "yaxis": {
            "backgroundcolor": "#E5ECF6",
            "gridcolor": "white",
            "gridwidth": 2,
            "linecolor": "white",
            "showbackground": true,
            "ticks": "",
            "zerolinecolor": "white"
           },
           "zaxis": {
            "backgroundcolor": "#E5ECF6",
            "gridcolor": "white",
            "gridwidth": 2,
            "linecolor": "white",
            "showbackground": true,
            "ticks": "",
            "zerolinecolor": "white"
           }
          },
          "shapedefaults": {
           "line": {
            "color": "#2a3f5f"
           }
          },
          "ternary": {
           "aaxis": {
            "gridcolor": "white",
            "linecolor": "white",
            "ticks": ""
           },
           "baxis": {
            "gridcolor": "white",
            "linecolor": "white",
            "ticks": ""
           },
           "bgcolor": "#E5ECF6",
           "caxis": {
            "gridcolor": "white",
            "linecolor": "white",
            "ticks": ""
           }
          },
          "title": {
           "x": 0.05
          },
          "xaxis": {
           "automargin": true,
           "gridcolor": "white",
           "linecolor": "white",
           "ticks": "",
           "title": {
            "standoff": 15
           },
           "zerolinecolor": "white",
           "zerolinewidth": 2
          },
          "yaxis": {
           "automargin": true,
           "gridcolor": "white",
           "linecolor": "white",
           "ticks": "",
           "title": {
            "standoff": 15
           },
           "zerolinecolor": "white",
           "zerolinewidth": 2
          }
         }
        },
        "title": {
         "text": "Interactive 3D Drone Flight Path"
        },
        "width": 600
       }
      }
     },
     "metadata": {},
     "output_type": "display_data"
    },
    {
     "name": "stdout",
     "output_type": "stream",
     "text": [
      "Moving: vx=0, vy=0, vz=-0.2, yaw=0\n",
      "Executing command: move 0 0 -0.2 0 1.0\n"
     ]
    },
    {
     "data": {
      "application/vnd.plotly.v1+json": {
       "config": {
        "plotlyServerURL": "https://plot.ly"
       },
       "data": [
        {
         "line": {
          "color": "blue",
          "width": 4
         },
         "marker": {
          "size": 4
         },
         "mode": "lines+markers",
         "name": "Drone Path",
         "type": "scatter3d",
         "x": {
          "bdata": "AAAAAAAAAAAAAAAAAAAAAAChFy6Dfng/ULD2GgRAmD+gFwtFFdSqP3TFVR39Src/JfhZIAOnwT9QHalAR3zIPxiZYBSO388/BGKzs7jC0z9f9auY8Y/XPzSiMhqlMNs/ds4e+sx/3j922JGc0a3gPyIWjWN90+E/fW7NozSl4j8l+PQFmxrjP4Mjnl0CL+M/Z5/PbZrh4j9ODT82eTXiP0ZMqHR7MeE/QElQN/2/3z+8O8MT7pzcP8ygHXLNGdk/nerZvHNa1T9d7sb/H4XRPxfT8iLjgcs/PiZFl7FoxD8WJT/1Og68PypNkuuNPLE/ENx1Ro6VoT/gYP0WrHiIP+Bg/RaseIg/4GD9Fqx4iD+wmATX9luSP2CwOhMtPqI/7DdlJSB5sD+QcTWgElq6PzPOyeGNLsM/XvMYAtIDyj+TN+hqjLPQPwtNaxR+htQ/ZuBj+bZT2D88jep6avTbP3251lqSQ98/+c3tTLQP4T+lC+kTYDXiPwBkKVQXB+M/qO1Qtn184z8GGfoN5ZDjP+qUKx59Q+M/0QKb5luX4j/JQQQlXpPhPyQaBEzhQeA/wiZ7dLNg3T/Ti9XSkt3ZP6TVkR05HtY/ZNl+YOVI0j8lqWLkbQnNP0z8tFg88MU/MtEeeFAdvz9G+XFuo0u0P0g0NUy5s6c/4GD9Fqx4mD/gYP0WrHiYP+Bg/RaseJg/IEmD4kyYnj+YCPoYWFyoPwjkRKg1iLM/rB0VIyhpvT9BpDmjGLbEP2zJiMNci8s/miKgy1F30T8SOCN1Q0rVP23LG1p8F9k/Qnii2y+43D9CUsfdqwPgP3zDSf2WceE/KAFFxEKX4j+EWYUE+mjjPyzjrGZg3uM/ig5Wvsfy4z9uiofOX6XjP1T49pY++eI/TDdg1UD14T+nD2D8w6PgP8oRM9V4JN4/2naNM1ih2j+rwEl+/uHWP2vENsGqDNM/M3/SpfiQzj9a0iQax3fHP6c+f/0yFsE/YqVR8bhatz+AjPRR5NGtP6gIPhGBWqI/qAg+EYFaoj+oCD4RgVqiP8j8AHdRaqU/0GC5HoN6rj8kkCQrS5e2P+Rk+tIePMA/T3qpZKM9xj96n/iE5xLNP6ENWCwXO9I/GSPb1QgO1j90ttO6QdvZP0pjWjz1e90/xkcjjo5l4D8AuaWtedPhP6z2oHQl+eI/CE/htNzK4z+w2AgXQ0DkPw4Esm6qVOQ/8n/jfkIH5D/Y7VJHIVvjP9AsvIUjV+I/KwW8rKYF4T/Q/Oo1PujeP+FhRZQdZds/sqsB38Ol1z9yr+4hcNDTP6AqobNBDNA/aKiU21H/yD+1FO++vZ3CP35RMXTOabo/XPLZqwf4sT/gYP0WrHioP+Bg/RaseKg/4GD9Fqx4qD8AVcB8fIirP4RcPBJXTLI/QDwErmCmuT/yOmqUqcPBP11QGSYuxcc/iHVoRnKazj+o+A+N3P7SPyAOkzbO0dY/e6GLGwef2j9QThKduj/eP0k9fz5xx+A/hK4BXlw14j8w7PwkCFvjP4tEPWW/LOQ/M85kxyWi5D+R+Q0fjbbkP3V1Py8laeQ/XOOu9wO94z9UIhg2BrniP676F12JZ+E/2OeilgOs3z/oTP304ijcP7mWuT+Jadg/eZqmgjWU1D+oFVkUB9DQP3Z+BJ3chso/w+pegEglxD+a/RD343i9P3ieuS4dB7U/GLm8HNeWrj8Yubwc15auPw==",
          "dtype": "f8"
         },
         "y": {
          "bdata": "AAAAAAAAAAAAAAAAAAAAAOH8Fvf+g64/5khnsUbovT85G5NPqa7FP4/+f7bli8s/KG4Fif8n0D92M3aUKOXRP85TKbmu69I/ECggqxox0z+Qc3Hnp7LSP12fSvNgddE/PDUA0tcLzz8dlYTAEvDJP63T862Vy8M/sxPXkCK6uT86M6iDEK2lPx4bWLy67pG/WPXLeiSgs78qscMoJ/7Av/OztczOfse/0iQI16sPzb+BPuMf+LvQv8NL9oNQRdK/1lo4pTAU07+ZizopWSDTv7go7flNadK/TkkJOFv20L+GBjyClazNv9kmtYKaPci/E1PvqjnXwb+zKQdAiHW1v7MpB0CIdbW/sykHQIh1tb8Kre4RI86Yv2Y+wOJ85aA/vwwfX8rntT+2aXyWIdHAP3ZHB/I6lcU/EtLoCI0PyT/CEk9SmRzLP0a7PDZxp8s/RlLfrouqyj/gqZHG/S/IP2Kg/LETUcQ/hwACQZ1qvj+nfeAboyGyPwCoP0NpEpE/LCBm/P89pb96MB3vNvG5v4aPaV3WisS/BEbHSOu4y79mpFx2yRzRv9bchfs35dO/7gjlL1oZ1r8wFviTsqLXv0MlOrWScdi/BlY8Obt92L8l8+4JsMbXv7sTC0i9U9a/sM0f0awz1L/ZXVxRL3zRv+zn8sr9kcy/sykHQIh1xb+zKQdAiHXFv7MpB0CIdcW/9tSCBBGpu78AFU6dkwWqvwDD+MWHkFw/cFPj2XVZqD86ZQek7bS1P3J6ytGRqbw/6X1LMtVhwD9tJjkWrezAP9p6tx2P378/DiocTXPquj8SF/IjnyyzP6it9QEq6qE/YGA1ISmfir+zPzfv7TCxv+QcHR9ECsC/Fy2Sl1+zx79fJG19mkXPv25tZbTXOdO/025ehit61r9Cp4cLmkLZv1rT5j+8dtu/nOD5oxQA3b+w7zvF9M7dv3IgPkkd292/kr3wGRIk3b8o3gxYH7HbvxyYIeEOkdm/RiheYZHZ1r9jPnv1YKbTv0ZfBTAmGNC/Rl8FMCYY0L9GXwUwJhjQv1T/RKJMj8i/GRpXByk8wb+mRu8gRgO1v/T/KqaakaK/AMQdALKyTz8AQw1HJtCcP0CkH0lEnKY/UEbW2KPHqD9QomC7DdSkP3ABVDSs05U/AJWo4EhHgr+8pRh+5gCpv77VLWRtybi/sjSfFztTw7++sSA/CMXKv/jgytsRN9G/nFy4Ti8A1b/bN2fEOZfYv0A5YJaN19u/r3GJG/yf3r/kTvQnD2rgv4TV/Vm7LuG/Dt2eaiuW4b9w9Z+sP5zhv/9D+RS6QOG/SlQHtECH4L+JYiPxcO7ev7LyX3HzNty/0Ah9BcMD2b+zKQdAiHXVv7MpB0CIddW/sykHQIh11b8XSiRhCKXRv/OuWift9su/LTh7MGc8xb+uqRyTVb6+vyzuBtwiNrW/6LGHXP2CrL8or+42zE6kvxgNOKdsI6K/GLGtxAIXpr9YKfIynQCwv1Q8HFxxvre/Sb6Jv/36wL+5fxrSeh/Hv4zJojf/Dc6/TCOSL+a/0r9lq8zrc5TWvwknul6RXdq/SAJp1Jv03b/WATHTd5rgvw6exRWv/uG/GjT1L8AY47+7uv5hbN3jv0TCn3LcROS/ptqgtPBK5L82Kfoca+/jv4A5CLzxNeO/e5aSgOkl4r+Q3rDAKsrgvzzTfhUlYd6/IPQIUOrS2r8g9AhQ6tLavw==",
          "dtype": "f8"
         },
         "z": [
          2,
          2,
          2,
          2,
          2,
          2,
          2,
          2,
          2,
          2,
          2,
          2,
          2,
          2,
          2,
          2,
          2,
          2,
          2,
          2,
          2,
          2,
          2,
          2,
          2,
          2,
          2,
          2,
          2,
          2,
          2,
          2,
          1.8,
          1.8,
          1.8,
          1.8,
          1.8,
          1.8,
          1.8,
          1.8,
          1.8,
          1.8,
          1.8,
          1.8,
          1.8,
          1.8,
          1.8,
          1.8,
          1.8,
          1.8,
          1.8,
          1.8,
          1.8,
          1.8,
          1.8,
          1.8,
          1.8,
          1.8,
          1.8,
          1.8,
          1.8,
          1.8,
          1.8,
          1.8,
          1.6,
          1.6,
          1.6,
          1.6,
          1.6,
          1.6,
          1.6,
          1.6,
          1.6,
          1.6,
          1.6,
          1.6,
          1.6,
          1.6,
          1.6,
          1.6,
          1.6,
          1.6,
          1.6,
          1.6,
          1.6,
          1.6,
          1.6,
          1.6,
          1.6,
          1.6,
          1.6,
          1.6,
          1.6,
          1.6,
          1.6,
          1.6,
          1.4000000000000001,
          1.4000000000000001,
          1.4000000000000001,
          1.4000000000000001,
          1.4000000000000001,
          1.4000000000000001,
          1.4000000000000001,
          1.4000000000000001,
          1.4000000000000001,
          1.4000000000000001,
          1.4000000000000001,
          1.4000000000000001,
          1.4000000000000001,
          1.4000000000000001,
          1.4000000000000001,
          1.4000000000000001,
          1.4000000000000001,
          1.4000000000000001,
          1.4000000000000001,
          1.4000000000000001,
          1.4000000000000001,
          1.4000000000000001,
          1.4000000000000001,
          1.4000000000000001,
          1.4000000000000001,
          1.4000000000000001,
          1.4000000000000001,
          1.4000000000000001,
          1.4000000000000001,
          1.4000000000000001,
          1.4000000000000001,
          1.4000000000000001,
          1.2000000000000002,
          1.2000000000000002,
          1.2000000000000002,
          1.2000000000000002,
          1.2000000000000002,
          1.2000000000000002,
          1.2000000000000002,
          1.2000000000000002,
          1.2000000000000002,
          1.2000000000000002,
          1.2000000000000002,
          1.2000000000000002,
          1.2000000000000002,
          1.2000000000000002,
          1.2000000000000002,
          1.2000000000000002,
          1.2000000000000002,
          1.2000000000000002,
          1.2000000000000002,
          1.2000000000000002,
          1.2000000000000002,
          1.2000000000000002,
          1.2000000000000002,
          1.2000000000000002,
          1.2000000000000002,
          1.2000000000000002,
          1.2000000000000002,
          1.2000000000000002,
          1.2000000000000002,
          1.2000000000000002,
          1.2000000000000002,
          1.2000000000000002,
          1.0000000000000002
         ]
        },
        {
         "marker": {
          "color": "red",
          "size": 10,
          "symbol": "diamond"
         },
         "mode": "markers",
         "name": "Current Position",
         "type": "scatter3d",
         "x": [
          0.05974457002445116
         ],
         "y": [
          -0.4191232472983888
         ],
         "z": [
          1.0000000000000002
         ]
        }
       ],
       "layout": {
        "height": 500,
        "legend": {
         "x": 0,
         "y": 1
        },
        "margin": {
         "b": 0,
         "l": 0,
         "r": 0,
         "t": 30
        },
        "scene": {
         "aspectmode": "data",
         "camera": {
          "eye": {
           "x": 1.5,
           "y": 1.5,
           "z": 0.6
          }
         },
         "xaxis": {
          "title": {
           "text": "X (meters)"
          }
         },
         "yaxis": {
          "title": {
           "text": "Y (meters)"
          }
         },
         "zaxis": {
          "title": {
           "text": "Altitude (meters)"
          }
         }
        },
        "template": {
         "data": {
          "bar": [
           {
            "error_x": {
             "color": "#2a3f5f"
            },
            "error_y": {
             "color": "#2a3f5f"
            },
            "marker": {
             "line": {
              "color": "#E5ECF6",
              "width": 0.5
             },
             "pattern": {
              "fillmode": "overlay",
              "size": 10,
              "solidity": 0.2
             }
            },
            "type": "bar"
           }
          ],
          "barpolar": [
           {
            "marker": {
             "line": {
              "color": "#E5ECF6",
              "width": 0.5
             },
             "pattern": {
              "fillmode": "overlay",
              "size": 10,
              "solidity": 0.2
             }
            },
            "type": "barpolar"
           }
          ],
          "carpet": [
           {
            "aaxis": {
             "endlinecolor": "#2a3f5f",
             "gridcolor": "white",
             "linecolor": "white",
             "minorgridcolor": "white",
             "startlinecolor": "#2a3f5f"
            },
            "baxis": {
             "endlinecolor": "#2a3f5f",
             "gridcolor": "white",
             "linecolor": "white",
             "minorgridcolor": "white",
             "startlinecolor": "#2a3f5f"
            },
            "type": "carpet"
           }
          ],
          "choropleth": [
           {
            "colorbar": {
             "outlinewidth": 0,
             "ticks": ""
            },
            "type": "choropleth"
           }
          ],
          "contour": [
           {
            "colorbar": {
             "outlinewidth": 0,
             "ticks": ""
            },
            "colorscale": [
             [
              0,
              "#0d0887"
             ],
             [
              0.1111111111111111,
              "#46039f"
             ],
             [
              0.2222222222222222,
              "#7201a8"
             ],
             [
              0.3333333333333333,
              "#9c179e"
             ],
             [
              0.4444444444444444,
              "#bd3786"
             ],
             [
              0.5555555555555556,
              "#d8576b"
             ],
             [
              0.6666666666666666,
              "#ed7953"
             ],
             [
              0.7777777777777778,
              "#fb9f3a"
             ],
             [
              0.8888888888888888,
              "#fdca26"
             ],
             [
              1,
              "#f0f921"
             ]
            ],
            "type": "contour"
           }
          ],
          "contourcarpet": [
           {
            "colorbar": {
             "outlinewidth": 0,
             "ticks": ""
            },
            "type": "contourcarpet"
           }
          ],
          "heatmap": [
           {
            "colorbar": {
             "outlinewidth": 0,
             "ticks": ""
            },
            "colorscale": [
             [
              0,
              "#0d0887"
             ],
             [
              0.1111111111111111,
              "#46039f"
             ],
             [
              0.2222222222222222,
              "#7201a8"
             ],
             [
              0.3333333333333333,
              "#9c179e"
             ],
             [
              0.4444444444444444,
              "#bd3786"
             ],
             [
              0.5555555555555556,
              "#d8576b"
             ],
             [
              0.6666666666666666,
              "#ed7953"
             ],
             [
              0.7777777777777778,
              "#fb9f3a"
             ],
             [
              0.8888888888888888,
              "#fdca26"
             ],
             [
              1,
              "#f0f921"
             ]
            ],
            "type": "heatmap"
           }
          ],
          "histogram": [
           {
            "marker": {
             "pattern": {
              "fillmode": "overlay",
              "size": 10,
              "solidity": 0.2
             }
            },
            "type": "histogram"
           }
          ],
          "histogram2d": [
           {
            "colorbar": {
             "outlinewidth": 0,
             "ticks": ""
            },
            "colorscale": [
             [
              0,
              "#0d0887"
             ],
             [
              0.1111111111111111,
              "#46039f"
             ],
             [
              0.2222222222222222,
              "#7201a8"
             ],
             [
              0.3333333333333333,
              "#9c179e"
             ],
             [
              0.4444444444444444,
              "#bd3786"
             ],
             [
              0.5555555555555556,
              "#d8576b"
             ],
             [
              0.6666666666666666,
              "#ed7953"
             ],
             [
              0.7777777777777778,
              "#fb9f3a"
             ],
             [
              0.8888888888888888,
              "#fdca26"
             ],
             [
              1,
              "#f0f921"
             ]
            ],
            "type": "histogram2d"
           }
          ],
          "histogram2dcontour": [
           {
            "colorbar": {
             "outlinewidth": 0,
             "ticks": ""
            },
            "colorscale": [
             [
              0,
              "#0d0887"
             ],
             [
              0.1111111111111111,
              "#46039f"
             ],
             [
              0.2222222222222222,
              "#7201a8"
             ],
             [
              0.3333333333333333,
              "#9c179e"
             ],
             [
              0.4444444444444444,
              "#bd3786"
             ],
             [
              0.5555555555555556,
              "#d8576b"
             ],
             [
              0.6666666666666666,
              "#ed7953"
             ],
             [
              0.7777777777777778,
              "#fb9f3a"
             ],
             [
              0.8888888888888888,
              "#fdca26"
             ],
             [
              1,
              "#f0f921"
             ]
            ],
            "type": "histogram2dcontour"
           }
          ],
          "mesh3d": [
           {
            "colorbar": {
             "outlinewidth": 0,
             "ticks": ""
            },
            "type": "mesh3d"
           }
          ],
          "parcoords": [
           {
            "line": {
             "colorbar": {
              "outlinewidth": 0,
              "ticks": ""
             }
            },
            "type": "parcoords"
           }
          ],
          "pie": [
           {
            "automargin": true,
            "type": "pie"
           }
          ],
          "scatter": [
           {
            "fillpattern": {
             "fillmode": "overlay",
             "size": 10,
             "solidity": 0.2
            },
            "type": "scatter"
           }
          ],
          "scatter3d": [
           {
            "line": {
             "colorbar": {
              "outlinewidth": 0,
              "ticks": ""
             }
            },
            "marker": {
             "colorbar": {
              "outlinewidth": 0,
              "ticks": ""
             }
            },
            "type": "scatter3d"
           }
          ],
          "scattercarpet": [
           {
            "marker": {
             "colorbar": {
              "outlinewidth": 0,
              "ticks": ""
             }
            },
            "type": "scattercarpet"
           }
          ],
          "scattergeo": [
           {
            "marker": {
             "colorbar": {
              "outlinewidth": 0,
              "ticks": ""
             }
            },
            "type": "scattergeo"
           }
          ],
          "scattergl": [
           {
            "marker": {
             "colorbar": {
              "outlinewidth": 0,
              "ticks": ""
             }
            },
            "type": "scattergl"
           }
          ],
          "scattermap": [
           {
            "marker": {
             "colorbar": {
              "outlinewidth": 0,
              "ticks": ""
             }
            },
            "type": "scattermap"
           }
          ],
          "scattermapbox": [
           {
            "marker": {
             "colorbar": {
              "outlinewidth": 0,
              "ticks": ""
             }
            },
            "type": "scattermapbox"
           }
          ],
          "scatterpolar": [
           {
            "marker": {
             "colorbar": {
              "outlinewidth": 0,
              "ticks": ""
             }
            },
            "type": "scatterpolar"
           }
          ],
          "scatterpolargl": [
           {
            "marker": {
             "colorbar": {
              "outlinewidth": 0,
              "ticks": ""
             }
            },
            "type": "scatterpolargl"
           }
          ],
          "scatterternary": [
           {
            "marker": {
             "colorbar": {
              "outlinewidth": 0,
              "ticks": ""
             }
            },
            "type": "scatterternary"
           }
          ],
          "surface": [
           {
            "colorbar": {
             "outlinewidth": 0,
             "ticks": ""
            },
            "colorscale": [
             [
              0,
              "#0d0887"
             ],
             [
              0.1111111111111111,
              "#46039f"
             ],
             [
              0.2222222222222222,
              "#7201a8"
             ],
             [
              0.3333333333333333,
              "#9c179e"
             ],
             [
              0.4444444444444444,
              "#bd3786"
             ],
             [
              0.5555555555555556,
              "#d8576b"
             ],
             [
              0.6666666666666666,
              "#ed7953"
             ],
             [
              0.7777777777777778,
              "#fb9f3a"
             ],
             [
              0.8888888888888888,
              "#fdca26"
             ],
             [
              1,
              "#f0f921"
             ]
            ],
            "type": "surface"
           }
          ],
          "table": [
           {
            "cells": {
             "fill": {
              "color": "#EBF0F8"
             },
             "line": {
              "color": "white"
             }
            },
            "header": {
             "fill": {
              "color": "#C8D4E3"
             },
             "line": {
              "color": "white"
             }
            },
            "type": "table"
           }
          ]
         },
         "layout": {
          "annotationdefaults": {
           "arrowcolor": "#2a3f5f",
           "arrowhead": 0,
           "arrowwidth": 1
          },
          "autotypenumbers": "strict",
          "coloraxis": {
           "colorbar": {
            "outlinewidth": 0,
            "ticks": ""
           }
          },
          "colorscale": {
           "diverging": [
            [
             0,
             "#8e0152"
            ],
            [
             0.1,
             "#c51b7d"
            ],
            [
             0.2,
             "#de77ae"
            ],
            [
             0.3,
             "#f1b6da"
            ],
            [
             0.4,
             "#fde0ef"
            ],
            [
             0.5,
             "#f7f7f7"
            ],
            [
             0.6,
             "#e6f5d0"
            ],
            [
             0.7,
             "#b8e186"
            ],
            [
             0.8,
             "#7fbc41"
            ],
            [
             0.9,
             "#4d9221"
            ],
            [
             1,
             "#276419"
            ]
           ],
           "sequential": [
            [
             0,
             "#0d0887"
            ],
            [
             0.1111111111111111,
             "#46039f"
            ],
            [
             0.2222222222222222,
             "#7201a8"
            ],
            [
             0.3333333333333333,
             "#9c179e"
            ],
            [
             0.4444444444444444,
             "#bd3786"
            ],
            [
             0.5555555555555556,
             "#d8576b"
            ],
            [
             0.6666666666666666,
             "#ed7953"
            ],
            [
             0.7777777777777778,
             "#fb9f3a"
            ],
            [
             0.8888888888888888,
             "#fdca26"
            ],
            [
             1,
             "#f0f921"
            ]
           ],
           "sequentialminus": [
            [
             0,
             "#0d0887"
            ],
            [
             0.1111111111111111,
             "#46039f"
            ],
            [
             0.2222222222222222,
             "#7201a8"
            ],
            [
             0.3333333333333333,
             "#9c179e"
            ],
            [
             0.4444444444444444,
             "#bd3786"
            ],
            [
             0.5555555555555556,
             "#d8576b"
            ],
            [
             0.6666666666666666,
             "#ed7953"
            ],
            [
             0.7777777777777778,
             "#fb9f3a"
            ],
            [
             0.8888888888888888,
             "#fdca26"
            ],
            [
             1,
             "#f0f921"
            ]
           ]
          },
          "colorway": [
           "#636efa",
           "#EF553B",
           "#00cc96",
           "#ab63fa",
           "#FFA15A",
           "#19d3f3",
           "#FF6692",
           "#B6E880",
           "#FF97FF",
           "#FECB52"
          ],
          "font": {
           "color": "#2a3f5f"
          },
          "geo": {
           "bgcolor": "white",
           "lakecolor": "white",
           "landcolor": "#E5ECF6",
           "showlakes": true,
           "showland": true,
           "subunitcolor": "white"
          },
          "hoverlabel": {
           "align": "left"
          },
          "hovermode": "closest",
          "mapbox": {
           "style": "light"
          },
          "paper_bgcolor": "white",
          "plot_bgcolor": "#E5ECF6",
          "polar": {
           "angularaxis": {
            "gridcolor": "white",
            "linecolor": "white",
            "ticks": ""
           },
           "bgcolor": "#E5ECF6",
           "radialaxis": {
            "gridcolor": "white",
            "linecolor": "white",
            "ticks": ""
           }
          },
          "scene": {
           "xaxis": {
            "backgroundcolor": "#E5ECF6",
            "gridcolor": "white",
            "gridwidth": 2,
            "linecolor": "white",
            "showbackground": true,
            "ticks": "",
            "zerolinecolor": "white"
           },
           "yaxis": {
            "backgroundcolor": "#E5ECF6",
            "gridcolor": "white",
            "gridwidth": 2,
            "linecolor": "white",
            "showbackground": true,
            "ticks": "",
            "zerolinecolor": "white"
           },
           "zaxis": {
            "backgroundcolor": "#E5ECF6",
            "gridcolor": "white",
            "gridwidth": 2,
            "linecolor": "white",
            "showbackground": true,
            "ticks": "",
            "zerolinecolor": "white"
           }
          },
          "shapedefaults": {
           "line": {
            "color": "#2a3f5f"
           }
          },
          "ternary": {
           "aaxis": {
            "gridcolor": "white",
            "linecolor": "white",
            "ticks": ""
           },
           "baxis": {
            "gridcolor": "white",
            "linecolor": "white",
            "ticks": ""
           },
           "bgcolor": "#E5ECF6",
           "caxis": {
            "gridcolor": "white",
            "linecolor": "white",
            "ticks": ""
           }
          },
          "title": {
           "x": 0.05
          },
          "xaxis": {
           "automargin": true,
           "gridcolor": "white",
           "linecolor": "white",
           "ticks": "",
           "title": {
            "standoff": 15
           },
           "zerolinecolor": "white",
           "zerolinewidth": 2
          },
          "yaxis": {
           "automargin": true,
           "gridcolor": "white",
           "linecolor": "white",
           "ticks": "",
           "title": {
            "standoff": 15
           },
           "zerolinecolor": "white",
           "zerolinewidth": 2
          }
         }
        },
        "title": {
         "text": "Interactive 3D Drone Flight Path"
        },
        "width": 600
       }
      }
     },
     "metadata": {},
     "output_type": "display_data"
    },
    {
     "name": "stdout",
     "output_type": "stream",
     "text": [
      "\u2b55 Executing circle left (optimized)...\n"
     ]
    },
    {
     "data": {
      "application/vnd.plotly.v1+json": {
       "config": {
        "plotlyServerURL": "https://plot.ly"
       },
       "data": [
        {
         "line": {
          "color": "blue",
          "width": 4
         },
         "marker": {
          "size": 4
         },
         "mode": "lines+markers",
         "name": "Drone Path",
         "type": "scatter3d",
         "x": {
          "bdata": "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",
          "dtype": "f8"
         },
         "y": {
          "bdata": "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",
          "dtype": "f8"
         },
         "z": [
          2,
          2,
          2,
          2,
          2,
          2,
          2,
          2,
          2,
          2,
          2,
          2,
          2,
          2,
          2,
          2,
          2,
          2,
          2,
          2,
          2,
          2,
          2,
          2,
          2,
          2,
          2,
          2,
          2,
          2,
          2,
          2,
          1.8,
          1.8,
          1.8,
          1.8,
          1.8,
          1.8,
          1.8,
          1.8,
          1.8,
          1.8,
          1.8,
          1.8,
          1.8,
          1.8,
          1.8,
          1.8,
          1.8,
          1.8,
          1.8,
          1.8,
          1.8,
          1.8,
          1.8,
          1.8,
          1.8,
          1.8,
          1.8,
          1.8,
          1.8,
          1.8,
          1.8,
          1.8,
          1.6,
          1.6,
          1.6,
          1.6,
          1.6,
          1.6,
          1.6,
          1.6,
          1.6,
          1.6,
          1.6,
          1.6,
          1.6,
          1.6,
          1.6,
          1.6,
          1.6,
          1.6,
          1.6,
          1.6,
          1.6,
          1.6,
          1.6,
          1.6,
          1.6,
          1.6,
          1.6,
          1.6,
          1.6,
          1.6,
          1.6,
          1.6,
          1.4000000000000001,
          1.4000000000000001,
          1.4000000000000001,
          1.4000000000000001,
          1.4000000000000001,
          1.4000000000000001,
          1.4000000000000001,
          1.4000000000000001,
          1.4000000000000001,
          1.4000000000000001,
          1.4000000000000001,
          1.4000000000000001,
          1.4000000000000001,
          1.4000000000000001,
          1.4000000000000001,
          1.4000000000000001,
          1.4000000000000001,
          1.4000000000000001,
          1.4000000000000001,
          1.4000000000000001,
          1.4000000000000001,
          1.4000000000000001,
          1.4000000000000001,
          1.4000000000000001,
          1.4000000000000001,
          1.4000000000000001,
          1.4000000000000001,
          1.4000000000000001,
          1.4000000000000001,
          1.4000000000000001,
          1.4000000000000001,
          1.4000000000000001,
          1.2000000000000002,
          1.2000000000000002,
          1.2000000000000002,
          1.2000000000000002,
          1.2000000000000002,
          1.2000000000000002,
          1.2000000000000002,
          1.2000000000000002,
          1.2000000000000002,
          1.2000000000000002,
          1.2000000000000002,
          1.2000000000000002,
          1.2000000000000002,
          1.2000000000000002,
          1.2000000000000002,
          1.2000000000000002,
          1.2000000000000002,
          1.2000000000000002,
          1.2000000000000002,
          1.2000000000000002,
          1.2000000000000002,
          1.2000000000000002,
          1.2000000000000002,
          1.2000000000000002,
          1.2000000000000002,
          1.2000000000000002,
          1.2000000000000002,
          1.2000000000000002,
          1.2000000000000002,
          1.2000000000000002,
          1.2000000000000002,
          1.2000000000000002,
          1.0000000000000002,
          1.0000000000000002,
          1.0000000000000002,
          1.0000000000000002,
          1.0000000000000002,
          1.0000000000000002,
          1.0000000000000002,
          1.0000000000000002,
          1.0000000000000002,
          1.0000000000000002,
          1.0000000000000002,
          1.0000000000000002,
          1.0000000000000002,
          1.0000000000000002,
          1.0000000000000002,
          1.0000000000000002,
          1.0000000000000002,
          1.0000000000000002,
          1.0000000000000002,
          1.0000000000000002,
          1.0000000000000002,
          1.0000000000000002,
          1.0000000000000002,
          1.0000000000000002,
          1.0000000000000002,
          1.0000000000000002,
          1.0000000000000002,
          1.0000000000000002,
          1.0000000000000002,
          1.0000000000000002,
          1.0000000000000002,
          1.0000000000000002
         ]
        },
        {
         "marker": {
          "color": "red",
          "size": 10,
          "symbol": "diamond"
         },
         "mode": "markers",
         "name": "Current Position",
         "type": "scatter3d",
         "x": [
          0.07169348402934139
         ],
         "y": [
          -0.5029478967580665
         ],
         "z": [
          1.0000000000000002
         ]
        }
       ],
       "layout": {
        "height": 500,
        "legend": {
         "x": 0,
         "y": 1
        },
        "margin": {
         "b": 0,
         "l": 0,
         "r": 0,
         "t": 30
        },
        "scene": {
         "aspectmode": "data",
         "camera": {
          "eye": {
           "x": 1.5,
           "y": 1.5,
           "z": 0.6
          }
         },
         "xaxis": {
          "title": {
           "text": "X (meters)"
          }
         },
         "yaxis": {
          "title": {
           "text": "Y (meters)"
          }
         },
         "zaxis": {
          "title": {
           "text": "Altitude (meters)"
          }
         }
        },
        "template": {
         "data": {
          "bar": [
           {
            "error_x": {
             "color": "#2a3f5f"
            },
            "error_y": {
             "color": "#2a3f5f"
            },
            "marker": {
             "line": {
              "color": "#E5ECF6",
              "width": 0.5
             },
             "pattern": {
              "fillmode": "overlay",
              "size": 10,
              "solidity": 0.2
             }
            },
            "type": "bar"
           }
          ],
          "barpolar": [
           {
            "marker": {
             "line": {
              "color": "#E5ECF6",
              "width": 0.5
             },
             "pattern": {
              "fillmode": "overlay",
              "size": 10,
              "solidity": 0.2
             }
            },
            "type": "barpolar"
           }
          ],
          "carpet": [
           {
            "aaxis": {
             "endlinecolor": "#2a3f5f",
             "gridcolor": "white",
             "linecolor": "white",
             "minorgridcolor": "white",
             "startlinecolor": "#2a3f5f"
            },
            "baxis": {
             "endlinecolor": "#2a3f5f",
             "gridcolor": "white",
             "linecolor": "white",
             "minorgridcolor": "white",
             "startlinecolor": "#2a3f5f"
            },
            "type": "carpet"
           }
          ],
          "choropleth": [
           {
            "colorbar": {
             "outlinewidth": 0,
             "ticks": ""
            },
            "type": "choropleth"
           }
          ],
          "contour": [
           {
            "colorbar": {
             "outlinewidth": 0,
             "ticks": ""
            },
            "colorscale": [
             [
              0,
              "#0d0887"
             ],
             [
              0.1111111111111111,
              "#46039f"
             ],
             [
              0.2222222222222222,
              "#7201a8"
             ],
             [
              0.3333333333333333,
              "#9c179e"
             ],
             [
              0.4444444444444444,
              "#bd3786"
             ],
             [
              0.5555555555555556,
              "#d8576b"
             ],
             [
              0.6666666666666666,
              "#ed7953"
             ],
             [
              0.7777777777777778,
              "#fb9f3a"
             ],
             [
              0.8888888888888888,
              "#fdca26"
             ],
             [
              1,
              "#f0f921"
             ]
            ],
            "type": "contour"
           }
          ],
          "contourcarpet": [
           {
            "colorbar": {
             "outlinewidth": 0,
             "ticks": ""
            },
            "type": "contourcarpet"
           }
          ],
          "heatmap": [
           {
            "colorbar": {
             "outlinewidth": 0,
             "ticks": ""
            },
            "colorscale": [
             [
              0,
              "#0d0887"
             ],
             [
              0.1111111111111111,
              "#46039f"
             ],
             [
              0.2222222222222222,
              "#7201a8"
             ],
             [
              0.3333333333333333,
              "#9c179e"
             ],
             [
              0.4444444444444444,
              "#bd3786"
             ],
             [
              0.5555555555555556,
              "#d8576b"
             ],
             [
              0.6666666666666666,
              "#ed7953"
             ],
             [
              0.7777777777777778,
              "#fb9f3a"
             ],
             [
              0.8888888888888888,
              "#fdca26"
             ],
             [
              1,
              "#f0f921"
             ]
            ],
            "type": "heatmap"
           }
          ],
          "histogram": [
           {
            "marker": {
             "pattern": {
              "fillmode": "overlay",
              "size": 10,
              "solidity": 0.2
             }
            },
            "type": "histogram"
           }
          ],
          "histogram2d": [
           {
            "colorbar": {
             "outlinewidth": 0,
             "ticks": ""
            },
            "colorscale": [
             [
              0,
              "#0d0887"
             ],
             [
              0.1111111111111111,
              "#46039f"
             ],
             [
              0.2222222222222222,
              "#7201a8"
             ],
             [
              0.3333333333333333,
              "#9c179e"
             ],
             [
              0.4444444444444444,
              "#bd3786"
             ],
             [
              0.5555555555555556,
              "#d8576b"
             ],
             [
              0.6666666666666666,
              "#ed7953"
             ],
             [
              0.7777777777777778,
              "#fb9f3a"
             ],
             [
              0.8888888888888888,
              "#fdca26"
             ],
             [
              1,
              "#f0f921"
             ]
            ],
            "type": "histogram2d"
           }
          ],
          "histogram2dcontour": [
           {
            "colorbar": {
             "outlinewidth": 0,
             "ticks": ""
            },
            "colorscale": [
             [
              0,
              "#0d0887"
             ],
             [
              0.1111111111111111,
              "#46039f"
             ],
             [
              0.2222222222222222,
              "#7201a8"
             ],
             [
              0.3333333333333333,
              "#9c179e"
             ],
             [
              0.4444444444444444,
              "#bd3786"
             ],
             [
              0.5555555555555556,
              "#d8576b"
             ],
             [
              0.6666666666666666,
              "#ed7953"
             ],
             [
              0.7777777777777778,
              "#fb9f3a"
             ],
             [
              0.8888888888888888,
              "#fdca26"
             ],
             [
              1,
              "#f0f921"
             ]
            ],
            "type": "histogram2dcontour"
           }
          ],
          "mesh3d": [
           {
            "colorbar": {
             "outlinewidth": 0,
             "ticks": ""
            },
            "type": "mesh3d"
           }
          ],
          "parcoords": [
           {
            "line": {
             "colorbar": {
              "outlinewidth": 0,
              "ticks": ""
             }
            },
            "type": "parcoords"
           }
          ],
          "pie": [
           {
            "automargin": true,
            "type": "pie"
           }
          ],
          "scatter": [
           {
            "fillpattern": {
             "fillmode": "overlay",
             "size": 10,
             "solidity": 0.2
            },
            "type": "scatter"
           }
          ],
          "scatter3d": [
           {
            "line": {
             "colorbar": {
              "outlinewidth": 0,
              "ticks": ""
             }
            },
            "marker": {
             "colorbar": {
              "outlinewidth": 0,
              "ticks": ""
             }
            },
            "type": "scatter3d"
           }
          ],
          "scattercarpet": [
           {
            "marker": {
             "colorbar": {
              "outlinewidth": 0,
              "ticks": ""
             }
            },
            "type": "scattercarpet"
           }
          ],
          "scattergeo": [
           {
            "marker": {
             "colorbar": {
              "outlinewidth": 0,
              "ticks": ""
             }
            },
            "type": "scattergeo"
           }
          ],
          "scattergl": [
           {
            "marker": {
             "colorbar": {
              "outlinewidth": 0,
              "ticks": ""
             }
            },
            "type": "scattergl"
           }
          ],
          "scattermap": [
           {
            "marker": {
             "colorbar": {
              "outlinewidth": 0,
              "ticks": ""
             }
            },
            "type": "scattermap"
           }
          ],
          "scattermapbox": [
           {
            "marker": {
             "colorbar": {
              "outlinewidth": 0,
              "ticks": ""
             }
            },
            "type": "scattermapbox"
           }
          ],
          "scatterpolar": [
           {
            "marker": {
             "colorbar": {
              "outlinewidth": 0,
              "ticks": ""
             }
            },
            "type": "scatterpolar"
           }
          ],
          "scatterpolargl": [
           {
            "marker": {
             "colorbar": {
              "outlinewidth": 0,
              "ticks": ""
             }
            },
            "type": "scatterpolargl"
           }
          ],
          "scatterternary": [
           {
            "marker": {
             "colorbar": {
              "outlinewidth": 0,
              "ticks": ""
             }
            },
            "type": "scatterternary"
           }
          ],
          "surface": [
           {
            "colorbar": {
             "outlinewidth": 0,
             "ticks": ""
            },
            "colorscale": [
             [
              0,
              "#0d0887"
             ],
             [
              0.1111111111111111,
              "#46039f"
             ],
             [
              0.2222222222222222,
              "#7201a8"
             ],
             [
              0.3333333333333333,
              "#9c179e"
             ],
             [
              0.4444444444444444,
              "#bd3786"
             ],
             [
              0.5555555555555556,
              "#d8576b"
             ],
             [
              0.6666666666666666,
              "#ed7953"
             ],
             [
              0.7777777777777778,
              "#fb9f3a"
             ],
             [
              0.8888888888888888,
              "#fdca26"
             ],
             [
              1,
              "#f0f921"
             ]
            ],
            "type": "surface"
           }
          ],
          "table": [
           {
            "cells": {
             "fill": {
              "color": "#EBF0F8"
             },
             "line": {
              "color": "white"
             }
            },
            "header": {
             "fill": {
              "color": "#C8D4E3"
             },
             "line": {
              "color": "white"
             }
            },
            "type": "table"
           }
          ]
         },
         "layout": {
          "annotationdefaults": {
           "arrowcolor": "#2a3f5f",
           "arrowhead": 0,
           "arrowwidth": 1
          },
          "autotypenumbers": "strict",
          "coloraxis": {
           "colorbar": {
            "outlinewidth": 0,
            "ticks": ""
           }
          },
          "colorscale": {
           "diverging": [
            [
             0,
             "#8e0152"
            ],
            [
             0.1,
             "#c51b7d"
            ],
            [
             0.2,
             "#de77ae"
            ],
            [
             0.3,
             "#f1b6da"
            ],
            [
             0.4,
             "#fde0ef"
            ],
            [
             0.5,
             "#f7f7f7"
            ],
            [
             0.6,
             "#e6f5d0"
            ],
            [
             0.7,
             "#b8e186"
            ],
            [
             0.8,
             "#7fbc41"
            ],
            [
             0.9,
             "#4d9221"
            ],
            [
             1,
             "#276419"
            ]
           ],
           "sequential": [
            [
             0,
             "#0d0887"
            ],
            [
             0.1111111111111111,
             "#46039f"
            ],
            [
             0.2222222222222222,
             "#7201a8"
            ],
            [
             0.3333333333333333,
             "#9c179e"
            ],
            [
             0.4444444444444444,
             "#bd3786"
            ],
            [
             0.5555555555555556,
             "#d8576b"
            ],
            [
             0.6666666666666666,
             "#ed7953"
            ],
            [
             0.7777777777777778,
             "#fb9f3a"
            ],
            [
             0.8888888888888888,
             "#fdca26"
            ],
            [
             1,
             "#f0f921"
            ]
           ],
           "sequentialminus": [
            [
             0,
             "#0d0887"
            ],
            [
             0.1111111111111111,
             "#46039f"
            ],
            [
             0.2222222222222222,
             "#7201a8"
            ],
            [
             0.3333333333333333,
             "#9c179e"
            ],
            [
             0.4444444444444444,
             "#bd3786"
            ],
            [
             0.5555555555555556,
             "#d8576b"
            ],
            [
             0.6666666666666666,
             "#ed7953"
            ],
            [
             0.7777777777777778,
             "#fb9f3a"
            ],
            [
             0.8888888888888888,
             "#fdca26"
            ],
            [
             1,
             "#f0f921"
            ]
           ]
          },
          "colorway": [
           "#636efa",
           "#EF553B",
           "#00cc96",
           "#ab63fa",
           "#FFA15A",
           "#19d3f3",
           "#FF6692",
           "#B6E880",
           "#FF97FF",
           "#FECB52"
          ],
          "font": {
           "color": "#2a3f5f"
          },
          "geo": {
           "bgcolor": "white",
           "lakecolor": "white",
           "landcolor": "#E5ECF6",
           "showlakes": true,
           "showland": true,
           "subunitcolor": "white"
          },
          "hoverlabel": {
           "align": "left"
          },
          "hovermode": "closest",
          "mapbox": {
           "style": "light"
          },
          "paper_bgcolor": "white",
          "plot_bgcolor": "#E5ECF6",
          "polar": {
           "angularaxis": {
            "gridcolor": "white",
            "linecolor": "white",
            "ticks": ""
           },
           "bgcolor": "#E5ECF6",
           "radialaxis": {
            "gridcolor": "white",
            "linecolor": "white",
            "ticks": ""
           }
          },
          "scene": {
           "xaxis": {
            "backgroundcolor": "#E5ECF6",
            "gridcolor": "white",
            "gridwidth": 2,
            "linecolor": "white",
            "showbackground": true,
            "ticks": "",
            "zerolinecolor": "white"
           },
           "yaxis": {
            "backgroundcolor": "#E5ECF6",
            "gridcolor": "white",
            "gridwidth": 2,
            "linecolor": "white",
            "showbackground": true,
            "ticks": "",
            "zerolinecolor": "white"
           },
           "zaxis": {
            "backgroundcolor": "#E5ECF6",
            "gridcolor": "white",
            "gridwidth": 2,
            "linecolor": "white",
            "showbackground": true,
            "ticks": "",
            "zerolinecolor": "white"
           }
          },
          "shapedefaults": {
           "line": {
            "color": "#2a3f5f"
           }
          },
          "ternary": {
           "aaxis": {
            "gridcolor": "white",
            "linecolor": "white",
            "ticks": ""
           },
           "baxis": {
            "gridcolor": "white",
            "linecolor": "white",
            "ticks": ""
           },
           "bgcolor": "#E5ECF6",
           "caxis": {
            "gridcolor": "white",
            "linecolor": "white",
            "ticks": ""
           }
          },
          "title": {
           "x": 0.05
          },
          "xaxis": {
           "automargin": true,
           "gridcolor": "white",
           "linecolor": "white",
           "ticks": "",
           "title": {
            "standoff": 15
           },
           "zerolinecolor": "white",
           "zerolinewidth": 2
          },
          "yaxis": {
           "automargin": true,
           "gridcolor": "white",
           "linecolor": "white",
           "ticks": "",
           "title": {
            "standoff": 15
           },
           "zerolinecolor": "white",
           "zerolinewidth": 2
          }
         }
        },
        "title": {
         "text": "Interactive 3D Drone Flight Path"
        },
        "width": 600
       }
      }
     },
     "metadata": {},
     "output_type": "display_data"
    },
    {
     "name": "stdout",
     "output_type": "stream",
     "text": [
      "Moving: vx=0, vy=0, vz=-0.2, yaw=0\n",
      "Executing command: move 0 0 -0.2 0 1.0\n"
     ]
    },
    {
     "data": {
      "application/vnd.plotly.v1+json": {
       "config": {
        "plotlyServerURL": "https://plot.ly"
       },
       "data": [
        {
         "line": {
          "color": "blue",
          "width": 4
         },
         "marker": {
          "size": 4
         },
         "mode": "lines+markers",
         "name": "Drone Path",
         "type": "scatter3d",
         "x": {
          "bdata": "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",
          "dtype": "f8"
         },
         "y": {
          "bdata": "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",
          "dtype": "f8"
         },
         "z": [
          2,
          2,
          2,
          2,
          2,
          2,
          2,
          2,
          2,
          2,
          2,
          2,
          2,
          2,
          2,
          2,
          2,
          2,
          2,
          2,
          2,
          2,
          2,
          2,
          2,
          2,
          2,
          2,
          2,
          2,
          2,
          2,
          1.8,
          1.8,
          1.8,
          1.8,
          1.8,
          1.8,
          1.8,
          1.8,
          1.8,
          1.8,
          1.8,
          1.8,
          1.8,
          1.8,
          1.8,
          1.8,
          1.8,
          1.8,
          1.8,
          1.8,
          1.8,
          1.8,
          1.8,
          1.8,
          1.8,
          1.8,
          1.8,
          1.8,
          1.8,
          1.8,
          1.8,
          1.8,
          1.6,
          1.6,
          1.6,
          1.6,
          1.6,
          1.6,
          1.6,
          1.6,
          1.6,
          1.6,
          1.6,
          1.6,
          1.6,
          1.6,
          1.6,
          1.6,
          1.6,
          1.6,
          1.6,
          1.6,
          1.6,
          1.6,
          1.6,
          1.6,
          1.6,
          1.6,
          1.6,
          1.6,
          1.6,
          1.6,
          1.6,
          1.6,
          1.4000000000000001,
          1.4000000000000001,
          1.4000000000000001,
          1.4000000000000001,
          1.4000000000000001,
          1.4000000000000001,
          1.4000000000000001,
          1.4000000000000001,
          1.4000000000000001,
          1.4000000000000001,
          1.4000000000000001,
          1.4000000000000001,
          1.4000000000000001,
          1.4000000000000001,
          1.4000000000000001,
          1.4000000000000001,
          1.4000000000000001,
          1.4000000000000001,
          1.4000000000000001,
          1.4000000000000001,
          1.4000000000000001,
          1.4000000000000001,
          1.4000000000000001,
          1.4000000000000001,
          1.4000000000000001,
          1.4000000000000001,
          1.4000000000000001,
          1.4000000000000001,
          1.4000000000000001,
          1.4000000000000001,
          1.4000000000000001,
          1.4000000000000001,
          1.2000000000000002,
          1.2000000000000002,
          1.2000000000000002,
          1.2000000000000002,
          1.2000000000000002,
          1.2000000000000002,
          1.2000000000000002,
          1.2000000000000002,
          1.2000000000000002,
          1.2000000000000002,
          1.2000000000000002,
          1.2000000000000002,
          1.2000000000000002,
          1.2000000000000002,
          1.2000000000000002,
          1.2000000000000002,
          1.2000000000000002,
          1.2000000000000002,
          1.2000000000000002,
          1.2000000000000002,
          1.2000000000000002,
          1.2000000000000002,
          1.2000000000000002,
          1.2000000000000002,
          1.2000000000000002,
          1.2000000000000002,
          1.2000000000000002,
          1.2000000000000002,
          1.2000000000000002,
          1.2000000000000002,
          1.2000000000000002,
          1.2000000000000002,
          1.0000000000000002,
          1.0000000000000002,
          1.0000000000000002,
          1.0000000000000002,
          1.0000000000000002,
          1.0000000000000002,
          1.0000000000000002,
          1.0000000000000002,
          1.0000000000000002,
          1.0000000000000002,
          1.0000000000000002,
          1.0000000000000002,
          1.0000000000000002,
          1.0000000000000002,
          1.0000000000000002,
          1.0000000000000002,
          1.0000000000000002,
          1.0000000000000002,
          1.0000000000000002,
          1.0000000000000002,
          1.0000000000000002,
          1.0000000000000002,
          1.0000000000000002,
          1.0000000000000002,
          1.0000000000000002,
          1.0000000000000002,
          1.0000000000000002,
          1.0000000000000002,
          1.0000000000000002,
          1.0000000000000002,
          1.0000000000000002,
          1.0000000000000002,
          0.8000000000000003
         ]
        },
        {
         "marker": {
          "color": "red",
          "size": 10,
          "symbol": "diamond"
         },
         "mode": "markers",
         "name": "Current Position",
         "type": "scatter3d",
         "x": [
          0.07169348402934139
         ],
         "y": [
          -0.5029478967580665
         ],
         "z": [
          0.8000000000000003
         ]
        }
       ],
       "layout": {
        "height": 500,
        "legend": {
         "x": 0,
         "y": 1
        },
        "margin": {
         "b": 0,
         "l": 0,
         "r": 0,
         "t": 30
        },
        "scene": {
         "aspectmode": "data",
         "camera": {
          "eye": {
           "x": 1.5,
           "y": 1.5,
           "z": 0.6
          }
         },
         "xaxis": {
          "title": {
           "text": "X (meters)"
          }
         },
         "yaxis": {
          "title": {
           "text": "Y (meters)"
          }
         },
         "zaxis": {
          "title": {
           "text": "Altitude (meters)"
          }
         }
        },
        "template": {
         "data": {
          "bar": [
           {
            "error_x": {
             "color": "#2a3f5f"
            },
            "error_y": {
             "color": "#2a3f5f"
            },
            "marker": {
             "line": {
              "color": "#E5ECF6",
              "width": 0.5
             },
             "pattern": {
              "fillmode": "overlay",
              "size": 10,
              "solidity": 0.2
             }
            },
            "type": "bar"
           }
          ],
          "barpolar": [
           {
            "marker": {
             "line": {
              "color": "#E5ECF6",
              "width": 0.5
             },
             "pattern": {
              "fillmode": "overlay",
              "size": 10,
              "solidity": 0.2
             }
            },
            "type": "barpolar"
           }
          ],
          "carpet": [
           {
            "aaxis": {
             "endlinecolor": "#2a3f5f",
             "gridcolor": "white",
             "linecolor": "white",
             "minorgridcolor": "white",
             "startlinecolor": "#2a3f5f"
            },
            "baxis": {
             "endlinecolor": "#2a3f5f",
             "gridcolor": "white",
             "linecolor": "white",
             "minorgridcolor": "white",
             "startlinecolor": "#2a3f5f"
            },
            "type": "carpet"
           }
          ],
          "choropleth": [
           {
            "colorbar": {
             "outlinewidth": 0,
             "ticks": ""
            },
            "type": "choropleth"
           }
          ],
          "contour": [
           {
            "colorbar": {
             "outlinewidth": 0,
             "ticks": ""
            },
            "colorscale": [
             [
              0,
              "#0d0887"
             ],
             [
              0.1111111111111111,
              "#46039f"
             ],
             [
              0.2222222222222222,
              "#7201a8"
             ],
             [
              0.3333333333333333,
              "#9c179e"
             ],
             [
              0.4444444444444444,
              "#bd3786"
             ],
             [
              0.5555555555555556,
              "#d8576b"
             ],
             [
              0.6666666666666666,
              "#ed7953"
             ],
             [
              0.7777777777777778,
              "#fb9f3a"
             ],
             [
              0.8888888888888888,
              "#fdca26"
             ],
             [
              1,
              "#f0f921"
             ]
            ],
            "type": "contour"
           }
          ],
          "contourcarpet": [
           {
            "colorbar": {
             "outlinewidth": 0,
             "ticks": ""
            },
            "type": "contourcarpet"
           }
          ],
          "heatmap": [
           {
            "colorbar": {
             "outlinewidth": 0,
             "ticks": ""
            },
            "colorscale": [
             [
              0,
              "#0d0887"
             ],
             [
              0.1111111111111111,
              "#46039f"
             ],
             [
              0.2222222222222222,
              "#7201a8"
             ],
             [
              0.3333333333333333,
              "#9c179e"
             ],
             [
              0.4444444444444444,
              "#bd3786"
             ],
             [
              0.5555555555555556,
              "#d8576b"
             ],
             [
              0.6666666666666666,
              "#ed7953"
             ],
             [
              0.7777777777777778,
              "#fb9f3a"
             ],
             [
              0.8888888888888888,
              "#fdca26"
             ],
             [
              1,
              "#f0f921"
             ]
            ],
            "type": "heatmap"
           }
          ],
          "histogram": [
           {
            "marker": {
             "pattern": {
              "fillmode": "overlay",
              "size": 10,
              "solidity": 0.2
             }
            },
            "type": "histogram"
           }
          ],
          "histogram2d": [
           {
            "colorbar": {
             "outlinewidth": 0,
             "ticks": ""
            },
            "colorscale": [
             [
              0,
              "#0d0887"
             ],
             [
              0.1111111111111111,
              "#46039f"
             ],
             [
              0.2222222222222222,
              "#7201a8"
             ],
             [
              0.3333333333333333,
              "#9c179e"
             ],
             [
              0.4444444444444444,
              "#bd3786"
             ],
             [
              0.5555555555555556,
              "#d8576b"
             ],
             [
              0.6666666666666666,
              "#ed7953"
             ],
             [
              0.7777777777777778,
              "#fb9f3a"
             ],
             [
              0.8888888888888888,
              "#fdca26"
             ],
             [
              1,
              "#f0f921"
             ]
            ],
            "type": "histogram2d"
           }
          ],
          "histogram2dcontour": [
           {
            "colorbar": {
             "outlinewidth": 0,
             "ticks": ""
            },
            "colorscale": [
             [
              0,
              "#0d0887"
             ],
             [
              0.1111111111111111,
              "#46039f"
             ],
             [
              0.2222222222222222,
              "#7201a8"
             ],
             [
              0.3333333333333333,
              "#9c179e"
             ],
             [
              0.4444444444444444,
              "#bd3786"
             ],
             [
              0.5555555555555556,
              "#d8576b"
             ],
             [
              0.6666666666666666,
              "#ed7953"
             ],
             [
              0.7777777777777778,
              "#fb9f3a"
             ],
             [
              0.8888888888888888,
              "#fdca26"
             ],
             [
              1,
              "#f0f921"
             ]
            ],
            "type": "histogram2dcontour"
           }
          ],
          "mesh3d": [
           {
            "colorbar": {
             "outlinewidth": 0,
             "ticks": ""
            },
            "type": "mesh3d"
           }
          ],
          "parcoords": [
           {
            "line": {
             "colorbar": {
              "outlinewidth": 0,
              "ticks": ""
             }
            },
            "type": "parcoords"
           }
          ],
          "pie": [
           {
            "automargin": true,
            "type": "pie"
           }
          ],
          "scatter": [
           {
            "fillpattern": {
             "fillmode": "overlay",
             "size": 10,
             "solidity": 0.2
            },
            "type": "scatter"
           }
          ],
          "scatter3d": [
           {
            "line": {
             "colorbar": {
              "outlinewidth": 0,
              "ticks": ""
             }
            },
            "marker": {
             "colorbar": {
              "outlinewidth": 0,
              "ticks": ""
             }
            },
            "type": "scatter3d"
           }
          ],
          "scattercarpet": [
           {
            "marker": {
             "colorbar": {
              "outlinewidth": 0,
              "ticks": ""
             }
            },
            "type": "scattercarpet"
           }
          ],
          "scattergeo": [
           {
            "marker": {
             "colorbar": {
              "outlinewidth": 0,
              "ticks": ""
             }
            },
            "type": "scattergeo"
           }
          ],
          "scattergl": [
           {
            "marker": {
             "colorbar": {
              "outlinewidth": 0,
              "ticks": ""
             }
            },
            "type": "scattergl"
           }
          ],
          "scattermap": [
           {
            "marker": {
             "colorbar": {
              "outlinewidth": 0,
              "ticks": ""
             }
            },
            "type": "scattermap"
           }
          ],
          "scattermapbox": [
           {
            "marker": {
             "colorbar": {
              "outlinewidth": 0,
              "ticks": ""
             }
            },
            "type": "scattermapbox"
           }
          ],
          "scatterpolar": [
           {
            "marker": {
             "colorbar": {
              "outlinewidth": 0,
              "ticks": ""
             }
            },
            "type": "scatterpolar"
           }
          ],
          "scatterpolargl": [
           {
            "marker": {
             "colorbar": {
              "outlinewidth": 0,
              "ticks": ""
             }
            },
            "type": "scatterpolargl"
           }
          ],
          "scatterternary": [
           {
            "marker": {
             "colorbar": {
              "outlinewidth": 0,
              "ticks": ""
             }
            },
            "type": "scatterternary"
           }
          ],
          "surface": [
           {
            "colorbar": {
             "outlinewidth": 0,
             "ticks": ""
            },
            "colorscale": [
             [
              0,
              "#0d0887"
             ],
             [
              0.1111111111111111,
              "#46039f"
             ],
             [
              0.2222222222222222,
              "#7201a8"
             ],
             [
              0.3333333333333333,
              "#9c179e"
             ],
             [
              0.4444444444444444,
              "#bd3786"
             ],
             [
              0.5555555555555556,
              "#d8576b"
             ],
             [
              0.6666666666666666,
              "#ed7953"
             ],
             [
              0.7777777777777778,
              "#fb9f3a"
             ],
             [
              0.8888888888888888,
              "#fdca26"
             ],
             [
              1,
              "#f0f921"
             ]
            ],
            "type": "surface"
           }
          ],
          "table": [
           {
            "cells": {
             "fill": {
              "color": "#EBF0F8"
             },
             "line": {
              "color": "white"
             }
            },
            "header": {
             "fill": {
              "color": "#C8D4E3"
             },
             "line": {
              "color": "white"
             }
            },
            "type": "table"
           }
          ]
         },
         "layout": {
          "annotationdefaults": {
           "arrowcolor": "#2a3f5f",
           "arrowhead": 0,
           "arrowwidth": 1
          },
          "autotypenumbers": "strict",
          "coloraxis": {
           "colorbar": {
            "outlinewidth": 0,
            "ticks": ""
           }
          },
          "colorscale": {
           "diverging": [
            [
             0,
             "#8e0152"
            ],
            [
             0.1,
             "#c51b7d"
            ],
            [
             0.2,
             "#de77ae"
            ],
            [
             0.3,
             "#f1b6da"
            ],
            [
             0.4,
             "#fde0ef"
            ],
            [
             0.5,
             "#f7f7f7"
            ],
            [
             0.6,
             "#e6f5d0"
            ],
            [
             0.7,
             "#b8e186"
            ],
            [
             0.8,
             "#7fbc41"
            ],
            [
             0.9,
             "#4d9221"
            ],
            [
             1,
             "#276419"
            ]
           ],
           "sequential": [
            [
             0,
             "#0d0887"
            ],
            [
             0.1111111111111111,
             "#46039f"
            ],
            [
             0.2222222222222222,
             "#7201a8"
            ],
            [
             0.3333333333333333,
             "#9c179e"
            ],
            [
             0.4444444444444444,
             "#bd3786"
            ],
            [
             0.5555555555555556,
             "#d8576b"
            ],
            [
             0.6666666666666666,
             "#ed7953"
            ],
            [
             0.7777777777777778,
             "#fb9f3a"
            ],
            [
             0.8888888888888888,
             "#fdca26"
            ],
            [
             1,
             "#f0f921"
            ]
           ],
           "sequentialminus": [
            [
             0,
             "#0d0887"
            ],
            [
             0.1111111111111111,
             "#46039f"
            ],
            [
             0.2222222222222222,
             "#7201a8"
            ],
            [
             0.3333333333333333,
             "#9c179e"
            ],
            [
             0.4444444444444444,
             "#bd3786"
            ],
            [
             0.5555555555555556,
             "#d8576b"
            ],
            [
             0.6666666666666666,
             "#ed7953"
            ],
            [
             0.7777777777777778,
             "#fb9f3a"
            ],
            [
             0.8888888888888888,
             "#fdca26"
            ],
            [
             1,
             "#f0f921"
            ]
           ]
          },
          "colorway": [
           "#636efa",
           "#EF553B",
           "#00cc96",
           "#ab63fa",
           "#FFA15A",
           "#19d3f3",
           "#FF6692",
           "#B6E880",
           "#FF97FF",
           "#FECB52"
          ],
          "font": {
           "color": "#2a3f5f"
          },
          "geo": {
           "bgcolor": "white",
           "lakecolor": "white",
           "landcolor": "#E5ECF6",
           "showlakes": true,
           "showland": true,
           "subunitcolor": "white"
          },
          "hoverlabel": {
           "align": "left"
          },
          "hovermode": "closest",
          "mapbox": {
           "style": "light"
          },
          "paper_bgcolor": "white",
          "plot_bgcolor": "#E5ECF6",
          "polar": {
           "angularaxis": {
            "gridcolor": "white",
            "linecolor": "white",
            "ticks": ""
           },
           "bgcolor": "#E5ECF6",
           "radialaxis": {
            "gridcolor": "white",
            "linecolor": "white",
            "ticks": ""
           }
          },
          "scene": {
           "xaxis": {
            "backgroundcolor": "#E5ECF6",
            "gridcolor": "white",
            "gridwidth": 2,
            "linecolor": "white",
            "showbackground": true,
            "ticks": "",
            "zerolinecolor": "white"
           },
           "yaxis": {
            "backgroundcolor": "#E5ECF6",
            "gridcolor": "white",
            "gridwidth": 2,
            "linecolor": "white",
            "showbackground": true,
            "ticks": "",
            "zerolinecolor": "white"
           },
           "zaxis": {
            "backgroundcolor": "#E5ECF6",
            "gridcolor": "white",
            "gridwidth": 2,
            "linecolor": "white",
            "showbackground": true,
            "ticks": "",
            "zerolinecolor": "white"
           }
          },
          "shapedefaults": {
           "line": {
            "color": "#2a3f5f"
           }
          },
          "ternary": {
           "aaxis": {
            "gridcolor": "white",
            "linecolor": "white",
            "ticks": ""
           },
           "baxis": {
            "gridcolor": "white",
            "linecolor": "white",
            "ticks": ""
           },
           "bgcolor": "#E5ECF6",
           "caxis": {
            "gridcolor": "white",
            "linecolor": "white",
            "ticks": ""
           }
          },
          "title": {
           "x": 0.05
          },
          "xaxis": {
           "automargin": true,
           "gridcolor": "white",
           "linecolor": "white",
           "ticks": "",
           "title": {
            "standoff": 15
           },
           "zerolinecolor": "white",
           "zerolinewidth": 2
          },
          "yaxis": {
           "automargin": true,
           "gridcolor": "white",
           "linecolor": "white",
           "ticks": "",
           "title": {
            "standoff": 15
           },
           "zerolinecolor": "white",
           "zerolinewidth": 2
          }
         }
        },
        "title": {
         "text": "Interactive 3D Drone Flight Path"
        },
        "width": 600
       }
      }
     },
     "metadata": {},
     "output_type": "display_data"
    },
    {
     "name": "stdout",
     "output_type": "stream",
     "text": [
      "\u2b55 Executing circle left (optimized)...\n"
     ]
    },
    {
     "data": {
      "application/vnd.plotly.v1+json": {
       "config": {
        "plotlyServerURL": "https://plot.ly"
       },
       "data": [
        {
         "line": {
          "color": "blue",
          "width": 4
         },
         "marker": {
          "size": 4
         },
         "mode": "lines+markers",
         "name": "Drone Path",
         "type": "scatter3d",
         "x": {
          "bdata": "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",
          "dtype": "f8"
         },
         "y": {
          "bdata": "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",
          "dtype": "f8"
         },
         "z": [
          2,
          2,
          2,
          2,
          2,
          2,
          2,
          2,
          2,
          2,
          2,
          2,
          2,
          2,
          2,
          2,
          2,
          2,
          2,
          2,
          2,
          2,
          2,
          2,
          2,
          2,
          2,
          2,
          2,
          2,
          2,
          2,
          1.8,
          1.8,
          1.8,
          1.8,
          1.8,
          1.8,
          1.8,
          1.8,
          1.8,
          1.8,
          1.8,
          1.8,
          1.8,
          1.8,
          1.8,
          1.8,
          1.8,
          1.8,
          1.8,
          1.8,
          1.8,
          1.8,
          1.8,
          1.8,
          1.8,
          1.8,
          1.8,
          1.8,
          1.8,
          1.8,
          1.8,
          1.8,
          1.6,
          1.6,
          1.6,
          1.6,
          1.6,
          1.6,
          1.6,
          1.6,
          1.6,
          1.6,
          1.6,
          1.6,
          1.6,
          1.6,
          1.6,
          1.6,
          1.6,
          1.6,
          1.6,
          1.6,
          1.6,
          1.6,
          1.6,
          1.6,
          1.6,
          1.6,
          1.6,
          1.6,
          1.6,
          1.6,
          1.6,
          1.6,
          1.4000000000000001,
          1.4000000000000001,
          1.4000000000000001,
          1.4000000000000001,
          1.4000000000000001,
          1.4000000000000001,
          1.4000000000000001,
          1.4000000000000001,
          1.4000000000000001,
          1.4000000000000001,
          1.4000000000000001,
          1.4000000000000001,
          1.4000000000000001,
          1.4000000000000001,
          1.4000000000000001,
          1.4000000000000001,
          1.4000000000000001,
          1.4000000000000001,
          1.4000000000000001,
          1.4000000000000001,
          1.4000000000000001,
          1.4000000000000001,
          1.4000000000000001,
          1.4000000000000001,
          1.4000000000000001,
          1.4000000000000001,
          1.4000000000000001,
          1.4000000000000001,
          1.4000000000000001,
          1.4000000000000001,
          1.4000000000000001,
          1.4000000000000001,
          1.2000000000000002,
          1.2000000000000002,
          1.2000000000000002,
          1.2000000000000002,
          1.2000000000000002,
          1.2000000000000002,
          1.2000000000000002,
          1.2000000000000002,
          1.2000000000000002,
          1.2000000000000002,
          1.2000000000000002,
          1.2000000000000002,
          1.2000000000000002,
          1.2000000000000002,
          1.2000000000000002,
          1.2000000000000002,
          1.2000000000000002,
          1.2000000000000002,
          1.2000000000000002,
          1.2000000000000002,
          1.2000000000000002,
          1.2000000000000002,
          1.2000000000000002,
          1.2000000000000002,
          1.2000000000000002,
          1.2000000000000002,
          1.2000000000000002,
          1.2000000000000002,
          1.2000000000000002,
          1.2000000000000002,
          1.2000000000000002,
          1.2000000000000002,
          1.0000000000000002,
          1.0000000000000002,
          1.0000000000000002,
          1.0000000000000002,
          1.0000000000000002,
          1.0000000000000002,
          1.0000000000000002,
          1.0000000000000002,
          1.0000000000000002,
          1.0000000000000002,
          1.0000000000000002,
          1.0000000000000002,
          1.0000000000000002,
          1.0000000000000002,
          1.0000000000000002,
          1.0000000000000002,
          1.0000000000000002,
          1.0000000000000002,
          1.0000000000000002,
          1.0000000000000002,
          1.0000000000000002,
          1.0000000000000002,
          1.0000000000000002,
          1.0000000000000002,
          1.0000000000000002,
          1.0000000000000002,
          1.0000000000000002,
          1.0000000000000002,
          1.0000000000000002,
          1.0000000000000002,
          1.0000000000000002,
          1.0000000000000002,
          0.8000000000000003,
          0.8000000000000003,
          0.8000000000000003,
          0.8000000000000003,
          0.8000000000000003,
          0.8000000000000003,
          0.8000000000000003,
          0.8000000000000003,
          0.8000000000000003,
          0.8000000000000003,
          0.8000000000000003,
          0.8000000000000003,
          0.8000000000000003,
          0.8000000000000003,
          0.8000000000000003,
          0.8000000000000003,
          0.8000000000000003,
          0.8000000000000003,
          0.8000000000000003,
          0.8000000000000003,
          0.8000000000000003,
          0.8000000000000003,
          0.8000000000000003,
          0.8000000000000003,
          0.8000000000000003,
          0.8000000000000003,
          0.8000000000000003,
          0.8000000000000003,
          0.8000000000000003,
          0.8000000000000003,
          0.8000000000000003,
          0.8000000000000003
         ]
        },
        {
         "marker": {
          "color": "red",
          "size": 10,
          "symbol": "diamond"
         },
         "mode": "markers",
         "name": "Current Position",
         "type": "scatter3d",
         "x": [
          0.08364239803423162
         ],
         "y": [
          -0.5867725462177442
         ],
         "z": [
          0.8000000000000003
         ]
        }
       ],
       "layout": {
        "height": 500,
        "legend": {
         "x": 0,
         "y": 1
        },
        "margin": {
         "b": 0,
         "l": 0,
         "r": 0,
         "t": 30
        },
        "scene": {
         "aspectmode": "data",
         "camera": {
          "eye": {
           "x": 1.5,
           "y": 1.5,
           "z": 0.6
          }
         },
         "xaxis": {
          "title": {
           "text": "X (meters)"
          }
         },
         "yaxis": {
          "title": {
           "text": "Y (meters)"
          }
         },
         "zaxis": {
          "title": {
           "text": "Altitude (meters)"
          }
         }
        },
        "template": {
         "data": {
          "bar": [
           {
            "error_x": {
             "color": "#2a3f5f"
            },
            "error_y": {
             "color": "#2a3f5f"
            },
            "marker": {
             "line": {
              "color": "#E5ECF6",
              "width": 0.5
             },
             "pattern": {
              "fillmode": "overlay",
              "size": 10,
              "solidity": 0.2
             }
            },
            "type": "bar"
           }
          ],
          "barpolar": [
           {
            "marker": {
             "line": {
              "color": "#E5ECF6",
              "width": 0.5
             },
             "pattern": {
              "fillmode": "overlay",
              "size": 10,
              "solidity": 0.2
             }
            },
            "type": "barpolar"
           }
          ],
          "carpet": [
           {
            "aaxis": {
             "endlinecolor": "#2a3f5f",
             "gridcolor": "white",
             "linecolor": "white",
             "minorgridcolor": "white",
             "startlinecolor": "#2a3f5f"
            },
            "baxis": {
             "endlinecolor": "#2a3f5f",
             "gridcolor": "white",
             "linecolor": "white",
             "minorgridcolor": "white",
             "startlinecolor": "#2a3f5f"
            },
            "type": "carpet"
           }
          ],
          "choropleth": [
           {
            "colorbar": {
             "outlinewidth": 0,
             "ticks": ""
            },
            "type": "choropleth"
           }
          ],
          "contour": [
           {
            "colorbar": {
             "outlinewidth": 0,
             "ticks": ""
            },
            "colorscale": [
             [
              0,
              "#0d0887"
             ],
             [
              0.1111111111111111,
              "#46039f"
             ],
             [
              0.2222222222222222,
              "#7201a8"
             ],
             [
              0.3333333333333333,
              "#9c179e"
             ],
             [
              0.4444444444444444,
              "#bd3786"
             ],
             [
              0.5555555555555556,
              "#d8576b"
             ],
             [
              0.6666666666666666,
              "#ed7953"
             ],
             [
              0.7777777777777778,
              "#fb9f3a"
             ],
             [
              0.8888888888888888,
              "#fdca26"
             ],
             [
              1,
              "#f0f921"
             ]
            ],
            "type": "contour"
           }
          ],
          "contourcarpet": [
           {
            "colorbar": {
             "outlinewidth": 0,
             "ticks": ""
            },
            "type": "contourcarpet"
           }
          ],
          "heatmap": [
           {
            "colorbar": {
             "outlinewidth": 0,
             "ticks": ""
            },
            "colorscale": [
             [
              0,
              "#0d0887"
             ],
             [
              0.1111111111111111,
              "#46039f"
             ],
             [
              0.2222222222222222,
              "#7201a8"
             ],
             [
              0.3333333333333333,
              "#9c179e"
             ],
             [
              0.4444444444444444,
              "#bd3786"
             ],
             [
              0.5555555555555556,
              "#d8576b"
             ],
             [
              0.6666666666666666,
              "#ed7953"
             ],
             [
              0.7777777777777778,
              "#fb9f3a"
             ],
             [
              0.8888888888888888,
              "#fdca26"
             ],
             [
              1,
              "#f0f921"
             ]
            ],
            "type": "heatmap"
           }
          ],
          "histogram": [
           {
            "marker": {
             "pattern": {
              "fillmode": "overlay",
              "size": 10,
              "solidity": 0.2
             }
            },
            "type": "histogram"
           }
          ],
          "histogram2d": [
           {
            "colorbar": {
             "outlinewidth": 0,
             "ticks": ""
            },
            "colorscale": [
             [
              0,
              "#0d0887"
             ],
             [
              0.1111111111111111,
              "#46039f"
             ],
             [
              0.2222222222222222,
              "#7201a8"
             ],
             [
              0.3333333333333333,
              "#9c179e"
             ],
             [
              0.4444444444444444,
              "#bd3786"
             ],
             [
              0.5555555555555556,
              "#d8576b"
             ],
             [
              0.6666666666666666,
              "#ed7953"
             ],
             [
              0.7777777777777778,
              "#fb9f3a"
             ],
             [
              0.8888888888888888,
              "#fdca26"
             ],
             [
              1,
              "#f0f921"
             ]
            ],
            "type": "histogram2d"
           }
          ],
          "histogram2dcontour": [
           {
            "colorbar": {
             "outlinewidth": 0,
             "ticks": ""
            },
            "colorscale": [
             [
              0,
              "#0d0887"
             ],
             [
              0.1111111111111111,
              "#46039f"
             ],
             [
              0.2222222222222222,
              "#7201a8"
             ],
             [
              0.3333333333333333,
              "#9c179e"
             ],
             [
              0.4444444444444444,
              "#bd3786"
             ],
             [
              0.5555555555555556,
              "#d8576b"
             ],
             [
              0.6666666666666666,
              "#ed7953"
             ],
             [
              0.7777777777777778,
              "#fb9f3a"
             ],
             [
              0.8888888888888888,
              "#fdca26"
             ],
             [
              1,
              "#f0f921"
             ]
            ],
            "type": "histogram2dcontour"
           }
          ],
          "mesh3d": [
           {
            "colorbar": {
             "outlinewidth": 0,
             "ticks": ""
            },
            "type": "mesh3d"
           }
          ],
          "parcoords": [
           {
            "line": {
             "colorbar": {
              "outlinewidth": 0,
              "ticks": ""
             }
            },
            "type": "parcoords"
           }
          ],
          "pie": [
           {
            "automargin": true,
            "type": "pie"
           }
          ],
          "scatter": [
           {
            "fillpattern": {
             "fillmode": "overlay",
             "size": 10,
             "solidity": 0.2
            },
            "type": "scatter"
           }
          ],
          "scatter3d": [
           {
            "line": {
             "colorbar": {
              "outlinewidth": 0,
              "ticks": ""
             }
            },
            "marker": {
             "colorbar": {
              "outlinewidth": 0,
              "ticks": ""
             }
            },
            "type": "scatter3d"
           }
          ],
          "scattercarpet": [
           {
            "marker": {
             "colorbar": {
              "outlinewidth": 0,
              "ticks": ""
             }
            },
            "type": "scattercarpet"
           }
          ],
          "scattergeo": [
           {
            "marker": {
             "colorbar": {
              "outlinewidth": 0,
              "ticks": ""
             }
            },
            "type": "scattergeo"
           }
          ],
          "scattergl": [
           {
            "marker": {
             "colorbar": {
              "outlinewidth": 0,
              "ticks": ""
             }
            },
            "type": "scattergl"
           }
          ],
          "scattermap": [
           {
            "marker": {
             "colorbar": {
              "outlinewidth": 0,
              "ticks": ""
             }
            },
            "type": "scattermap"
           }
          ],
          "scattermapbox": [
           {
            "marker": {
             "colorbar": {
              "outlinewidth": 0,
              "ticks": ""
             }
            },
            "type": "scattermapbox"
           }
          ],
          "scatterpolar": [
           {
            "marker": {
             "colorbar": {
              "outlinewidth": 0,
              "ticks": ""
             }
            },
            "type": "scatterpolar"
           }
          ],
          "scatterpolargl": [
           {
            "marker": {
             "colorbar": {
              "outlinewidth": 0,
              "ticks": ""
             }
            },
            "type": "scatterpolargl"
           }
          ],
          "scatterternary": [
           {
            "marker": {
             "colorbar": {
              "outlinewidth": 0,
              "ticks": ""
             }
            },
            "type": "scatterternary"
           }
          ],
          "surface": [
           {
            "colorbar": {
             "outlinewidth": 0,
             "ticks": ""
            },
            "colorscale": [
             [
              0,
              "#0d0887"
             ],
             [
              0.1111111111111111,
              "#46039f"
             ],
             [
              0.2222222222222222,
              "#7201a8"
             ],
             [
              0.3333333333333333,
              "#9c179e"
             ],
             [
              0.4444444444444444,
              "#bd3786"
             ],
             [
              0.5555555555555556,
              "#d8576b"
             ],
             [
              0.6666666666666666,
              "#ed7953"
             ],
             [
              0.7777777777777778,
              "#fb9f3a"
             ],
             [
              0.8888888888888888,
              "#fdca26"
             ],
             [
              1,
              "#f0f921"
             ]
            ],
            "type": "surface"
           }
          ],
          "table": [
           {
            "cells": {
             "fill": {
              "color": "#EBF0F8"
             },
             "line": {
              "color": "white"
             }
            },
            "header": {
             "fill": {
              "color": "#C8D4E3"
             },
             "line": {
              "color": "white"
             }
            },
            "type": "table"
           }
          ]
         },
         "layout": {
          "annotationdefaults": {
           "arrowcolor": "#2a3f5f",
           "arrowhead": 0,
           "arrowwidth": 1
          },
          "autotypenumbers": "strict",
          "coloraxis": {
           "colorbar": {
            "outlinewidth": 0,
            "ticks": ""
           }
          },
          "colorscale": {
           "diverging": [
            [
             0,
             "#8e0152"
            ],
            [
             0.1,
             "#c51b7d"
            ],
            [
             0.2,
             "#de77ae"
            ],
            [
             0.3,
             "#f1b6da"
            ],
            [
             0.4,
             "#fde0ef"
            ],
            [
             0.5,
             "#f7f7f7"
            ],
            [
             0.6,
             "#e6f5d0"
            ],
            [
             0.7,
             "#b8e186"
            ],
            [
             0.8,
             "#7fbc41"
            ],
            [
             0.9,
             "#4d9221"
            ],
            [
             1,
             "#276419"
            ]
           ],
           "sequential": [
            [
             0,
             "#0d0887"
            ],
            [
             0.1111111111111111,
             "#46039f"
            ],
            [
             0.2222222222222222,
             "#7201a8"
            ],
            [
             0.3333333333333333,
             "#9c179e"
            ],
            [
             0.4444444444444444,
             "#bd3786"
            ],
            [
             0.5555555555555556,
             "#d8576b"
            ],
            [
             0.6666666666666666,
             "#ed7953"
            ],
            [
             0.7777777777777778,
             "#fb9f3a"
            ],
            [
             0.8888888888888888,
             "#fdca26"
            ],
            [
             1,
             "#f0f921"
            ]
           ],
           "sequentialminus": [
            [
             0,
             "#0d0887"
            ],
            [
             0.1111111111111111,
             "#46039f"
            ],
            [
             0.2222222222222222,
             "#7201a8"
            ],
            [
             0.3333333333333333,
             "#9c179e"
            ],
            [
             0.4444444444444444,
             "#bd3786"
            ],
            [
             0.5555555555555556,
             "#d8576b"
            ],
            [
             0.6666666666666666,
             "#ed7953"
            ],
            [
             0.7777777777777778,
             "#fb9f3a"
            ],
            [
             0.8888888888888888,
             "#fdca26"
            ],
            [
             1,
             "#f0f921"
            ]
           ]
          },
          "colorway": [
           "#636efa",
           "#EF553B",
           "#00cc96",
           "#ab63fa",
           "#FFA15A",
           "#19d3f3",
           "#FF6692",
           "#B6E880",
           "#FF97FF",
           "#FECB52"
          ],
          "font": {
           "color": "#2a3f5f"
          },
          "geo": {
           "bgcolor": "white",
           "lakecolor": "white",
           "landcolor": "#E5ECF6",
           "showlakes": true,
           "showland": true,
           "subunitcolor": "white"
          },
          "hoverlabel": {
           "align": "left"
          },
          "hovermode": "closest",
          "mapbox": {
           "style": "light"
          },
          "paper_bgcolor": "white",
          "plot_bgcolor": "#E5ECF6",
          "polar": {
           "angularaxis": {
            "gridcolor": "white",
            "linecolor": "white",
            "ticks": ""
           },
           "bgcolor": "#E5ECF6",
           "radialaxis": {
            "gridcolor": "white",
            "linecolor": "white",
            "ticks": ""
           }
          },
          "scene": {
           "xaxis": {
            "backgroundcolor": "#E5ECF6",
            "gridcolor": "white",
            "gridwidth": 2,
            "linecolor": "white",
            "showbackground": true,
            "ticks": "",
            "zerolinecolor": "white"
           },
           "yaxis": {
            "backgroundcolor": "#E5ECF6",
            "gridcolor": "white",
            "gridwidth": 2,
            "linecolor": "white",
            "showbackground": true,
            "ticks": "",
            "zerolinecolor": "white"
           },
           "zaxis": {
            "backgroundcolor": "#E5ECF6",
            "gridcolor": "white",
            "gridwidth": 2,
            "linecolor": "white",
            "showbackground": true,
            "ticks": "",
            "zerolinecolor": "white"
           }
          },
          "shapedefaults": {
           "line": {
            "color": "#2a3f5f"
           }
          },
          "ternary": {
           "aaxis": {
            "gridcolor": "white",
            "linecolor": "white",
            "ticks": ""
           },
           "baxis": {
            "gridcolor": "white",
            "linecolor": "white",
            "ticks": ""
           },
           "bgcolor": "#E5ECF6",
           "caxis": {
            "gridcolor": "white",
            "linecolor": "white",
            "ticks": ""
           }
          },
          "title": {
           "x": 0.05
          },
          "xaxis": {
           "automargin": true,
           "gridcolor": "white",
           "linecolor": "white",
           "ticks": "",
           "title": {
            "standoff": 15
           },
           "zerolinecolor": "white",
           "zerolinewidth": 2
          },
          "yaxis": {
           "automargin": true,
           "gridcolor": "white",
           "linecolor": "white",
           "ticks": "",
           "title": {
            "standoff": 15
           },
           "zerolinecolor": "white",
           "zerolinewidth": 2
          }
         }
        },
        "title": {
         "text": "Interactive 3D Drone Flight Path"
        },
        "width": 600
       }
      }
     },
     "metadata": {},
     "output_type": "display_data"
    },
    {
     "name": "stdout",
     "output_type": "stream",
     "text": [
      "Moving: vx=0, vy=0, vz=-0.2, yaw=0\n",
      "Executing command: move 0 0 -0.2 0 1.0\n"
     ]
    },
    {
     "data": {
      "application/vnd.plotly.v1+json": {
       "config": {
        "plotlyServerURL": "https://plot.ly"
       },
       "data": [
        {
         "line": {
          "color": "blue",
          "width": 4
         },
         "marker": {
          "size": 4
         },
         "mode": "lines+markers",
         "name": "Drone Path",
         "type": "scatter3d",
         "x": {
          "bdata": "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",
          "dtype": "f8"
         },
         "y": {
          "bdata": "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",
          "dtype": "f8"
         },
         "z": [
          2,
          2,
          2,
          2,
          2,
          2,
          2,
          2,
          2,
          2,
          2,
          2,
          2,
          2,
          2,
          2,
          2,
          2,
          2,
          2,
          2,
          2,
          2,
          2,
          2,
          2,
          2,
          2,
          2,
          2,
          2,
          2,
          1.8,
          1.8,
          1.8,
          1.8,
          1.8,
          1.8,
          1.8,
          1.8,
          1.8,
          1.8,
          1.8,
          1.8,
          1.8,
          1.8,
          1.8,
          1.8,
          1.8,
          1.8,
          1.8,
          1.8,
          1.8,
          1.8,
          1.8,
          1.8,
          1.8,
          1.8,
          1.8,
          1.8,
          1.8,
          1.8,
          1.8,
          1.8,
          1.6,
          1.6,
          1.6,
          1.6,
          1.6,
          1.6,
          1.6,
          1.6,
          1.6,
          1.6,
          1.6,
          1.6,
          1.6,
          1.6,
          1.6,
          1.6,
          1.6,
          1.6,
          1.6,
          1.6,
          1.6,
          1.6,
          1.6,
          1.6,
          1.6,
          1.6,
          1.6,
          1.6,
          1.6,
          1.6,
          1.6,
          1.6,
          1.4000000000000001,
          1.4000000000000001,
          1.4000000000000001,
          1.4000000000000001,
          1.4000000000000001,
          1.4000000000000001,
          1.4000000000000001,
          1.4000000000000001,
          1.4000000000000001,
          1.4000000000000001,
          1.4000000000000001,
          1.4000000000000001,
          1.4000000000000001,
          1.4000000000000001,
          1.4000000000000001,
          1.4000000000000001,
          1.4000000000000001,
          1.4000000000000001,
          1.4000000000000001,
          1.4000000000000001,
          1.4000000000000001,
          1.4000000000000001,
          1.4000000000000001,
          1.4000000000000001,
          1.4000000000000001,
          1.4000000000000001,
          1.4000000000000001,
          1.4000000000000001,
          1.4000000000000001,
          1.4000000000000001,
          1.4000000000000001,
          1.4000000000000001,
          1.2000000000000002,
          1.2000000000000002,
          1.2000000000000002,
          1.2000000000000002,
          1.2000000000000002,
          1.2000000000000002,
          1.2000000000000002,
          1.2000000000000002,
          1.2000000000000002,
          1.2000000000000002,
          1.2000000000000002,
          1.2000000000000002,
          1.2000000000000002,
          1.2000000000000002,
          1.2000000000000002,
          1.2000000000000002,
          1.2000000000000002,
          1.2000000000000002,
          1.2000000000000002,
          1.2000000000000002,
          1.2000000000000002,
          1.2000000000000002,
          1.2000000000000002,
          1.2000000000000002,
          1.2000000000000002,
          1.2000000000000002,
          1.2000000000000002,
          1.2000000000000002,
          1.2000000000000002,
          1.2000000000000002,
          1.2000000000000002,
          1.2000000000000002,
          1.0000000000000002,
          1.0000000000000002,
          1.0000000000000002,
          1.0000000000000002,
          1.0000000000000002,
          1.0000000000000002,
          1.0000000000000002,
          1.0000000000000002,
          1.0000000000000002,
          1.0000000000000002,
          1.0000000000000002,
          1.0000000000000002,
          1.0000000000000002,
          1.0000000000000002,
          1.0000000000000002,
          1.0000000000000002,
          1.0000000000000002,
          1.0000000000000002,
          1.0000000000000002,
          1.0000000000000002,
          1.0000000000000002,
          1.0000000000000002,
          1.0000000000000002,
          1.0000000000000002,
          1.0000000000000002,
          1.0000000000000002,
          1.0000000000000002,
          1.0000000000000002,
          1.0000000000000002,
          1.0000000000000002,
          1.0000000000000002,
          1.0000000000000002,
          0.8000000000000003,
          0.8000000000000003,
          0.8000000000000003,
          0.8000000000000003,
          0.8000000000000003,
          0.8000000000000003,
          0.8000000000000003,
          0.8000000000000003,
          0.8000000000000003,
          0.8000000000000003,
          0.8000000000000003,
          0.8000000000000003,
          0.8000000000000003,
          0.8000000000000003,
          0.8000000000000003,
          0.8000000000000003,
          0.8000000000000003,
          0.8000000000000003,
          0.8000000000000003,
          0.8000000000000003,
          0.8000000000000003,
          0.8000000000000003,
          0.8000000000000003,
          0.8000000000000003,
          0.8000000000000003,
          0.8000000000000003,
          0.8000000000000003,
          0.8000000000000003,
          0.8000000000000003,
          0.8000000000000003,
          0.8000000000000003,
          0.8000000000000003,
          0.6000000000000003
         ]
        },
        {
         "marker": {
          "color": "red",
          "size": 10,
          "symbol": "diamond"
         },
         "mode": "markers",
         "name": "Current Position",
         "type": "scatter3d",
         "x": [
          0.08364239803423162
         ],
         "y": [
          -0.5867725462177442
         ],
         "z": [
          0.6000000000000003
         ]
        }
       ],
       "layout": {
        "height": 500,
        "legend": {
         "x": 0,
         "y": 1
        },
        "margin": {
         "b": 0,
         "l": 0,
         "r": 0,
         "t": 30
        },
        "scene": {
         "aspectmode": "data",
         "camera": {
          "eye": {
           "x": 1.5,
           "y": 1.5,
           "z": 0.6
          }
         },
         "xaxis": {
          "title": {
           "text": "X (meters)"
          }
         },
         "yaxis": {
          "title": {
           "text": "Y (meters)"
          }
         },
         "zaxis": {
          "title": {
           "text": "Altitude (meters)"
          }
         }
        },
        "template": {
         "data": {
          "bar": [
           {
            "error_x": {
             "color": "#2a3f5f"
            },
            "error_y": {
             "color": "#2a3f5f"
            },
            "marker": {
             "line": {
              "color": "#E5ECF6",
              "width": 0.5
             },
             "pattern": {
              "fillmode": "overlay",
              "size": 10,
              "solidity": 0.2
             }
            },
            "type": "bar"
           }
          ],
          "barpolar": [
           {
            "marker": {
             "line": {
              "color": "#E5ECF6",
              "width": 0.5
             },
             "pattern": {
              "fillmode": "overlay",
              "size": 10,
              "solidity": 0.2
             }
            },
            "type": "barpolar"
           }
          ],
          "carpet": [
           {
            "aaxis": {
             "endlinecolor": "#2a3f5f",
             "gridcolor": "white",
             "linecolor": "white",
             "minorgridcolor": "white",
             "startlinecolor": "#2a3f5f"
            },
            "baxis": {
             "endlinecolor": "#2a3f5f",
             "gridcolor": "white",
             "linecolor": "white",
             "minorgridcolor": "white",
             "startlinecolor": "#2a3f5f"
            },
            "type": "carpet"
           }
          ],
          "choropleth": [
           {
            "colorbar": {
             "outlinewidth": 0,
             "ticks": ""
            },
            "type": "choropleth"
           }
          ],
          "contour": [
           {
            "colorbar": {
             "outlinewidth": 0,
             "ticks": ""
            },
            "colorscale": [
             [
              0,
              "#0d0887"
             ],
             [
              0.1111111111111111,
              "#46039f"
             ],
             [
              0.2222222222222222,
              "#7201a8"
             ],
             [
              0.3333333333333333,
              "#9c179e"
             ],
             [
              0.4444444444444444,
              "#bd3786"
             ],
             [
              0.5555555555555556,
              "#d8576b"
             ],
             [
              0.6666666666666666,
              "#ed7953"
             ],
             [
              0.7777777777777778,
              "#fb9f3a"
             ],
             [
              0.8888888888888888,
              "#fdca26"
             ],
             [
              1,
              "#f0f921"
             ]
            ],
            "type": "contour"
           }
          ],
          "contourcarpet": [
           {
            "colorbar": {
             "outlinewidth": 0,
             "ticks": ""
            },
            "type": "contourcarpet"
           }
          ],
          "heatmap": [
           {
            "colorbar": {
             "outlinewidth": 0,
             "ticks": ""
            },
            "colorscale": [
             [
              0,
              "#0d0887"
             ],
             [
              0.1111111111111111,
              "#46039f"
             ],
             [
              0.2222222222222222,
              "#7201a8"
             ],
             [
              0.3333333333333333,
              "#9c179e"
             ],
             [
              0.4444444444444444,
              "#bd3786"
             ],
             [
              0.5555555555555556,
              "#d8576b"
             ],
             [
              0.6666666666666666,
              "#ed7953"
             ],
             [
              0.7777777777777778,
              "#fb9f3a"
             ],
             [
              0.8888888888888888,
              "#fdca26"
             ],
             [
              1,
              "#f0f921"
             ]
            ],
            "type": "heatmap"
           }
          ],
          "histogram": [
           {
            "marker": {
             "pattern": {
              "fillmode": "overlay",
              "size": 10,
              "solidity": 0.2
             }
            },
            "type": "histogram"
           }
          ],
          "histogram2d": [
           {
            "colorbar": {
             "outlinewidth": 0,
             "ticks": ""
            },
            "colorscale": [
             [
              0,
              "#0d0887"
             ],
             [
              0.1111111111111111,
              "#46039f"
             ],
             [
              0.2222222222222222,
              "#7201a8"
             ],
             [
              0.3333333333333333,
              "#9c179e"
             ],
             [
              0.4444444444444444,
              "#bd3786"
             ],
             [
              0.5555555555555556,
              "#d8576b"
             ],
             [
              0.6666666666666666,
              "#ed7953"
             ],
             [
              0.7777777777777778,
              "#fb9f3a"
             ],
             [
              0.8888888888888888,
              "#fdca26"
             ],
             [
              1,
              "#f0f921"
             ]
            ],
            "type": "histogram2d"
           }
          ],
          "histogram2dcontour": [
           {
            "colorbar": {
             "outlinewidth": 0,
             "ticks": ""
            },
            "colorscale": [
             [
              0,
              "#0d0887"
             ],
             [
              0.1111111111111111,
              "#46039f"
             ],
             [
              0.2222222222222222,
              "#7201a8"
             ],
             [
              0.3333333333333333,
              "#9c179e"
             ],
             [
              0.4444444444444444,
              "#bd3786"
             ],
             [
              0.5555555555555556,
              "#d8576b"
             ],
             [
              0.6666666666666666,
              "#ed7953"
             ],
             [
              0.7777777777777778,
              "#fb9f3a"
             ],
             [
              0.8888888888888888,
              "#fdca26"
             ],
             [
              1,
              "#f0f921"
             ]
            ],
            "type": "histogram2dcontour"
           }
          ],
          "mesh3d": [
           {
            "colorbar": {
             "outlinewidth": 0,
             "ticks": ""
            },
            "type": "mesh3d"
           }
          ],
          "parcoords": [
           {
            "line": {
             "colorbar": {
              "outlinewidth": 0,
              "ticks": ""
             }
            },
            "type": "parcoords"
           }
          ],
          "pie": [
           {
            "automargin": true,
            "type": "pie"
           }
          ],
          "scatter": [
           {
            "fillpattern": {
             "fillmode": "overlay",
             "size": 10,
             "solidity": 0.2
            },
            "type": "scatter"
           }
          ],
          "scatter3d": [
           {
            "line": {
             "colorbar": {
              "outlinewidth": 0,
              "ticks": ""
             }
            },
            "marker": {
             "colorbar": {
              "outlinewidth": 0,
              "ticks": ""
             }
            },
            "type": "scatter3d"
           }
          ],
          "scattercarpet": [
           {
            "marker": {
             "colorbar": {
              "outlinewidth": 0,
              "ticks": ""
             }
            },
            "type": "scattercarpet"
           }
          ],
          "scattergeo": [
           {
            "marker": {
             "colorbar": {
              "outlinewidth": 0,
              "ticks": ""
             }
            },
            "type": "scattergeo"
           }
          ],
          "scattergl": [
           {
            "marker": {
             "colorbar": {
              "outlinewidth": 0,
              "ticks": ""
             }
            },
            "type": "scattergl"
           }
          ],
          "scattermap": [
           {
            "marker": {
             "colorbar": {
              "outlinewidth": 0,
              "ticks": ""
             }
            },
            "type": "scattermap"
           }
          ],
          "scattermapbox": [
           {
            "marker": {
             "colorbar": {
              "outlinewidth": 0,
              "ticks": ""
             }
            },
            "type": "scattermapbox"
           }
          ],
          "scatterpolar": [
           {
            "marker": {
             "colorbar": {
              "outlinewidth": 0,
              "ticks": ""
             }
            },
            "type": "scatterpolar"
           }
          ],
          "scatterpolargl": [
           {
            "marker": {
             "colorbar": {
              "outlinewidth": 0,
              "ticks": ""
             }
            },
            "type": "scatterpolargl"
           }
          ],
          "scatterternary": [
           {
            "marker": {
             "colorbar": {
              "outlinewidth": 0,
              "ticks": ""
             }
            },
            "type": "scatterternary"
           }
          ],
          "surface": [
           {
            "colorbar": {
             "outlinewidth": 0,
             "ticks": ""
            },
            "colorscale": [
             [
              0,
              "#0d0887"
             ],
             [
              0.1111111111111111,
              "#46039f"
             ],
             [
              0.2222222222222222,
              "#7201a8"
             ],
             [
              0.3333333333333333,
              "#9c179e"
             ],
             [
              0.4444444444444444,
              "#bd3786"
             ],
             [
              0.5555555555555556,
              "#d8576b"
             ],
             [
              0.6666666666666666,
              "#ed7953"
             ],
             [
              0.7777777777777778,
              "#fb9f3a"
             ],
             [
              0.8888888888888888,
              "#fdca26"
             ],
             [
              1,
              "#f0f921"
             ]
            ],
            "type": "surface"
           }
          ],
          "table": [
           {
            "cells": {
             "fill": {
              "color": "#EBF0F8"
             },
             "line": {
              "color": "white"
             }
            },
            "header": {
             "fill": {
              "color": "#C8D4E3"
             },
             "line": {
              "color": "white"
             }
            },
            "type": "table"
           }
          ]
         },
         "layout": {
          "annotationdefaults": {
           "arrowcolor": "#2a3f5f",
           "arrowhead": 0,
           "arrowwidth": 1
          },
          "autotypenumbers": "strict",
          "coloraxis": {
           "colorbar": {
            "outlinewidth": 0,
            "ticks": ""
           }
          },
          "colorscale": {
           "diverging": [
            [
             0,
             "#8e0152"
            ],
            [
             0.1,
             "#c51b7d"
            ],
            [
             0.2,
             "#de77ae"
            ],
            [
             0.3,
             "#f1b6da"
            ],
            [
             0.4,
             "#fde0ef"
            ],
            [
             0.5,
             "#f7f7f7"
            ],
            [
             0.6,
             "#e6f5d0"
            ],
            [
             0.7,
             "#b8e186"
            ],
            [
             0.8,
             "#7fbc41"
            ],
            [
             0.9,
             "#4d9221"
            ],
            [
             1,
             "#276419"
            ]
           ],
           "sequential": [
            [
             0,
             "#0d0887"
            ],
            [
             0.1111111111111111,
             "#46039f"
            ],
            [
             0.2222222222222222,
             "#7201a8"
            ],
            [
             0.3333333333333333,
             "#9c179e"
            ],
            [
             0.4444444444444444,
             "#bd3786"
            ],
            [
             0.5555555555555556,
             "#d8576b"
            ],
            [
             0.6666666666666666,
             "#ed7953"
            ],
            [
             0.7777777777777778,
             "#fb9f3a"
            ],
            [
             0.8888888888888888,
             "#fdca26"
            ],
            [
             1,
             "#f0f921"
            ]
           ],
           "sequentialminus": [
            [
             0,
             "#0d0887"
            ],
            [
             0.1111111111111111,
             "#46039f"
            ],
            [
             0.2222222222222222,
             "#7201a8"
            ],
            [
             0.3333333333333333,
             "#9c179e"
            ],
            [
             0.4444444444444444,
             "#bd3786"
            ],
            [
             0.5555555555555556,
             "#d8576b"
            ],
            [
             0.6666666666666666,
             "#ed7953"
            ],
            [
             0.7777777777777778,
             "#fb9f3a"
            ],
            [
             0.8888888888888888,
             "#fdca26"
            ],
            [
             1,
             "#f0f921"
            ]
           ]
          },
          "colorway": [
           "#636efa",
           "#EF553B",
           "#00cc96",
           "#ab63fa",
           "#FFA15A",
           "#19d3f3",
           "#FF6692",
           "#B6E880",
           "#FF97FF",
           "#FECB52"
          ],
          "font": {
           "color": "#2a3f5f"
          },
          "geo": {
           "bgcolor": "white",
           "lakecolor": "white",
           "landcolor": "#E5ECF6",
           "showlakes": true,
           "showland": true,
           "subunitcolor": "white"
          },
          "hoverlabel": {
           "align": "left"
          },
          "hovermode": "closest",
          "mapbox": {
           "style": "light"
          },
          "paper_bgcolor": "white",
          "plot_bgcolor": "#E5ECF6",
          "polar": {
           "angularaxis": {
            "gridcolor": "white",
            "linecolor": "white",
            "ticks": ""
           },
           "bgcolor": "#E5ECF6",
           "radialaxis": {
            "gridcolor": "white",
            "linecolor": "white",
            "ticks": ""
           }
          },
          "scene": {
           "xaxis": {
            "backgroundcolor": "#E5ECF6",
            "gridcolor": "white",
            "gridwidth": 2,
            "linecolor": "white",
            "showbackground": true,
            "ticks": "",
            "zerolinecolor": "white"
           },
           "yaxis": {
            "backgroundcolor": "#E5ECF6",
            "gridcolor": "white",
            "gridwidth": 2,
            "linecolor": "white",
            "showbackground": true,
            "ticks": "",
            "zerolinecolor": "white"
           },
           "zaxis": {
            "backgroundcolor": "#E5ECF6",
            "gridcolor": "white",
            "gridwidth": 2,
            "linecolor": "white",
            "showbackground": true,
            "ticks": "",
            "zerolinecolor": "white"
           }
          },
          "shapedefaults": {
           "line": {
            "color": "#2a3f5f"
           }
          },
          "ternary": {
           "aaxis": {
            "gridcolor": "white",
            "linecolor": "white",
            "ticks": ""
           },
           "baxis": {
            "gridcolor": "white",
            "linecolor": "white",
            "ticks": ""
           },
           "bgcolor": "#E5ECF6",
           "caxis": {
            "gridcolor": "white",
            "linecolor": "white",
            "ticks": ""
           }
          },
          "title": {
           "x": 0.05
          },
          "xaxis": {
           "automargin": true,
           "gridcolor": "white",
           "linecolor": "white",
           "ticks": "",
           "title": {
            "standoff": 15
           },
           "zerolinecolor": "white",
           "zerolinewidth": 2
          },
          "yaxis": {
           "automargin": true,
           "gridcolor": "white",
           "linecolor": "white",
           "ticks": "",
           "title": {
            "standoff": 15
           },
           "zerolinecolor": "white",
           "zerolinewidth": 2
          }
         }
        },
        "title": {
         "text": "Interactive 3D Drone Flight Path"
        },
        "width": 600
       }
      }
     },
     "metadata": {},
     "output_type": "display_data"
    },
    {
     "name": "stdout",
     "output_type": "stream",
     "text": [
      "\u2b55 Executing circle left (optimized)...\n"
     ]
    },
    {
     "data": {
      "application/vnd.plotly.v1+json": {
       "config": {
        "plotlyServerURL": "https://plot.ly"
       },
       "data": [
        {
         "line": {
          "color": "blue",
          "width": 4
         },
         "marker": {
          "size": 4
         },
         "mode": "lines+markers",
         "name": "Drone Path",
         "type": "scatter3d",
         "x": {
          "bdata": "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",
          "dtype": "f8"
         },
         "y": {
          "bdata": "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",
          "dtype": "f8"
         },
         "z": [
          2,
          2,
          2,
          2,
          2,
          2,
          2,
          2,
          2,
          2,
          2,
          2,
          2,
          2,
          2,
          2,
          2,
          2,
          2,
          2,
          2,
          2,
          2,
          2,
          2,
          2,
          2,
          2,
          2,
          2,
          2,
          2,
          1.8,
          1.8,
          1.8,
          1.8,
          1.8,
          1.8,
          1.8,
          1.8,
          1.8,
          1.8,
          1.8,
          1.8,
          1.8,
          1.8,
          1.8,
          1.8,
          1.8,
          1.8,
          1.8,
          1.8,
          1.8,
          1.8,
          1.8,
          1.8,
          1.8,
          1.8,
          1.8,
          1.8,
          1.8,
          1.8,
          1.8,
          1.8,
          1.6,
          1.6,
          1.6,
          1.6,
          1.6,
          1.6,
          1.6,
          1.6,
          1.6,
          1.6,
          1.6,
          1.6,
          1.6,
          1.6,
          1.6,
          1.6,
          1.6,
          1.6,
          1.6,
          1.6,
          1.6,
          1.6,
          1.6,
          1.6,
          1.6,
          1.6,
          1.6,
          1.6,
          1.6,
          1.6,
          1.6,
          1.6,
          1.4000000000000001,
          1.4000000000000001,
          1.4000000000000001,
          1.4000000000000001,
          1.4000000000000001,
          1.4000000000000001,
          1.4000000000000001,
          1.4000000000000001,
          1.4000000000000001,
          1.4000000000000001,
          1.4000000000000001,
          1.4000000000000001,
          1.4000000000000001,
          1.4000000000000001,
          1.4000000000000001,
          1.4000000000000001,
          1.4000000000000001,
          1.4000000000000001,
          1.4000000000000001,
          1.4000000000000001,
          1.4000000000000001,
          1.4000000000000001,
          1.4000000000000001,
          1.4000000000000001,
          1.4000000000000001,
          1.4000000000000001,
          1.4000000000000001,
          1.4000000000000001,
          1.4000000000000001,
          1.4000000000000001,
          1.4000000000000001,
          1.4000000000000001,
          1.2000000000000002,
          1.2000000000000002,
          1.2000000000000002,
          1.2000000000000002,
          1.2000000000000002,
          1.2000000000000002,
          1.2000000000000002,
          1.2000000000000002,
          1.2000000000000002,
          1.2000000000000002,
          1.2000000000000002,
          1.2000000000000002,
          1.2000000000000002,
          1.2000000000000002,
          1.2000000000000002,
          1.2000000000000002,
          1.2000000000000002,
          1.2000000000000002,
          1.2000000000000002,
          1.2000000000000002,
          1.2000000000000002,
          1.2000000000000002,
          1.2000000000000002,
          1.2000000000000002,
          1.2000000000000002,
          1.2000000000000002,
          1.2000000000000002,
          1.2000000000000002,
          1.2000000000000002,
          1.2000000000000002,
          1.2000000000000002,
          1.2000000000000002,
          1.0000000000000002,
          1.0000000000000002,
          1.0000000000000002,
          1.0000000000000002,
          1.0000000000000002,
          1.0000000000000002,
          1.0000000000000002,
          1.0000000000000002,
          1.0000000000000002,
          1.0000000000000002,
          1.0000000000000002,
          1.0000000000000002,
          1.0000000000000002,
          1.0000000000000002,
          1.0000000000000002,
          1.0000000000000002,
          1.0000000000000002,
          1.0000000000000002,
          1.0000000000000002,
          1.0000000000000002,
          1.0000000000000002,
          1.0000000000000002,
          1.0000000000000002,
          1.0000000000000002,
          1.0000000000000002,
          1.0000000000000002,
          1.0000000000000002,
          1.0000000000000002,
          1.0000000000000002,
          1.0000000000000002,
          1.0000000000000002,
          1.0000000000000002,
          0.8000000000000003,
          0.8000000000000003,
          0.8000000000000003,
          0.8000000000000003,
          0.8000000000000003,
          0.8000000000000003,
          0.8000000000000003,
          0.8000000000000003,
          0.8000000000000003,
          0.8000000000000003,
          0.8000000000000003,
          0.8000000000000003,
          0.8000000000000003,
          0.8000000000000003,
          0.8000000000000003,
          0.8000000000000003,
          0.8000000000000003,
          0.8000000000000003,
          0.8000000000000003,
          0.8000000000000003,
          0.8000000000000003,
          0.8000000000000003,
          0.8000000000000003,
          0.8000000000000003,
          0.8000000000000003,
          0.8000000000000003,
          0.8000000000000003,
          0.8000000000000003,
          0.8000000000000003,
          0.8000000000000003,
          0.8000000000000003,
          0.8000000000000003,
          0.6000000000000003,
          0.6000000000000003,
          0.6000000000000003,
          0.6000000000000003,
          0.6000000000000003,
          0.6000000000000003,
          0.6000000000000003,
          0.6000000000000003,
          0.6000000000000003,
          0.6000000000000003,
          0.6000000000000003,
          0.6000000000000003,
          0.6000000000000003,
          0.6000000000000003,
          0.6000000000000003,
          0.6000000000000003,
          0.6000000000000003,
          0.6000000000000003,
          0.6000000000000003,
          0.6000000000000003,
          0.6000000000000003,
          0.6000000000000003,
          0.6000000000000003,
          0.6000000000000003,
          0.6000000000000003,
          0.6000000000000003,
          0.6000000000000003,
          0.6000000000000003,
          0.6000000000000003,
          0.6000000000000003,
          0.6000000000000003,
          0.6000000000000003
         ]
        },
        {
         "marker": {
          "color": "red",
          "size": 10,
          "symbol": "diamond"
         },
         "mode": "markers",
         "name": "Current Position",
         "type": "scatter3d",
         "x": [
          0.09559131203912186
         ],
         "y": [
          -0.6705971956774219
         ],
         "z": [
          0.6000000000000003
         ]
        }
       ],
       "layout": {
        "height": 500,
        "legend": {
         "x": 0,
         "y": 1
        },
        "margin": {
         "b": 0,
         "l": 0,
         "r": 0,
         "t": 30
        },
        "scene": {
         "aspectmode": "data",
         "camera": {
          "eye": {
           "x": 1.5,
           "y": 1.5,
           "z": 0.6
          }
         },
         "xaxis": {
          "title": {
           "text": "X (meters)"
          }
         },
         "yaxis": {
          "title": {
           "text": "Y (meters)"
          }
         },
         "zaxis": {
          "title": {
           "text": "Altitude (meters)"
          }
         }
        },
        "template": {
         "data": {
          "bar": [
           {
            "error_x": {
             "color": "#2a3f5f"
            },
            "error_y": {
             "color": "#2a3f5f"
            },
            "marker": {
             "line": {
              "color": "#E5ECF6",
              "width": 0.5
             },
             "pattern": {
              "fillmode": "overlay",
              "size": 10,
              "solidity": 0.2
             }
            },
            "type": "bar"
           }
          ],
          "barpolar": [
           {
            "marker": {
             "line": {
              "color": "#E5ECF6",
              "width": 0.5
             },
             "pattern": {
              "fillmode": "overlay",
              "size": 10,
              "solidity": 0.2
             }
            },
            "type": "barpolar"
           }
          ],
          "carpet": [
           {
            "aaxis": {
             "endlinecolor": "#2a3f5f",
             "gridcolor": "white",
             "linecolor": "white",
             "minorgridcolor": "white",
             "startlinecolor": "#2a3f5f"
            },
            "baxis": {
             "endlinecolor": "#2a3f5f",
             "gridcolor": "white",
             "linecolor": "white",
             "minorgridcolor": "white",
             "startlinecolor": "#2a3f5f"
            },
            "type": "carpet"
           }
          ],
          "choropleth": [
           {
            "colorbar": {
             "outlinewidth": 0,
             "ticks": ""
            },
            "type": "choropleth"
           }
          ],
          "contour": [
           {
            "colorbar": {
             "outlinewidth": 0,
             "ticks": ""
            },
            "colorscale": [
             [
              0,
              "#0d0887"
             ],
             [
              0.1111111111111111,
              "#46039f"
             ],
             [
              0.2222222222222222,
              "#7201a8"
             ],
             [
              0.3333333333333333,
              "#9c179e"
             ],
             [
              0.4444444444444444,
              "#bd3786"
             ],
             [
              0.5555555555555556,
              "#d8576b"
             ],
             [
              0.6666666666666666,
              "#ed7953"
             ],
             [
              0.7777777777777778,
              "#fb9f3a"
             ],
             [
              0.8888888888888888,
              "#fdca26"
             ],
             [
              1,
              "#f0f921"
             ]
            ],
            "type": "contour"
           }
          ],
          "contourcarpet": [
           {
            "colorbar": {
             "outlinewidth": 0,
             "ticks": ""
            },
            "type": "contourcarpet"
           }
          ],
          "heatmap": [
           {
            "colorbar": {
             "outlinewidth": 0,
             "ticks": ""
            },
            "colorscale": [
             [
              0,
              "#0d0887"
             ],
             [
              0.1111111111111111,
              "#46039f"
             ],
             [
              0.2222222222222222,
              "#7201a8"
             ],
             [
              0.3333333333333333,
              "#9c179e"
             ],
             [
              0.4444444444444444,
              "#bd3786"
             ],
             [
              0.5555555555555556,
              "#d8576b"
             ],
             [
              0.6666666666666666,
              "#ed7953"
             ],
             [
              0.7777777777777778,
              "#fb9f3a"
             ],
             [
              0.8888888888888888,
              "#fdca26"
             ],
             [
              1,
              "#f0f921"
             ]
            ],
            "type": "heatmap"
           }
          ],
          "histogram": [
           {
            "marker": {
             "pattern": {
              "fillmode": "overlay",
              "size": 10,
              "solidity": 0.2
             }
            },
            "type": "histogram"
           }
          ],
          "histogram2d": [
           {
            "colorbar": {
             "outlinewidth": 0,
             "ticks": ""
            },
            "colorscale": [
             [
              0,
              "#0d0887"
             ],
             [
              0.1111111111111111,
              "#46039f"
             ],
             [
              0.2222222222222222,
              "#7201a8"
             ],
             [
              0.3333333333333333,
              "#9c179e"
             ],
             [
              0.4444444444444444,
              "#bd3786"
             ],
             [
              0.5555555555555556,
              "#d8576b"
             ],
             [
              0.6666666666666666,
              "#ed7953"
             ],
             [
              0.7777777777777778,
              "#fb9f3a"
             ],
             [
              0.8888888888888888,
              "#fdca26"
             ],
             [
              1,
              "#f0f921"
             ]
            ],
            "type": "histogram2d"
           }
          ],
          "histogram2dcontour": [
           {
            "colorbar": {
             "outlinewidth": 0,
             "ticks": ""
            },
            "colorscale": [
             [
              0,
              "#0d0887"
             ],
             [
              0.1111111111111111,
              "#46039f"
             ],
             [
              0.2222222222222222,
              "#7201a8"
             ],
             [
              0.3333333333333333,
              "#9c179e"
             ],
             [
              0.4444444444444444,
              "#bd3786"
             ],
             [
              0.5555555555555556,
              "#d8576b"
             ],
             [
              0.6666666666666666,
              "#ed7953"
             ],
             [
              0.7777777777777778,
              "#fb9f3a"
             ],
             [
              0.8888888888888888,
              "#fdca26"
             ],
             [
              1,
              "#f0f921"
             ]
            ],
            "type": "histogram2dcontour"
           }
          ],
          "mesh3d": [
           {
            "colorbar": {
             "outlinewidth": 0,
             "ticks": ""
            },
            "type": "mesh3d"
           }
          ],
          "parcoords": [
           {
            "line": {
             "colorbar": {
              "outlinewidth": 0,
              "ticks": ""
             }
            },
            "type": "parcoords"
           }
          ],
          "pie": [
           {
            "automargin": true,
            "type": "pie"
           }
          ],
          "scatter": [
           {
            "fillpattern": {
             "fillmode": "overlay",
             "size": 10,
             "solidity": 0.2
            },
            "type": "scatter"
           }
          ],
          "scatter3d": [
           {
            "line": {
             "colorbar": {
              "outlinewidth": 0,
              "ticks": ""
             }
            },
            "marker": {
             "colorbar": {
              "outlinewidth": 0,
              "ticks": ""
             }
            },
            "type": "scatter3d"
           }
          ],
          "scattercarpet": [
           {
            "marker": {
             "colorbar": {
              "outlinewidth": 0,
              "ticks": ""
             }
            },
            "type": "scattercarpet"
           }
          ],
          "scattergeo": [
           {
            "marker": {
             "colorbar": {
              "outlinewidth": 0,
              "ticks": ""
             }
            },
            "type": "scattergeo"
           }
          ],
          "scattergl": [
           {
            "marker": {
             "colorbar": {
              "outlinewidth": 0,
              "ticks": ""
             }
            },
            "type": "scattergl"
           }
          ],
          "scattermap": [
           {
            "marker": {
             "colorbar": {
              "outlinewidth": 0,
              "ticks": ""
             }
            },
            "type": "scattermap"
           }
          ],
          "scattermapbox": [
           {
            "marker": {
             "colorbar": {
              "outlinewidth": 0,
              "ticks": ""
             }
            },
            "type": "scattermapbox"
           }
          ],
          "scatterpolar": [
           {
            "marker": {
             "colorbar": {
              "outlinewidth": 0,
              "ticks": ""
             }
            },
            "type": "scatterpolar"
           }
          ],
          "scatterpolargl": [
           {
            "marker": {
             "colorbar": {
              "outlinewidth": 0,
              "ticks": ""
             }
            },
            "type": "scatterpolargl"
           }
          ],
          "scatterternary": [
           {
            "marker": {
             "colorbar": {
              "outlinewidth": 0,
              "ticks": ""
             }
            },
            "type": "scatterternary"
           }
          ],
          "surface": [
           {
            "colorbar": {
             "outlinewidth": 0,
             "ticks": ""
            },
            "colorscale": [
             [
              0,
              "#0d0887"
             ],
             [
              0.1111111111111111,
              "#46039f"
             ],
             [
              0.2222222222222222,
              "#7201a8"
             ],
             [
              0.3333333333333333,
              "#9c179e"
             ],
             [
              0.4444444444444444,
              "#bd3786"
             ],
             [
              0.5555555555555556,
              "#d8576b"
             ],
             [
              0.6666666666666666,
              "#ed7953"
             ],
             [
              0.7777777777777778,
              "#fb9f3a"
             ],
             [
              0.8888888888888888,
              "#fdca26"
             ],
             [
              1,
              "#f0f921"
             ]
            ],
            "type": "surface"
           }
          ],
          "table": [
           {
            "cells": {
             "fill": {
              "color": "#EBF0F8"
             },
             "line": {
              "color": "white"
             }
            },
            "header": {
             "fill": {
              "color": "#C8D4E3"
             },
             "line": {
              "color": "white"
             }
            },
            "type": "table"
           }
          ]
         },
         "layout": {
          "annotationdefaults": {
           "arrowcolor": "#2a3f5f",
           "arrowhead": 0,
           "arrowwidth": 1
          },
          "autotypenumbers": "strict",
          "coloraxis": {
           "colorbar": {
            "outlinewidth": 0,
            "ticks": ""
           }
          },
          "colorscale": {
           "diverging": [
            [
             0,
             "#8e0152"
            ],
            [
             0.1,
             "#c51b7d"
            ],
            [
             0.2,
             "#de77ae"
            ],
            [
             0.3,
             "#f1b6da"
            ],
            [
             0.4,
             "#fde0ef"
            ],
            [
             0.5,
             "#f7f7f7"
            ],
            [
             0.6,
             "#e6f5d0"
            ],
            [
             0.7,
             "#b8e186"
            ],
            [
             0.8,
             "#7fbc41"
            ],
            [
             0.9,
             "#4d9221"
            ],
            [
             1,
             "#276419"
            ]
           ],
           "sequential": [
            [
             0,
             "#0d0887"
            ],
            [
             0.1111111111111111,
             "#46039f"
            ],
            [
             0.2222222222222222,
             "#7201a8"
            ],
            [
             0.3333333333333333,
             "#9c179e"
            ],
            [
             0.4444444444444444,
             "#bd3786"
            ],
            [
             0.5555555555555556,
             "#d8576b"
            ],
            [
             0.6666666666666666,
             "#ed7953"
            ],
            [
             0.7777777777777778,
             "#fb9f3a"
            ],
            [
             0.8888888888888888,
             "#fdca26"
            ],
            [
             1,
             "#f0f921"
            ]
           ],
           "sequentialminus": [
            [
             0,
             "#0d0887"
            ],
            [
             0.1111111111111111,
             "#46039f"
            ],
            [
             0.2222222222222222,
             "#7201a8"
            ],
            [
             0.3333333333333333,
             "#9c179e"
            ],
            [
             0.4444444444444444,
             "#bd3786"
            ],
            [
             0.5555555555555556,
             "#d8576b"
            ],
            [
             0.6666666666666666,
             "#ed7953"
            ],
            [
             0.7777777777777778,
             "#fb9f3a"
            ],
            [
             0.8888888888888888,
             "#fdca26"
            ],
            [
             1,
             "#f0f921"
            ]
           ]
          },
          "colorway": [
           "#636efa",
           "#EF553B",
           "#00cc96",
           "#ab63fa",
           "#FFA15A",
           "#19d3f3",
           "#FF6692",
           "#B6E880",
           "#FF97FF",
           "#FECB52"
          ],
          "font": {
           "color": "#2a3f5f"
          },
          "geo": {
           "bgcolor": "white",
           "lakecolor": "white",
           "landcolor": "#E5ECF6",
           "showlakes": true,
           "showland": true,
           "subunitcolor": "white"
          },
          "hoverlabel": {
           "align": "left"
          },
          "hovermode": "closest",
          "mapbox": {
           "style": "light"
          },
          "paper_bgcolor": "white",
          "plot_bgcolor": "#E5ECF6",
          "polar": {
           "angularaxis": {
            "gridcolor": "white",
            "linecolor": "white",
            "ticks": ""
           },
           "bgcolor": "#E5ECF6",
           "radialaxis": {
            "gridcolor": "white",
            "linecolor": "white",
            "ticks": ""
           }
          },
          "scene": {
           "xaxis": {
            "backgroundcolor": "#E5ECF6",
            "gridcolor": "white",
            "gridwidth": 2,
            "linecolor": "white",
            "showbackground": true,
            "ticks": "",
            "zerolinecolor": "white"
           },
           "yaxis": {
            "backgroundcolor": "#E5ECF6",
            "gridcolor": "white",
            "gridwidth": 2,
            "linecolor": "white",
            "showbackground": true,
            "ticks": "",
            "zerolinecolor": "white"
           },
           "zaxis": {
            "backgroundcolor": "#E5ECF6",
            "gridcolor": "white",
            "gridwidth": 2,
            "linecolor": "white",
            "showbackground": true,
            "ticks": "",
            "zerolinecolor": "white"
           }
          },
          "shapedefaults": {
           "line": {
            "color": "#2a3f5f"
           }
          },
          "ternary": {
           "aaxis": {
            "gridcolor": "white",
            "linecolor": "white",
            "ticks": ""
           },
           "baxis": {
            "gridcolor": "white",
            "linecolor": "white",
            "ticks": ""
           },
           "bgcolor": "#E5ECF6",
           "caxis": {
            "gridcolor": "white",
            "linecolor": "white",
            "ticks": ""
           }
          },
          "title": {
           "x": 0.05
          },
          "xaxis": {
           "automargin": true,
           "gridcolor": "white",
           "linecolor": "white",
           "ticks": "",
           "title": {
            "standoff": 15
           },
           "zerolinecolor": "white",
           "zerolinewidth": 2
          },
          "yaxis": {
           "automargin": true,
           "gridcolor": "white",
           "linecolor": "white",
           "ticks": "",
           "title": {
            "standoff": 15
           },
           "zerolinecolor": "white",
           "zerolinewidth": 2
          }
         }
        },
        "title": {
         "text": "Interactive 3D Drone Flight Path"
        },
        "width": 600
       }
      }
     },
     "metadata": {},
     "output_type": "display_data"
    },
    {
     "name": "stdout",
     "output_type": "stream",
     "text": [
      "Moving: vx=0, vy=0, vz=-0.2, yaw=0\n",
      "Executing command: move 0 0 -0.2 0 1.0\n"
     ]
    },
    {
     "data": {
      "application/vnd.plotly.v1+json": {
       "config": {
        "plotlyServerURL": "https://plot.ly"
       },
       "data": [
        {
         "line": {
          "color": "blue",
          "width": 4
         },
         "marker": {
          "size": 4
         },
         "mode": "lines+markers",
         "name": "Drone Path",
         "type": "scatter3d",
         "x": {
          "bdata": "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",
          "dtype": "f8"
         },
         "y": {
          "bdata": "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",
          "dtype": "f8"
         },
         "z": [
          2,
          2,
          2,
          2,
          2,
          2,
          2,
          2,
          2,
          2,
          2,
          2,
          2,
          2,
          2,
          2,
          2,
          2,
          2,
          2,
          2,
          2,
          2,
          2,
          2,
          2,
          2,
          2,
          2,
          2,
          2,
          2,
          1.8,
          1.8,
          1.8,
          1.8,
          1.8,
          1.8,
          1.8,
          1.8,
          1.8,
          1.8,
          1.8,
          1.8,
          1.8,
          1.8,
          1.8,
          1.8,
          1.8,
          1.8,
          1.8,
          1.8,
          1.8,
          1.8,
          1.8,
          1.8,
          1.8,
          1.8,
          1.8,
          1.8,
          1.8,
          1.8,
          1.8,
          1.8,
          1.6,
          1.6,
          1.6,
          1.6,
          1.6,
          1.6,
          1.6,
          1.6,
          1.6,
          1.6,
          1.6,
          1.6,
          1.6,
          1.6,
          1.6,
          1.6,
          1.6,
          1.6,
          1.6,
          1.6,
          1.6,
          1.6,
          1.6,
          1.6,
          1.6,
          1.6,
          1.6,
          1.6,
          1.6,
          1.6,
          1.6,
          1.6,
          1.4000000000000001,
          1.4000000000000001,
          1.4000000000000001,
          1.4000000000000001,
          1.4000000000000001,
          1.4000000000000001,
          1.4000000000000001,
          1.4000000000000001,
          1.4000000000000001,
          1.4000000000000001,
          1.4000000000000001,
          1.4000000000000001,
          1.4000000000000001,
          1.4000000000000001,
          1.4000000000000001,
          1.4000000000000001,
          1.4000000000000001,
          1.4000000000000001,
          1.4000000000000001,
          1.4000000000000001,
          1.4000000000000001,
          1.4000000000000001,
          1.4000000000000001,
          1.4000000000000001,
          1.4000000000000001,
          1.4000000000000001,
          1.4000000000000001,
          1.4000000000000001,
          1.4000000000000001,
          1.4000000000000001,
          1.4000000000000001,
          1.4000000000000001,
          1.2000000000000002,
          1.2000000000000002,
          1.2000000000000002,
          1.2000000000000002,
          1.2000000000000002,
          1.2000000000000002,
          1.2000000000000002,
          1.2000000000000002,
          1.2000000000000002,
          1.2000000000000002,
          1.2000000000000002,
          1.2000000000000002,
          1.2000000000000002,
          1.2000000000000002,
          1.2000000000000002,
          1.2000000000000002,
          1.2000000000000002,
          1.2000000000000002,
          1.2000000000000002,
          1.2000000000000002,
          1.2000000000000002,
          1.2000000000000002,
          1.2000000000000002,
          1.2000000000000002,
          1.2000000000000002,
          1.2000000000000002,
          1.2000000000000002,
          1.2000000000000002,
          1.2000000000000002,
          1.2000000000000002,
          1.2000000000000002,
          1.2000000000000002,
          1.0000000000000002,
          1.0000000000000002,
          1.0000000000000002,
          1.0000000000000002,
          1.0000000000000002,
          1.0000000000000002,
          1.0000000000000002,
          1.0000000000000002,
          1.0000000000000002,
          1.0000000000000002,
          1.0000000000000002,
          1.0000000000000002,
          1.0000000000000002,
          1.0000000000000002,
          1.0000000000000002,
          1.0000000000000002,
          1.0000000000000002,
          1.0000000000000002,
          1.0000000000000002,
          1.0000000000000002,
          1.0000000000000002,
          1.0000000000000002,
          1.0000000000000002,
          1.0000000000000002,
          1.0000000000000002,
          1.0000000000000002,
          1.0000000000000002,
          1.0000000000000002,
          1.0000000000000002,
          1.0000000000000002,
          1.0000000000000002,
          1.0000000000000002,
          0.8000000000000003,
          0.8000000000000003,
          0.8000000000000003,
          0.8000000000000003,
          0.8000000000000003,
          0.8000000000000003,
          0.8000000000000003,
          0.8000000000000003,
          0.8000000000000003,
          0.8000000000000003,
          0.8000000000000003,
          0.8000000000000003,
          0.8000000000000003,
          0.8000000000000003,
          0.8000000000000003,
          0.8000000000000003,
          0.8000000000000003,
          0.8000000000000003,
          0.8000000000000003,
          0.8000000000000003,
          0.8000000000000003,
          0.8000000000000003,
          0.8000000000000003,
          0.8000000000000003,
          0.8000000000000003,
          0.8000000000000003,
          0.8000000000000003,
          0.8000000000000003,
          0.8000000000000003,
          0.8000000000000003,
          0.8000000000000003,
          0.8000000000000003,
          0.6000000000000003,
          0.6000000000000003,
          0.6000000000000003,
          0.6000000000000003,
          0.6000000000000003,
          0.6000000000000003,
          0.6000000000000003,
          0.6000000000000003,
          0.6000000000000003,
          0.6000000000000003,
          0.6000000000000003,
          0.6000000000000003,
          0.6000000000000003,
          0.6000000000000003,
          0.6000000000000003,
          0.6000000000000003,
          0.6000000000000003,
          0.6000000000000003,
          0.6000000000000003,
          0.6000000000000003,
          0.6000000000000003,
          0.6000000000000003,
          0.6000000000000003,
          0.6000000000000003,
          0.6000000000000003,
          0.6000000000000003,
          0.6000000000000003,
          0.6000000000000003,
          0.6000000000000003,
          0.6000000000000003,
          0.6000000000000003,
          0.6000000000000003,
          0.4000000000000003
         ]
        },
        {
         "marker": {
          "color": "red",
          "size": 10,
          "symbol": "diamond"
         },
         "mode": "markers",
         "name": "Current Position",
         "type": "scatter3d",
         "x": [
          0.09559131203912186
         ],
         "y": [
          -0.6705971956774219
         ],
         "z": [
          0.4000000000000003
         ]
        }
       ],
       "layout": {
        "height": 500,
        "legend": {
         "x": 0,
         "y": 1
        },
        "margin": {
         "b": 0,
         "l": 0,
         "r": 0,
         "t": 30
        },
        "scene": {
         "aspectmode": "data",
         "camera": {
          "eye": {
           "x": 1.5,
           "y": 1.5,
           "z": 0.6
          }
         },
         "xaxis": {
          "title": {
           "text": "X (meters)"
          }
         },
         "yaxis": {
          "title": {
           "text": "Y (meters)"
          }
         },
         "zaxis": {
          "title": {
           "text": "Altitude (meters)"
          }
         }
        },
        "template": {
         "data": {
          "bar": [
           {
            "error_x": {
             "color": "#2a3f5f"
            },
            "error_y": {
             "color": "#2a3f5f"
            },
            "marker": {
             "line": {
              "color": "#E5ECF6",
              "width": 0.5
             },
             "pattern": {
              "fillmode": "overlay",
              "size": 10,
              "solidity": 0.2
             }
            },
            "type": "bar"
           }
          ],
          "barpolar": [
           {
            "marker": {
             "line": {
              "color": "#E5ECF6",
              "width": 0.5
             },
             "pattern": {
              "fillmode": "overlay",
              "size": 10,
              "solidity": 0.2
             }
            },
            "type": "barpolar"
           }
          ],
          "carpet": [
           {
            "aaxis": {
             "endlinecolor": "#2a3f5f",
             "gridcolor": "white",
             "linecolor": "white",
             "minorgridcolor": "white",
             "startlinecolor": "#2a3f5f"
            },
            "baxis": {
             "endlinecolor": "#2a3f5f",
             "gridcolor": "white",
             "linecolor": "white",
             "minorgridcolor": "white",
             "startlinecolor": "#2a3f5f"
            },
            "type": "carpet"
           }
          ],
          "choropleth": [
           {
            "colorbar": {
             "outlinewidth": 0,
             "ticks": ""
            },
            "type": "choropleth"
           }
          ],
          "contour": [
           {
            "colorbar": {
             "outlinewidth": 0,
             "ticks": ""
            },
            "colorscale": [
             [
              0,
              "#0d0887"
             ],
             [
              0.1111111111111111,
              "#46039f"
             ],
             [
              0.2222222222222222,
              "#7201a8"
             ],
             [
              0.3333333333333333,
              "#9c179e"
             ],
             [
              0.4444444444444444,
              "#bd3786"
             ],
             [
              0.5555555555555556,
              "#d8576b"
             ],
             [
              0.6666666666666666,
              "#ed7953"
             ],
             [
              0.7777777777777778,
              "#fb9f3a"
             ],
             [
              0.8888888888888888,
              "#fdca26"
             ],
             [
              1,
              "#f0f921"
             ]
            ],
            "type": "contour"
           }
          ],
          "contourcarpet": [
           {
            "colorbar": {
             "outlinewidth": 0,
             "ticks": ""
            },
            "type": "contourcarpet"
           }
          ],
          "heatmap": [
           {
            "colorbar": {
             "outlinewidth": 0,
             "ticks": ""
            },
            "colorscale": [
             [
              0,
              "#0d0887"
             ],
             [
              0.1111111111111111,
              "#46039f"
             ],
             [
              0.2222222222222222,
              "#7201a8"
             ],
             [
              0.3333333333333333,
              "#9c179e"
             ],
             [
              0.4444444444444444,
              "#bd3786"
             ],
             [
              0.5555555555555556,
              "#d8576b"
             ],
             [
              0.6666666666666666,
              "#ed7953"
             ],
             [
              0.7777777777777778,
              "#fb9f3a"
             ],
             [
              0.8888888888888888,
              "#fdca26"
             ],
             [
              1,
              "#f0f921"
             ]
            ],
            "type": "heatmap"
           }
          ],
          "histogram": [
           {
            "marker": {
             "pattern": {
              "fillmode": "overlay",
              "size": 10,
              "solidity": 0.2
             }
            },
            "type": "histogram"
           }
          ],
          "histogram2d": [
           {
            "colorbar": {
             "outlinewidth": 0,
             "ticks": ""
            },
            "colorscale": [
             [
              0,
              "#0d0887"
             ],
             [
              0.1111111111111111,
              "#46039f"
             ],
             [
              0.2222222222222222,
              "#7201a8"
             ],
             [
              0.3333333333333333,
              "#9c179e"
             ],
             [
              0.4444444444444444,
              "#bd3786"
             ],
             [
              0.5555555555555556,
              "#d8576b"
             ],
             [
              0.6666666666666666,
              "#ed7953"
             ],
             [
              0.7777777777777778,
              "#fb9f3a"
             ],
             [
              0.8888888888888888,
              "#fdca26"
             ],
             [
              1,
              "#f0f921"
             ]
            ],
            "type": "histogram2d"
           }
          ],
          "histogram2dcontour": [
           {
            "colorbar": {
             "outlinewidth": 0,
             "ticks": ""
            },
            "colorscale": [
             [
              0,
              "#0d0887"
             ],
             [
              0.1111111111111111,
              "#46039f"
             ],
             [
              0.2222222222222222,
              "#7201a8"
             ],
             [
              0.3333333333333333,
              "#9c179e"
             ],
             [
              0.4444444444444444,
              "#bd3786"
             ],
             [
              0.5555555555555556,
              "#d8576b"
             ],
             [
              0.6666666666666666,
              "#ed7953"
             ],
             [
              0.7777777777777778,
              "#fb9f3a"
             ],
             [
              0.8888888888888888,
              "#fdca26"
             ],
             [
              1,
              "#f0f921"
             ]
            ],
            "type": "histogram2dcontour"
           }
          ],
          "mesh3d": [
           {
            "colorbar": {
             "outlinewidth": 0,
             "ticks": ""
            },
            "type": "mesh3d"
           }
          ],
          "parcoords": [
           {
            "line": {
             "colorbar": {
              "outlinewidth": 0,
              "ticks": ""
             }
            },
            "type": "parcoords"
           }
          ],
          "pie": [
           {
            "automargin": true,
            "type": "pie"
           }
          ],
          "scatter": [
           {
            "fillpattern": {
             "fillmode": "overlay",
             "size": 10,
             "solidity": 0.2
            },
            "type": "scatter"
           }
          ],
          "scatter3d": [
           {
            "line": {
             "colorbar": {
              "outlinewidth": 0,
              "ticks": ""
             }
            },
            "marker": {
             "colorbar": {
              "outlinewidth": 0,
              "ticks": ""
             }
            },
            "type": "scatter3d"
           }
          ],
          "scattercarpet": [
           {
            "marker": {
             "colorbar": {
              "outlinewidth": 0,
              "ticks": ""
             }
            },
            "type": "scattercarpet"
           }
          ],
          "scattergeo": [
           {
            "marker": {
             "colorbar": {
              "outlinewidth": 0,
              "ticks": ""
             }
            },
            "type": "scattergeo"
           }
          ],
          "scattergl": [
           {
            "marker": {
             "colorbar": {
              "outlinewidth": 0,
              "ticks": ""
             }
            },
            "type": "scattergl"
           }
          ],
          "scattermap": [
           {
            "marker": {
             "colorbar": {
              "outlinewidth": 0,
              "ticks": ""
             }
            },
            "type": "scattermap"
           }
          ],
          "scattermapbox": [
           {
            "marker": {
             "colorbar": {
              "outlinewidth": 0,
              "ticks": ""
             }
            },
            "type": "scattermapbox"
           }
          ],
          "scatterpolar": [
           {
            "marker": {
             "colorbar": {
              "outlinewidth": 0,
              "ticks": ""
             }
            },
            "type": "scatterpolar"
           }
          ],
          "scatterpolargl": [
           {
            "marker": {
             "colorbar": {
              "outlinewidth": 0,
              "ticks": ""
             }
            },
            "type": "scatterpolargl"
           }
          ],
          "scatterternary": [
           {
            "marker": {
             "colorbar": {
              "outlinewidth": 0,
              "ticks": ""
             }
            },
            "type": "scatterternary"
           }
          ],
          "surface": [
           {
            "colorbar": {
             "outlinewidth": 0,
             "ticks": ""
            },
            "colorscale": [
             [
              0,
              "#0d0887"
             ],
             [
              0.1111111111111111,
              "#46039f"
             ],
             [
              0.2222222222222222,
              "#7201a8"
             ],
             [
              0.3333333333333333,
              "#9c179e"
             ],
             [
              0.4444444444444444,
              "#bd3786"
             ],
             [
              0.5555555555555556,
              "#d8576b"
             ],
             [
              0.6666666666666666,
              "#ed7953"
             ],
             [
              0.7777777777777778,
              "#fb9f3a"
             ],
             [
              0.8888888888888888,
              "#fdca26"
             ],
             [
              1,
              "#f0f921"
             ]
            ],
            "type": "surface"
           }
          ],
          "table": [
           {
            "cells": {
             "fill": {
              "color": "#EBF0F8"
             },
             "line": {
              "color": "white"
             }
            },
            "header": {
             "fill": {
              "color": "#C8D4E3"
             },
             "line": {
              "color": "white"
             }
            },
            "type": "table"
           }
          ]
         },
         "layout": {
          "annotationdefaults": {
           "arrowcolor": "#2a3f5f",
           "arrowhead": 0,
           "arrowwidth": 1
          },
          "autotypenumbers": "strict",
          "coloraxis": {
           "colorbar": {
            "outlinewidth": 0,
            "ticks": ""
           }
          },
          "colorscale": {
           "diverging": [
            [
             0,
             "#8e0152"
            ],
            [
             0.1,
             "#c51b7d"
            ],
            [
             0.2,
             "#de77ae"
            ],
            [
             0.3,
             "#f1b6da"
            ],
            [
             0.4,
             "#fde0ef"
            ],
            [
             0.5,
             "#f7f7f7"
            ],
            [
             0.6,
             "#e6f5d0"
            ],
            [
             0.7,
             "#b8e186"
            ],
            [
             0.8,
             "#7fbc41"
            ],
            [
             0.9,
             "#4d9221"
            ],
            [
             1,
             "#276419"
            ]
           ],
           "sequential": [
            [
             0,
             "#0d0887"
            ],
            [
             0.1111111111111111,
             "#46039f"
            ],
            [
             0.2222222222222222,
             "#7201a8"
            ],
            [
             0.3333333333333333,
             "#9c179e"
            ],
            [
             0.4444444444444444,
             "#bd3786"
            ],
            [
             0.5555555555555556,
             "#d8576b"
            ],
            [
             0.6666666666666666,
             "#ed7953"
            ],
            [
             0.7777777777777778,
             "#fb9f3a"
            ],
            [
             0.8888888888888888,
             "#fdca26"
            ],
            [
             1,
             "#f0f921"
            ]
           ],
           "sequentialminus": [
            [
             0,
             "#0d0887"
            ],
            [
             0.1111111111111111,
             "#46039f"
            ],
            [
             0.2222222222222222,
             "#7201a8"
            ],
            [
             0.3333333333333333,
             "#9c179e"
            ],
            [
             0.4444444444444444,
             "#bd3786"
            ],
            [
             0.5555555555555556,
             "#d8576b"
            ],
            [
             0.6666666666666666,
             "#ed7953"
            ],
            [
             0.7777777777777778,
             "#fb9f3a"
            ],
            [
             0.8888888888888888,
             "#fdca26"
            ],
            [
             1,
             "#f0f921"
            ]
           ]
          },
          "colorway": [
           "#636efa",
           "#EF553B",
           "#00cc96",
           "#ab63fa",
           "#FFA15A",
           "#19d3f3",
           "#FF6692",
           "#B6E880",
           "#FF97FF",
           "#FECB52"
          ],
          "font": {
           "color": "#2a3f5f"
          },
          "geo": {
           "bgcolor": "white",
           "lakecolor": "white",
           "landcolor": "#E5ECF6",
           "showlakes": true,
           "showland": true,
           "subunitcolor": "white"
          },
          "hoverlabel": {
           "align": "left"
          },
          "hovermode": "closest",
          "mapbox": {
           "style": "light"
          },
          "paper_bgcolor": "white",
          "plot_bgcolor": "#E5ECF6",
          "polar": {
           "angularaxis": {
            "gridcolor": "white",
            "linecolor": "white",
            "ticks": ""
           },
           "bgcolor": "#E5ECF6",
           "radialaxis": {
            "gridcolor": "white",
            "linecolor": "white",
            "ticks": ""
           }
          },
          "scene": {
           "xaxis": {
            "backgroundcolor": "#E5ECF6",
            "gridcolor": "white",
            "gridwidth": 2,
            "linecolor": "white",
            "showbackground": true,
            "ticks": "",
            "zerolinecolor": "white"
           },
           "yaxis": {
            "backgroundcolor": "#E5ECF6",
            "gridcolor": "white",
            "gridwidth": 2,
            "linecolor": "white",
            "showbackground": true,
            "ticks": "",
            "zerolinecolor": "white"
           },
           "zaxis": {
            "backgroundcolor": "#E5ECF6",
            "gridcolor": "white",
            "gridwidth": 2,
            "linecolor": "white",
            "showbackground": true,
            "ticks": "",
            "zerolinecolor": "white"
           }
          },
          "shapedefaults": {
           "line": {
            "color": "#2a3f5f"
           }
          },
          "ternary": {
           "aaxis": {
            "gridcolor": "white",
            "linecolor": "white",
            "ticks": ""
           },
           "baxis": {
            "gridcolor": "white",
            "linecolor": "white",
            "ticks": ""
           },
           "bgcolor": "#E5ECF6",
           "caxis": {
            "gridcolor": "white",
            "linecolor": "white",
            "ticks": ""
           }
          },
          "title": {
           "x": 0.05
          },
          "xaxis": {
           "automargin": true,
           "gridcolor": "white",
           "linecolor": "white",
           "ticks": "",
           "title": {
            "standoff": 15
           },
           "zerolinecolor": "white",
           "zerolinewidth": 2
          },
          "yaxis": {
           "automargin": true,
           "gridcolor": "white",
           "linecolor": "white",
           "ticks": "",
           "title": {
            "standoff": 15
           },
           "zerolinecolor": "white",
           "zerolinewidth": 2
          }
         }
        },
        "title": {
         "text": "Interactive 3D Drone Flight Path"
        },
        "width": 600
       }
      }
     },
     "metadata": {},
     "output_type": "display_data"
    },
    {
     "name": "stdout",
     "output_type": "stream",
     "text": [
      "\u2b55 Executing circle left (optimized)...\n"
     ]
    },
    {
     "data": {
      "application/vnd.plotly.v1+json": {
       "config": {
        "plotlyServerURL": "https://plot.ly"
       },
       "data": [
        {
         "line": {
          "color": "blue",
          "width": 4
         },
         "marker": {
          "size": 4
         },
         "mode": "lines+markers",
         "name": "Drone Path",
         "type": "scatter3d",
         "x": {
          "bdata": "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",
          "dtype": "f8"
         },
         "y": {
          "bdata": "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",
          "dtype": "f8"
         },
         "z": [
          2,
          2,
          2,
          2,
          2,
          2,
          2,
          2,
          2,
          2,
          2,
          2,
          2,
          2,
          2,
          2,
          2,
          2,
          2,
          2,
          2,
          2,
          2,
          2,
          2,
          2,
          2,
          2,
          2,
          2,
          2,
          2,
          1.8,
          1.8,
          1.8,
          1.8,
          1.8,
          1.8,
          1.8,
          1.8,
          1.8,
          1.8,
          1.8,
          1.8,
          1.8,
          1.8,
          1.8,
          1.8,
          1.8,
          1.8,
          1.8,
          1.8,
          1.8,
          1.8,
          1.8,
          1.8,
          1.8,
          1.8,
          1.8,
          1.8,
          1.8,
          1.8,
          1.8,
          1.8,
          1.6,
          1.6,
          1.6,
          1.6,
          1.6,
          1.6,
          1.6,
          1.6,
          1.6,
          1.6,
          1.6,
          1.6,
          1.6,
          1.6,
          1.6,
          1.6,
          1.6,
          1.6,
          1.6,
          1.6,
          1.6,
          1.6,
          1.6,
          1.6,
          1.6,
          1.6,
          1.6,
          1.6,
          1.6,
          1.6,
          1.6,
          1.6,
          1.4000000000000001,
          1.4000000000000001,
          1.4000000000000001,
          1.4000000000000001,
          1.4000000000000001,
          1.4000000000000001,
          1.4000000000000001,
          1.4000000000000001,
          1.4000000000000001,
          1.4000000000000001,
          1.4000000000000001,
          1.4000000000000001,
          1.4000000000000001,
          1.4000000000000001,
          1.4000000000000001,
          1.4000000000000001,
          1.4000000000000001,
          1.4000000000000001,
          1.4000000000000001,
          1.4000000000000001,
          1.4000000000000001,
          1.4000000000000001,
          1.4000000000000001,
          1.4000000000000001,
          1.4000000000000001,
          1.4000000000000001,
          1.4000000000000001,
          1.4000000000000001,
          1.4000000000000001,
          1.4000000000000001,
          1.4000000000000001,
          1.4000000000000001,
          1.2000000000000002,
          1.2000000000000002,
          1.2000000000000002,
          1.2000000000000002,
          1.2000000000000002,
          1.2000000000000002,
          1.2000000000000002,
          1.2000000000000002,
          1.2000000000000002,
          1.2000000000000002,
          1.2000000000000002,
          1.2000000000000002,
          1.2000000000000002,
          1.2000000000000002,
          1.2000000000000002,
          1.2000000000000002,
          1.2000000000000002,
          1.2000000000000002,
          1.2000000000000002,
          1.2000000000000002,
          1.2000000000000002,
          1.2000000000000002,
          1.2000000000000002,
          1.2000000000000002,
          1.2000000000000002,
          1.2000000000000002,
          1.2000000000000002,
          1.2000000000000002,
          1.2000000000000002,
          1.2000000000000002,
          1.2000000000000002,
          1.2000000000000002,
          1.0000000000000002,
          1.0000000000000002,
          1.0000000000000002,
          1.0000000000000002,
          1.0000000000000002,
          1.0000000000000002,
          1.0000000000000002,
          1.0000000000000002,
          1.0000000000000002,
          1.0000000000000002,
          1.0000000000000002,
          1.0000000000000002,
          1.0000000000000002,
          1.0000000000000002,
          1.0000000000000002,
          1.0000000000000002,
          1.0000000000000002,
          1.0000000000000002,
          1.0000000000000002,
          1.0000000000000002,
          1.0000000000000002,
          1.0000000000000002,
          1.0000000000000002,
          1.0000000000000002,
          1.0000000000000002,
          1.0000000000000002,
          1.0000000000000002,
          1.0000000000000002,
          1.0000000000000002,
          1.0000000000000002,
          1.0000000000000002,
          1.0000000000000002,
          0.8000000000000003,
          0.8000000000000003,
          0.8000000000000003,
          0.8000000000000003,
          0.8000000000000003,
          0.8000000000000003,
          0.8000000000000003,
          0.8000000000000003,
          0.8000000000000003,
          0.8000000000000003,
          0.8000000000000003,
          0.8000000000000003,
          0.8000000000000003,
          0.8000000000000003,
          0.8000000000000003,
          0.8000000000000003,
          0.8000000000000003,
          0.8000000000000003,
          0.8000000000000003,
          0.8000000000000003,
          0.8000000000000003,
          0.8000000000000003,
          0.8000000000000003,
          0.8000000000000003,
          0.8000000000000003,
          0.8000000000000003,
          0.8000000000000003,
          0.8000000000000003,
          0.8000000000000003,
          0.8000000000000003,
          0.8000000000000003,
          0.8000000000000003,
          0.6000000000000003,
          0.6000000000000003,
          0.6000000000000003,
          0.6000000000000003,
          0.6000000000000003,
          0.6000000000000003,
          0.6000000000000003,
          0.6000000000000003,
          0.6000000000000003,
          0.6000000000000003,
          0.6000000000000003,
          0.6000000000000003,
          0.6000000000000003,
          0.6000000000000003,
          0.6000000000000003,
          0.6000000000000003,
          0.6000000000000003,
          0.6000000000000003,
          0.6000000000000003,
          0.6000000000000003,
          0.6000000000000003,
          0.6000000000000003,
          0.6000000000000003,
          0.6000000000000003,
          0.6000000000000003,
          0.6000000000000003,
          0.6000000000000003,
          0.6000000000000003,
          0.6000000000000003,
          0.6000000000000003,
          0.6000000000000003,
          0.6000000000000003,
          0.4000000000000003,
          0.4000000000000003,
          0.4000000000000003,
          0.4000000000000003,
          0.4000000000000003,
          0.4000000000000003,
          0.4000000000000003,
          0.4000000000000003,
          0.4000000000000003,
          0.4000000000000003,
          0.4000000000000003,
          0.4000000000000003,
          0.4000000000000003,
          0.4000000000000003,
          0.4000000000000003,
          0.4000000000000003,
          0.4000000000000003,
          0.4000000000000003,
          0.4000000000000003,
          0.4000000000000003,
          0.4000000000000003,
          0.4000000000000003,
          0.4000000000000003,
          0.4000000000000003,
          0.4000000000000003,
          0.4000000000000003,
          0.4000000000000003,
          0.4000000000000003,
          0.4000000000000003,
          0.4000000000000003,
          0.4000000000000003,
          0.4000000000000003
         ]
        },
        {
         "marker": {
          "color": "red",
          "size": 10,
          "symbol": "diamond"
         },
         "mode": "markers",
         "name": "Current Position",
         "type": "scatter3d",
         "x": [
          0.10754022604401209
         ],
         "y": [
          -0.7544218451370996
         ],
         "z": [
          0.4000000000000003
         ]
        }
       ],
       "layout": {
        "height": 500,
        "legend": {
         "x": 0,
         "y": 1
        },
        "margin": {
         "b": 0,
         "l": 0,
         "r": 0,
         "t": 30
        },
        "scene": {
         "aspectmode": "data",
         "camera": {
          "eye": {
           "x": 1.5,
           "y": 1.5,
           "z": 0.6
          }
         },
         "xaxis": {
          "title": {
           "text": "X (meters)"
          }
         },
         "yaxis": {
          "title": {
           "text": "Y (meters)"
          }
         },
         "zaxis": {
          "title": {
           "text": "Altitude (meters)"
          }
         }
        },
        "template": {
         "data": {
          "bar": [
           {
            "error_x": {
             "color": "#2a3f5f"
            },
            "error_y": {
             "color": "#2a3f5f"
            },
            "marker": {
             "line": {
              "color": "#E5ECF6",
              "width": 0.5
             },
             "pattern": {
              "fillmode": "overlay",
              "size": 10,
              "solidity": 0.2
             }
            },
            "type": "bar"
           }
          ],
          "barpolar": [
           {
            "marker": {
             "line": {
              "color": "#E5ECF6",
              "width": 0.5
             },
             "pattern": {
              "fillmode": "overlay",
              "size": 10,
              "solidity": 0.2
             }
            },
            "type": "barpolar"
           }
          ],
          "carpet": [
           {
            "aaxis": {
             "endlinecolor": "#2a3f5f",
             "gridcolor": "white",
             "linecolor": "white",
             "minorgridcolor": "white",
             "startlinecolor": "#2a3f5f"
            },
            "baxis": {
             "endlinecolor": "#2a3f5f",
             "gridcolor": "white",
             "linecolor": "white",
             "minorgridcolor": "white",
             "startlinecolor": "#2a3f5f"
            },
            "type": "carpet"
           }
          ],
          "choropleth": [
           {
            "colorbar": {
             "outlinewidth": 0,
             "ticks": ""
            },
            "type": "choropleth"
           }
          ],
          "contour": [
           {
            "colorbar": {
             "outlinewidth": 0,
             "ticks": ""
            },
            "colorscale": [
             [
              0,
              "#0d0887"
             ],
             [
              0.1111111111111111,
              "#46039f"
             ],
             [
              0.2222222222222222,
              "#7201a8"
             ],
             [
              0.3333333333333333,
              "#9c179e"
             ],
             [
              0.4444444444444444,
              "#bd3786"
             ],
             [
              0.5555555555555556,
              "#d8576b"
             ],
             [
              0.6666666666666666,
              "#ed7953"
             ],
             [
              0.7777777777777778,
              "#fb9f3a"
             ],
             [
              0.8888888888888888,
              "#fdca26"
             ],
             [
              1,
              "#f0f921"
             ]
            ],
            "type": "contour"
           }
          ],
          "contourcarpet": [
           {
            "colorbar": {
             "outlinewidth": 0,
             "ticks": ""
            },
            "type": "contourcarpet"
           }
          ],
          "heatmap": [
           {
            "colorbar": {
             "outlinewidth": 0,
             "ticks": ""
            },
            "colorscale": [
             [
              0,
              "#0d0887"
             ],
             [
              0.1111111111111111,
              "#46039f"
             ],
             [
              0.2222222222222222,
              "#7201a8"
             ],
             [
              0.3333333333333333,
              "#9c179e"
             ],
             [
              0.4444444444444444,
              "#bd3786"
             ],
             [
              0.5555555555555556,
              "#d8576b"
             ],
             [
              0.6666666666666666,
              "#ed7953"
             ],
             [
              0.7777777777777778,
              "#fb9f3a"
             ],
             [
              0.8888888888888888,
              "#fdca26"
             ],
             [
              1,
              "#f0f921"
             ]
            ],
            "type": "heatmap"
           }
          ],
          "histogram": [
           {
            "marker": {
             "pattern": {
              "fillmode": "overlay",
              "size": 10,
              "solidity": 0.2
             }
            },
            "type": "histogram"
           }
          ],
          "histogram2d": [
           {
            "colorbar": {
             "outlinewidth": 0,
             "ticks": ""
            },
            "colorscale": [
             [
              0,
              "#0d0887"
             ],
             [
              0.1111111111111111,
              "#46039f"
             ],
             [
              0.2222222222222222,
              "#7201a8"
             ],
             [
              0.3333333333333333,
              "#9c179e"
             ],
             [
              0.4444444444444444,
              "#bd3786"
             ],
             [
              0.5555555555555556,
              "#d8576b"
             ],
             [
              0.6666666666666666,
              "#ed7953"
             ],
             [
              0.7777777777777778,
              "#fb9f3a"
             ],
             [
              0.8888888888888888,
              "#fdca26"
             ],
             [
              1,
              "#f0f921"
             ]
            ],
            "type": "histogram2d"
           }
          ],
          "histogram2dcontour": [
           {
            "colorbar": {
             "outlinewidth": 0,
             "ticks": ""
            },
            "colorscale": [
             [
              0,
              "#0d0887"
             ],
             [
              0.1111111111111111,
              "#46039f"
             ],
             [
              0.2222222222222222,
              "#7201a8"
             ],
             [
              0.3333333333333333,
              "#9c179e"
             ],
             [
              0.4444444444444444,
              "#bd3786"
             ],
             [
              0.5555555555555556,
              "#d8576b"
             ],
             [
              0.6666666666666666,
              "#ed7953"
             ],
             [
              0.7777777777777778,
              "#fb9f3a"
             ],
             [
              0.8888888888888888,
              "#fdca26"
             ],
             [
              1,
              "#f0f921"
             ]
            ],
            "type": "histogram2dcontour"
           }
          ],
          "mesh3d": [
           {
            "colorbar": {
             "outlinewidth": 0,
             "ticks": ""
            },
            "type": "mesh3d"
           }
          ],
          "parcoords": [
           {
            "line": {
             "colorbar": {
              "outlinewidth": 0,
              "ticks": ""
             }
            },
            "type": "parcoords"
           }
          ],
          "pie": [
           {
            "automargin": true,
            "type": "pie"
           }
          ],
          "scatter": [
           {
            "fillpattern": {
             "fillmode": "overlay",
             "size": 10,
             "solidity": 0.2
            },
            "type": "scatter"
           }
          ],
          "scatter3d": [
           {
            "line": {
             "colorbar": {
              "outlinewidth": 0,
              "ticks": ""
             }
            },
            "marker": {
             "colorbar": {
              "outlinewidth": 0,
              "ticks": ""
             }
            },
            "type": "scatter3d"
           }
          ],
          "scattercarpet": [
           {
            "marker": {
             "colorbar": {
              "outlinewidth": 0,
              "ticks": ""
             }
            },
            "type": "scattercarpet"
           }
          ],
          "scattergeo": [
           {
            "marker": {
             "colorbar": {
              "outlinewidth": 0,
              "ticks": ""
             }
            },
            "type": "scattergeo"
           }
          ],
          "scattergl": [
           {
            "marker": {
             "colorbar": {
              "outlinewidth": 0,
              "ticks": ""
             }
            },
            "type": "scattergl"
           }
          ],
          "scattermap": [
           {
            "marker": {
             "colorbar": {
              "outlinewidth": 0,
              "ticks": ""
             }
            },
            "type": "scattermap"
           }
          ],
          "scattermapbox": [
           {
            "marker": {
             "colorbar": {
              "outlinewidth": 0,
              "ticks": ""
             }
            },
            "type": "scattermapbox"
           }
          ],
          "scatterpolar": [
           {
            "marker": {
             "colorbar": {
              "outlinewidth": 0,
              "ticks": ""
             }
            },
            "type": "scatterpolar"
           }
          ],
          "scatterpolargl": [
           {
            "marker": {
             "colorbar": {
              "outlinewidth": 0,
              "ticks": ""
             }
            },
            "type": "scatterpolargl"
           }
          ],
          "scatterternary": [
           {
            "marker": {
             "colorbar": {
              "outlinewidth": 0,
              "ticks": ""
             }
            },
            "type": "scatterternary"
           }
          ],
          "surface": [
           {
            "colorbar": {
             "outlinewidth": 0,
             "ticks": ""
            },
            "colorscale": [
             [
              0,
              "#0d0887"
             ],
             [
              0.1111111111111111,
              "#46039f"
             ],
             [
              0.2222222222222222,
              "#7201a8"
             ],
             [
              0.3333333333333333,
              "#9c179e"
             ],
             [
              0.4444444444444444,
              "#bd3786"
             ],
             [
              0.5555555555555556,
              "#d8576b"
             ],
             [
              0.6666666666666666,
              "#ed7953"
             ],
             [
              0.7777777777777778,
              "#fb9f3a"
             ],
             [
              0.8888888888888888,
              "#fdca26"
             ],
             [
              1,
              "#f0f921"
             ]
            ],
            "type": "surface"
           }
          ],
          "table": [
           {
            "cells": {
             "fill": {
              "color": "#EBF0F8"
             },
             "line": {
              "color": "white"
             }
            },
            "header": {
             "fill": {
              "color": "#C8D4E3"
             },
             "line": {
              "color": "white"
             }
            },
            "type": "table"
           }
          ]
         },
         "layout": {
          "annotationdefaults": {
           "arrowcolor": "#2a3f5f",
           "arrowhead": 0,
           "arrowwidth": 1
          },
          "autotypenumbers": "strict",
          "coloraxis": {
           "colorbar": {
            "outlinewidth": 0,
            "ticks": ""
           }
          },
          "colorscale": {
           "diverging": [
            [
             0,
             "#8e0152"
            ],
            [
             0.1,
             "#c51b7d"
            ],
            [
             0.2,
             "#de77ae"
            ],
            [
             0.3,
             "#f1b6da"
            ],
            [
             0.4,
             "#fde0ef"
            ],
            [
             0.5,
             "#f7f7f7"
            ],
            [
             0.6,
             "#e6f5d0"
            ],
            [
             0.7,
             "#b8e186"
            ],
            [
             0.8,
             "#7fbc41"
            ],
            [
             0.9,
             "#4d9221"
            ],
            [
             1,
             "#276419"
            ]
           ],
           "sequential": [
            [
             0,
             "#0d0887"
            ],
            [
             0.1111111111111111,
             "#46039f"
            ],
            [
             0.2222222222222222,
             "#7201a8"
            ],
            [
             0.3333333333333333,
             "#9c179e"
            ],
            [
             0.4444444444444444,
             "#bd3786"
            ],
            [
             0.5555555555555556,
             "#d8576b"
            ],
            [
             0.6666666666666666,
             "#ed7953"
            ],
            [
             0.7777777777777778,
             "#fb9f3a"
            ],
            [
             0.8888888888888888,
             "#fdca26"
            ],
            [
             1,
             "#f0f921"
            ]
           ],
           "sequentialminus": [
            [
             0,
             "#0d0887"
            ],
            [
             0.1111111111111111,
             "#46039f"
            ],
            [
             0.2222222222222222,
             "#7201a8"
            ],
            [
             0.3333333333333333,
             "#9c179e"
            ],
            [
             0.4444444444444444,
             "#bd3786"
            ],
            [
             0.5555555555555556,
             "#d8576b"
            ],
            [
             0.6666666666666666,
             "#ed7953"
            ],
            [
             0.7777777777777778,
             "#fb9f3a"
            ],
            [
             0.8888888888888888,
             "#fdca26"
            ],
            [
             1,
             "#f0f921"
            ]
           ]
          },
          "colorway": [
           "#636efa",
           "#EF553B",
           "#00cc96",
           "#ab63fa",
           "#FFA15A",
           "#19d3f3",
           "#FF6692",
           "#B6E880",
           "#FF97FF",
           "#FECB52"
          ],
          "font": {
           "color": "#2a3f5f"
          },
          "geo": {
           "bgcolor": "white",
           "lakecolor": "white",
           "landcolor": "#E5ECF6",
           "showlakes": true,
           "showland": true,
           "subunitcolor": "white"
          },
          "hoverlabel": {
           "align": "left"
          },
          "hovermode": "closest",
          "mapbox": {
           "style": "light"
          },
          "paper_bgcolor": "white",
          "plot_bgcolor": "#E5ECF6",
          "polar": {
           "angularaxis": {
            "gridcolor": "white",
            "linecolor": "white",
            "ticks": ""
           },
           "bgcolor": "#E5ECF6",
           "radialaxis": {
            "gridcolor": "white",
            "linecolor": "white",
            "ticks": ""
           }
          },
          "scene": {
           "xaxis": {
            "backgroundcolor": "#E5ECF6",
            "gridcolor": "white",
            "gridwidth": 2,
            "linecolor": "white",
            "showbackground": true,
            "ticks": "",
            "zerolinecolor": "white"
           },
           "yaxis": {
            "backgroundcolor": "#E5ECF6",
            "gridcolor": "white",
            "gridwidth": 2,
            "linecolor": "white",
            "showbackground": true,
            "ticks": "",
            "zerolinecolor": "white"
           },
           "zaxis": {
            "backgroundcolor": "#E5ECF6",
            "gridcolor": "white",
            "gridwidth": 2,
            "linecolor": "white",
            "showbackground": true,
            "ticks": "",
            "zerolinecolor": "white"
           }
          },
          "shapedefaults": {
           "line": {
            "color": "#2a3f5f"
           }
          },
          "ternary": {
           "aaxis": {
            "gridcolor": "white",
            "linecolor": "white",
            "ticks": ""
           },
           "baxis": {
            "gridcolor": "white",
            "linecolor": "white",
            "ticks": ""
           },
           "bgcolor": "#E5ECF6",
           "caxis": {
            "gridcolor": "white",
            "linecolor": "white",
            "ticks": ""
           }
          },
          "title": {
           "x": 0.05
          },
          "xaxis": {
           "automargin": true,
           "gridcolor": "white",
           "linecolor": "white",
           "ticks": "",
           "title": {
            "standoff": 15
           },
           "zerolinecolor": "white",
           "zerolinewidth": 2
          },
          "yaxis": {
           "automargin": true,
           "gridcolor": "white",
           "linecolor": "white",
           "ticks": "",
           "title": {
            "standoff": 15
           },
           "zerolinecolor": "white",
           "zerolinewidth": 2
          }
         }
        },
        "title": {
         "text": "Interactive 3D Drone Flight Path"
        },
        "width": 600
       }
      }
     },
     "metadata": {},
     "output_type": "display_data"
    },
    {
     "name": "stdout",
     "output_type": "stream",
     "text": [
      "Moving: vx=0, vy=0, vz=-0.2, yaw=0\n",
      "Executing command: move 0 0 -0.2 0 1.0\n"
     ]
    },
    {
     "data": {
      "application/vnd.plotly.v1+json": {
       "config": {
        "plotlyServerURL": "https://plot.ly"
       },
       "data": [
        {
         "line": {
          "color": "blue",
          "width": 4
         },
         "marker": {
          "size": 4
         },
         "mode": "lines+markers",
         "name": "Drone Path",
         "type": "scatter3d",
         "x": {
          "bdata": "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",
          "dtype": "f8"
         },
         "y": {
          "bdata": "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",
          "dtype": "f8"
         },
         "z": [
          2,
          2,
          2,
          2,
          2,
          2,
          2,
          2,
          2,
          2,
          2,
          2,
          2,
          2,
          2,
          2,
          2,
          2,
          2,
          2,
          2,
          2,
          2,
          2,
          2,
          2,
          2,
          2,
          2,
          2,
          2,
          2,
          1.8,
          1.8,
          1.8,
          1.8,
          1.8,
          1.8,
          1.8,
          1.8,
          1.8,
          1.8,
          1.8,
          1.8,
          1.8,
          1.8,
          1.8,
          1.8,
          1.8,
          1.8,
          1.8,
          1.8,
          1.8,
          1.8,
          1.8,
          1.8,
          1.8,
          1.8,
          1.8,
          1.8,
          1.8,
          1.8,
          1.8,
          1.8,
          1.6,
          1.6,
          1.6,
          1.6,
          1.6,
          1.6,
          1.6,
          1.6,
          1.6,
          1.6,
          1.6,
          1.6,
          1.6,
          1.6,
          1.6,
          1.6,
          1.6,
          1.6,
          1.6,
          1.6,
          1.6,
          1.6,
          1.6,
          1.6,
          1.6,
          1.6,
          1.6,
          1.6,
          1.6,
          1.6,
          1.6,
          1.6,
          1.4000000000000001,
          1.4000000000000001,
          1.4000000000000001,
          1.4000000000000001,
          1.4000000000000001,
          1.4000000000000001,
          1.4000000000000001,
          1.4000000000000001,
          1.4000000000000001,
          1.4000000000000001,
          1.4000000000000001,
          1.4000000000000001,
          1.4000000000000001,
          1.4000000000000001,
          1.4000000000000001,
          1.4000000000000001,
          1.4000000000000001,
          1.4000000000000001,
          1.4000000000000001,
          1.4000000000000001,
          1.4000000000000001,
          1.4000000000000001,
          1.4000000000000001,
          1.4000000000000001,
          1.4000000000000001,
          1.4000000000000001,
          1.4000000000000001,
          1.4000000000000001,
          1.4000000000000001,
          1.4000000000000001,
          1.4000000000000001,
          1.4000000000000001,
          1.2000000000000002,
          1.2000000000000002,
          1.2000000000000002,
          1.2000000000000002,
          1.2000000000000002,
          1.2000000000000002,
          1.2000000000000002,
          1.2000000000000002,
          1.2000000000000002,
          1.2000000000000002,
          1.2000000000000002,
          1.2000000000000002,
          1.2000000000000002,
          1.2000000000000002,
          1.2000000000000002,
          1.2000000000000002,
          1.2000000000000002,
          1.2000000000000002,
          1.2000000000000002,
          1.2000000000000002,
          1.2000000000000002,
          1.2000000000000002,
          1.2000000000000002,
          1.2000000000000002,
          1.2000000000000002,
          1.2000000000000002,
          1.2000000000000002,
          1.2000000000000002,
          1.2000000000000002,
          1.2000000000000002,
          1.2000000000000002,
          1.2000000000000002,
          1.0000000000000002,
          1.0000000000000002,
          1.0000000000000002,
          1.0000000000000002,
          1.0000000000000002,
          1.0000000000000002,
          1.0000000000000002,
          1.0000000000000002,
          1.0000000000000002,
          1.0000000000000002,
          1.0000000000000002,
          1.0000000000000002,
          1.0000000000000002,
          1.0000000000000002,
          1.0000000000000002,
          1.0000000000000002,
          1.0000000000000002,
          1.0000000000000002,
          1.0000000000000002,
          1.0000000000000002,
          1.0000000000000002,
          1.0000000000000002,
          1.0000000000000002,
          1.0000000000000002,
          1.0000000000000002,
          1.0000000000000002,
          1.0000000000000002,
          1.0000000000000002,
          1.0000000000000002,
          1.0000000000000002,
          1.0000000000000002,
          1.0000000000000002,
          0.8000000000000003,
          0.8000000000000003,
          0.8000000000000003,
          0.8000000000000003,
          0.8000000000000003,
          0.8000000000000003,
          0.8000000000000003,
          0.8000000000000003,
          0.8000000000000003,
          0.8000000000000003,
          0.8000000000000003,
          0.8000000000000003,
          0.8000000000000003,
          0.8000000000000003,
          0.8000000000000003,
          0.8000000000000003,
          0.8000000000000003,
          0.8000000000000003,
          0.8000000000000003,
          0.8000000000000003,
          0.8000000000000003,
          0.8000000000000003,
          0.8000000000000003,
          0.8000000000000003,
          0.8000000000000003,
          0.8000000000000003,
          0.8000000000000003,
          0.8000000000000003,
          0.8000000000000003,
          0.8000000000000003,
          0.8000000000000003,
          0.8000000000000003,
          0.6000000000000003,
          0.6000000000000003,
          0.6000000000000003,
          0.6000000000000003,
          0.6000000000000003,
          0.6000000000000003,
          0.6000000000000003,
          0.6000000000000003,
          0.6000000000000003,
          0.6000000000000003,
          0.6000000000000003,
          0.6000000000000003,
          0.6000000000000003,
          0.6000000000000003,
          0.6000000000000003,
          0.6000000000000003,
          0.6000000000000003,
          0.6000000000000003,
          0.6000000000000003,
          0.6000000000000003,
          0.6000000000000003,
          0.6000000000000003,
          0.6000000000000003,
          0.6000000000000003,
          0.6000000000000003,
          0.6000000000000003,
          0.6000000000000003,
          0.6000000000000003,
          0.6000000000000003,
          0.6000000000000003,
          0.6000000000000003,
          0.6000000000000003,
          0.4000000000000003,
          0.4000000000000003,
          0.4000000000000003,
          0.4000000000000003,
          0.4000000000000003,
          0.4000000000000003,
          0.4000000000000003,
          0.4000000000000003,
          0.4000000000000003,
          0.4000000000000003,
          0.4000000000000003,
          0.4000000000000003,
          0.4000000000000003,
          0.4000000000000003,
          0.4000000000000003,
          0.4000000000000003,
          0.4000000000000003,
          0.4000000000000003,
          0.4000000000000003,
          0.4000000000000003,
          0.4000000000000003,
          0.4000000000000003,
          0.4000000000000003,
          0.4000000000000003,
          0.4000000000000003,
          0.4000000000000003,
          0.4000000000000003,
          0.4000000000000003,
          0.4000000000000003,
          0.4000000000000003,
          0.4000000000000003,
          0.4000000000000003,
          0.2000000000000003
         ]
        },
        {
         "marker": {
          "color": "red",
          "size": 10,
          "symbol": "diamond"
         },
         "mode": "markers",
         "name": "Current Position",
         "type": "scatter3d",
         "x": [
          0.10754022604401209
         ],
         "y": [
          -0.7544218451370996
         ],
         "z": [
          0.2000000000000003
         ]
        }
       ],
       "layout": {
        "height": 500,
        "legend": {
         "x": 0,
         "y": 1
        },
        "margin": {
         "b": 0,
         "l": 0,
         "r": 0,
         "t": 30
        },
        "scene": {
         "aspectmode": "data",
         "camera": {
          "eye": {
           "x": 1.5,
           "y": 1.5,
           "z": 0.6
          }
         },
         "xaxis": {
          "title": {
           "text": "X (meters)"
          }
         },
         "yaxis": {
          "title": {
           "text": "Y (meters)"
          }
         },
         "zaxis": {
          "title": {
           "text": "Altitude (meters)"
          }
         }
        },
        "template": {
         "data": {
          "bar": [
           {
            "error_x": {
             "color": "#2a3f5f"
            },
            "error_y": {
             "color": "#2a3f5f"
            },
            "marker": {
             "line": {
              "color": "#E5ECF6",
              "width": 0.5
             },
             "pattern": {
              "fillmode": "overlay",
              "size": 10,
              "solidity": 0.2
             }
            },
            "type": "bar"
           }
          ],
          "barpolar": [
           {
            "marker": {
             "line": {
              "color": "#E5ECF6",
              "width": 0.5
             },
             "pattern": {
              "fillmode": "overlay",
              "size": 10,
              "solidity": 0.2
             }
            },
            "type": "barpolar"
           }
          ],
          "carpet": [
           {
            "aaxis": {
             "endlinecolor": "#2a3f5f",
             "gridcolor": "white",
             "linecolor": "white",
             "minorgridcolor": "white",
             "startlinecolor": "#2a3f5f"
            },
            "baxis": {
             "endlinecolor": "#2a3f5f",
             "gridcolor": "white",
             "linecolor": "white",
             "minorgridcolor": "white",
             "startlinecolor": "#2a3f5f"
            },
            "type": "carpet"
           }
          ],
          "choropleth": [
           {
            "colorbar": {
             "outlinewidth": 0,
             "ticks": ""
            },
            "type": "choropleth"
           }
          ],
          "contour": [
           {
            "colorbar": {
             "outlinewidth": 0,
             "ticks": ""
            },
            "colorscale": [
             [
              0,
              "#0d0887"
             ],
             [
              0.1111111111111111,
              "#46039f"
             ],
             [
              0.2222222222222222,
              "#7201a8"
             ],
             [
              0.3333333333333333,
              "#9c179e"
             ],
             [
              0.4444444444444444,
              "#bd3786"
             ],
             [
              0.5555555555555556,
              "#d8576b"
             ],
             [
              0.6666666666666666,
              "#ed7953"
             ],
             [
              0.7777777777777778,
              "#fb9f3a"
             ],
             [
              0.8888888888888888,
              "#fdca26"
             ],
             [
              1,
              "#f0f921"
             ]
            ],
            "type": "contour"
           }
          ],
          "contourcarpet": [
           {
            "colorbar": {
             "outlinewidth": 0,
             "ticks": ""
            },
            "type": "contourcarpet"
           }
          ],
          "heatmap": [
           {
            "colorbar": {
             "outlinewidth": 0,
             "ticks": ""
            },
            "colorscale": [
             [
              0,
              "#0d0887"
             ],
             [
              0.1111111111111111,
              "#46039f"
             ],
             [
              0.2222222222222222,
              "#7201a8"
             ],
             [
              0.3333333333333333,
              "#9c179e"
             ],
             [
              0.4444444444444444,
              "#bd3786"
             ],
             [
              0.5555555555555556,
              "#d8576b"
             ],
             [
              0.6666666666666666,
              "#ed7953"
             ],
             [
              0.7777777777777778,
              "#fb9f3a"
             ],
             [
              0.8888888888888888,
              "#fdca26"
             ],
             [
              1,
              "#f0f921"
             ]
            ],
            "type": "heatmap"
           }
          ],
          "histogram": [
           {
            "marker": {
             "pattern": {
              "fillmode": "overlay",
              "size": 10,
              "solidity": 0.2
             }
            },
            "type": "histogram"
           }
          ],
          "histogram2d": [
           {
            "colorbar": {
             "outlinewidth": 0,
             "ticks": ""
            },
            "colorscale": [
             [
              0,
              "#0d0887"
             ],
             [
              0.1111111111111111,
              "#46039f"
             ],
             [
              0.2222222222222222,
              "#7201a8"
             ],
             [
              0.3333333333333333,
              "#9c179e"
             ],
             [
              0.4444444444444444,
              "#bd3786"
             ],
             [
              0.5555555555555556,
              "#d8576b"
             ],
             [
              0.6666666666666666,
              "#ed7953"
             ],
             [
              0.7777777777777778,
              "#fb9f3a"
             ],
             [
              0.8888888888888888,
              "#fdca26"
             ],
             [
              1,
              "#f0f921"
             ]
            ],
            "type": "histogram2d"
           }
          ],
          "histogram2dcontour": [
           {
            "colorbar": {
             "outlinewidth": 0,
             "ticks": ""
            },
            "colorscale": [
             [
              0,
              "#0d0887"
             ],
             [
              0.1111111111111111,
              "#46039f"
             ],
             [
              0.2222222222222222,
              "#7201a8"
             ],
             [
              0.3333333333333333,
              "#9c179e"
             ],
             [
              0.4444444444444444,
              "#bd3786"
             ],
             [
              0.5555555555555556,
              "#d8576b"
             ],
             [
              0.6666666666666666,
              "#ed7953"
             ],
             [
              0.7777777777777778,
              "#fb9f3a"
             ],
             [
              0.8888888888888888,
              "#fdca26"
             ],
             [
              1,
              "#f0f921"
             ]
            ],
            "type": "histogram2dcontour"
           }
          ],
          "mesh3d": [
           {
            "colorbar": {
             "outlinewidth": 0,
             "ticks": ""
            },
            "type": "mesh3d"
           }
          ],
          "parcoords": [
           {
            "line": {
             "colorbar": {
              "outlinewidth": 0,
              "ticks": ""
             }
            },
            "type": "parcoords"
           }
          ],
          "pie": [
           {
            "automargin": true,
            "type": "pie"
           }
          ],
          "scatter": [
           {
            "fillpattern": {
             "fillmode": "overlay",
             "size": 10,
             "solidity": 0.2
            },
            "type": "scatter"
           }
          ],
          "scatter3d": [
           {
            "line": {
             "colorbar": {
              "outlinewidth": 0,
              "ticks": ""
             }
            },
            "marker": {
             "colorbar": {
              "outlinewidth": 0,
              "ticks": ""
             }
            },
            "type": "scatter3d"
           }
          ],
          "scattercarpet": [
           {
            "marker": {
             "colorbar": {
              "outlinewidth": 0,
              "ticks": ""
             }
            },
            "type": "scattercarpet"
           }
          ],
          "scattergeo": [
           {
            "marker": {
             "colorbar": {
              "outlinewidth": 0,
              "ticks": ""
             }
            },
            "type": "scattergeo"
           }
          ],
          "scattergl": [
           {
            "marker": {
             "colorbar": {
              "outlinewidth": 0,
              "ticks": ""
             }
            },
            "type": "scattergl"
           }
          ],
          "scattermap": [
           {
            "marker": {
             "colorbar": {
              "outlinewidth": 0,
              "ticks": ""
             }
            },
            "type": "scattermap"
           }
          ],
          "scattermapbox": [
           {
            "marker": {
             "colorbar": {
              "outlinewidth": 0,
              "ticks": ""
             }
            },
            "type": "scattermapbox"
           }
          ],
          "scatterpolar": [
           {
            "marker": {
             "colorbar": {
              "outlinewidth": 0,
              "ticks": ""
             }
            },
            "type": "scatterpolar"
           }
          ],
          "scatterpolargl": [
           {
            "marker": {
             "colorbar": {
              "outlinewidth": 0,
              "ticks": ""
             }
            },
            "type": "scatterpolargl"
           }
          ],
          "scatterternary": [
           {
            "marker": {
             "colorbar": {
              "outlinewidth": 0,
              "ticks": ""
             }
            },
            "type": "scatterternary"
           }
          ],
          "surface": [
           {
            "colorbar": {
             "outlinewidth": 0,
             "ticks": ""
            },
            "colorscale": [
             [
              0,
              "#0d0887"
             ],
             [
              0.1111111111111111,
              "#46039f"
             ],
             [
              0.2222222222222222,
              "#7201a8"
             ],
             [
              0.3333333333333333,
              "#9c179e"
             ],
             [
              0.4444444444444444,
              "#bd3786"
             ],
             [
              0.5555555555555556,
              "#d8576b"
             ],
             [
              0.6666666666666666,
              "#ed7953"
             ],
             [
              0.7777777777777778,
              "#fb9f3a"
             ],
             [
              0.8888888888888888,
              "#fdca26"
             ],
             [
              1,
              "#f0f921"
             ]
            ],
            "type": "surface"
           }
          ],
          "table": [
           {
            "cells": {
             "fill": {
              "color": "#EBF0F8"
             },
             "line": {
              "color": "white"
             }
            },
            "header": {
             "fill": {
              "color": "#C8D4E3"
             },
             "line": {
              "color": "white"
             }
            },
            "type": "table"
           }
          ]
         },
         "layout": {
          "annotationdefaults": {
           "arrowcolor": "#2a3f5f",
           "arrowhead": 0,
           "arrowwidth": 1
          },
          "autotypenumbers": "strict",
          "coloraxis": {
           "colorbar": {
            "outlinewidth": 0,
            "ticks": ""
           }
          },
          "colorscale": {
           "diverging": [
            [
             0,
             "#8e0152"
            ],
            [
             0.1,
             "#c51b7d"
            ],
            [
             0.2,
             "#de77ae"
            ],
            [
             0.3,
             "#f1b6da"
            ],
            [
             0.4,
             "#fde0ef"
            ],
            [
             0.5,
             "#f7f7f7"
            ],
            [
             0.6,
             "#e6f5d0"
            ],
            [
             0.7,
             "#b8e186"
            ],
            [
             0.8,
             "#7fbc41"
            ],
            [
             0.9,
             "#4d9221"
            ],
            [
             1,
             "#276419"
            ]
           ],
           "sequential": [
            [
             0,
             "#0d0887"
            ],
            [
             0.1111111111111111,
             "#46039f"
            ],
            [
             0.2222222222222222,
             "#7201a8"
            ],
            [
             0.3333333333333333,
             "#9c179e"
            ],
            [
             0.4444444444444444,
             "#bd3786"
            ],
            [
             0.5555555555555556,
             "#d8576b"
            ],
            [
             0.6666666666666666,
             "#ed7953"
            ],
            [
             0.7777777777777778,
             "#fb9f3a"
            ],
            [
             0.8888888888888888,
             "#fdca26"
            ],
            [
             1,
             "#f0f921"
            ]
           ],
           "sequentialminus": [
            [
             0,
             "#0d0887"
            ],
            [
             0.1111111111111111,
             "#46039f"
            ],
            [
             0.2222222222222222,
             "#7201a8"
            ],
            [
             0.3333333333333333,
             "#9c179e"
            ],
            [
             0.4444444444444444,
             "#bd3786"
            ],
            [
             0.5555555555555556,
             "#d8576b"
            ],
            [
             0.6666666666666666,
             "#ed7953"
            ],
            [
             0.7777777777777778,
             "#fb9f3a"
            ],
            [
             0.8888888888888888,
             "#fdca26"
            ],
            [
             1,
             "#f0f921"
            ]
           ]
          },
          "colorway": [
           "#636efa",
           "#EF553B",
           "#00cc96",
           "#ab63fa",
           "#FFA15A",
           "#19d3f3",
           "#FF6692",
           "#B6E880",
           "#FF97FF",
           "#FECB52"
          ],
          "font": {
           "color": "#2a3f5f"
          },
          "geo": {
           "bgcolor": "white",
           "lakecolor": "white",
           "landcolor": "#E5ECF6",
           "showlakes": true,
           "showland": true,
           "subunitcolor": "white"
          },
          "hoverlabel": {
           "align": "left"
          },
          "hovermode": "closest",
          "mapbox": {
           "style": "light"
          },
          "paper_bgcolor": "white",
          "plot_bgcolor": "#E5ECF6",
          "polar": {
           "angularaxis": {
            "gridcolor": "white",
            "linecolor": "white",
            "ticks": ""
           },
           "bgcolor": "#E5ECF6",
           "radialaxis": {
            "gridcolor": "white",
            "linecolor": "white",
            "ticks": ""
           }
          },
          "scene": {
           "xaxis": {
            "backgroundcolor": "#E5ECF6",
            "gridcolor": "white",
            "gridwidth": 2,
            "linecolor": "white",
            "showbackground": true,
            "ticks": "",
            "zerolinecolor": "white"
           },
           "yaxis": {
            "backgroundcolor": "#E5ECF6",
            "gridcolor": "white",
            "gridwidth": 2,
            "linecolor": "white",
            "showbackground": true,
            "ticks": "",
            "zerolinecolor": "white"
           },
           "zaxis": {
            "backgroundcolor": "#E5ECF6",
            "gridcolor": "white",
            "gridwidth": 2,
            "linecolor": "white",
            "showbackground": true,
            "ticks": "",
            "zerolinecolor": "white"
           }
          },
          "shapedefaults": {
           "line": {
            "color": "#2a3f5f"
           }
          },
          "ternary": {
           "aaxis": {
            "gridcolor": "white",
            "linecolor": "white",
            "ticks": ""
           },
           "baxis": {
            "gridcolor": "white",
            "linecolor": "white",
            "ticks": ""
           },
           "bgcolor": "#E5ECF6",
           "caxis": {
            "gridcolor": "white",
            "linecolor": "white",
            "ticks": ""
           }
          },
          "title": {
           "x": 0.05
          },
          "xaxis": {
           "automargin": true,
           "gridcolor": "white",
           "linecolor": "white",
           "ticks": "",
           "title": {
            "standoff": 15
           },
           "zerolinecolor": "white",
           "zerolinewidth": 2
          },
          "yaxis": {
           "automargin": true,
           "gridcolor": "white",
           "linecolor": "white",
           "ticks": "",
           "title": {
            "standoff": 15
           },
           "zerolinecolor": "white",
           "zerolinewidth": 2
          }
         }
        },
        "title": {
         "text": "Interactive 3D Drone Flight Path"
        },
        "width": 600
       }
      }
     },
     "metadata": {},
     "output_type": "display_data"
    },
    {
     "name": "stdout",
     "output_type": "stream",
     "text": [
      "\u2b55 Executing circle left (optimized)...\n"
     ]
    },
    {
     "data": {
      "application/vnd.plotly.v1+json": {
       "config": {
        "plotlyServerURL": "https://plot.ly"
       },
       "data": [
        {
         "line": {
          "color": "blue",
          "width": 4
         },
         "marker": {
          "size": 4
         },
         "mode": "lines+markers",
         "name": "Drone Path",
         "type": "scatter3d",
         "x": {
          "bdata": "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",
          "dtype": "f8"
         },
         "y": {
          "bdata": "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",
          "dtype": "f8"
         },
         "z": [
          2,
          2,
          2,
          2,
          2,
          2,
          2,
          2,
          2,
          2,
          2,
          2,
          2,
          2,
          2,
          2,
          2,
          2,
          2,
          2,
          2,
          2,
          2,
          2,
          2,
          2,
          2,
          2,
          2,
          2,
          2,
          2,
          1.8,
          1.8,
          1.8,
          1.8,
          1.8,
          1.8,
          1.8,
          1.8,
          1.8,
          1.8,
          1.8,
          1.8,
          1.8,
          1.8,
          1.8,
          1.8,
          1.8,
          1.8,
          1.8,
          1.8,
          1.8,
          1.8,
          1.8,
          1.8,
          1.8,
          1.8,
          1.8,
          1.8,
          1.8,
          1.8,
          1.8,
          1.8,
          1.6,
          1.6,
          1.6,
          1.6,
          1.6,
          1.6,
          1.6,
          1.6,
          1.6,
          1.6,
          1.6,
          1.6,
          1.6,
          1.6,
          1.6,
          1.6,
          1.6,
          1.6,
          1.6,
          1.6,
          1.6,
          1.6,
          1.6,
          1.6,
          1.6,
          1.6,
          1.6,
          1.6,
          1.6,
          1.6,
          1.6,
          1.6,
          1.4000000000000001,
          1.4000000000000001,
          1.4000000000000001,
          1.4000000000000001,
          1.4000000000000001,
          1.4000000000000001,
          1.4000000000000001,
          1.4000000000000001,
          1.4000000000000001,
          1.4000000000000001,
          1.4000000000000001,
          1.4000000000000001,
          1.4000000000000001,
          1.4000000000000001,
          1.4000000000000001,
          1.4000000000000001,
          1.4000000000000001,
          1.4000000000000001,
          1.4000000000000001,
          1.4000000000000001,
          1.4000000000000001,
          1.4000000000000001,
          1.4000000000000001,
          1.4000000000000001,
          1.4000000000000001,
          1.4000000000000001,
          1.4000000000000001,
          1.4000000000000001,
          1.4000000000000001,
          1.4000000000000001,
          1.4000000000000001,
          1.4000000000000001,
          1.2000000000000002,
          1.2000000000000002,
          1.2000000000000002,
          1.2000000000000002,
          1.2000000000000002,
          1.2000000000000002,
          1.2000000000000002,
          1.2000000000000002,
          1.2000000000000002,
          1.2000000000000002,
          1.2000000000000002,
          1.2000000000000002,
          1.2000000000000002,
          1.2000000000000002,
          1.2000000000000002,
          1.2000000000000002,
          1.2000000000000002,
          1.2000000000000002,
          1.2000000000000002,
          1.2000000000000002,
          1.2000000000000002,
          1.2000000000000002,
          1.2000000000000002,
          1.2000000000000002,
          1.2000000000000002,
          1.2000000000000002,
          1.2000000000000002,
          1.2000000000000002,
          1.2000000000000002,
          1.2000000000000002,
          1.2000000000000002,
          1.2000000000000002,
          1.0000000000000002,
          1.0000000000000002,
          1.0000000000000002,
          1.0000000000000002,
          1.0000000000000002,
          1.0000000000000002,
          1.0000000000000002,
          1.0000000000000002,
          1.0000000000000002,
          1.0000000000000002,
          1.0000000000000002,
          1.0000000000000002,
          1.0000000000000002,
          1.0000000000000002,
          1.0000000000000002,
          1.0000000000000002,
          1.0000000000000002,
          1.0000000000000002,
          1.0000000000000002,
          1.0000000000000002,
          1.0000000000000002,
          1.0000000000000002,
          1.0000000000000002,
          1.0000000000000002,
          1.0000000000000002,
          1.0000000000000002,
          1.0000000000000002,
          1.0000000000000002,
          1.0000000000000002,
          1.0000000000000002,
          1.0000000000000002,
          1.0000000000000002,
          0.8000000000000003,
          0.8000000000000003,
          0.8000000000000003,
          0.8000000000000003,
          0.8000000000000003,
          0.8000000000000003,
          0.8000000000000003,
          0.8000000000000003,
          0.8000000000000003,
          0.8000000000000003,
          0.8000000000000003,
          0.8000000000000003,
          0.8000000000000003,
          0.8000000000000003,
          0.8000000000000003,
          0.8000000000000003,
          0.8000000000000003,
          0.8000000000000003,
          0.8000000000000003,
          0.8000000000000003,
          0.8000000000000003,
          0.8000000000000003,
          0.8000000000000003,
          0.8000000000000003,
          0.8000000000000003,
          0.8000000000000003,
          0.8000000000000003,
          0.8000000000000003,
          0.8000000000000003,
          0.8000000000000003,
          0.8000000000000003,
          0.8000000000000003,
          0.6000000000000003,
          0.6000000000000003,
          0.6000000000000003,
          0.6000000000000003,
          0.6000000000000003,
          0.6000000000000003,
          0.6000000000000003,
          0.6000000000000003,
          0.6000000000000003,
          0.6000000000000003,
          0.6000000000000003,
          0.6000000000000003,
          0.6000000000000003,
          0.6000000000000003,
          0.6000000000000003,
          0.6000000000000003,
          0.6000000000000003,
          0.6000000000000003,
          0.6000000000000003,
          0.6000000000000003,
          0.6000000000000003,
          0.6000000000000003,
          0.6000000000000003,
          0.6000000000000003,
          0.6000000000000003,
          0.6000000000000003,
          0.6000000000000003,
          0.6000000000000003,
          0.6000000000000003,
          0.6000000000000003,
          0.6000000000000003,
          0.6000000000000003,
          0.4000000000000003,
          0.4000000000000003,
          0.4000000000000003,
          0.4000000000000003,
          0.4000000000000003,
          0.4000000000000003,
          0.4000000000000003,
          0.4000000000000003,
          0.4000000000000003,
          0.4000000000000003,
          0.4000000000000003,
          0.4000000000000003,
          0.4000000000000003,
          0.4000000000000003,
          0.4000000000000003,
          0.4000000000000003,
          0.4000000000000003,
          0.4000000000000003,
          0.4000000000000003,
          0.4000000000000003,
          0.4000000000000003,
          0.4000000000000003,
          0.4000000000000003,
          0.4000000000000003,
          0.4000000000000003,
          0.4000000000000003,
          0.4000000000000003,
          0.4000000000000003,
          0.4000000000000003,
          0.4000000000000003,
          0.4000000000000003,
          0.4000000000000003,
          0.2000000000000003,
          0.2000000000000003,
          0.2000000000000003,
          0.2000000000000003,
          0.2000000000000003,
          0.2000000000000003,
          0.2000000000000003,
          0.2000000000000003,
          0.2000000000000003,
          0.2000000000000003,
          0.2000000000000003,
          0.2000000000000003,
          0.2000000000000003,
          0.2000000000000003,
          0.2000000000000003,
          0.2000000000000003,
          0.2000000000000003,
          0.2000000000000003,
          0.2000000000000003,
          0.2000000000000003,
          0.2000000000000003,
          0.2000000000000003,
          0.2000000000000003,
          0.2000000000000003,
          0.2000000000000003,
          0.2000000000000003,
          0.2000000000000003,
          0.2000000000000003,
          0.2000000000000003,
          0.2000000000000003,
          0.2000000000000003,
          0.2000000000000003
         ]
        },
        {
         "marker": {
          "color": "red",
          "size": 10,
          "symbol": "diamond"
         },
         "mode": "markers",
         "name": "Current Position",
         "type": "scatter3d",
         "x": [
          0.11948914004890232
         ],
         "y": [
          -0.8382464945967774
         ],
         "z": [
          0.2000000000000003
         ]
        }
       ],
       "layout": {
        "height": 500,
        "legend": {
         "x": 0,
         "y": 1
        },
        "margin": {
         "b": 0,
         "l": 0,
         "r": 0,
         "t": 30
        },
        "scene": {
         "aspectmode": "data",
         "camera": {
          "eye": {
           "x": 1.5,
           "y": 1.5,
           "z": 0.6
          }
         },
         "xaxis": {
          "title": {
           "text": "X (meters)"
          }
         },
         "yaxis": {
          "title": {
           "text": "Y (meters)"
          }
         },
         "zaxis": {
          "title": {
           "text": "Altitude (meters)"
          }
         }
        },
        "template": {
         "data": {
          "bar": [
           {
            "error_x": {
             "color": "#2a3f5f"
            },
            "error_y": {
             "color": "#2a3f5f"
            },
            "marker": {
             "line": {
              "color": "#E5ECF6",
              "width": 0.5
             },
             "pattern": {
              "fillmode": "overlay",
              "size": 10,
              "solidity": 0.2
             }
            },
            "type": "bar"
           }
          ],
          "barpolar": [
           {
            "marker": {
             "line": {
              "color": "#E5ECF6",
              "width": 0.5
             },
             "pattern": {
              "fillmode": "overlay",
              "size": 10,
              "solidity": 0.2
             }
            },
            "type": "barpolar"
           }
          ],
          "carpet": [
           {
            "aaxis": {
             "endlinecolor": "#2a3f5f",
             "gridcolor": "white",
             "linecolor": "white",
             "minorgridcolor": "white",
             "startlinecolor": "#2a3f5f"
            },
            "baxis": {
             "endlinecolor": "#2a3f5f",
             "gridcolor": "white",
             "linecolor": "white",
             "minorgridcolor": "white",
             "startlinecolor": "#2a3f5f"
            },
            "type": "carpet"
           }
          ],
          "choropleth": [
           {
            "colorbar": {
             "outlinewidth": 0,
             "ticks": ""
            },
            "type": "choropleth"
           }
          ],
          "contour": [
           {
            "colorbar": {
             "outlinewidth": 0,
             "ticks": ""
            },
            "colorscale": [
             [
              0,
              "#0d0887"
             ],
             [
              0.1111111111111111,
              "#46039f"
             ],
             [
              0.2222222222222222,
              "#7201a8"
             ],
             [
              0.3333333333333333,
              "#9c179e"
             ],
             [
              0.4444444444444444,
              "#bd3786"
             ],
             [
              0.5555555555555556,
              "#d8576b"
             ],
             [
              0.6666666666666666,
              "#ed7953"
             ],
             [
              0.7777777777777778,
              "#fb9f3a"
             ],
             [
              0.8888888888888888,
              "#fdca26"
             ],
             [
              1,
              "#f0f921"
             ]
            ],
            "type": "contour"
           }
          ],
          "contourcarpet": [
           {
            "colorbar": {
             "outlinewidth": 0,
             "ticks": ""
            },
            "type": "contourcarpet"
           }
          ],
          "heatmap": [
           {
            "colorbar": {
             "outlinewidth": 0,
             "ticks": ""
            },
            "colorscale": [
             [
              0,
              "#0d0887"
             ],
             [
              0.1111111111111111,
              "#46039f"
             ],
             [
              0.2222222222222222,
              "#7201a8"
             ],
             [
              0.3333333333333333,
              "#9c179e"
             ],
             [
              0.4444444444444444,
              "#bd3786"
             ],
             [
              0.5555555555555556,
              "#d8576b"
             ],
             [
              0.6666666666666666,
              "#ed7953"
             ],
             [
              0.7777777777777778,
              "#fb9f3a"
             ],
             [
              0.8888888888888888,
              "#fdca26"
             ],
             [
              1,
              "#f0f921"
             ]
            ],
            "type": "heatmap"
           }
          ],
          "histogram": [
           {
            "marker": {
             "pattern": {
              "fillmode": "overlay",
              "size": 10,
              "solidity": 0.2
             }
            },
            "type": "histogram"
           }
          ],
          "histogram2d": [
           {
            "colorbar": {
             "outlinewidth": 0,
             "ticks": ""
            },
            "colorscale": [
             [
              0,
              "#0d0887"
             ],
             [
              0.1111111111111111,
              "#46039f"
             ],
             [
              0.2222222222222222,
              "#7201a8"
             ],
             [
              0.3333333333333333,
              "#9c179e"
             ],
             [
              0.4444444444444444,
              "#bd3786"
             ],
             [
              0.5555555555555556,
              "#d8576b"
             ],
             [
              0.6666666666666666,
              "#ed7953"
             ],
             [
              0.7777777777777778,
              "#fb9f3a"
             ],
             [
              0.8888888888888888,
              "#fdca26"
             ],
             [
              1,
              "#f0f921"
             ]
            ],
            "type": "histogram2d"
           }
          ],
          "histogram2dcontour": [
           {
            "colorbar": {
             "outlinewidth": 0,
             "ticks": ""
            },
            "colorscale": [
             [
              0,
              "#0d0887"
             ],
             [
              0.1111111111111111,
              "#46039f"
             ],
             [
              0.2222222222222222,
              "#7201a8"
             ],
             [
              0.3333333333333333,
              "#9c179e"
             ],
             [
              0.4444444444444444,
              "#bd3786"
             ],
             [
              0.5555555555555556,
              "#d8576b"
             ],
             [
              0.6666666666666666,
              "#ed7953"
             ],
             [
              0.7777777777777778,
              "#fb9f3a"
             ],
             [
              0.8888888888888888,
              "#fdca26"
             ],
             [
              1,
              "#f0f921"
             ]
            ],
            "type": "histogram2dcontour"
           }
          ],
          "mesh3d": [
           {
            "colorbar": {
             "outlinewidth": 0,
             "ticks": ""
            },
            "type": "mesh3d"
           }
          ],
          "parcoords": [
           {
            "line": {
             "colorbar": {
              "outlinewidth": 0,
              "ticks": ""
             }
            },
            "type": "parcoords"
           }
          ],
          "pie": [
           {
            "automargin": true,
            "type": "pie"
           }
          ],
          "scatter": [
           {
            "fillpattern": {
             "fillmode": "overlay",
             "size": 10,
             "solidity": 0.2
            },
            "type": "scatter"
           }
          ],
          "scatter3d": [
           {
            "line": {
             "colorbar": {
              "outlinewidth": 0,
              "ticks": ""
             }
            },
            "marker": {
             "colorbar": {
              "outlinewidth": 0,
              "ticks": ""
             }
            },
            "type": "scatter3d"
           }
          ],
          "scattercarpet": [
           {
            "marker": {
             "colorbar": {
              "outlinewidth": 0,
              "ticks": ""
             }
            },
            "type": "scattercarpet"
           }
          ],
          "scattergeo": [
           {
            "marker": {
             "colorbar": {
              "outlinewidth": 0,
              "ticks": ""
             }
            },
            "type": "scattergeo"
           }
          ],
          "scattergl": [
           {
            "marker": {
             "colorbar": {
              "outlinewidth": 0,
              "ticks": ""
             }
            },
            "type": "scattergl"
           }
          ],
          "scattermap": [
           {
            "marker": {
             "colorbar": {
              "outlinewidth": 0,
              "ticks": ""
             }
            },
            "type": "scattermap"
           }
          ],
          "scattermapbox": [
           {
            "marker": {
             "colorbar": {
              "outlinewidth": 0,
              "ticks": ""
             }
            },
            "type": "scattermapbox"
           }
          ],
          "scatterpolar": [
           {
            "marker": {
             "colorbar": {
              "outlinewidth": 0,
              "ticks": ""
             }
            },
            "type": "scatterpolar"
           }
          ],
          "scatterpolargl": [
           {
            "marker": {
             "colorbar": {
              "outlinewidth": 0,
              "ticks": ""
             }
            },
            "type": "scatterpolargl"
           }
          ],
          "scatterternary": [
           {
            "marker": {
             "colorbar": {
              "outlinewidth": 0,
              "ticks": ""
             }
            },
            "type": "scatterternary"
           }
          ],
          "surface": [
           {
            "colorbar": {
             "outlinewidth": 0,
             "ticks": ""
            },
            "colorscale": [
             [
              0,
              "#0d0887"
             ],
             [
              0.1111111111111111,
              "#46039f"
             ],
             [
              0.2222222222222222,
              "#7201a8"
             ],
             [
              0.3333333333333333,
              "#9c179e"
             ],
             [
              0.4444444444444444,
              "#bd3786"
             ],
             [
              0.5555555555555556,
              "#d8576b"
             ],
             [
              0.6666666666666666,
              "#ed7953"
             ],
             [
              0.7777777777777778,
              "#fb9f3a"
             ],
             [
              0.8888888888888888,
              "#fdca26"
             ],
             [
              1,
              "#f0f921"
             ]
            ],
            "type": "surface"
           }
          ],
          "table": [
           {
            "cells": {
             "fill": {
              "color": "#EBF0F8"
             },
             "line": {
              "color": "white"
             }
            },
            "header": {
             "fill": {
              "color": "#C8D4E3"
             },
             "line": {
              "color": "white"
             }
            },
            "type": "table"
           }
          ]
         },
         "layout": {
          "annotationdefaults": {
           "arrowcolor": "#2a3f5f",
           "arrowhead": 0,
           "arrowwidth": 1
          },
          "autotypenumbers": "strict",
          "coloraxis": {
           "colorbar": {
            "outlinewidth": 0,
            "ticks": ""
           }
          },
          "colorscale": {
           "diverging": [
            [
             0,
             "#8e0152"
            ],
            [
             0.1,
             "#c51b7d"
            ],
            [
             0.2,
             "#de77ae"
            ],
            [
             0.3,
             "#f1b6da"
            ],
            [
             0.4,
             "#fde0ef"
            ],
            [
             0.5,
             "#f7f7f7"
            ],
            [
             0.6,
             "#e6f5d0"
            ],
            [
             0.7,
             "#b8e186"
            ],
            [
             0.8,
             "#7fbc41"
            ],
            [
             0.9,
             "#4d9221"
            ],
            [
             1,
             "#276419"
            ]
           ],
           "sequential": [
            [
             0,
             "#0d0887"
            ],
            [
             0.1111111111111111,
             "#46039f"
            ],
            [
             0.2222222222222222,
             "#7201a8"
            ],
            [
             0.3333333333333333,
             "#9c179e"
            ],
            [
             0.4444444444444444,
             "#bd3786"
            ],
            [
             0.5555555555555556,
             "#d8576b"
            ],
            [
             0.6666666666666666,
             "#ed7953"
            ],
            [
             0.7777777777777778,
             "#fb9f3a"
            ],
            [
             0.8888888888888888,
             "#fdca26"
            ],
            [
             1,
             "#f0f921"
            ]
           ],
           "sequentialminus": [
            [
             0,
             "#0d0887"
            ],
            [
             0.1111111111111111,
             "#46039f"
            ],
            [
             0.2222222222222222,
             "#7201a8"
            ],
            [
             0.3333333333333333,
             "#9c179e"
            ],
            [
             0.4444444444444444,
             "#bd3786"
            ],
            [
             0.5555555555555556,
             "#d8576b"
            ],
            [
             0.6666666666666666,
             "#ed7953"
            ],
            [
             0.7777777777777778,
             "#fb9f3a"
            ],
            [
             0.8888888888888888,
             "#fdca26"
            ],
            [
             1,
             "#f0f921"
            ]
           ]
          },
          "colorway": [
           "#636efa",
           "#EF553B",
           "#00cc96",
           "#ab63fa",
           "#FFA15A",
           "#19d3f3",
           "#FF6692",
           "#B6E880",
           "#FF97FF",
           "#FECB52"
          ],
          "font": {
           "color": "#2a3f5f"
          },
          "geo": {
           "bgcolor": "white",
           "lakecolor": "white",
           "landcolor": "#E5ECF6",
           "showlakes": true,
           "showland": true,
           "subunitcolor": "white"
          },
          "hoverlabel": {
           "align": "left"
          },
          "hovermode": "closest",
          "mapbox": {
           "style": "light"
          },
          "paper_bgcolor": "white",
          "plot_bgcolor": "#E5ECF6",
          "polar": {
           "angularaxis": {
            "gridcolor": "white",
            "linecolor": "white",
            "ticks": ""
           },
           "bgcolor": "#E5ECF6",
           "radialaxis": {
            "gridcolor": "white",
            "linecolor": "white",
            "ticks": ""
           }
          },
          "scene": {
           "xaxis": {
            "backgroundcolor": "#E5ECF6",
            "gridcolor": "white",
            "gridwidth": 2,
            "linecolor": "white",
            "showbackground": true,
            "ticks": "",
            "zerolinecolor": "white"
           },
           "yaxis": {
            "backgroundcolor": "#E5ECF6",
            "gridcolor": "white",
            "gridwidth": 2,
            "linecolor": "white",
            "showbackground": true,
            "ticks": "",
            "zerolinecolor": "white"
           },
           "zaxis": {
            "backgroundcolor": "#E5ECF6",
            "gridcolor": "white",
            "gridwidth": 2,
            "linecolor": "white",
            "showbackground": true,
            "ticks": "",
            "zerolinecolor": "white"
           }
          },
          "shapedefaults": {
           "line": {
            "color": "#2a3f5f"
           }
          },
          "ternary": {
           "aaxis": {
            "gridcolor": "white",
            "linecolor": "white",
            "ticks": ""
           },
           "baxis": {
            "gridcolor": "white",
            "linecolor": "white",
            "ticks": ""
           },
           "bgcolor": "#E5ECF6",
           "caxis": {
            "gridcolor": "white",
            "linecolor": "white",
            "ticks": ""
           }
          },
          "title": {
           "x": 0.05
          },
          "xaxis": {
           "automargin": true,
           "gridcolor": "white",
           "linecolor": "white",
           "ticks": "",
           "title": {
            "standoff": 15
           },
           "zerolinecolor": "white",
           "zerolinewidth": 2
          },
          "yaxis": {
           "automargin": true,
           "gridcolor": "white",
           "linecolor": "white",
           "ticks": "",
           "title": {
            "standoff": 15
           },
           "zerolinecolor": "white",
           "zerolinewidth": 2
          }
         }
        },
        "title": {
         "text": "Interactive 3D Drone Flight Path"
        },
        "width": 600
       }
      }
     },
     "metadata": {},
     "output_type": "display_data"
    },
    {
     "name": "stdout",
     "output_type": "stream",
     "text": [
      "Moving: vx=0, vy=0, vz=-0.2, yaw=0\n",
      "Executing command: move 0 0 -0.2 0 1.0\n"
     ]
    },
    {
     "data": {
      "application/vnd.plotly.v1+json": {
       "config": {
        "plotlyServerURL": "https://plot.ly"
       },
       "data": [
        {
         "line": {
          "color": "blue",
          "width": 4
         },
         "marker": {
          "size": 4
         },
         "mode": "lines+markers",
         "name": "Drone Path",
         "type": "scatter3d",
         "x": {
          "bdata": "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",
          "dtype": "f8"
         },
         "y": {
          "bdata": "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",
          "dtype": "f8"
         },
         "z": [
          2,
          2,
          2,
          2,
          2,
          2,
          2,
          2,
          2,
          2,
          2,
          2,
          2,
          2,
          2,
          2,
          2,
          2,
          2,
          2,
          2,
          2,
          2,
          2,
          2,
          2,
          2,
          2,
          2,
          2,
          2,
          2,
          1.8,
          1.8,
          1.8,
          1.8,
          1.8,
          1.8,
          1.8,
          1.8,
          1.8,
          1.8,
          1.8,
          1.8,
          1.8,
          1.8,
          1.8,
          1.8,
          1.8,
          1.8,
          1.8,
          1.8,
          1.8,
          1.8,
          1.8,
          1.8,
          1.8,
          1.8,
          1.8,
          1.8,
          1.8,
          1.8,
          1.8,
          1.8,
          1.6,
          1.6,
          1.6,
          1.6,
          1.6,
          1.6,
          1.6,
          1.6,
          1.6,
          1.6,
          1.6,
          1.6,
          1.6,
          1.6,
          1.6,
          1.6,
          1.6,
          1.6,
          1.6,
          1.6,
          1.6,
          1.6,
          1.6,
          1.6,
          1.6,
          1.6,
          1.6,
          1.6,
          1.6,
          1.6,
          1.6,
          1.6,
          1.4000000000000001,
          1.4000000000000001,
          1.4000000000000001,
          1.4000000000000001,
          1.4000000000000001,
          1.4000000000000001,
          1.4000000000000001,
          1.4000000000000001,
          1.4000000000000001,
          1.4000000000000001,
          1.4000000000000001,
          1.4000000000000001,
          1.4000000000000001,
          1.4000000000000001,
          1.4000000000000001,
          1.4000000000000001,
          1.4000000000000001,
          1.4000000000000001,
          1.4000000000000001,
          1.4000000000000001,
          1.4000000000000001,
          1.4000000000000001,
          1.4000000000000001,
          1.4000000000000001,
          1.4000000000000001,
          1.4000000000000001,
          1.4000000000000001,
          1.4000000000000001,
          1.4000000000000001,
          1.4000000000000001,
          1.4000000000000001,
          1.4000000000000001,
          1.2000000000000002,
          1.2000000000000002,
          1.2000000000000002,
          1.2000000000000002,
          1.2000000000000002,
          1.2000000000000002,
          1.2000000000000002,
          1.2000000000000002,
          1.2000000000000002,
          1.2000000000000002,
          1.2000000000000002,
          1.2000000000000002,
          1.2000000000000002,
          1.2000000000000002,
          1.2000000000000002,
          1.2000000000000002,
          1.2000000000000002,
          1.2000000000000002,
          1.2000000000000002,
          1.2000000000000002,
          1.2000000000000002,
          1.2000000000000002,
          1.2000000000000002,
          1.2000000000000002,
          1.2000000000000002,
          1.2000000000000002,
          1.2000000000000002,
          1.2000000000000002,
          1.2000000000000002,
          1.2000000000000002,
          1.2000000000000002,
          1.2000000000000002,
          1.0000000000000002,
          1.0000000000000002,
          1.0000000000000002,
          1.0000000000000002,
          1.0000000000000002,
          1.0000000000000002,
          1.0000000000000002,
          1.0000000000000002,
          1.0000000000000002,
          1.0000000000000002,
          1.0000000000000002,
          1.0000000000000002,
          1.0000000000000002,
          1.0000000000000002,
          1.0000000000000002,
          1.0000000000000002,
          1.0000000000000002,
          1.0000000000000002,
          1.0000000000000002,
          1.0000000000000002,
          1.0000000000000002,
          1.0000000000000002,
          1.0000000000000002,
          1.0000000000000002,
          1.0000000000000002,
          1.0000000000000002,
          1.0000000000000002,
          1.0000000000000002,
          1.0000000000000002,
          1.0000000000000002,
          1.0000000000000002,
          1.0000000000000002,
          0.8000000000000003,
          0.8000000000000003,
          0.8000000000000003,
          0.8000000000000003,
          0.8000000000000003,
          0.8000000000000003,
          0.8000000000000003,
          0.8000000000000003,
          0.8000000000000003,
          0.8000000000000003,
          0.8000000000000003,
          0.8000000000000003,
          0.8000000000000003,
          0.8000000000000003,
          0.8000000000000003,
          0.8000000000000003,
          0.8000000000000003,
          0.8000000000000003,
          0.8000000000000003,
          0.8000000000000003,
          0.8000000000000003,
          0.8000000000000003,
          0.8000000000000003,
          0.8000000000000003,
          0.8000000000000003,
          0.8000000000000003,
          0.8000000000000003,
          0.8000000000000003,
          0.8000000000000003,
          0.8000000000000003,
          0.8000000000000003,
          0.8000000000000003,
          0.6000000000000003,
          0.6000000000000003,
          0.6000000000000003,
          0.6000000000000003,
          0.6000000000000003,
          0.6000000000000003,
          0.6000000000000003,
          0.6000000000000003,
          0.6000000000000003,
          0.6000000000000003,
          0.6000000000000003,
          0.6000000000000003,
          0.6000000000000003,
          0.6000000000000003,
          0.6000000000000003,
          0.6000000000000003,
          0.6000000000000003,
          0.6000000000000003,
          0.6000000000000003,
          0.6000000000000003,
          0.6000000000000003,
          0.6000000000000003,
          0.6000000000000003,
          0.6000000000000003,
          0.6000000000000003,
          0.6000000000000003,
          0.6000000000000003,
          0.6000000000000003,
          0.6000000000000003,
          0.6000000000000003,
          0.6000000000000003,
          0.6000000000000003,
          0.4000000000000003,
          0.4000000000000003,
          0.4000000000000003,
          0.4000000000000003,
          0.4000000000000003,
          0.4000000000000003,
          0.4000000000000003,
          0.4000000000000003,
          0.4000000000000003,
          0.4000000000000003,
          0.4000000000000003,
          0.4000000000000003,
          0.4000000000000003,
          0.4000000000000003,
          0.4000000000000003,
          0.4000000000000003,
          0.4000000000000003,
          0.4000000000000003,
          0.4000000000000003,
          0.4000000000000003,
          0.4000000000000003,
          0.4000000000000003,
          0.4000000000000003,
          0.4000000000000003,
          0.4000000000000003,
          0.4000000000000003,
          0.4000000000000003,
          0.4000000000000003,
          0.4000000000000003,
          0.4000000000000003,
          0.4000000000000003,
          0.4000000000000003,
          0.2000000000000003,
          0.2000000000000003,
          0.2000000000000003,
          0.2000000000000003,
          0.2000000000000003,
          0.2000000000000003,
          0.2000000000000003,
          0.2000000000000003,
          0.2000000000000003,
          0.2000000000000003,
          0.2000000000000003,
          0.2000000000000003,
          0.2000000000000003,
          0.2000000000000003,
          0.2000000000000003,
          0.2000000000000003,
          0.2000000000000003,
          0.2000000000000003,
          0.2000000000000003,
          0.2000000000000003,
          0.2000000000000003,
          0.2000000000000003,
          0.2000000000000003,
          0.2000000000000003,
          0.2000000000000003,
          0.2000000000000003,
          0.2000000000000003,
          0.2000000000000003,
          0.2000000000000003,
          0.2000000000000003,
          0.2000000000000003,
          0.2000000000000003,
          2.7755575615628914e-16
         ]
        },
        {
         "marker": {
          "color": "red",
          "size": 10,
          "symbol": "diamond"
         },
         "mode": "markers",
         "name": "Current Position",
         "type": "scatter3d",
         "x": [
          0.11948914004890232
         ],
         "y": [
          -0.8382464945967774
         ],
         "z": [
          2.7755575615628914e-16
         ]
        }
       ],
       "layout": {
        "height": 500,
        "legend": {
         "x": 0,
         "y": 1
        },
        "margin": {
         "b": 0,
         "l": 0,
         "r": 0,
         "t": 30
        },
        "scene": {
         "aspectmode": "data",
         "camera": {
          "eye": {
           "x": 1.5,
           "y": 1.5,
           "z": 0.6
          }
         },
         "xaxis": {
          "title": {
           "text": "X (meters)"
          }
         },
         "yaxis": {
          "title": {
           "text": "Y (meters)"
          }
         },
         "zaxis": {
          "title": {
           "text": "Altitude (meters)"
          }
         }
        },
        "template": {
         "data": {
          "bar": [
           {
            "error_x": {
             "color": "#2a3f5f"
            },
            "error_y": {
             "color": "#2a3f5f"
            },
            "marker": {
             "line": {
              "color": "#E5ECF6",
              "width": 0.5
             },
             "pattern": {
              "fillmode": "overlay",
              "size": 10,
              "solidity": 0.2
             }
            },
            "type": "bar"
           }
          ],
          "barpolar": [
           {
            "marker": {
             "line": {
              "color": "#E5ECF6",
              "width": 0.5
             },
             "pattern": {
              "fillmode": "overlay",
              "size": 10,
              "solidity": 0.2
             }
            },
            "type": "barpolar"
           }
          ],
          "carpet": [
           {
            "aaxis": {
             "endlinecolor": "#2a3f5f",
             "gridcolor": "white",
             "linecolor": "white",
             "minorgridcolor": "white",
             "startlinecolor": "#2a3f5f"
            },
            "baxis": {
             "endlinecolor": "#2a3f5f",
             "gridcolor": "white",
             "linecolor": "white",
             "minorgridcolor": "white",
             "startlinecolor": "#2a3f5f"
            },
            "type": "carpet"
           }
          ],
          "choropleth": [
           {
            "colorbar": {
             "outlinewidth": 0,
             "ticks": ""
            },
            "type": "choropleth"
           }
          ],
          "contour": [
           {
            "colorbar": {
             "outlinewidth": 0,
             "ticks": ""
            },
            "colorscale": [
             [
              0,
              "#0d0887"
             ],
             [
              0.1111111111111111,
              "#46039f"
             ],
             [
              0.2222222222222222,
              "#7201a8"
             ],
             [
              0.3333333333333333,
              "#9c179e"
             ],
             [
              0.4444444444444444,
              "#bd3786"
             ],
             [
              0.5555555555555556,
              "#d8576b"
             ],
             [
              0.6666666666666666,
              "#ed7953"
             ],
             [
              0.7777777777777778,
              "#fb9f3a"
             ],
             [
              0.8888888888888888,
              "#fdca26"
             ],
             [
              1,
              "#f0f921"
             ]
            ],
            "type": "contour"
           }
          ],
          "contourcarpet": [
           {
            "colorbar": {
             "outlinewidth": 0,
             "ticks": ""
            },
            "type": "contourcarpet"
           }
          ],
          "heatmap": [
           {
            "colorbar": {
             "outlinewidth": 0,
             "ticks": ""
            },
            "colorscale": [
             [
              0,
              "#0d0887"
             ],
             [
              0.1111111111111111,
              "#46039f"
             ],
             [
              0.2222222222222222,
              "#7201a8"
             ],
             [
              0.3333333333333333,
              "#9c179e"
             ],
             [
              0.4444444444444444,
              "#bd3786"
             ],
             [
              0.5555555555555556,
              "#d8576b"
             ],
             [
              0.6666666666666666,
              "#ed7953"
             ],
             [
              0.7777777777777778,
              "#fb9f3a"
             ],
             [
              0.8888888888888888,
              "#fdca26"
             ],
             [
              1,
              "#f0f921"
             ]
            ],
            "type": "heatmap"
           }
          ],
          "histogram": [
           {
            "marker": {
             "pattern": {
              "fillmode": "overlay",
              "size": 10,
              "solidity": 0.2
             }
            },
            "type": "histogram"
           }
          ],
          "histogram2d": [
           {
            "colorbar": {
             "outlinewidth": 0,
             "ticks": ""
            },
            "colorscale": [
             [
              0,
              "#0d0887"
             ],
             [
              0.1111111111111111,
              "#46039f"
             ],
             [
              0.2222222222222222,
              "#7201a8"
             ],
             [
              0.3333333333333333,
              "#9c179e"
             ],
             [
              0.4444444444444444,
              "#bd3786"
             ],
             [
              0.5555555555555556,
              "#d8576b"
             ],
             [
              0.6666666666666666,
              "#ed7953"
             ],
             [
              0.7777777777777778,
              "#fb9f3a"
             ],
             [
              0.8888888888888888,
              "#fdca26"
             ],
             [
              1,
              "#f0f921"
             ]
            ],
            "type": "histogram2d"
           }
          ],
          "histogram2dcontour": [
           {
            "colorbar": {
             "outlinewidth": 0,
             "ticks": ""
            },
            "colorscale": [
             [
              0,
              "#0d0887"
             ],
             [
              0.1111111111111111,
              "#46039f"
             ],
             [
              0.2222222222222222,
              "#7201a8"
             ],
             [
              0.3333333333333333,
              "#9c179e"
             ],
             [
              0.4444444444444444,
              "#bd3786"
             ],
             [
              0.5555555555555556,
              "#d8576b"
             ],
             [
              0.6666666666666666,
              "#ed7953"
             ],
             [
              0.7777777777777778,
              "#fb9f3a"
             ],
             [
              0.8888888888888888,
              "#fdca26"
             ],
             [
              1,
              "#f0f921"
             ]
            ],
            "type": "histogram2dcontour"
           }
          ],
          "mesh3d": [
           {
            "colorbar": {
             "outlinewidth": 0,
             "ticks": ""
            },
            "type": "mesh3d"
           }
          ],
          "parcoords": [
           {
            "line": {
             "colorbar": {
              "outlinewidth": 0,
              "ticks": ""
             }
            },
            "type": "parcoords"
           }
          ],
          "pie": [
           {
            "automargin": true,
            "type": "pie"
           }
          ],
          "scatter": [
           {
            "fillpattern": {
             "fillmode": "overlay",
             "size": 10,
             "solidity": 0.2
            },
            "type": "scatter"
           }
          ],
          "scatter3d": [
           {
            "line": {
             "colorbar": {
              "outlinewidth": 0,
              "ticks": ""
             }
            },
            "marker": {
             "colorbar": {
              "outlinewidth": 0,
              "ticks": ""
             }
            },
            "type": "scatter3d"
           }
          ],
          "scattercarpet": [
           {
            "marker": {
             "colorbar": {
              "outlinewidth": 0,
              "ticks": ""
             }
            },
            "type": "scattercarpet"
           }
          ],
          "scattergeo": [
           {
            "marker": {
             "colorbar": {
              "outlinewidth": 0,
              "ticks": ""
             }
            },
            "type": "scattergeo"
           }
          ],
          "scattergl": [
           {
            "marker": {
             "colorbar": {
              "outlinewidth": 0,
              "ticks": ""
             }
            },
            "type": "scattergl"
           }
          ],
          "scattermap": [
           {
            "marker": {
             "colorbar": {
              "outlinewidth": 0,
              "ticks": ""
             }
            },
            "type": "scattermap"
           }
          ],
          "scattermapbox": [
           {
            "marker": {
             "colorbar": {
              "outlinewidth": 0,
              "ticks": ""
             }
            },
            "type": "scattermapbox"
           }
          ],
          "scatterpolar": [
           {
            "marker": {
             "colorbar": {
              "outlinewidth": 0,
              "ticks": ""
             }
            },
            "type": "scatterpolar"
           }
          ],
          "scatterpolargl": [
           {
            "marker": {
             "colorbar": {
              "outlinewidth": 0,
              "ticks": ""
             }
            },
            "type": "scatterpolargl"
           }
          ],
          "scatterternary": [
           {
            "marker": {
             "colorbar": {
              "outlinewidth": 0,
              "ticks": ""
             }
            },
            "type": "scatterternary"
           }
          ],
          "surface": [
           {
            "colorbar": {
             "outlinewidth": 0,
             "ticks": ""
            },
            "colorscale": [
             [
              0,
              "#0d0887"
             ],
             [
              0.1111111111111111,
              "#46039f"
             ],
             [
              0.2222222222222222,
              "#7201a8"
             ],
             [
              0.3333333333333333,
              "#9c179e"
             ],
             [
              0.4444444444444444,
              "#bd3786"
             ],
             [
              0.5555555555555556,
              "#d8576b"
             ],
             [
              0.6666666666666666,
              "#ed7953"
             ],
             [
              0.7777777777777778,
              "#fb9f3a"
             ],
             [
              0.8888888888888888,
              "#fdca26"
             ],
             [
              1,
              "#f0f921"
             ]
            ],
            "type": "surface"
           }
          ],
          "table": [
           {
            "cells": {
             "fill": {
              "color": "#EBF0F8"
             },
             "line": {
              "color": "white"
             }
            },
            "header": {
             "fill": {
              "color": "#C8D4E3"
             },
             "line": {
              "color": "white"
             }
            },
            "type": "table"
           }
          ]
         },
         "layout": {
          "annotationdefaults": {
           "arrowcolor": "#2a3f5f",
           "arrowhead": 0,
           "arrowwidth": 1
          },
          "autotypenumbers": "strict",
          "coloraxis": {
           "colorbar": {
            "outlinewidth": 0,
            "ticks": ""
           }
          },
          "colorscale": {
           "diverging": [
            [
             0,
             "#8e0152"
            ],
            [
             0.1,
             "#c51b7d"
            ],
            [
             0.2,
             "#de77ae"
            ],
            [
             0.3,
             "#f1b6da"
            ],
            [
             0.4,
             "#fde0ef"
            ],
            [
             0.5,
             "#f7f7f7"
            ],
            [
             0.6,
             "#e6f5d0"
            ],
            [
             0.7,
             "#b8e186"
            ],
            [
             0.8,
             "#7fbc41"
            ],
            [
             0.9,
             "#4d9221"
            ],
            [
             1,
             "#276419"
            ]
           ],
           "sequential": [
            [
             0,
             "#0d0887"
            ],
            [
             0.1111111111111111,
             "#46039f"
            ],
            [
             0.2222222222222222,
             "#7201a8"
            ],
            [
             0.3333333333333333,
             "#9c179e"
            ],
            [
             0.4444444444444444,
             "#bd3786"
            ],
            [
             0.5555555555555556,
             "#d8576b"
            ],
            [
             0.6666666666666666,
             "#ed7953"
            ],
            [
             0.7777777777777778,
             "#fb9f3a"
            ],
            [
             0.8888888888888888,
             "#fdca26"
            ],
            [
             1,
             "#f0f921"
            ]
           ],
           "sequentialminus": [
            [
             0,
             "#0d0887"
            ],
            [
             0.1111111111111111,
             "#46039f"
            ],
            [
             0.2222222222222222,
             "#7201a8"
            ],
            [
             0.3333333333333333,
             "#9c179e"
            ],
            [
             0.4444444444444444,
             "#bd3786"
            ],
            [
             0.5555555555555556,
             "#d8576b"
            ],
            [
             0.6666666666666666,
             "#ed7953"
            ],
            [
             0.7777777777777778,
             "#fb9f3a"
            ],
            [
             0.8888888888888888,
             "#fdca26"
            ],
            [
             1,
             "#f0f921"
            ]
           ]
          },
          "colorway": [
           "#636efa",
           "#EF553B",
           "#00cc96",
           "#ab63fa",
           "#FFA15A",
           "#19d3f3",
           "#FF6692",
           "#B6E880",
           "#FF97FF",
           "#FECB52"
          ],
          "font": {
           "color": "#2a3f5f"
          },
          "geo": {
           "bgcolor": "white",
           "lakecolor": "white",
           "landcolor": "#E5ECF6",
           "showlakes": true,
           "showland": true,
           "subunitcolor": "white"
          },
          "hoverlabel": {
           "align": "left"
          },
          "hovermode": "closest",
          "mapbox": {
           "style": "light"
          },
          "paper_bgcolor": "white",
          "plot_bgcolor": "#E5ECF6",
          "polar": {
           "angularaxis": {
            "gridcolor": "white",
            "linecolor": "white",
            "ticks": ""
           },
           "bgcolor": "#E5ECF6",
           "radialaxis": {
            "gridcolor": "white",
            "linecolor": "white",
            "ticks": ""
           }
          },
          "scene": {
           "xaxis": {
            "backgroundcolor": "#E5ECF6",
            "gridcolor": "white",
            "gridwidth": 2,
            "linecolor": "white",
            "showbackground": true,
            "ticks": "",
            "zerolinecolor": "white"
           },
           "yaxis": {
            "backgroundcolor": "#E5ECF6",
            "gridcolor": "white",
            "gridwidth": 2,
            "linecolor": "white",
            "showbackground": true,
            "ticks": "",
            "zerolinecolor": "white"
           },
           "zaxis": {
            "backgroundcolor": "#E5ECF6",
            "gridcolor": "white",
            "gridwidth": 2,
            "linecolor": "white",
            "showbackground": true,
            "ticks": "",
            "zerolinecolor": "white"
           }
          },
          "shapedefaults": {
           "line": {
            "color": "#2a3f5f"
           }
          },
          "ternary": {
           "aaxis": {
            "gridcolor": "white",
            "linecolor": "white",
            "ticks": ""
           },
           "baxis": {
            "gridcolor": "white",
            "linecolor": "white",
            "ticks": ""
           },
           "bgcolor": "#E5ECF6",
           "caxis": {
            "gridcolor": "white",
            "linecolor": "white",
            "ticks": ""
           }
          },
          "title": {
           "x": 0.05
          },
          "xaxis": {
           "automargin": true,
           "gridcolor": "white",
           "linecolor": "white",
           "ticks": "",
           "title": {
            "standoff": 15
           },
           "zerolinecolor": "white",
           "zerolinewidth": 2
          },
          "yaxis": {
           "automargin": true,
           "gridcolor": "white",
           "linecolor": "white",
           "ticks": "",
           "title": {
            "standoff": 15
           },
           "zerolinecolor": "white",
           "zerolinewidth": 2
          }
         }
        },
        "title": {
         "text": "Interactive 3D Drone Flight Path"
        },
        "width": 600
       }
      }
     },
     "metadata": {},
     "output_type": "display_data"
    },
    {
     "name": "stdout",
     "output_type": "stream",
     "text": [
      "\u2b55 Executing circle left (optimized)...\n"
     ]
    },
    {
     "data": {
      "application/vnd.plotly.v1+json": {
       "config": {
        "plotlyServerURL": "https://plot.ly"
       },
       "data": [
        {
         "line": {
          "color": "blue",
          "width": 4
         },
         "marker": {
          "size": 4
         },
         "mode": "lines+markers",
         "name": "Drone Path",
         "type": "scatter3d",
         "x": {
          "bdata": "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",
          "dtype": "f8"
         },
         "y": {
          "bdata": "AAAAAAAAAAAAAAAAAAAAAOH8Fvf+g64/5khnsUbovT85G5NPqa7FP4/+f7bli8s/KG4Fif8n0D92M3aUKOXRP85TKbmu69I/ECggqxox0z+Qc3Hnp7LSP12fSvNgddE/PDUA0tcLzz8dlYTAEvDJP63T862Vy8M/sxPXkCK6uT86M6iDEK2lPx4bWLy67pG/WPXLeiSgs78qscMoJ/7Av/OztczOfse/0iQI16sPzb+BPuMf+LvQv8NL9oNQRdK/1lo4pTAU07+ZizopWSDTv7go7flNadK/TkkJOFv20L+GBjyClazNv9kmtYKaPci/E1PvqjnXwb+zKQdAiHW1v7MpB0CIdbW/sykHQIh1tb8Kre4RI86Yv2Y+wOJ85aA/vwwfX8rntT+2aXyWIdHAP3ZHB/I6lcU/EtLoCI0PyT/CEk9SmRzLP0a7PDZxp8s/RlLfrouqyj/gqZHG/S/IP2Kg/LETUcQ/hwACQZ1qvj+nfeAboyGyPwCoP0NpEpE/LCBm/P89pb96MB3vNvG5v4aPaV3WisS/BEbHSOu4y79mpFx2yRzRv9bchfs35dO/7gjlL1oZ1r8wFviTsqLXv0MlOrWScdi/BlY8Obt92L8l8+4JsMbXv7sTC0i9U9a/sM0f0awz1L/ZXVxRL3zRv+zn8sr9kcy/sykHQIh1xb+zKQdAiHXFv7MpB0CIdcW/9tSCBBGpu78AFU6dkwWqvwDD+MWHkFw/cFPj2XVZqD86ZQek7bS1P3J6ytGRqbw/6X1LMtVhwD9tJjkWrezAP9p6tx2P378/DiocTXPquj8SF/IjnyyzP6it9QEq6qE/YGA1ISmfir+zPzfv7TCxv+QcHR9ECsC/Fy2Sl1+zx79fJG19mkXPv25tZbTXOdO/025ehit61r9Cp4cLmkLZv1rT5j+8dtu/nOD5oxQA3b+w7zvF9M7dv3IgPkkd292/kr3wGRIk3b8o3gxYH7HbvxyYIeEOkdm/RiheYZHZ1r9jPnv1YKbTv0ZfBTAmGNC/Rl8FMCYY0L9GXwUwJhjQv1T/RKJMj8i/GRpXByk8wb+mRu8gRgO1v/T/KqaakaK/AMQdALKyTz8AQw1HJtCcP0CkH0lEnKY/UEbW2KPHqD9QomC7DdSkP3ABVDSs05U/AJWo4EhHgr+8pRh+5gCpv77VLWRtybi/sjSfFztTw7++sSA/CMXKv/jgytsRN9G/nFy4Ti8A1b/bN2fEOZfYv0A5YJaN19u/r3GJG/yf3r/kTvQnD2rgv4TV/Vm7LuG/Dt2eaiuW4b9w9Z+sP5zhv/9D+RS6QOG/SlQHtECH4L+JYiPxcO7ev7LyX3HzNty/0Ah9BcMD2b+zKQdAiHXVv7MpB0CIddW/sykHQIh11b8XSiRhCKXRv/OuWift9su/LTh7MGc8xb+uqRyTVb6+vyzuBtwiNrW/6LGHXP2CrL8or+42zE6kvxgNOKdsI6K/GLGtxAIXpr9YKfIynQCwv1Q8HFxxvre/Sb6Jv/36wL+5fxrSeh/Hv4zJojf/Dc6/TCOSL+a/0r9lq8zrc5TWvwknul6RXdq/SAJp1Jv03b/WATHTd5rgvw6exRWv/uG/GjT1L8AY47+7uv5hbN3jv0TCn3LcROS/ptqgtPBK5L82Kfoca+/jv4A5CLzxNeO/e5aSgOkl4r+Q3rDAKsrgvzzTfhUlYd6/IPQIUOrS2r8g9AhQ6tLavyD0CFDq0tq/hBQmcWoC17/mIa+j2FjTvwfNflAr98+/semR6e4Zyr/wCweO1VXFv1SBJXeD28G/SIF+W+6cv79AMKOTPoe+vyABL9GEQMC/hql8uRK7wr8EsxHO/JnGvyNTjd/Btcu/SgoPeR/t0L8zL9OrYWTUv7ntkz9IHdi/0nXO+9Xx27928btu87rfv1pmNfL+qOG/Decx2yhJ479Eg8YdYK3kv1AZ9jdxx+W/8p//aR2M5r97p6B6jfPmv9y/obyh+ea/bA77JBye5r+3HgnEouTlv7J7k4ia1OS/xsOxyNt447/VTsCSQ9/hv0ZfBTAmGOC/Rl8FMCYY4L9GXwUwJhjgv/DeJ4HMX9y/Uuywszq22L/wMEG491jVv0S/yoRZatK/ZFAF10wI0L8sFimXR5bMv3zVwk07icq/+CzVaWP+yb/4lTLxSPvKv14+gNnWdc2/7qMKd2Cq0L/+c8j/QjjTv7bUEImBSta/n/nUu8PB2b8luJVPqnrdvx8g6AWcp+C/8d1evyqM4r+QSzb6r1fkv0PMMuPZ9+W/emjHJRFc57+G/vY/InbovyiFAHLOOum/sYyhgj6i6b8SpaLEUqjpv6Lz+yzNTOm/7QMKzFOT6L/oYJSQS4Pnv/yostCMJ+a/CzTBmvSN5L98RAY418biv3xEBjjXxuK/fEQGONfG4r+u1JRIl97gv762ssOcE96/XPtCyFm22r+wicyUu8fXv9AaB+euZdW/glWW24Wo078qNeO2/6HSv+hg7MSTXNK/aBWbiAbb0r+b6cF8TRjUv1puDIfCB9a/aj7KD6WV2L8inxKZ46fbvwvE1sslH9+/SMHLLwZs4b9VBekNTVbjvyfDX8fbOuW/xjA3AmEG5795sTPriqbov7BNyC3CCuq/vOP3R9Mk679eagF6f+nrv+dxoorvUOy/SIqjzANX7L/Y2Pw0fvvrvyPpCtQEQuu/HkaVmPwx6r8yjrPYPdbov0EZwqKlPOe/sikHQIh15b+yKQdAiHXlv7IpB0CIdeW/5LmVUEiN47+VQNppf7jhv+RiIuzdCeC/HFTOpB0l3b885Qj3EMPav+4fmOvnBdm/lv/kxmH/179UK+7U9bnXv9TfnJhoONi/B7TDjK912b/GOA6XJGXbv9YIzB8H892/xzSK1KKC4L88R+ztQz7iv36mzDe3GuS/i+rpFf4E5r9dqGDPjOnnv/wVOAoStem/r5Y08ztV67/mMsk1c7nsv/LI+E+E0+2/lE8CgjCY7r8dV6OSoP/uv35vpNS0Be+/Dr79PC+q7r9ZzgvctfDtv1QrlqCt4Oy/aHO04O6E6793/sKqVuvpv+gOCEg5JOi/6A4ISDkk6L/oDghIOSTovxqfllj5O+a/yyXbcTBn5L8aSCP0jrjiv0QPaNo/QeG/1FeFgzkQ4L9a6pn7SWPevwLK5tbDXN2/wPXv5FcX3b9Aqp6oypXdv3N+xZwR096/mQGIU0Nh4L+h6eaXNKjhv/0Zi9xTMeO/cizt9fTs5L+0i80/aMnmv8HP6h2vs+i/k41h1z2Y6r8y+zgSw2Psv+V7NfvsA+6/HBjKPSRo778U1/yrGkHwv2WaAcVwo/C/Kh5SzSjX8L9aqlLuMtrwv6JRfyJwrPC/yFkGcrNP8L+KEJeoXo/vv55YteifM+6/rePDsgea7L8e9AhQ6tLqvx70CFDq0uq/HvQIUOrS6r9QhJdgqurovwEL3HnhFee/UC0k/D9n5b969Gji8O/jvwo9hovqvuK/Y9rNBVbg4b83SnTzEl3hvxbgePpcOuG/VjpQXJZ54b9wpGPWORjiv8/miFv0D+O/187nn+VW5L8z/4vkBODlv6gR7v2lm+e/6nDORxl46b/3tOslYGLrv8lyYt/uRu2/aOA5GnQS77+NMJsBT1nwv6l+5aJqC/G/r0n9L3OY8b8ADQJJyfrxv8SQUlGBLvK/9RxTcosx8r89xH+myAPyv2LMBvYLp/G/4PpL2Acf8b/qHlt4KHHwv+PIxLq4SO+/VNkJWJuB7b8=",
          "dtype": "f8"
         },
         "z": [
          2,
          2,
          2,
          2,
          2,
          2,
          2,
          2,
          2,
          2,
          2,
          2,
          2,
          2,
          2,
          2,
          2,
          2,
          2,
          2,
          2,
          2,
          2,
          2,
          2,
          2,
          2,
          2,
          2,
          2,
          2,
          2,
          1.8,
          1.8,
          1.8,
          1.8,
          1.8,
          1.8,
          1.8,
          1.8,
          1.8,
          1.8,
          1.8,
          1.8,
          1.8,
          1.8,
          1.8,
          1.8,
          1.8,
          1.8,
          1.8,
          1.8,
          1.8,
          1.8,
          1.8,
          1.8,
          1.8,
          1.8,
          1.8,
          1.8,
          1.8,
          1.8,
          1.8,
          1.8,
          1.6,
          1.6,
          1.6,
          1.6,
          1.6,
          1.6,
          1.6,
          1.6,
          1.6,
          1.6,
          1.6,
          1.6,
          1.6,
          1.6,
          1.6,
          1.6,
          1.6,
          1.6,
          1.6,
          1.6,
          1.6,
          1.6,
          1.6,
          1.6,
          1.6,
          1.6,
          1.6,
          1.6,
          1.6,
          1.6,
          1.6,
          1.6,
          1.4000000000000001,
          1.4000000000000001,
          1.4000000000000001,
          1.4000000000000001,
          1.4000000000000001,
          1.4000000000000001,
          1.4000000000000001,
          1.4000000000000001,
          1.4000000000000001,
          1.4000000000000001,
          1.4000000000000001,
          1.4000000000000001,
          1.4000000000000001,
          1.4000000000000001,
          1.4000000000000001,
          1.4000000000000001,
          1.4000000000000001,
          1.4000000000000001,
          1.4000000000000001,
          1.4000000000000001,
          1.4000000000000001,
          1.4000000000000001,
          1.4000000000000001,
          1.4000000000000001,
          1.4000000000000001,
          1.4000000000000001,
          1.4000000000000001,
          1.4000000000000001,
          1.4000000000000001,
          1.4000000000000001,
          1.4000000000000001,
          1.4000000000000001,
          1.2000000000000002,
          1.2000000000000002,
          1.2000000000000002,
          1.2000000000000002,
          1.2000000000000002,
          1.2000000000000002,
          1.2000000000000002,
          1.2000000000000002,
          1.2000000000000002,
          1.2000000000000002,
          1.2000000000000002,
          1.2000000000000002,
          1.2000000000000002,
          1.2000000000000002,
          1.2000000000000002,
          1.2000000000000002,
          1.2000000000000002,
          1.2000000000000002,
          1.2000000000000002,
          1.2000000000000002,
          1.2000000000000002,
          1.2000000000000002,
          1.2000000000000002,
          1.2000000000000002,
          1.2000000000000002,
          1.2000000000000002,
          1.2000000000000002,
          1.2000000000000002,
          1.2000000000000002,
          1.2000000000000002,
          1.2000000000000002,
          1.2000000000000002,
          1.0000000000000002,
          1.0000000000000002,
          1.0000000000000002,
          1.0000000000000002,
          1.0000000000000002,
          1.0000000000000002,
          1.0000000000000002,
          1.0000000000000002,
          1.0000000000000002,
          1.0000000000000002,
          1.0000000000000002,
          1.0000000000000002,
          1.0000000000000002,
          1.0000000000000002,
          1.0000000000000002,
          1.0000000000000002,
          1.0000000000000002,
          1.0000000000000002,
          1.0000000000000002,
          1.0000000000000002,
          1.0000000000000002,
          1.0000000000000002,
          1.0000000000000002,
          1.0000000000000002,
          1.0000000000000002,
          1.0000000000000002,
          1.0000000000000002,
          1.0000000000000002,
          1.0000000000000002,
          1.0000000000000002,
          1.0000000000000002,
          1.0000000000000002,
          0.8000000000000003,
          0.8000000000000003,
          0.8000000000000003,
          0.8000000000000003,
          0.8000000000000003,
          0.8000000000000003,
          0.8000000000000003,
          0.8000000000000003,
          0.8000000000000003,
          0.8000000000000003,
          0.8000000000000003,
          0.8000000000000003,
          0.8000000000000003,
          0.8000000000000003,
          0.8000000000000003,
          0.8000000000000003,
          0.8000000000000003,
          0.8000000000000003,
          0.8000000000000003,
          0.8000000000000003,
          0.8000000000000003,
          0.8000000000000003,
          0.8000000000000003,
          0.8000000000000003,
          0.8000000000000003,
          0.8000000000000003,
          0.8000000000000003,
          0.8000000000000003,
          0.8000000000000003,
          0.8000000000000003,
          0.8000000000000003,
          0.8000000000000003,
          0.6000000000000003,
          0.6000000000000003,
          0.6000000000000003,
          0.6000000000000003,
          0.6000000000000003,
          0.6000000000000003,
          0.6000000000000003,
          0.6000000000000003,
          0.6000000000000003,
          0.6000000000000003,
          0.6000000000000003,
          0.6000000000000003,
          0.6000000000000003,
          0.6000000000000003,
          0.6000000000000003,
          0.6000000000000003,
          0.6000000000000003,
          0.6000000000000003,
          0.6000000000000003,
          0.6000000000000003,
          0.6000000000000003,
          0.6000000000000003,
          0.6000000000000003,
          0.6000000000000003,
          0.6000000000000003,
          0.6000000000000003,
          0.6000000000000003,
          0.6000000000000003,
          0.6000000000000003,
          0.6000000000000003,
          0.6000000000000003,
          0.6000000000000003,
          0.4000000000000003,
          0.4000000000000003,
          0.4000000000000003,
          0.4000000000000003,
          0.4000000000000003,
          0.4000000000000003,
          0.4000000000000003,
          0.4000000000000003,
          0.4000000000000003,
          0.4000000000000003,
          0.4000000000000003,
          0.4000000000000003,
          0.4000000000000003,
          0.4000000000000003,
          0.4000000000000003,
          0.4000000000000003,
          0.4000000000000003,
          0.4000000000000003,
          0.4000000000000003,
          0.4000000000000003,
          0.4000000000000003,
          0.4000000000000003,
          0.4000000000000003,
          0.4000000000000003,
          0.4000000000000003,
          0.4000000000000003,
          0.4000000000000003,
          0.4000000000000003,
          0.4000000000000003,
          0.4000000000000003,
          0.4000000000000003,
          0.4000000000000003,
          0.2000000000000003,
          0.2000000000000003,
          0.2000000000000003,
          0.2000000000000003,
          0.2000000000000003,
          0.2000000000000003,
          0.2000000000000003,
          0.2000000000000003,
          0.2000000000000003,
          0.2000000000000003,
          0.2000000000000003,
          0.2000000000000003,
          0.2000000000000003,
          0.2000000000000003,
          0.2000000000000003,
          0.2000000000000003,
          0.2000000000000003,
          0.2000000000000003,
          0.2000000000000003,
          0.2000000000000003,
          0.2000000000000003,
          0.2000000000000003,
          0.2000000000000003,
          0.2000000000000003,
          0.2000000000000003,
          0.2000000000000003,
          0.2000000000000003,
          0.2000000000000003,
          0.2000000000000003,
          0.2000000000000003,
          0.2000000000000003,
          0.2000000000000003,
          2.7755575615628914e-16,
          2.7755575615628914e-16,
          2.7755575615628914e-16,
          2.7755575615628914e-16,
          2.7755575615628914e-16,
          2.7755575615628914e-16,
          2.7755575615628914e-16,
          2.7755575615628914e-16,
          2.7755575615628914e-16,
          2.7755575615628914e-16,
          2.7755575615628914e-16,
          2.7755575615628914e-16,
          2.7755575615628914e-16,
          2.7755575615628914e-16,
          2.7755575615628914e-16,
          2.7755575615628914e-16,
          2.7755575615628914e-16,
          2.7755575615628914e-16,
          2.7755575615628914e-16,
          2.7755575615628914e-16,
          2.7755575615628914e-16,
          2.7755575615628914e-16,
          2.7755575615628914e-16,
          2.7755575615628914e-16,
          2.7755575615628914e-16,
          2.7755575615628914e-16,
          2.7755575615628914e-16,
          2.7755575615628914e-16,
          2.7755575615628914e-16,
          2.7755575615628914e-16,
          2.7755575615628914e-16,
          2.7755575615628914e-16
         ]
        },
        {
         "marker": {
          "color": "red",
          "size": 10,
          "symbol": "diamond"
         },
         "mode": "markers",
         "name": "Current Position",
         "type": "scatter3d",
         "x": [
          0.13143805405379255
         ],
         "y": [
          -0.9220711440564551
         ],
         "z": [
          2.7755575615628914e-16
         ]
        }
       ],
       "layout": {
        "height": 500,
        "legend": {
         "x": 0,
         "y": 1
        },
        "margin": {
         "b": 0,
         "l": 0,
         "r": 0,
         "t": 30
        },
        "scene": {
         "aspectmode": "data",
         "camera": {
          "eye": {
           "x": 1.5,
           "y": 1.5,
           "z": 0.6
          }
         },
         "xaxis": {
          "title": {
           "text": "X (meters)"
          }
         },
         "yaxis": {
          "title": {
           "text": "Y (meters)"
          }
         },
         "zaxis": {
          "title": {
           "text": "Altitude (meters)"
          }
         }
        },
        "template": {
         "data": {
          "bar": [
           {
            "error_x": {
             "color": "#2a3f5f"
            },
            "error_y": {
             "color": "#2a3f5f"
            },
            "marker": {
             "line": {
              "color": "#E5ECF6",
              "width": 0.5
             },
             "pattern": {
              "fillmode": "overlay",
              "size": 10,
              "solidity": 0.2
             }
            },
            "type": "bar"
           }
          ],
          "barpolar": [
           {
            "marker": {
             "line": {
              "color": "#E5ECF6",
              "width": 0.5
             },
             "pattern": {
              "fillmode": "overlay",
              "size": 10,
              "solidity": 0.2
             }
            },
            "type": "barpolar"
           }
          ],
          "carpet": [
           {
            "aaxis": {
             "endlinecolor": "#2a3f5f",
             "gridcolor": "white",
             "linecolor": "white",
             "minorgridcolor": "white",
             "startlinecolor": "#2a3f5f"
            },
            "baxis": {
             "endlinecolor": "#2a3f5f",
             "gridcolor": "white",
             "linecolor": "white",
             "minorgridcolor": "white",
             "startlinecolor": "#2a3f5f"
            },
            "type": "carpet"
           }
          ],
          "choropleth": [
           {
            "colorbar": {
             "outlinewidth": 0,
             "ticks": ""
            },
            "type": "choropleth"
           }
          ],
          "contour": [
           {
            "colorbar": {
             "outlinewidth": 0,
             "ticks": ""
            },
            "colorscale": [
             [
              0,
              "#0d0887"
             ],
             [
              0.1111111111111111,
              "#46039f"
             ],
             [
              0.2222222222222222,
              "#7201a8"
             ],
             [
              0.3333333333333333,
              "#9c179e"
             ],
             [
              0.4444444444444444,
              "#bd3786"
             ],
             [
              0.5555555555555556,
              "#d8576b"
             ],
             [
              0.6666666666666666,
              "#ed7953"
             ],
             [
              0.7777777777777778,
              "#fb9f3a"
             ],
             [
              0.8888888888888888,
              "#fdca26"
             ],
             [
              1,
              "#f0f921"
             ]
            ],
            "type": "contour"
           }
          ],
          "contourcarpet": [
           {
            "colorbar": {
             "outlinewidth": 0,
             "ticks": ""
            },
            "type": "contourcarpet"
           }
          ],
          "heatmap": [
           {
            "colorbar": {
             "outlinewidth": 0,
             "ticks": ""
            },
            "colorscale": [
             [
              0,
              "#0d0887"
             ],
             [
              0.1111111111111111,
              "#46039f"
             ],
             [
              0.2222222222222222,
              "#7201a8"
             ],
             [
              0.3333333333333333,
              "#9c179e"
             ],
             [
              0.4444444444444444,
              "#bd3786"
             ],
             [
              0.5555555555555556,
              "#d8576b"
             ],
             [
              0.6666666666666666,
              "#ed7953"
             ],
             [
              0.7777777777777778,
              "#fb9f3a"
             ],
             [
              0.8888888888888888,
              "#fdca26"
             ],
             [
              1,
              "#f0f921"
             ]
            ],
            "type": "heatmap"
           }
          ],
          "histogram": [
           {
            "marker": {
             "pattern": {
              "fillmode": "overlay",
              "size": 10,
              "solidity": 0.2
             }
            },
            "type": "histogram"
           }
          ],
          "histogram2d": [
           {
            "colorbar": {
             "outlinewidth": 0,
             "ticks": ""
            },
            "colorscale": [
             [
              0,
              "#0d0887"
             ],
             [
              0.1111111111111111,
              "#46039f"
             ],
             [
              0.2222222222222222,
              "#7201a8"
             ],
             [
              0.3333333333333333,
              "#9c179e"
             ],
             [
              0.4444444444444444,
              "#bd3786"
             ],
             [
              0.5555555555555556,
              "#d8576b"
             ],
             [
              0.6666666666666666,
              "#ed7953"
             ],
             [
              0.7777777777777778,
              "#fb9f3a"
             ],
             [
              0.8888888888888888,
              "#fdca26"
             ],
             [
              1,
              "#f0f921"
             ]
            ],
            "type": "histogram2d"
           }
          ],
          "histogram2dcontour": [
           {
            "colorbar": {
             "outlinewidth": 0,
             "ticks": ""
            },
            "colorscale": [
             [
              0,
              "#0d0887"
             ],
             [
              0.1111111111111111,
              "#46039f"
             ],
             [
              0.2222222222222222,
              "#7201a8"
             ],
             [
              0.3333333333333333,
              "#9c179e"
             ],
             [
              0.4444444444444444,
              "#bd3786"
             ],
             [
              0.5555555555555556,
              "#d8576b"
             ],
             [
              0.6666666666666666,
              "#ed7953"
             ],
             [
              0.7777777777777778,
              "#fb9f3a"
             ],
             [
              0.8888888888888888,
              "#fdca26"
             ],
             [
              1,
              "#f0f921"
             ]
            ],
            "type": "histogram2dcontour"
           }
          ],
          "mesh3d": [
           {
            "colorbar": {
             "outlinewidth": 0,
             "ticks": ""
            },
            "type": "mesh3d"
           }
          ],
          "parcoords": [
           {
            "line": {
             "colorbar": {
              "outlinewidth": 0,
              "ticks": ""
             }
            },
            "type": "parcoords"
           }
          ],
          "pie": [
           {
            "automargin": true,
            "type": "pie"
           }
          ],
          "scatter": [
           {
            "fillpattern": {
             "fillmode": "overlay",
             "size": 10,
             "solidity": 0.2
            },
            "type": "scatter"
           }
          ],
          "scatter3d": [
           {
            "line": {
             "colorbar": {
              "outlinewidth": 0,
              "ticks": ""
             }
            },
            "marker": {
             "colorbar": {
              "outlinewidth": 0,
              "ticks": ""
             }
            },
            "type": "scatter3d"
           }
          ],
          "scattercarpet": [
           {
            "marker": {
             "colorbar": {
              "outlinewidth": 0,
              "ticks": ""
             }
            },
            "type": "scattercarpet"
           }
          ],
          "scattergeo": [
           {
            "marker": {
             "colorbar": {
              "outlinewidth": 0,
              "ticks": ""
             }
            },
            "type": "scattergeo"
           }
          ],
          "scattergl": [
           {
            "marker": {
             "colorbar": {
              "outlinewidth": 0,
              "ticks": ""
             }
            },
            "type": "scattergl"
           }
          ],
          "scattermap": [
           {
            "marker": {
             "colorbar": {
              "outlinewidth": 0,
              "ticks": ""
             }
            },
            "type": "scattermap"
           }
          ],
          "scattermapbox": [
           {
            "marker": {
             "colorbar": {
              "outlinewidth": 0,
              "ticks": ""
             }
            },
            "type": "scattermapbox"
           }
          ],
          "scatterpolar": [
           {
            "marker": {
             "colorbar": {
              "outlinewidth": 0,
              "ticks": ""
             }
            },
            "type": "scatterpolar"
           }
          ],
          "scatterpolargl": [
           {
            "marker": {
             "colorbar": {
              "outlinewidth": 0,
              "ticks": ""
             }
            },
            "type": "scatterpolargl"
           }
          ],
          "scatterternary": [
           {
            "marker": {
             "colorbar": {
              "outlinewidth": 0,
              "ticks": ""
             }
            },
            "type": "scatterternary"
           }
          ],
          "surface": [
           {
            "colorbar": {
             "outlinewidth": 0,
             "ticks": ""
            },
            "colorscale": [
             [
              0,
              "#0d0887"
             ],
             [
              0.1111111111111111,
              "#46039f"
             ],
             [
              0.2222222222222222,
              "#7201a8"
             ],
             [
              0.3333333333333333,
              "#9c179e"
             ],
             [
              0.4444444444444444,
              "#bd3786"
             ],
             [
              0.5555555555555556,
              "#d8576b"
             ],
             [
              0.6666666666666666,
              "#ed7953"
             ],
             [
              0.7777777777777778,
              "#fb9f3a"
             ],
             [
              0.8888888888888888,
              "#fdca26"
             ],
             [
              1,
              "#f0f921"
             ]
            ],
            "type": "surface"
           }
          ],
          "table": [
           {
            "cells": {
             "fill": {
              "color": "#EBF0F8"
             },
             "line": {
              "color": "white"
             }
            },
            "header": {
             "fill": {
              "color": "#C8D4E3"
             },
             "line": {
              "color": "white"
             }
            },
            "type": "table"
           }
          ]
         },
         "layout": {
          "annotationdefaults": {
           "arrowcolor": "#2a3f5f",
           "arrowhead": 0,
           "arrowwidth": 1
          },
          "autotypenumbers": "strict",
          "coloraxis": {
           "colorbar": {
            "outlinewidth": 0,
            "ticks": ""
           }
          },
          "colorscale": {
           "diverging": [
            [
             0,
             "#8e0152"
            ],
            [
             0.1,
             "#c51b7d"
            ],
            [
             0.2,
             "#de77ae"
            ],
            [
             0.3,
             "#f1b6da"
            ],
            [
             0.4,
             "#fde0ef"
            ],
            [
             0.5,
             "#f7f7f7"
            ],
            [
             0.6,
             "#e6f5d0"
            ],
            [
             0.7,
             "#b8e186"
            ],
            [
             0.8,
             "#7fbc41"
            ],
            [
             0.9,
             "#4d9221"
            ],
            [
             1,
             "#276419"
            ]
           ],
           "sequential": [
            [
             0,
             "#0d0887"
            ],
            [
             0.1111111111111111,
             "#46039f"
            ],
            [
             0.2222222222222222,
             "#7201a8"
            ],
            [
             0.3333333333333333,
             "#9c179e"
            ],
            [
             0.4444444444444444,
             "#bd3786"
            ],
            [
             0.5555555555555556,
             "#d8576b"
            ],
            [
             0.6666666666666666,
             "#ed7953"
            ],
            [
             0.7777777777777778,
             "#fb9f3a"
            ],
            [
             0.8888888888888888,
             "#fdca26"
            ],
            [
             1,
             "#f0f921"
            ]
           ],
           "sequentialminus": [
            [
             0,
             "#0d0887"
            ],
            [
             0.1111111111111111,
             "#46039f"
            ],
            [
             0.2222222222222222,
             "#7201a8"
            ],
            [
             0.3333333333333333,
             "#9c179e"
            ],
            [
             0.4444444444444444,
             "#bd3786"
            ],
            [
             0.5555555555555556,
             "#d8576b"
            ],
            [
             0.6666666666666666,
             "#ed7953"
            ],
            [
             0.7777777777777778,
             "#fb9f3a"
            ],
            [
             0.8888888888888888,
             "#fdca26"
            ],
            [
             1,
             "#f0f921"
            ]
           ]
          },
          "colorway": [
           "#636efa",
           "#EF553B",
           "#00cc96",
           "#ab63fa",
           "#FFA15A",
           "#19d3f3",
           "#FF6692",
           "#B6E880",
           "#FF97FF",
           "#FECB52"
          ],
          "font": {
           "color": "#2a3f5f"
          },
          "geo": {
           "bgcolor": "white",
           "lakecolor": "white",
           "landcolor": "#E5ECF6",
           "showlakes": true,
           "showland": true,
           "subunitcolor": "white"
          },
          "hoverlabel": {
           "align": "left"
          },
          "hovermode": "closest",
          "mapbox": {
           "style": "light"
          },
          "paper_bgcolor": "white",
          "plot_bgcolor": "#E5ECF6",
          "polar": {
           "angularaxis": {
            "gridcolor": "white",
            "linecolor": "white",
            "ticks": ""
           },
           "bgcolor": "#E5ECF6",
           "radialaxis": {
            "gridcolor": "white",
            "linecolor": "white",
            "ticks": ""
           }
          },
          "scene": {
           "xaxis": {
            "backgroundcolor": "#E5ECF6",
            "gridcolor": "white",
            "gridwidth": 2,
            "linecolor": "white",
            "showbackground": true,
            "ticks": "",
            "zerolinecolor": "white"
           },
           "yaxis": {
            "backgroundcolor": "#E5ECF6",
            "gridcolor": "white",
            "gridwidth": 2,
            "linecolor": "white",
            "showbackground": true,
            "ticks": "",
            "zerolinecolor": "white"
           },
           "zaxis": {
            "backgroundcolor": "#E5ECF6",
            "gridcolor": "white",
            "gridwidth": 2,
            "linecolor": "white",
            "showbackground": true,
            "ticks": "",
            "zerolinecolor": "white"
           }
          },
          "shapedefaults": {
           "line": {
            "color": "#2a3f5f"
           }
          },
          "ternary": {
           "aaxis": {
            "gridcolor": "white",
            "linecolor": "white",
            "ticks": ""
           },
           "baxis": {
            "gridcolor": "white",
            "linecolor": "white",
            "ticks": ""
           },
           "bgcolor": "#E5ECF6",
           "caxis": {
            "gridcolor": "white",
            "linecolor": "white",
            "ticks": ""
           }
          },
          "title": {
           "x": 0.05
          },
          "xaxis": {
           "automargin": true,
           "gridcolor": "white",
           "linecolor": "white",
           "ticks": "",
           "title": {
            "standoff": 15
           },
           "zerolinecolor": "white",
           "zerolinewidth": 2
          },
          "yaxis": {
           "automargin": true,
           "gridcolor": "white",
           "linecolor": "white",
           "ticks": "",
           "title": {
            "standoff": 15
           },
           "zerolinecolor": "white",
           "zerolinewidth": 2
          }
         }
        },
        "title": {
         "text": "Interactive 3D Drone Flight Path"
        },
        "width": 600
       }
      }
     },
     "metadata": {},
     "output_type": "display_data"
    },
    {
     "name": "stdout",
     "output_type": "stream",
     "text": [
      "\ud83d\udeec Landing at 0.3m/s...\n",
      "Executing command: land 0.3\n"
     ]
    },
    {
     "data": {
      "application/vnd.plotly.v1+json": {
       "config": {
        "plotlyServerURL": "https://plot.ly"
       },
       "data": [
        {
         "line": {
          "color": "blue",
          "width": 4
         },
         "marker": {
          "size": 4
         },
         "mode": "lines+markers",
         "name": "Drone Path",
         "type": "scatter3d",
         "x": {
          "bdata": "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",
          "dtype": "f8"
         },
         "y": {
          "bdata": "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",
          "dtype": "f8"
         },
         "z": [
          2,
          2,
          2,
          2,
          2,
          2,
          2,
          2,
          2,
          2,
          2,
          2,
          2,
          2,
          2,
          2,
          2,
          2,
          2,
          2,
          2,
          2,
          2,
          2,
          2,
          2,
          2,
          2,
          2,
          2,
          2,
          2,
          1.8,
          1.8,
          1.8,
          1.8,
          1.8,
          1.8,
          1.8,
          1.8,
          1.8,
          1.8,
          1.8,
          1.8,
          1.8,
          1.8,
          1.8,
          1.8,
          1.8,
          1.8,
          1.8,
          1.8,
          1.8,
          1.8,
          1.8,
          1.8,
          1.8,
          1.8,
          1.8,
          1.8,
          1.8,
          1.8,
          1.8,
          1.8,
          1.6,
          1.6,
          1.6,
          1.6,
          1.6,
          1.6,
          1.6,
          1.6,
          1.6,
          1.6,
          1.6,
          1.6,
          1.6,
          1.6,
          1.6,
          1.6,
          1.6,
          1.6,
          1.6,
          1.6,
          1.6,
          1.6,
          1.6,
          1.6,
          1.6,
          1.6,
          1.6,
          1.6,
          1.6,
          1.6,
          1.6,
          1.6,
          1.4000000000000001,
          1.4000000000000001,
          1.4000000000000001,
          1.4000000000000001,
          1.4000000000000001,
          1.4000000000000001,
          1.4000000000000001,
          1.4000000000000001,
          1.4000000000000001,
          1.4000000000000001,
          1.4000000000000001,
          1.4000000000000001,
          1.4000000000000001,
          1.4000000000000001,
          1.4000000000000001,
          1.4000000000000001,
          1.4000000000000001,
          1.4000000000000001,
          1.4000000000000001,
          1.4000000000000001,
          1.4000000000000001,
          1.4000000000000001,
          1.4000000000000001,
          1.4000000000000001,
          1.4000000000000001,
          1.4000000000000001,
          1.4000000000000001,
          1.4000000000000001,
          1.4000000000000001,
          1.4000000000000001,
          1.4000000000000001,
          1.4000000000000001,
          1.2000000000000002,
          1.2000000000000002,
          1.2000000000000002,
          1.2000000000000002,
          1.2000000000000002,
          1.2000000000000002,
          1.2000000000000002,
          1.2000000000000002,
          1.2000000000000002,
          1.2000000000000002,
          1.2000000000000002,
          1.2000000000000002,
          1.2000000000000002,
          1.2000000000000002,
          1.2000000000000002,
          1.2000000000000002,
          1.2000000000000002,
          1.2000000000000002,
          1.2000000000000002,
          1.2000000000000002,
          1.2000000000000002,
          1.2000000000000002,
          1.2000000000000002,
          1.2000000000000002,
          1.2000000000000002,
          1.2000000000000002,
          1.2000000000000002,
          1.2000000000000002,
          1.2000000000000002,
          1.2000000000000002,
          1.2000000000000002,
          1.2000000000000002,
          1.0000000000000002,
          1.0000000000000002,
          1.0000000000000002,
          1.0000000000000002,
          1.0000000000000002,
          1.0000000000000002,
          1.0000000000000002,
          1.0000000000000002,
          1.0000000000000002,
          1.0000000000000002,
          1.0000000000000002,
          1.0000000000000002,
          1.0000000000000002,
          1.0000000000000002,
          1.0000000000000002,
          1.0000000000000002,
          1.0000000000000002,
          1.0000000000000002,
          1.0000000000000002,
          1.0000000000000002,
          1.0000000000000002,
          1.0000000000000002,
          1.0000000000000002,
          1.0000000000000002,
          1.0000000000000002,
          1.0000000000000002,
          1.0000000000000002,
          1.0000000000000002,
          1.0000000000000002,
          1.0000000000000002,
          1.0000000000000002,
          1.0000000000000002,
          0.8000000000000003,
          0.8000000000000003,
          0.8000000000000003,
          0.8000000000000003,
          0.8000000000000003,
          0.8000000000000003,
          0.8000000000000003,
          0.8000000000000003,
          0.8000000000000003,
          0.8000000000000003,
          0.8000000000000003,
          0.8000000000000003,
          0.8000000000000003,
          0.8000000000000003,
          0.8000000000000003,
          0.8000000000000003,
          0.8000000000000003,
          0.8000000000000003,
          0.8000000000000003,
          0.8000000000000003,
          0.8000000000000003,
          0.8000000000000003,
          0.8000000000000003,
          0.8000000000000003,
          0.8000000000000003,
          0.8000000000000003,
          0.8000000000000003,
          0.8000000000000003,
          0.8000000000000003,
          0.8000000000000003,
          0.8000000000000003,
          0.8000000000000003,
          0.6000000000000003,
          0.6000000000000003,
          0.6000000000000003,
          0.6000000000000003,
          0.6000000000000003,
          0.6000000000000003,
          0.6000000000000003,
          0.6000000000000003,
          0.6000000000000003,
          0.6000000000000003,
          0.6000000000000003,
          0.6000000000000003,
          0.6000000000000003,
          0.6000000000000003,
          0.6000000000000003,
          0.6000000000000003,
          0.6000000000000003,
          0.6000000000000003,
          0.6000000000000003,
          0.6000000000000003,
          0.6000000000000003,
          0.6000000000000003,
          0.6000000000000003,
          0.6000000000000003,
          0.6000000000000003,
          0.6000000000000003,
          0.6000000000000003,
          0.6000000000000003,
          0.6000000000000003,
          0.6000000000000003,
          0.6000000000000003,
          0.6000000000000003,
          0.4000000000000003,
          0.4000000000000003,
          0.4000000000000003,
          0.4000000000000003,
          0.4000000000000003,
          0.4000000000000003,
          0.4000000000000003,
          0.4000000000000003,
          0.4000000000000003,
          0.4000000000000003,
          0.4000000000000003,
          0.4000000000000003,
          0.4000000000000003,
          0.4000000000000003,
          0.4000000000000003,
          0.4000000000000003,
          0.4000000000000003,
          0.4000000000000003,
          0.4000000000000003,
          0.4000000000000003,
          0.4000000000000003,
          0.4000000000000003,
          0.4000000000000003,
          0.4000000000000003,
          0.4000000000000003,
          0.4000000000000003,
          0.4000000000000003,
          0.4000000000000003,
          0.4000000000000003,
          0.4000000000000003,
          0.4000000000000003,
          0.4000000000000003,
          0.2000000000000003,
          0.2000000000000003,
          0.2000000000000003,
          0.2000000000000003,
          0.2000000000000003,
          0.2000000000000003,
          0.2000000000000003,
          0.2000000000000003,
          0.2000000000000003,
          0.2000000000000003,
          0.2000000000000003,
          0.2000000000000003,
          0.2000000000000003,
          0.2000000000000003,
          0.2000000000000003,
          0.2000000000000003,
          0.2000000000000003,
          0.2000000000000003,
          0.2000000000000003,
          0.2000000000000003,
          0.2000000000000003,
          0.2000000000000003,
          0.2000000000000003,
          0.2000000000000003,
          0.2000000000000003,
          0.2000000000000003,
          0.2000000000000003,
          0.2000000000000003,
          0.2000000000000003,
          0.2000000000000003,
          0.2000000000000003,
          0.2000000000000003,
          2.7755575615628914e-16,
          2.7755575615628914e-16,
          2.7755575615628914e-16,
          2.7755575615628914e-16,
          2.7755575615628914e-16,
          2.7755575615628914e-16,
          2.7755575615628914e-16,
          2.7755575615628914e-16,
          2.7755575615628914e-16,
          2.7755575615628914e-16,
          2.7755575615628914e-16,
          2.7755575615628914e-16,
          2.7755575615628914e-16,
          2.7755575615628914e-16,
          2.7755575615628914e-16,
          2.7755575615628914e-16,
          2.7755575615628914e-16,
          2.7755575615628914e-16,
          2.7755575615628914e-16,
          2.7755575615628914e-16,
          2.7755575615628914e-16,
          2.7755575615628914e-16,
          2.7755575615628914e-16,
          2.7755575615628914e-16,
          2.7755575615628914e-16,
          2.7755575615628914e-16,
          2.7755575615628914e-16,
          2.7755575615628914e-16,
          2.7755575615628914e-16,
          2.7755575615628914e-16,
          2.7755575615628914e-16,
          2.7755575615628914e-16
         ]
        },
        {
         "marker": {
          "color": "red",
          "size": 10,
          "symbol": "diamond"
         },
         "mode": "markers",
         "name": "Current Position",
         "type": "scatter3d",
         "x": [
          0.13143805405379255
         ],
         "y": [
          -0.9220711440564551
         ],
         "z": [
          2.7755575615628914e-16
         ]
        }
       ],
       "layout": {
        "height": 500,
        "legend": {
         "x": 0,
         "y": 1
        },
        "margin": {
         "b": 0,
         "l": 0,
         "r": 0,
         "t": 30
        },
        "scene": {
         "aspectmode": "data",
         "camera": {
          "eye": {
           "x": 1.5,
           "y": 1.5,
           "z": 0.6
          }
         },
         "xaxis": {
          "title": {
           "text": "X (meters)"
          }
         },
         "yaxis": {
          "title": {
           "text": "Y (meters)"
          }
         },
         "zaxis": {
          "title": {
           "text": "Altitude (meters)"
          }
         }
        },
        "template": {
         "data": {
          "bar": [
           {
            "error_x": {
             "color": "#2a3f5f"
            },
            "error_y": {
             "color": "#2a3f5f"
            },
            "marker": {
             "line": {
              "color": "#E5ECF6",
              "width": 0.5
             },
             "pattern": {
              "fillmode": "overlay",
              "size": 10,
              "solidity": 0.2
             }
            },
            "type": "bar"
           }
          ],
          "barpolar": [
           {
            "marker": {
             "line": {
              "color": "#E5ECF6",
              "width": 0.5
             },
             "pattern": {
              "fillmode": "overlay",
              "size": 10,
              "solidity": 0.2
             }
            },
            "type": "barpolar"
           }
          ],
          "carpet": [
           {
            "aaxis": {
             "endlinecolor": "#2a3f5f",
             "gridcolor": "white",
             "linecolor": "white",
             "minorgridcolor": "white",
             "startlinecolor": "#2a3f5f"
            },
            "baxis": {
             "endlinecolor": "#2a3f5f",
             "gridcolor": "white",
             "linecolor": "white",
             "minorgridcolor": "white",
             "startlinecolor": "#2a3f5f"
            },
            "type": "carpet"
           }
          ],
          "choropleth": [
           {
            "colorbar": {
             "outlinewidth": 0,
             "ticks": ""
            },
            "type": "choropleth"
           }
          ],
          "contour": [
           {
            "colorbar": {
             "outlinewidth": 0,
             "ticks": ""
            },
            "colorscale": [
             [
              0,
              "#0d0887"
             ],
             [
              0.1111111111111111,
              "#46039f"
             ],
             [
              0.2222222222222222,
              "#7201a8"
             ],
             [
              0.3333333333333333,
              "#9c179e"
             ],
             [
              0.4444444444444444,
              "#bd3786"
             ],
             [
              0.5555555555555556,
              "#d8576b"
             ],
             [
              0.6666666666666666,
              "#ed7953"
             ],
             [
              0.7777777777777778,
              "#fb9f3a"
             ],
             [
              0.8888888888888888,
              "#fdca26"
             ],
             [
              1,
              "#f0f921"
             ]
            ],
            "type": "contour"
           }
          ],
          "contourcarpet": [
           {
            "colorbar": {
             "outlinewidth": 0,
             "ticks": ""
            },
            "type": "contourcarpet"
           }
          ],
          "heatmap": [
           {
            "colorbar": {
             "outlinewidth": 0,
             "ticks": ""
            },
            "colorscale": [
             [
              0,
              "#0d0887"
             ],
             [
              0.1111111111111111,
              "#46039f"
             ],
             [
              0.2222222222222222,
              "#7201a8"
             ],
             [
              0.3333333333333333,
              "#9c179e"
             ],
             [
              0.4444444444444444,
              "#bd3786"
             ],
             [
              0.5555555555555556,
              "#d8576b"
             ],
             [
              0.6666666666666666,
              "#ed7953"
             ],
             [
              0.7777777777777778,
              "#fb9f3a"
             ],
             [
              0.8888888888888888,
              "#fdca26"
             ],
             [
              1,
              "#f0f921"
             ]
            ],
            "type": "heatmap"
           }
          ],
          "histogram": [
           {
            "marker": {
             "pattern": {
              "fillmode": "overlay",
              "size": 10,
              "solidity": 0.2
             }
            },
            "type": "histogram"
           }
          ],
          "histogram2d": [
           {
            "colorbar": {
             "outlinewidth": 0,
             "ticks": ""
            },
            "colorscale": [
             [
              0,
              "#0d0887"
             ],
             [
              0.1111111111111111,
              "#46039f"
             ],
             [
              0.2222222222222222,
              "#7201a8"
             ],
             [
              0.3333333333333333,
              "#9c179e"
             ],
             [
              0.4444444444444444,
              "#bd3786"
             ],
             [
              0.5555555555555556,
              "#d8576b"
             ],
             [
              0.6666666666666666,
              "#ed7953"
             ],
             [
              0.7777777777777778,
              "#fb9f3a"
             ],
             [
              0.8888888888888888,
              "#fdca26"
             ],
             [
              1,
              "#f0f921"
             ]
            ],
            "type": "histogram2d"
           }
          ],
          "histogram2dcontour": [
           {
            "colorbar": {
             "outlinewidth": 0,
             "ticks": ""
            },
            "colorscale": [
             [
              0,
              "#0d0887"
             ],
             [
              0.1111111111111111,
              "#46039f"
             ],
             [
              0.2222222222222222,
              "#7201a8"
             ],
             [
              0.3333333333333333,
              "#9c179e"
             ],
             [
              0.4444444444444444,
              "#bd3786"
             ],
             [
              0.5555555555555556,
              "#d8576b"
             ],
             [
              0.6666666666666666,
              "#ed7953"
             ],
             [
              0.7777777777777778,
              "#fb9f3a"
             ],
             [
              0.8888888888888888,
              "#fdca26"
             ],
             [
              1,
              "#f0f921"
             ]
            ],
            "type": "histogram2dcontour"
           }
          ],
          "mesh3d": [
           {
            "colorbar": {
             "outlinewidth": 0,
             "ticks": ""
            },
            "type": "mesh3d"
           }
          ],
          "parcoords": [
           {
            "line": {
             "colorbar": {
              "outlinewidth": 0,
              "ticks": ""
             }
            },
            "type": "parcoords"
           }
          ],
          "pie": [
           {
            "automargin": true,
            "type": "pie"
           }
          ],
          "scatter": [
           {
            "fillpattern": {
             "fillmode": "overlay",
             "size": 10,
             "solidity": 0.2
            },
            "type": "scatter"
           }
          ],
          "scatter3d": [
           {
            "line": {
             "colorbar": {
              "outlinewidth": 0,
              "ticks": ""
             }
            },
            "marker": {
             "colorbar": {
              "outlinewidth": 0,
              "ticks": ""
             }
            },
            "type": "scatter3d"
           }
          ],
          "scattercarpet": [
           {
            "marker": {
             "colorbar": {
              "outlinewidth": 0,
              "ticks": ""
             }
            },
            "type": "scattercarpet"
           }
          ],
          "scattergeo": [
           {
            "marker": {
             "colorbar": {
              "outlinewidth": 0,
              "ticks": ""
             }
            },
            "type": "scattergeo"
           }
          ],
          "scattergl": [
           {
            "marker": {
             "colorbar": {
              "outlinewidth": 0,
              "ticks": ""
             }
            },
            "type": "scattergl"
           }
          ],
          "scattermap": [
           {
            "marker": {
             "colorbar": {
              "outlinewidth": 0,
              "ticks": ""
             }
            },
            "type": "scattermap"
           }
          ],
          "scattermapbox": [
           {
            "marker": {
             "colorbar": {
              "outlinewidth": 0,
              "ticks": ""
             }
            },
            "type": "scattermapbox"
           }
          ],
          "scatterpolar": [
           {
            "marker": {
             "colorbar": {
              "outlinewidth": 0,
              "ticks": ""
             }
            },
            "type": "scatterpolar"
           }
          ],
          "scatterpolargl": [
           {
            "marker": {
             "colorbar": {
              "outlinewidth": 0,
              "ticks": ""
             }
            },
            "type": "scatterpolargl"
           }
          ],
          "scatterternary": [
           {
            "marker": {
             "colorbar": {
              "outlinewidth": 0,
              "ticks": ""
             }
            },
            "type": "scatterternary"
           }
          ],
          "surface": [
           {
            "colorbar": {
             "outlinewidth": 0,
             "ticks": ""
            },
            "colorscale": [
             [
              0,
              "#0d0887"
             ],
             [
              0.1111111111111111,
              "#46039f"
             ],
             [
              0.2222222222222222,
              "#7201a8"
             ],
             [
              0.3333333333333333,
              "#9c179e"
             ],
             [
              0.4444444444444444,
              "#bd3786"
             ],
             [
              0.5555555555555556,
              "#d8576b"
             ],
             [
              0.6666666666666666,
              "#ed7953"
             ],
             [
              0.7777777777777778,
              "#fb9f3a"
             ],
             [
              0.8888888888888888,
              "#fdca26"
             ],
             [
              1,
              "#f0f921"
             ]
            ],
            "type": "surface"
           }
          ],
          "table": [
           {
            "cells": {
             "fill": {
              "color": "#EBF0F8"
             },
             "line": {
              "color": "white"
             }
            },
            "header": {
             "fill": {
              "color": "#C8D4E3"
             },
             "line": {
              "color": "white"
             }
            },
            "type": "table"
           }
          ]
         },
         "layout": {
          "annotationdefaults": {
           "arrowcolor": "#2a3f5f",
           "arrowhead": 0,
           "arrowwidth": 1
          },
          "autotypenumbers": "strict",
          "coloraxis": {
           "colorbar": {
            "outlinewidth": 0,
            "ticks": ""
           }
          },
          "colorscale": {
           "diverging": [
            [
             0,
             "#8e0152"
            ],
            [
             0.1,
             "#c51b7d"
            ],
            [
             0.2,
             "#de77ae"
            ],
            [
             0.3,
             "#f1b6da"
            ],
            [
             0.4,
             "#fde0ef"
            ],
            [
             0.5,
             "#f7f7f7"
            ],
            [
             0.6,
             "#e6f5d0"
            ],
            [
             0.7,
             "#b8e186"
            ],
            [
             0.8,
             "#7fbc41"
            ],
            [
             0.9,
             "#4d9221"
            ],
            [
             1,
             "#276419"
            ]
           ],
           "sequential": [
            [
             0,
             "#0d0887"
            ],
            [
             0.1111111111111111,
             "#46039f"
            ],
            [
             0.2222222222222222,
             "#7201a8"
            ],
            [
             0.3333333333333333,
             "#9c179e"
            ],
            [
             0.4444444444444444,
             "#bd3786"
            ],
            [
             0.5555555555555556,
             "#d8576b"
            ],
            [
             0.6666666666666666,
             "#ed7953"
            ],
            [
             0.7777777777777778,
             "#fb9f3a"
            ],
            [
             0.8888888888888888,
             "#fdca26"
            ],
            [
             1,
             "#f0f921"
            ]
           ],
           "sequentialminus": [
            [
             0,
             "#0d0887"
            ],
            [
             0.1111111111111111,
             "#46039f"
            ],
            [
             0.2222222222222222,
             "#7201a8"
            ],
            [
             0.3333333333333333,
             "#9c179e"
            ],
            [
             0.4444444444444444,
             "#bd3786"
            ],
            [
             0.5555555555555556,
             "#d8576b"
            ],
            [
             0.6666666666666666,
             "#ed7953"
            ],
            [
             0.7777777777777778,
             "#fb9f3a"
            ],
            [
             0.8888888888888888,
             "#fdca26"
            ],
            [
             1,
             "#f0f921"
            ]
           ]
          },
          "colorway": [
           "#636efa",
           "#EF553B",
           "#00cc96",
           "#ab63fa",
           "#FFA15A",
           "#19d3f3",
           "#FF6692",
           "#B6E880",
           "#FF97FF",
           "#FECB52"
          ],
          "font": {
           "color": "#2a3f5f"
          },
          "geo": {
           "bgcolor": "white",
           "lakecolor": "white",
           "landcolor": "#E5ECF6",
           "showlakes": true,
           "showland": true,
           "subunitcolor": "white"
          },
          "hoverlabel": {
           "align": "left"
          },
          "hovermode": "closest",
          "mapbox": {
           "style": "light"
          },
          "paper_bgcolor": "white",
          "plot_bgcolor": "#E5ECF6",
          "polar": {
           "angularaxis": {
            "gridcolor": "white",
            "linecolor": "white",
            "ticks": ""
           },
           "bgcolor": "#E5ECF6",
           "radialaxis": {
            "gridcolor": "white",
            "linecolor": "white",
            "ticks": ""
           }
          },
          "scene": {
           "xaxis": {
            "backgroundcolor": "#E5ECF6",
            "gridcolor": "white",
            "gridwidth": 2,
            "linecolor": "white",
            "showbackground": true,
            "ticks": "",
            "zerolinecolor": "white"
           },
           "yaxis": {
            "backgroundcolor": "#E5ECF6",
            "gridcolor": "white",
            "gridwidth": 2,
            "linecolor": "white",
            "showbackground": true,
            "ticks": "",
            "zerolinecolor": "white"
           },
           "zaxis": {
            "backgroundcolor": "#E5ECF6",
            "gridcolor": "white",
            "gridwidth": 2,
            "linecolor": "white",
            "showbackground": true,
            "ticks": "",
            "zerolinecolor": "white"
           }
          },
          "shapedefaults": {
           "line": {
            "color": "#2a3f5f"
           }
          },
          "ternary": {
           "aaxis": {
            "gridcolor": "white",
            "linecolor": "white",
            "ticks": ""
           },
           "baxis": {
            "gridcolor": "white",
            "linecolor": "white",
            "ticks": ""
           },
           "bgcolor": "#E5ECF6",
           "caxis": {
            "gridcolor": "white",
            "linecolor": "white",
            "ticks": ""
           }
          },
          "title": {
           "x": 0.05
          },
          "xaxis": {
           "automargin": true,
           "gridcolor": "white",
           "linecolor": "white",
           "ticks": "",
           "title": {
            "standoff": 15
           },
           "zerolinecolor": "white",
           "zerolinewidth": 2
          },
          "yaxis": {
           "automargin": true,
           "gridcolor": "white",
           "linecolor": "white",
           "ticks": "",
           "title": {
            "standoff": 15
           },
           "zerolinecolor": "white",
           "zerolinewidth": 2
          }
         }
        },
        "title": {
         "text": "Interactive 3D Drone Flight Path"
        },
        "width": 600
       }
      }
     },
     "metadata": {},
     "output_type": "display_data"
    }
   ],
   "source": [
    "drone.takeoff(2.0, 0.4)\n",
    "time.sleep(2)\n",
    "\n",
    "# Level 1 \u2013 2.0m\n",
    "drone.circle_left(0.3, 0.3, 360)\n",
    "time.sleep(1)\n",
    "\n",
    "# Level 2 \u2013 1.8m\n",
    "drone.down(0.2, 0.2)\n",
    "drone.circle_left(0.3, 0.3, 360)\n",
    "time.sleep(1)\n",
    "\n",
    "# Level 3 \u2013 1.6m\n",
    "drone.down(0.2, 0.2)\n",
    "drone.circle_left(0.3, 0.3, 360)\n",
    "time.sleep(1)\n",
    "\n",
    "# Level 4 \u2013 1.4m\n",
    "drone.down(0.2, 0.2)\n",
    "drone.circle_left(0.3, 0.3, 360)\n",
    "time.sleep(1)\n",
    "\n",
    "# Level 5 \u2013 1.2m\n",
    "drone.down(0.2, 0.2)\n",
    "drone.circle_left(0.3, 0.3, 360)\n",
    "time.sleep(1)\n",
    "\n",
    "# Level 6 \u2013 1.0m\n",
    "drone.down(0.2, 0.2)\n",
    "drone.circle_left(0.3, 0.3, 360)\n",
    "time.sleep(1)\n",
    "\n",
    "# Level 7 \u2013 0.8m\n",
    "drone.down(0.2, 0.2)\n",
    "drone.circle_left(0.3, 0.3, 360)\n",
    "time.sleep(1)\n",
    "\n",
    "# Level 8 \u2013 0.6m\n",
    "drone.down(0.2, 0.2)\n",
    "drone.circle_left(0.3, 0.3, 360)\n",
    "time.sleep(1)\n",
    "\n",
    "# Land and close\n",
    "drone.land(0.3)\n",
    "drone.close()\n"
   ]
  },
  {
   "cell_type": "markdown",
   "id": "298c28b1",
   "metadata": {},
   "source": [
    "##  Land and Close\n",
    "Always land and close the drone at the end of your session."
   ]
  },
  {
   "cell_type": "code",
   "execution_count": null,
   "id": "da9bddb9",
   "metadata": {},
   "outputs": [],
   "source": [
    "drone.land(0.3)\n",
    "drone.close()"
   ]
  }
 ],
 "metadata": {
  "kernelspec": {
   "display_name": "Python 3",
   "language": "python",
   "name": "python3"
  },
  "language_info": {
   "codemirror_mode": {
    "name": "ipython",
    "version": 3
   },
   "file_extension": ".py",
   "mimetype": "text/x-python",
   "name": "python",
   "nbconvert_exporter": "python",
   "pygments_lexer": "ipython3",
   "version": "3.11.3"
  }
 },
 "nbformat": 4,
 "nbformat_minor": 5
}