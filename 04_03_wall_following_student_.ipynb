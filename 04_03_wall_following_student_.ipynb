{
 "cells": [
  {
   "cell_type": "markdown",
   "metadata": {},
   "source": [
    "<small>\n",
    "Part of the InnovatED STEM and DroneBlocks Land, Air, and Sea Robotics Curriculum  \n",
    "Licensed for educational use in schools only.  \n",
    "Redistribution, commercial use, or resale is strictly prohibited.  \n",
    "\u00a9 2025 InnovatED STEM & DroneBlocks. All rights reserved.\n",
    "</small>"
   ]
  },
  {
   "cell_type": "markdown",
   "id": "23951c7d",
   "metadata": {},
   "source": [
    "#  Wall Following with MultiRanger \u2013 Student Version\n",
    "In this notebook, you'll learn how to follow a wall using the **Crazyflie drone** and its **MultiRanger sensors**.\n",
    "\n",
    "We'll break down the code step-by-step to help you understand the logic behind autonomous wall following."
   ]
  },
  {
   "cell_type": "markdown",
   "id": "8da1a197",
   "metadata": {},
   "source": [
    "##  Setup\n",
    "Import and initialize the drone simulator.\n",
    "##  Command Reference Table\n",
    "| Command                     | Description                                         | Parameters (units/type)                    |\n",
    "|-----------------------------|-----------------------------------------------------|--------------------------------------------|\n",
    "| `takeoff()`                 | Drone takes off and hovers                         | height (m/float), speed (m/s/float)        |\n",
    "| `land()`                    | Lands the drone                                    | speed (m/s/float)                          |\n",
    "| `forward()`                 | Move forward                                       | distance (m/float), speed (m/s/float)      |\n",
    "| `left()` / `right()`        | Move sideways (strafe)                             | distance (m/float), speed (m/s/float)      |\n",
    "| `get_distances()`           | Returns dictionary of sensor distances             | None                                       |\n",
    "| `get_distances()['left']`   | Distance to the wall on the left (m/float)         | None                                       |\n",
    "| `get_distances()['right']`  | Distance to the wall on the right (m/float)        | None                                       |"
   ]
  },
  {
   "cell_type": "code",
   "execution_count": null,
   "id": "83d9f1b0",
   "metadata": {},
   "outputs": [],
   "source": [
    "import time\n",
    "from crazyflie_sim import CrazyflieSimulator\n",
    "\n",
    "drone = CrazyflieSimulator(real=False)"
   ]
  },
  {
   "cell_type": "markdown",
   "id": "f20ab016",
   "metadata": {},
   "source": [
    "##  Step 1: Take Off\n",
    "Let\u2019s take off to 1.0 meter altitude at 0.3 m/s."
   ]
  },
  {
   "cell_type": "code",
   "execution_count": null,
   "id": "e0ef0529",
   "metadata": {},
   "outputs": [],
   "source": [
    "drone.takeoff(1.0, 0.3)\n",
    "time.sleep(2)"
   ]
  },
  {
   "cell_type": "markdown",
   "id": "dd276360",
   "metadata": {},
   "source": [
    "##  Step 2: Wall Following Logic (Right Wall)\n",
    "**Goal:** Stay about 0.5m from the right wall\n",
    "- If too far from the wall (`> 0.6m`), turn right\n",
    "- If too close to the wall (`< 0.4m`), turn left\n",
    "- Otherwise, move forward"
   ]
  },
  {
   "cell_type": "markdown",
   "id": "3aecfafd",
   "metadata": {},
   "source": [
    "###  Step 3: One Loop Iteration\n",
    "Read distances and react based on right wall."
   ]
  },
  {
   "cell_type": "code",
   "execution_count": null,
   "id": "64840023",
   "metadata": {},
   "outputs": [],
   "source": [
    "distances = drone.get_distances()\n",
    "right_dist = distances['right']\n",
    "\n",
    "if right_dist > 0.6:\n",
    "    print(\"Too far from wall \u2013 adjusting right\")\n",
    "    drone.rotate(-10, 0.5)\n",
    "elif right_dist < 0.4:\n",
    "    print(\"Too close to wall \u2013 adjusting left\")\n",
    "    drone.rotate(10, 0.5)\n",
    "else:\n",
    "    print(\"Maintaining distance\")\n",
    "\n",
    "drone.forward(0.1, 0.2)\n",
    "time.sleep(1)"
   ]
  },
  {
   "cell_type": "markdown",
   "id": "f6b0ba83",
   "metadata": {},
   "source": [
    "###  Step 4: Loop it!\n",
    "Now let\u2019s run that logic for 10 steps."
   ]
  },
  {
   "cell_type": "code",
   "execution_count": null,
   "id": "396f7c4e",
   "metadata": {},
   "outputs": [],
   "source": [
    "for _ in range(10):\n",
    "    distances = drone.get_distances()\n",
    "    right_dist = distances['right']\n",
    "\n",
    "    if right_dist > 0.6:\n",
    "        print(\"Too far from wall \u2013 adjusting right\")\n",
    "        drone.rotate(-10, 0.5)\n",
    "    elif right_dist < 0.4:\n",
    "        print(\"Too close to wall \u2013 adjusting left\")\n",
    "        drone.rotate(10, 0.5)\n",
    "    else:\n",
    "        print(\"Maintaining distance\")\n",
    "\n",
    "    drone.forward(0.1, 0.2)\n",
    "    time.sleep(1)"
   ]
  },
  {
   "cell_type": "markdown",
   "id": "4477f25c",
   "metadata": {},
   "source": [
    "##  Exercise 1: Follow the Left Wall Instead\n",
    " Modify the loop to follow the **left wall** instead of the right.\n",
    "- If `left > 0.6`: rotate **left**\n",
    "- If `left < 0.4`: rotate **right**\n",
    "- Then move forward."
   ]
  },
  {
   "cell_type": "code",
   "execution_count": null,
   "id": "5edce4c2",
   "metadata": {},
   "outputs": [],
   "source": []
  },
  {
   "cell_type": "markdown",
   "id": "9e09c078",
   "metadata": {},
   "source": [
    "##  Exercise 2: Stop if a Wall is Ahead\n",
    " If the drone sees a wall **closer than 0.5 meters in front**, it should stop and print a warning."
   ]
  },
  {
   "cell_type": "code",
   "execution_count": null,
   "id": "4b5e5b3b",
   "metadata": {},
   "outputs": [],
   "source": []
  },
  {
   "cell_type": "markdown",
   "id": "e23d8151",
   "metadata": {},
   "source": [
    "##  Land and Close\n",
    "Always finish your flight cleanly."
   ]
  },
  {
   "cell_type": "code",
   "execution_count": null,
   "id": "b07c6110",
   "metadata": {},
   "outputs": [],
   "source": [
    "drone.land(0.3)\n",
    "drone.close()"
   ]
  }
 ],
 "metadata": {
  "language_info": {
   "name": "python"
  }
 },
 "nbformat": 4,
 "nbformat_minor": 5
}