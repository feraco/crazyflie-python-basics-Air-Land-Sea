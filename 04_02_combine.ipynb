{
 "cells": [
  {
   "cell_type": "markdown",
   "id": "9a140319",
   "metadata": {},
   "source": [
    "\n",
    "# 🚁 Crazyflie Drone: Square Pattern with Obstacle Avoidance\n",
    "\n",
    "### Introduction\n",
    "\n",
    "In this notebook, we will program a **Crazyflie drone** to move in a **square pattern** while using \n",
    "the **Multi-Ranger sensor** to avoid obstacles.\n",
    "\n",
    "### Learning Objectives:\n",
    "- Learn how to **control a Crazyflie drone** to follow a specific path.\n",
    "- Use **Multi-Ranger sensors** to detect obstacles and take action.\n",
    "- Program a **loop-based movement pattern**.\n",
    "\n",
    "Let's begin! 🚀\n"
   ]
  },
  {
   "cell_type": "markdown",
   "id": "4be3fdbc",
   "metadata": {},
   "source": [
    "\n",
    "## 📦 Step 1: Import Required Libraries\n",
    "\n",
    "We will use:\n",
    "- **crazyflie_controller** – To control the Crazyflie.\n",
    "- **cflib.swarms.multiranger** – For obstacle detection.\n",
    "- **time** – To manage timing.\n",
    "\n",
    "Run the following cell to import the necessary libraries.\n"
   ]
  },
  {
   "cell_type": "code",
   "execution_count": null,
   "id": "da88a563",
   "metadata": {},
   "outputs": [],
   "source": [
    "\n",
    "import time\n",
    "from crazyflie_controller import CrazyflieController\n",
    "from cflib.swarms.multiranger import Multiranger  # Import Multi-Ranger for obstacle detection\n",
    "\n",
    "print(\"Libraries imported successfully!\")\n"
   ]
  },
  {
   "cell_type": "markdown",
   "id": "48892a46",
   "metadata": {},
   "source": [
    "\n",
    "## 🛫 Step 2: Initialize the Drone\n",
    "\n",
    "Before we can move the drone, we need to **initialize it**. \n",
    "This step establishes communication with the **Crazyflie** and prepares it for movement.\n",
    "\n",
    "Run the following cell to **connect to the drone**.\n"
   ]
  },
  {
   "cell_type": "code",
   "execution_count": null,
   "id": "cef5196c",
   "metadata": {},
   "outputs": [],
   "source": [
    "\n",
    "# Initialize Crazyflie controller\n",
    "drone = CrazyflieController()\n",
    "ranger = Multiranger(drone.scf)  # Initialize Multi-Ranger sensors\n",
    "\n",
    "print(\"Drone initialized successfully!\")\n"
   ]
  },
  {
   "cell_type": "markdown",
   "id": "c2875e70",
   "metadata": {},
   "source": [
    "\n",
    "## 🔄 Step 3: Understanding Drone Movements\n",
    "\n",
    "We will use the following commands:\n",
    "- `drone.mc.take_off(height)` – Take off to a specific height.\n",
    "- `drone.mc.forward(speed)` – Move forward.\n",
    "- `drone.mc.turn_left(degrees)` – Rotate the drone left.\n",
    "- `drone.mc.up(speed)` – Move up.\n",
    "- `drone.mc.land()` – Land safely.\n",
    "\n",
    "### 🚀 Exercise:\n",
    "Try modifying the **takeoff height** in the next cell.\n"
   ]
  },
  {
   "cell_type": "code",
   "execution_count": null,
   "id": "0380771a",
   "metadata": {},
   "outputs": [],
   "source": [
    "\n",
    "# Takeoff Example\n",
    "print(\"Taking off!\")\n",
    "drone.mc.take_off(0.5)  # Modify this height\n",
    "time.sleep(1)\n"
   ]
  },
  {
   "cell_type": "markdown",
   "id": "28c213d3",
   "metadata": {},
   "source": [
    "\n",
    "## 🚧 Step 4: Using Multi-Ranger Sensors\n",
    "\n",
    "The Multi-Ranger sensor detects obstacles in different directions:\n",
    "- `ranger.front` – Front distance.\n",
    "- `ranger.back` – Back distance.\n",
    "- `ranger.left` – Left distance.\n",
    "- `ranger.right` – Right distance.\n",
    "\n",
    "Let's check the sensor readings in the next cell.\n"
   ]
  },
  {
   "cell_type": "code",
   "execution_count": null,
   "id": "acb1e219",
   "metadata": {},
   "outputs": [],
   "source": [
    "\n",
    "# Print Multi-Ranger Sensor Readings\n",
    "print(\"Front Sensor Distance:\", ranger.front)\n",
    "print(\"Back Sensor Distance:\", ranger.back)\n",
    "print(\"Left Sensor Distance:\", ranger.left)\n",
    "print(\"Right Sensor Distance:\", ranger.right)\n"
   ]
  },
  {
   "cell_type": "markdown",
   "id": "371a178e",
   "metadata": {},
   "source": [
    "\n",
    "## 🎯 Step 5: Flying a Square Pattern with Obstacle Avoidance\n",
    "\n",
    "The drone will:\n",
    "1. **Move forward** until it travels 0.5 meters or detects an obstacle.\n",
    "2. **Move up** if an obstacle is detected before reaching 0.5m.\n",
    "3. **Turn 90 degrees left** to continue the square path.\n",
    "4. **Repeat** the above steps 4 times to complete a square.\n",
    "\n",
    "Run the next cell to execute the mission!\n"
   ]
  },
  {
   "cell_type": "code",
   "execution_count": null,
   "id": "6349b55b",
   "metadata": {},
   "outputs": [],
   "source": [
    "\n",
    "try:\n",
    "    print(\"Taking off!\")\n",
    "    drone.mc.take_off(0.5)  # Takeoff to 0.5 meters\n",
    "    time.sleep(1)\n",
    "\n",
    "    # Loop through a square pattern with obstacle avoidance\n",
    "    for _ in range(4):\n",
    "        print(\"Checking for obstacles...\")\n",
    "\n",
    "        # Move forward until an obstacle is detected or 0.5m is traveled\n",
    "        distance_traveled = 0.0\n",
    "        while ranger.front > 0.3 and distance_traveled < 0.5:\n",
    "            drone.mc.forward(0.1)  # Move forward in small increments\n",
    "            time.sleep(0.2)\n",
    "            distance_traveled += 0.1  # Track distance traveled\n",
    "\n",
    "        # If an obstacle is detected, move up before turning\n",
    "        if ranger.front <= 0.3:\n",
    "            print(\"Obstacle ahead! Moving up...\")\n",
    "            drone.mc.up(0.2)\n",
    "            time.sleep(0.5)\n",
    "\n",
    "        print(\"Turning 90 degrees...\")\n",
    "        drone.mc.turn_left(90)\n",
    "        time.sleep(0.5)\n",
    "\n",
    "    drone.mc.land()  # Land safely\n",
    "    print(\"Mission complete!\")\n",
    "\n",
    "except KeyboardInterrupt:\n",
    "    print(\"Emergency stop activated!\")\n",
    "\n",
    "drone.close()\n"
   ]
  },
  {
   "cell_type": "markdown",
   "id": "27754929",
   "metadata": {},
   "source": [
    "\n",
    "## 🏆 Final Challenge: Customize the Square Pattern\n",
    "\n",
    "### 🚀 Task:\n",
    "1. Modify the program to **increase the square size** by changing the forward distance.\n",
    "2. Make the drone **turn right instead of left** (`drone.mc.turn_right(90)`).\n",
    "\n",
    "Write your modified code in the next cell. Good luck! 🏆\n"
   ]
  },
  {
   "cell_type": "code",
   "execution_count": null,
   "id": "08997c38",
   "metadata": {},
   "outputs": [],
   "source": [
    "\n",
    "# ✍️ Write your modified drone behavior code here\n"
   ]
  }
 ],
 "metadata": {},
 "nbformat": 4,
 "nbformat_minor": 5
}