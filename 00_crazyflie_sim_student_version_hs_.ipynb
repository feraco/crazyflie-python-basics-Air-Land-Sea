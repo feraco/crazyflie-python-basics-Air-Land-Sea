{
 "cells": [
  {
   "cell_type": "markdown",
   "metadata": {},
   "source": [
    "<small>\n",
    "Part of the InnovatED STEM and DroneBlocks Land, Air, and Sea Robotics Curriculum  \n",
    "Licensed for educational use in schools only.  \n",
    "Redistribution, commercial use, or resale is strictly prohibited.  \n",
    "\u00a9 2025 InnovatED STEM & DroneBlocks. All rights reserved.\n",
    "</small>"
   ]
  },
  {
   "cell_type": "markdown",
   "id": "15abc45e",
   "metadata": {},
   "source": [
    "#  Crazyflie Motion Command Reference\n",
    "This notebook helps you learn and practice using the different motion commands available in the `CrazyflieSimulator` class.\n",
    "\n",
    "Use the table below to understand what each command does and what arguments it expects."
   ]
  },
  {
   "cell_type": "markdown",
   "id": "d99d5d4a",
   "metadata": {},
   "source": [
    "##  Motion Command Reference Table\n",
    "| Command         | Description                           | Parameters (units/type)                    |\n",
    "|-----------------|----------------------------------------|--------------------------------------------|\n",
    "| `takeoff()`     | Drone takes off into a hover           | height (m/float), speed (m/s/float)        |\n",
    "| `land()`        | Drone lands gently                     | speed (m/s/float)                          |\n",
    "| `forward()`     | Move forward                           | distance (m/float), speed (m/s/float)      |\n",
    "| `backward()`    | Move backward                          | distance (m/float), speed (m/s/float)      |\n",
    "| `left()`        | Move left                              | distance (m/float), speed (m/s/float)      |\n",
    "| `right()`       | Move right                             | distance (m/float), speed (m/s/float)      |\n",
    "| `up()`          | Move upward                            | distance (m/float), speed (m/s/float)      |\n",
    "| `down()`        | Move downward                          | distance (m/float), speed (m/s/float)      |\n",
    "| `rotate()`      | Rotate in place (yaw)                  | angle (degrees/int), duration (s/float)    |\n",
    "| `circle_left()` | Fly a circle to the left               | radius (m/float), speed (m/s/float), angle (degrees/int) |\n",
    "| `circle_right()`| Fly a circle to the right              | radius (m/float), speed (m/s/float), angle (degrees/int) |"
   ]
  },
  {
   "cell_type": "code",
   "execution_count": null,
   "id": "a16276ec",
   "metadata": {},
   "outputs": [],
   "source": [
    "# \u2705 Setup the simulator\n",
    "from crazyflie_sim import CrazyflieSimulator\n",
    "drone = CrazyflieSimulator(real=False)"
   ]
  },
  {
   "cell_type": "markdown",
   "id": "2d38e4e2",
   "metadata": {},
   "source": [
    "##  Exercise 1: Takeoff\n",
    "**Prompt:** Write a command to take off to 0.5 meters at 0.3 m/s"
   ]
  },
  {
   "cell_type": "code",
   "execution_count": null,
   "id": "f97105b3",
   "metadata": {},
   "outputs": [],
   "source": [
    "# Write your takeoff command below:\n"
   ]
  },
  {
   "cell_type": "markdown",
   "id": "2c932e4f",
   "metadata": {},
   "source": [
    "##  Exercise 2: Move forward\n",
    "**Prompt:** Move the drone forward by 0.4 meters at 0.2 m/s"
   ]
  },
  {
   "cell_type": "code",
   "execution_count": null,
   "id": "0e296da3",
   "metadata": {},
   "outputs": [],
   "source": [
    "# Write your forward command below:\n"
   ]
  },
  {
   "cell_type": "markdown",
   "id": "cdb064c1",
   "metadata": {},
   "source": [
    "##  Exercise 3: Move left\n",
    "**Prompt:** Move the drone left by 0.3 meters at 0.2 m/s"
   ]
  },
  {
   "cell_type": "code",
   "execution_count": null,
   "id": "8c55e481",
   "metadata": {},
   "outputs": [],
   "source": [
    "# Write your left command below:\n"
   ]
  },
  {
   "cell_type": "markdown",
   "id": "3c2460ef",
   "metadata": {},
   "source": [
    "##  Exercise 4: Circle maneuver\n",
    "**Prompt:** Fly a left circle with radius 0.3 meters at speed 0.3 m/s"
   ]
  },
  {
   "cell_type": "code",
   "execution_count": null,
   "id": "7f620cdb",
   "metadata": {},
   "outputs": [],
   "source": [
    "# Write your circle_left command below:\n"
   ]
  },
  {
   "cell_type": "markdown",
   "id": "2e3ce688",
   "metadata": {},
   "source": [
    "##  Exercise 5: Rotation\n",
    "**Prompt:** Rotate 90 degrees in place in 1 second"
   ]
  },
  {
   "cell_type": "code",
   "execution_count": null,
   "id": "f9a6b497",
   "metadata": {},
   "outputs": [],
   "source": [
    "# Write your rotate command below:\n"
   ]
  },
  {
   "cell_type": "markdown",
   "id": "7c4b2356",
   "metadata": {},
   "source": [
    "##  Exercise 6: Land\n",
    "**Prompt:** Land the drone at 0.3 m/s"
   ]
  },
  {
   "cell_type": "code",
   "execution_count": null,
   "id": "c706200e",
   "metadata": {},
   "outputs": [],
   "source": [
    "# Write your land command below:\n"
   ]
  }
 ],
 "metadata": {},
 "nbformat": 4,
 "nbformat_minor": 5
}