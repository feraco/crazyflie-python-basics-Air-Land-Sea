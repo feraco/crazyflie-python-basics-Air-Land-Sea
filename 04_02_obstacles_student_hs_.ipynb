{
 "cells": [
  {
   "cell_type": "markdown",
   "metadata": {},
   "source": [
    "# Part of the InnovatED STEM and DroneBlocks Land, Air, and Sea Robotics Curriculum\n",
    "# Licensed for educational use in schools only.\n",
    "# Redistribution, commercial use, or resale is strictly prohibited.\n",
    "# © 2025 InnovatED STEM & DroneBlocks. All rights reserved.\n"
   ]
  },
  {
   "cell_type": "markdown",
   "id": "64f85c9f",
   "metadata": {},
   "source": [
    "#  Obstacle Avoidance – Student Version\n",
    "In this lesson, you'll learn how to make the drone **react to obstacles** using sensor data.\n",
    "You’ll write `if` statements that let the drone turn, stop, or move away when something is too close."
   ]
  },
  {
   "cell_type": "markdown",
   "id": "b139d4b4",
   "metadata": {},
   "source": [
    "##  Command Reference Table\n",
    "| Command                  | Description                                                   | Parameters (units/type)                    |\n",
    "|--------------------------|---------------------------------------------------------------|--------------------------------------------|\n",
    "| `takeoff()`              | Drone takes off and hovers                                   | height (m/float), speed (m/s/float)        |\n",
    "| `land()`                 | Lands the drone                                              | speed (m/s/float)                          |\n",
    "| `forward()`              | Move forward                                                 | distance (m/float), speed (m/s/float)      |\n",
    "| `rotate()`               | Rotate the drone left or right                              | angle (degrees/int), time (s/float)        |\n",
    "| `get_distances()`        | Returns dictionary of sensor distances                      | None                                       |\n",
    "| `get_distances()['front']` | Distance to object in front (m/float)                     | None                                       |\n",
    "| `get_distances()['left']` | Distance to the left (m/float)                              | None                                       |\n",
    "| `get_distances()['right']` | Distance to the right (m/float)                            | None                                       |"
   ]
  },
  {
   "cell_type": "code",
   "execution_count": null,
   "id": "6ae834fc",
   "metadata": {},
   "outputs": [],
   "source": [
    "# ✅ Setup your simulator\n",
    "from crazyflie_sim import CrazyflieSimulator\n",
    "import time\n",
    "drone = CrazyflieSimulator(real=False)"
   ]
  },
  {
   "cell_type": "markdown",
   "id": "56b48368",
   "metadata": {},
   "source": [
    "##  Step 1: Take off\n",
    "Take off to **0.3 meters** at **0.2 m/s**"
   ]
  },
  {
   "cell_type": "code",
   "execution_count": null,
   "id": "7ebbbac0",
   "metadata": {},
   "outputs": [],
   "source": [
    "# Your code here:\n"
   ]
  },
  {
   "cell_type": "markdown",
   "id": "9a90e9d6",
   "metadata": {},
   "source": [
    "##  Step 2: Check for obstacles\n",
    "Use `get_distances()['front']` to check the **front sensor**.\n",
    "\n",
    "- If the value is less than **0.3**, print `Too close in front!`"
   ]
  },
  {
   "cell_type": "code",
   "execution_count": null,
   "id": "da8d8843",
   "metadata": {},
   "outputs": [],
   "source": [
    "# Your code here:\n"
   ]
  },
  {
   "cell_type": "markdown",
   "id": "ab7e1e1c",
   "metadata": {},
   "source": [
    "##  Step 3: Avoid obstacle\n",
    "Modify your code to do the following:\n",
    "- If `get_distances()['front'] < 0.3`, rotate 90 degrees\n",
    "- Else, move forward 0.2 meters at 0.2 m/s"
   ]
  },
  {
   "cell_type": "code",
   "execution_count": null,
   "id": "0074bd0d",
   "metadata": {},
   "outputs": [],
   "source": [
    "# Your code here:\n"
   ]
  },
  {
   "cell_type": "markdown",
   "id": "d03d10f0",
   "metadata": {},
   "source": [
    "##  Step 4: Loop your reaction\n",
    "Repeat the obstacle check and response **4 times** using a loop:\n",
    "- Each time: check the **front sensor** value with `get_distances()['front']`\n",
    "- If less than 0.3 meters, rotate\n",
    "- Else, move forward"
   ]
  },
  {
   "cell_type": "code",
   "execution_count": null,
   "id": "2c53232f",
   "metadata": {},
   "outputs": [],
   "source": [
    "# Your code here:\n"
   ]
  },
  {
   "cell_type": "markdown",
   "id": "e2ca086f",
   "metadata": {},
   "source": [
    "##  Final Step: Land safely\n",
    "Land the drone at **0.3 m/s**"
   ]
  },
  {
   "cell_type": "code",
   "execution_count": null,
   "id": "b5ed6bb2",
   "metadata": {},
   "outputs": [],
   "source": [
    "# Your code here:\n"
   ]
  }
 ],
 "metadata": {
  "language_info": {
   "name": "python"
  }
 },
 "nbformat": 4,
 "nbformat_minor": 5
}
